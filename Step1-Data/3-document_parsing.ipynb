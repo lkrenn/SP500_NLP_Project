{
 "cells": [
  {
   "cell_type": "markdown",
   "metadata": {},
   "source": [
    "# Document Parsing\n",
    "\n",
    "In this notebook, we will be iterating through all the links created in file 2.2. (i.e. link_dict.pickle), extracting the necessary information, and then saving an updated dictionary, which will be analyzed in section 3. "
   ]
  },
  {
   "cell_type": "code",
   "execution_count": 64,
   "metadata": {},
   "outputs": [],
   "source": [
    "import numpy as np\n",
    "import pandas as pd\n",
    "import os\n",
    "import pickle\n",
    "import time\n",
    "import json\n",
    "import requests\n",
    "import re\n",
    "\n",
    "from bs4 import BeautifulSoup"
   ]
  },
  {
   "cell_type": "code",
   "execution_count": 4,
   "metadata": {},
   "outputs": [],
   "source": [
    "with open('../Step1-Data/2-link_dict.pickle', 'rb') as f:\n",
    "    link_dict = pickle.load(f)"
   ]
  },
  {
   "cell_type": "code",
   "execution_count": 11,
   "metadata": {},
   "outputs": [
    {
     "data": {
      "text/plain": [
       "['0000006201', '0001158449', '0000320193', '0001551152', '0001140859']"
      ]
     },
     "execution_count": 11,
     "metadata": {},
     "output_type": "execute_result"
    }
   ],
   "source": [
    "# Sanity check\n",
    "list(link_dict.keys())[:5]"
   ]
  },
  {
   "cell_type": "markdown",
   "metadata": {},
   "source": [
    "# Single Name Sample\n",
    "\n",
    "First, we will start by using a single name to parse its documents, then extrapolate to all."
   ]
  },
  {
   "cell_type": "code",
   "execution_count": 12,
   "metadata": {},
   "outputs": [
    {
     "data": {
      "text/html": [
       "<div>\n",
       "<style scoped>\n",
       "    .dataframe tbody tr th:only-of-type {\n",
       "        vertical-align: middle;\n",
       "    }\n",
       "\n",
       "    .dataframe tbody tr th {\n",
       "        vertical-align: top;\n",
       "    }\n",
       "\n",
       "    .dataframe thead th {\n",
       "        text-align: right;\n",
       "    }\n",
       "</style>\n",
       "<table border=\"1\" class=\"dataframe\">\n",
       "  <thead>\n",
       "    <tr style=\"text-align: right;\">\n",
       "      <th></th>\n",
       "      <th>accessionNumber</th>\n",
       "      <th>filingDate</th>\n",
       "      <th>reportDate</th>\n",
       "      <th>acceptanceDateTime</th>\n",
       "      <th>act</th>\n",
       "      <th>form</th>\n",
       "      <th>fileNumber</th>\n",
       "      <th>filmNumber</th>\n",
       "      <th>items</th>\n",
       "      <th>size</th>\n",
       "      <th>isXBRL</th>\n",
       "      <th>isInlineXBRL</th>\n",
       "      <th>primaryDocument</th>\n",
       "      <th>primaryDocDescription</th>\n",
       "      <th>Link</th>\n",
       "    </tr>\n",
       "  </thead>\n",
       "  <tbody>\n",
       "    <tr>\n",
       "      <th>49</th>\n",
       "      <td>0000006201-21-000014</td>\n",
       "      <td>2021-02-17</td>\n",
       "      <td>2020-12-31</td>\n",
       "      <td>2021-02-17T17:17:57.000Z</td>\n",
       "      <td>34</td>\n",
       "      <td>10-K</td>\n",
       "      <td>001-08400</td>\n",
       "      <td>21646186</td>\n",
       "      <td></td>\n",
       "      <td>43925703</td>\n",
       "      <td>1</td>\n",
       "      <td>1</td>\n",
       "      <td>aal-20201231.htm</td>\n",
       "      <td>10-K 2020 02.17.21</td>\n",
       "      <td>https://www.sec.gov/Archives/edgar/data/6201/0...</td>\n",
       "    </tr>\n",
       "    <tr>\n",
       "      <th>150</th>\n",
       "      <td>0000006201-20-000023</td>\n",
       "      <td>2020-02-19</td>\n",
       "      <td>2019-12-31</td>\n",
       "      <td>2020-02-19T07:31:30.000Z</td>\n",
       "      <td>34</td>\n",
       "      <td>10-K</td>\n",
       "      <td>001-08400</td>\n",
       "      <td>20627428</td>\n",
       "      <td></td>\n",
       "      <td>30851334</td>\n",
       "      <td>1</td>\n",
       "      <td>1</td>\n",
       "      <td>a10k123119.htm</td>\n",
       "      <td>10-K 2019 02.19.20</td>\n",
       "      <td>https://www.sec.gov/Archives/edgar/data/6201/0...</td>\n",
       "    </tr>\n",
       "    <tr>\n",
       "      <th>225</th>\n",
       "      <td>0000006201-19-000009</td>\n",
       "      <td>2019-02-25</td>\n",
       "      <td>2018-12-31</td>\n",
       "      <td>2019-02-25T07:31:34.000Z</td>\n",
       "      <td>34</td>\n",
       "      <td>10-K</td>\n",
       "      <td>001-08400</td>\n",
       "      <td>19628071</td>\n",
       "      <td></td>\n",
       "      <td>30572408</td>\n",
       "      <td>1</td>\n",
       "      <td>0</td>\n",
       "      <td>a10k123118.htm</td>\n",
       "      <td>10-K 2018 02.25.19</td>\n",
       "      <td>https://www.sec.gov/Archives/edgar/data/6201/0...</td>\n",
       "    </tr>\n",
       "    <tr>\n",
       "      <th>315</th>\n",
       "      <td>0000006201-18-000009</td>\n",
       "      <td>2018-02-21</td>\n",
       "      <td>2017-12-31</td>\n",
       "      <td>2018-02-21T08:02:40.000Z</td>\n",
       "      <td>34</td>\n",
       "      <td>10-K</td>\n",
       "      <td>001-08400</td>\n",
       "      <td>18627088</td>\n",
       "      <td></td>\n",
       "      <td>27914491</td>\n",
       "      <td>1</td>\n",
       "      <td>0</td>\n",
       "      <td>a10k123117.htm</td>\n",
       "      <td>10-K</td>\n",
       "      <td>https://www.sec.gov/Archives/edgar/data/6201/0...</td>\n",
       "    </tr>\n",
       "    <tr>\n",
       "      <th>412</th>\n",
       "      <td>0001193125-17-051216</td>\n",
       "      <td>2017-02-22</td>\n",
       "      <td>2016-12-31</td>\n",
       "      <td>2017-02-22T08:01:43.000Z</td>\n",
       "      <td>34</td>\n",
       "      <td>10-K</td>\n",
       "      <td>001-08400</td>\n",
       "      <td>17627073</td>\n",
       "      <td></td>\n",
       "      <td>24888480</td>\n",
       "      <td>1</td>\n",
       "      <td>0</td>\n",
       "      <td>d286458d10k.htm</td>\n",
       "      <td>FORM 10-K</td>\n",
       "      <td>https://www.sec.gov/Archives/edgar/data/6201/0...</td>\n",
       "    </tr>\n",
       "    <tr>\n",
       "      <th>538</th>\n",
       "      <td>0001193125-16-474605</td>\n",
       "      <td>2016-02-24</td>\n",
       "      <td>2015-12-31</td>\n",
       "      <td>2016-02-24T08:04:10.000Z</td>\n",
       "      <td>34</td>\n",
       "      <td>10-K</td>\n",
       "      <td>001-08400</td>\n",
       "      <td>161450518</td>\n",
       "      <td></td>\n",
       "      <td>26170400</td>\n",
       "      <td>1</td>\n",
       "      <td>0</td>\n",
       "      <td>d78287d10k.htm</td>\n",
       "      <td>FORM 10-K</td>\n",
       "      <td>https://www.sec.gov/Archives/edgar/data/6201/0...</td>\n",
       "    </tr>\n",
       "    <tr>\n",
       "      <th>651</th>\n",
       "      <td>0001193125-15-061145</td>\n",
       "      <td>2015-02-25</td>\n",
       "      <td>2014-12-31</td>\n",
       "      <td>2015-02-25T08:02:34.000Z</td>\n",
       "      <td>34</td>\n",
       "      <td>10-K</td>\n",
       "      <td>001-08400</td>\n",
       "      <td>15645918</td>\n",
       "      <td></td>\n",
       "      <td>39524925</td>\n",
       "      <td>1</td>\n",
       "      <td>0</td>\n",
       "      <td>d829913d10k.htm</td>\n",
       "      <td>FORM 10-K</td>\n",
       "      <td>https://www.sec.gov/Archives/edgar/data/6201/0...</td>\n",
       "    </tr>\n",
       "    <tr>\n",
       "      <th>750</th>\n",
       "      <td>0000006201-14-000004</td>\n",
       "      <td>2014-02-28</td>\n",
       "      <td>2013-12-31</td>\n",
       "      <td>2014-02-28T07:52:16.000Z</td>\n",
       "      <td>34</td>\n",
       "      <td>10-K</td>\n",
       "      <td>001-08400</td>\n",
       "      <td>14651496</td>\n",
       "      <td></td>\n",
       "      <td>47888955</td>\n",
       "      <td>1</td>\n",
       "      <td>0</td>\n",
       "      <td>aagaa10k-20131231.htm</td>\n",
       "      <td>10-K</td>\n",
       "      <td>https://www.sec.gov/Archives/edgar/data/6201/0...</td>\n",
       "    </tr>\n",
       "  </tbody>\n",
       "</table>\n",
       "</div>"
      ],
      "text/plain": [
       "          accessionNumber  filingDate  reportDate        acceptanceDateTime  \\\n",
       "49   0000006201-21-000014  2021-02-17  2020-12-31  2021-02-17T17:17:57.000Z   \n",
       "150  0000006201-20-000023  2020-02-19  2019-12-31  2020-02-19T07:31:30.000Z   \n",
       "225  0000006201-19-000009  2019-02-25  2018-12-31  2019-02-25T07:31:34.000Z   \n",
       "315  0000006201-18-000009  2018-02-21  2017-12-31  2018-02-21T08:02:40.000Z   \n",
       "412  0001193125-17-051216  2017-02-22  2016-12-31  2017-02-22T08:01:43.000Z   \n",
       "538  0001193125-16-474605  2016-02-24  2015-12-31  2016-02-24T08:04:10.000Z   \n",
       "651  0001193125-15-061145  2015-02-25  2014-12-31  2015-02-25T08:02:34.000Z   \n",
       "750  0000006201-14-000004  2014-02-28  2013-12-31  2014-02-28T07:52:16.000Z   \n",
       "\n",
       "    act  form fileNumber filmNumber items      size  isXBRL  isInlineXBRL  \\\n",
       "49   34  10-K  001-08400   21646186        43925703       1             1   \n",
       "150  34  10-K  001-08400   20627428        30851334       1             1   \n",
       "225  34  10-K  001-08400   19628071        30572408       1             0   \n",
       "315  34  10-K  001-08400   18627088        27914491       1             0   \n",
       "412  34  10-K  001-08400   17627073        24888480       1             0   \n",
       "538  34  10-K  001-08400  161450518        26170400       1             0   \n",
       "651  34  10-K  001-08400   15645918        39524925       1             0   \n",
       "750  34  10-K  001-08400   14651496        47888955       1             0   \n",
       "\n",
       "           primaryDocument primaryDocDescription  \\\n",
       "49        aal-20201231.htm    10-K 2020 02.17.21   \n",
       "150         a10k123119.htm    10-K 2019 02.19.20   \n",
       "225         a10k123118.htm    10-K 2018 02.25.19   \n",
       "315         a10k123117.htm                  10-K   \n",
       "412        d286458d10k.htm             FORM 10-K   \n",
       "538         d78287d10k.htm             FORM 10-K   \n",
       "651        d829913d10k.htm             FORM 10-K   \n",
       "750  aagaa10k-20131231.htm                  10-K   \n",
       "\n",
       "                                                  Link  \n",
       "49   https://www.sec.gov/Archives/edgar/data/6201/0...  \n",
       "150  https://www.sec.gov/Archives/edgar/data/6201/0...  \n",
       "225  https://www.sec.gov/Archives/edgar/data/6201/0...  \n",
       "315  https://www.sec.gov/Archives/edgar/data/6201/0...  \n",
       "412  https://www.sec.gov/Archives/edgar/data/6201/0...  \n",
       "538  https://www.sec.gov/Archives/edgar/data/6201/0...  \n",
       "651  https://www.sec.gov/Archives/edgar/data/6201/0...  \n",
       "750  https://www.sec.gov/Archives/edgar/data/6201/0...  "
      ]
     },
     "execution_count": 12,
     "metadata": {},
     "output_type": "execute_result"
    }
   ],
   "source": [
    "sample = link_dict['0000006201']\n",
    "sample"
   ]
  },
  {
   "cell_type": "code",
   "execution_count": 271,
   "metadata": {},
   "outputs": [
    {
     "data": {
      "text/plain": [
       "'https://www.sec.gov/Archives/edgar/data/1555280/000155528021000098/zts-20201231.htm'"
      ]
     },
     "execution_count": 271,
     "metadata": {},
     "output_type": "execute_result"
    }
   ],
   "source": [
    "sample_link = sample['Link'].values[0]\n",
    "sample_link"
   ]
  },
  {
   "cell_type": "code",
   "execution_count": 279,
   "metadata": {},
   "outputs": [
    {
     "data": {
      "text/html": [
       "<div>\n",
       "<style scoped>\n",
       "    .dataframe tbody tr th:only-of-type {\n",
       "        vertical-align: middle;\n",
       "    }\n",
       "\n",
       "    .dataframe tbody tr th {\n",
       "        vertical-align: top;\n",
       "    }\n",
       "\n",
       "    .dataframe thead th {\n",
       "        text-align: right;\n",
       "    }\n",
       "</style>\n",
       "<table border=\"1\" class=\"dataframe\">\n",
       "  <thead>\n",
       "    <tr style=\"text-align: right;\">\n",
       "      <th></th>\n",
       "      <th>accessionNumber</th>\n",
       "      <th>filingDate</th>\n",
       "      <th>reportDate</th>\n",
       "      <th>acceptanceDateTime</th>\n",
       "      <th>act</th>\n",
       "      <th>form</th>\n",
       "      <th>fileNumber</th>\n",
       "      <th>filmNumber</th>\n",
       "      <th>items</th>\n",
       "      <th>size</th>\n",
       "      <th>isXBRL</th>\n",
       "      <th>isInlineXBRL</th>\n",
       "      <th>primaryDocument</th>\n",
       "      <th>primaryDocDescription</th>\n",
       "      <th>Link</th>\n",
       "      <th>Loc7</th>\n",
       "      <th>Loc8</th>\n",
       "    </tr>\n",
       "  </thead>\n",
       "  <tbody>\n",
       "    <tr>\n",
       "      <th>90</th>\n",
       "      <td>0001555280-21-000098</td>\n",
       "      <td>2021-02-16</td>\n",
       "      <td>2020-12-31</td>\n",
       "      <td>2021-02-16T14:24:47.000Z</td>\n",
       "      <td>34</td>\n",
       "      <td>10-K</td>\n",
       "      <td>001-35797</td>\n",
       "      <td>21636290</td>\n",
       "      <td></td>\n",
       "      <td>18961290</td>\n",
       "      <td>1</td>\n",
       "      <td>1</td>\n",
       "      <td>zts-20201231.htm</td>\n",
       "      <td>10-K</td>\n",
       "      <td>https://www.sec.gov/Archives/edgar/data/155528...</td>\n",
       "      <td>&lt;callable_iterator object at 0x7fc269c1bcd0&gt;</td>\n",
       "      <td>&lt;callable_iterator object at 0x7fc27d64d350&gt;</td>\n",
       "    </tr>\n",
       "    <tr>\n",
       "      <th>277</th>\n",
       "      <td>0001555280-20-000054</td>\n",
       "      <td>2020-02-13</td>\n",
       "      <td>2019-12-31</td>\n",
       "      <td>2020-02-13T15:13:44.000Z</td>\n",
       "      <td>34</td>\n",
       "      <td>10-K</td>\n",
       "      <td>001-35797</td>\n",
       "      <td>20609808</td>\n",
       "      <td></td>\n",
       "      <td>21406402</td>\n",
       "      <td>1</td>\n",
       "      <td>1</td>\n",
       "      <td>zoetis-20191231x10kye.htm</td>\n",
       "      <td>10-K</td>\n",
       "      <td>https://www.sec.gov/Archives/edgar/data/155528...</td>\n",
       "      <td>&lt;callable_iterator object at 0x7fc34926f410&gt;</td>\n",
       "      <td>&lt;callable_iterator object at 0x7fc269c25590&gt;</td>\n",
       "    </tr>\n",
       "    <tr>\n",
       "      <th>428</th>\n",
       "      <td>0001555280-19-000041</td>\n",
       "      <td>2019-02-14</td>\n",
       "      <td>2018-12-31</td>\n",
       "      <td>2019-02-14T17:08:33.000Z</td>\n",
       "      <td>34</td>\n",
       "      <td>10-K</td>\n",
       "      <td>001-35797</td>\n",
       "      <td>19608112</td>\n",
       "      <td></td>\n",
       "      <td>19494677</td>\n",
       "      <td>1</td>\n",
       "      <td>0</td>\n",
       "      <td>zoetis-20181231x10kye.htm</td>\n",
       "      <td>10-K</td>\n",
       "      <td>https://www.sec.gov/Archives/edgar/data/155528...</td>\n",
       "      <td>&lt;callable_iterator object at 0x7fc346aaa450&gt;</td>\n",
       "      <td>&lt;callable_iterator object at 0x7fc34926fdd0&gt;</td>\n",
       "    </tr>\n",
       "    <tr>\n",
       "      <th>572</th>\n",
       "      <td>0001555280-18-000053</td>\n",
       "      <td>2018-02-15</td>\n",
       "      <td>2017-12-31</td>\n",
       "      <td>2018-02-15T12:31:15.000Z</td>\n",
       "      <td>34</td>\n",
       "      <td>10-K</td>\n",
       "      <td>001-35797</td>\n",
       "      <td>18616883</td>\n",
       "      <td></td>\n",
       "      <td>18267949</td>\n",
       "      <td>1</td>\n",
       "      <td>0</td>\n",
       "      <td>zoetis-20171231x10kye.htm</td>\n",
       "      <td>10-K</td>\n",
       "      <td>https://www.sec.gov/Archives/edgar/data/155528...</td>\n",
       "      <td>&lt;callable_iterator object at 0x7fc2ae834410&gt;</td>\n",
       "      <td>&lt;callable_iterator object at 0x7fc346aaa850&gt;</td>\n",
       "    </tr>\n",
       "    <tr>\n",
       "      <th>683</th>\n",
       "      <td>0001555280-17-000044</td>\n",
       "      <td>2017-02-16</td>\n",
       "      <td>2016-12-31</td>\n",
       "      <td>2017-02-16T16:26:45.000Z</td>\n",
       "      <td>34</td>\n",
       "      <td>10-K</td>\n",
       "      <td>001-35797</td>\n",
       "      <td>17618235</td>\n",
       "      <td></td>\n",
       "      <td>18284297</td>\n",
       "      <td>1</td>\n",
       "      <td>0</td>\n",
       "      <td>zoetis-20161231x10kye.htm</td>\n",
       "      <td>10-K</td>\n",
       "      <td>https://www.sec.gov/Archives/edgar/data/155528...</td>\n",
       "      <td>&lt;callable_iterator object at 0x7fc2db85e3d0&gt;</td>\n",
       "      <td>&lt;callable_iterator object at 0x7fc2ae834d90&gt;</td>\n",
       "    </tr>\n",
       "    <tr>\n",
       "      <th>783</th>\n",
       "      <td>0001555280-16-000344</td>\n",
       "      <td>2016-02-24</td>\n",
       "      <td>2015-12-31</td>\n",
       "      <td>2016-02-24T11:32:51.000Z</td>\n",
       "      <td>34</td>\n",
       "      <td>10-K</td>\n",
       "      <td>001-35797</td>\n",
       "      <td>161450905</td>\n",
       "      <td></td>\n",
       "      <td>19416727</td>\n",
       "      <td>1</td>\n",
       "      <td>0</td>\n",
       "      <td>zoetis-20151231x10kye.htm</td>\n",
       "      <td>10-K</td>\n",
       "      <td>https://www.sec.gov/Archives/edgar/data/155528...</td>\n",
       "      <td>&lt;callable_iterator object at 0x7fc3601c3b10&gt;</td>\n",
       "      <td>&lt;callable_iterator object at 0x7fc2db85ee10&gt;</td>\n",
       "    </tr>\n",
       "    <tr>\n",
       "      <th>927</th>\n",
       "      <td>0001555280-15-000057</td>\n",
       "      <td>2015-02-27</td>\n",
       "      <td>2014-12-31</td>\n",
       "      <td>2015-02-27T16:52:38.000Z</td>\n",
       "      <td>34</td>\n",
       "      <td>10-K</td>\n",
       "      <td>001-35797</td>\n",
       "      <td>15660089</td>\n",
       "      <td></td>\n",
       "      <td>24724525</td>\n",
       "      <td>1</td>\n",
       "      <td>0</td>\n",
       "      <td>zoetis-20141231x10kye.htm</td>\n",
       "      <td>10-K</td>\n",
       "      <td>https://www.sec.gov/Archives/edgar/data/155528...</td>\n",
       "      <td>&lt;callable_iterator object at 0x7fc2ee317f90&gt;</td>\n",
       "      <td>&lt;callable_iterator object at 0x7fc3601c3490&gt;</td>\n",
       "    </tr>\n",
       "  </tbody>\n",
       "</table>\n",
       "</div>"
      ],
      "text/plain": [
       "          accessionNumber  filingDate  reportDate        acceptanceDateTime  \\\n",
       "90   0001555280-21-000098  2021-02-16  2020-12-31  2021-02-16T14:24:47.000Z   \n",
       "277  0001555280-20-000054  2020-02-13  2019-12-31  2020-02-13T15:13:44.000Z   \n",
       "428  0001555280-19-000041  2019-02-14  2018-12-31  2019-02-14T17:08:33.000Z   \n",
       "572  0001555280-18-000053  2018-02-15  2017-12-31  2018-02-15T12:31:15.000Z   \n",
       "683  0001555280-17-000044  2017-02-16  2016-12-31  2017-02-16T16:26:45.000Z   \n",
       "783  0001555280-16-000344  2016-02-24  2015-12-31  2016-02-24T11:32:51.000Z   \n",
       "927  0001555280-15-000057  2015-02-27  2014-12-31  2015-02-27T16:52:38.000Z   \n",
       "\n",
       "    act  form fileNumber filmNumber items      size  isXBRL  isInlineXBRL  \\\n",
       "90   34  10-K  001-35797   21636290        18961290       1             1   \n",
       "277  34  10-K  001-35797   20609808        21406402       1             1   \n",
       "428  34  10-K  001-35797   19608112        19494677       1             0   \n",
       "572  34  10-K  001-35797   18616883        18267949       1             0   \n",
       "683  34  10-K  001-35797   17618235        18284297       1             0   \n",
       "783  34  10-K  001-35797  161450905        19416727       1             0   \n",
       "927  34  10-K  001-35797   15660089        24724525       1             0   \n",
       "\n",
       "               primaryDocument primaryDocDescription  \\\n",
       "90            zts-20201231.htm                  10-K   \n",
       "277  zoetis-20191231x10kye.htm                  10-K   \n",
       "428  zoetis-20181231x10kye.htm                  10-K   \n",
       "572  zoetis-20171231x10kye.htm                  10-K   \n",
       "683  zoetis-20161231x10kye.htm                  10-K   \n",
       "783  zoetis-20151231x10kye.htm                  10-K   \n",
       "927  zoetis-20141231x10kye.htm                  10-K   \n",
       "\n",
       "                                                  Link  \\\n",
       "90   https://www.sec.gov/Archives/edgar/data/155528...   \n",
       "277  https://www.sec.gov/Archives/edgar/data/155528...   \n",
       "428  https://www.sec.gov/Archives/edgar/data/155528...   \n",
       "572  https://www.sec.gov/Archives/edgar/data/155528...   \n",
       "683  https://www.sec.gov/Archives/edgar/data/155528...   \n",
       "783  https://www.sec.gov/Archives/edgar/data/155528...   \n",
       "927  https://www.sec.gov/Archives/edgar/data/155528...   \n",
       "\n",
       "                                             Loc7  \\\n",
       "90   <callable_iterator object at 0x7fc269c1bcd0>   \n",
       "277  <callable_iterator object at 0x7fc34926f410>   \n",
       "428  <callable_iterator object at 0x7fc346aaa450>   \n",
       "572  <callable_iterator object at 0x7fc2ae834410>   \n",
       "683  <callable_iterator object at 0x7fc2db85e3d0>   \n",
       "783  <callable_iterator object at 0x7fc3601c3b10>   \n",
       "927  <callable_iterator object at 0x7fc2ee317f90>   \n",
       "\n",
       "                                             Loc8  \n",
       "90   <callable_iterator object at 0x7fc27d64d350>  \n",
       "277  <callable_iterator object at 0x7fc269c25590>  \n",
       "428  <callable_iterator object at 0x7fc34926fdd0>  \n",
       "572  <callable_iterator object at 0x7fc346aaa850>  \n",
       "683  <callable_iterator object at 0x7fc2ae834d90>  \n",
       "783  <callable_iterator object at 0x7fc2db85ee10>  \n",
       "927  <callable_iterator object at 0x7fc3601c3490>  "
      ]
     },
     "execution_count": 279,
     "metadata": {},
     "output_type": "execute_result"
    }
   ],
   "source": [
    "sample[sample['reportDate'].values > '1996-01-01']"
   ]
  },
  {
   "cell_type": "code",
   "execution_count": 26,
   "metadata": {},
   "outputs": [],
   "source": [
    "# Used for the requests\n",
    "heads = {#'Host': 'www.sec.gov', \n",
    "         #'Connection': 'close',\n",
    "         'Accept': 'application/json',#, text/javascript, */*; q=0.01', \n",
    "         'X-Requested-With': 'XMLHttpRequest',\n",
    "         'User-Agent': 'Mozilla/5.0 (Windows NT 10.0; Win64; x64) AppleWebKit/537.36 (KHTML, like Gecko) Chrome/80.0.3987.163 Safari/537.36',\n",
    "         }"
   ]
  },
  {
   "cell_type": "code",
   "execution_count": 54,
   "metadata": {},
   "outputs": [],
   "source": [
    "response = requests.get(sample_link, headers=heads).text"
   ]
  },
  {
   "cell_type": "code",
   "execution_count": 55,
   "metadata": {},
   "outputs": [
    {
     "data": {
      "text/plain": [
       "'<?xml version=\"1.0\" ?><!--XBRL Document Created with Wdesk from Workiva--><!--Copyright 2021 Workiva--><!--r:e284921f-ba97-4934-aa95-4c28f5345f62,g:0d6c1504-a6c8-4292-b9c4-47751639beae,d:218984ca4fa54d3589b92be28c18f351--><html xmlns:xsi=\"http://www.w3.org/2001/XMLSchema-instance\" xmlns:srt=\"http://fasb.org/srt/2020-01-31\" xmlns:iso4217=\"http://www.xbrl.org/2003/iso4217\" xmlns:xlink=\"http://www.w3.org/1999/xlink\" xmlns=\"http://www.w3.org/1999/xhtml\" xmlns:xbrldi=\"http://xbrl.org/2006/xbrldi\" xml'"
      ]
     },
     "execution_count": 55,
     "metadata": {},
     "output_type": "execute_result"
    }
   ],
   "source": [
    "response[:500]"
   ]
  },
  {
   "cell_type": "code",
   "execution_count": 58,
   "metadata": {},
   "outputs": [],
   "source": [
    "soup = BeautifulSoup(response, 'lxml')"
   ]
  },
  {
   "cell_type": "code",
   "execution_count": 148,
   "metadata": {},
   "outputs": [],
   "source": [
    "cleaned_soup = soup.text"
   ]
  },
  {
   "cell_type": "code",
   "execution_count": 149,
   "metadata": {},
   "outputs": [],
   "source": [
    "raw_10k = str(soup)"
   ]
  },
  {
   "cell_type": "code",
   "execution_count": 270,
   "metadata": {},
   "outputs": [
    {
     "data": {
      "text/plain": [
       "[<re.Match object; span=(183890, 183908), match='Item 7. Management'>,\n",
       " <re.Match object; span=(185116, 185134), match='Item 7. Management'>,\n",
       " <re.Match object; span=(186022, 186040), match='Item 7. Management'>,\n",
       " <re.Match object; span=(186422, 186440), match='Item 7. Management'>,\n",
       " <re.Match object; span=(187030, 187048), match='Item 7. Management'>]"
      ]
     },
     "execution_count": 270,
     "metadata": {},
     "output_type": "execute_result"
    }
   ],
   "source": [
    "locs7 = re.finditer(r\"ITEM\\s7(|\\.) Management\", cleaned_soup, re.IGNORECASE)\n",
    "[[x.span(), x.group()] for x in locs7]"
   ]
  },
  {
   "cell_type": "code",
   "execution_count": 103,
   "metadata": {},
   "outputs": [
    {
     "data": {
      "text/plain": [
       "[<re.Match object; span=(502641, 502662), match='ITEM\\xa08A.\\xa0CONSOLIDATED'>]"
      ]
     },
     "execution_count": 103,
     "metadata": {},
     "output_type": "execute_result"
    }
   ],
   "source": [
    "locs8 = re.finditer(r\"ITEM\\s8(|A)(|\\.)\\s(Consolidated|Financial)\", cleaned_soup, re.IGNORECASE)\n",
    "[x for x in locs8]"
   ]
  },
  {
   "cell_type": "markdown",
   "metadata": {},
   "source": [
    "I wonder if maybe it would be best to use some sort of clustering algorithm to find the correct locations? "
   ]
  },
  {
   "cell_type": "code",
   "execution_count": 280,
   "metadata": {},
   "outputs": [],
   "source": [
    "start = time.time()\n",
    "link_dict3 = {}\n",
    "\n",
    "for key in list(link_dict.keys()):\n",
    "\n",
    "    loc7list = []\n",
    "    loc8list = []\n",
    "    \n",
    "    sample = link_dict[key].copy()\n",
    "    sample = sample[sample['reportDate'].values > '1996-01-01']\n",
    "    for i in range(len(sample)):\n",
    "        sample_link = sample.iloc[i,:]['Link']\n",
    "        response = requests.get(sample_link, headers=heads).text\n",
    "        soup = BeautifulSoup(response, 'lxml')\n",
    "        cleaned_soup = soup.text\n",
    "        locs7 = re.finditer(r\"ITEM\\s7(|\\.)\\sManagement\", cleaned_soup, re.IGNORECASE)\n",
    "        locs8 = re.finditer(r\"ITEM\\s8(|A)(|\\.)\\s(Consolidated|Financial)\", cleaned_soup, re.IGNORECASE)\n",
    "\n",
    "        loc7list.append([[x.span(), x.group()] for x in locs7])\n",
    "        loc8list.append([[x.span(), x.group()] for x in locs8])\n",
    "    \n",
    "    sample['Loc7'] = loc7list\n",
    "    sample['Loc8'] = loc8list\n",
    "    \n",
    "    link_dict3[key] = sample.copy()\n",
    "\n",
    "end = time.time()"
   ]
  },
  {
   "cell_type": "code",
   "execution_count": 284,
   "metadata": {},
   "outputs": [],
   "source": [
    "with open('2-link_dict.pickle', 'wb') as handle:\n",
    "    pickle.dump(link_dict3, handle, protocol=pickle.HIGHEST_PROTOCOL)"
   ]
  },
  {
   "cell_type": "code",
   "execution_count": 282,
   "metadata": {},
   "outputs": [
    {
     "name": "stdout",
     "output_type": "stream",
     "text": [
      "13508.377779006958\n"
     ]
    }
   ],
   "source": [
    "print(end-start)"
   ]
  },
  {
   "cell_type": "code",
   "execution_count": 283,
   "metadata": {},
   "outputs": [
    {
     "data": {
      "text/plain": [
       "873"
      ]
     },
     "execution_count": 283,
     "metadata": {},
     "output_type": "execute_result"
    }
   ],
   "source": [
    "len(link_dict3.keys())"
   ]
  },
  {
   "cell_type": "code",
   "execution_count": 214,
   "metadata": {},
   "outputs": [
    {
     "data": {
      "text/plain": [
       "6.319669485092163"
      ]
     },
     "execution_count": 214,
     "metadata": {},
     "output_type": "execute_result"
    }
   ],
   "source": [
    "((end-start) * 1110)/5 /60/60"
   ]
  },
  {
   "cell_type": "code",
   "execution_count": 286,
   "metadata": {},
   "outputs": [
    {
     "data": {
      "text/plain": [
       "[[(92292, 92310), 'Item 7. Management'],\n",
       " [(105990, 106008), 'Item 7. Management']]"
      ]
     },
     "execution_count": 286,
     "metadata": {},
     "output_type": "execute_result"
    }
   ],
   "source": [
    "[x for x in link_dict3['0001158449']['Loc7'].copy().values[0]]"
   ]
  },
  {
   "cell_type": "markdown",
   "metadata": {},
   "source": [
    "# Find Closest Pair of Points\n",
    "\n"
   ]
  }
 ],
 "metadata": {
  "kernelspec": {
   "display_name": "Python 3",
   "language": "python",
   "name": "python3"
  },
  "language_info": {
   "codemirror_mode": {
    "name": "ipython",
    "version": 3
   },
   "file_extension": ".py",
   "mimetype": "text/x-python",
   "name": "python",
   "nbconvert_exporter": "python",
   "pygments_lexer": "ipython3",
   "version": "3.7.4"
  }
 },
 "nbformat": 4,
 "nbformat_minor": 2
}
