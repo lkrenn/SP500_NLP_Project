{
 "cells": [
  {
   "cell_type": "markdown",
   "metadata": {},
   "source": [
    "# Scraping EDGAR for Financial Documents\n",
    "\n",
    "In this notebook, I will be writing code to retrieve 10K and 10Q reports from a given company, given their tickers. To run this, you will need to install the very powerful sec_edgar_downloader package via  "
   ]
  },
  {
   "cell_type": "code",
   "execution_count": 1,
   "metadata": {},
   "outputs": [],
   "source": [
    "#!pip install sec_api"
   ]
  },
  {
   "cell_type": "markdown",
   "metadata": {},
   "source": [
    "I was able to pull financial documents from all companies that submitted such documents via the SEC website. However, this was done manually via copy/paste. This is a step that would need to be automated if I were to extrapolate this to other sectors/industries"
   ]
  },
  {
   "cell_type": "code",
   "execution_count": 5,
   "metadata": {},
   "outputs": [],
   "source": [
    "import pandas as pd\n",
    "import os\n",
    "import pickle\n",
    "import h5py\n",
    "\n",
    "import requests\n",
    "import json\n",
    "\n",
    "from bs4 import BeautifulSoup\n",
    "from sec_edgar_downloader import Downloader"
   ]
  },
  {
   "cell_type": "code",
   "execution_count": 9,
   "metadata": {},
   "outputs": [
    {
     "data": {
      "text/html": [
       "<div>\n",
       "<style scoped>\n",
       "    .dataframe tbody tr th:only-of-type {\n",
       "        vertical-align: middle;\n",
       "    }\n",
       "\n",
       "    .dataframe tbody tr th {\n",
       "        vertical-align: top;\n",
       "    }\n",
       "\n",
       "    .dataframe thead th {\n",
       "        text-align: right;\n",
       "    }\n",
       "</style>\n",
       "<table border=\"1\" class=\"dataframe\">\n",
       "  <thead>\n",
       "    <tr style=\"text-align: right;\">\n",
       "      <th></th>\n",
       "      <th>A</th>\n",
       "      <th>AABA</th>\n",
       "      <th>AAL</th>\n",
       "      <th>AAMRQ</th>\n",
       "      <th>AAP</th>\n",
       "      <th>AAPL</th>\n",
       "      <th>ABBV</th>\n",
       "      <th>ABC</th>\n",
       "      <th>ABI</th>\n",
       "      <th>ABKFQ</th>\n",
       "      <th>...</th>\n",
       "      <th>XRX</th>\n",
       "      <th>XTO</th>\n",
       "      <th>XYL</th>\n",
       "      <th>YNR</th>\n",
       "      <th>YRCW</th>\n",
       "      <th>YUM</th>\n",
       "      <th>ZBH</th>\n",
       "      <th>ZBRA</th>\n",
       "      <th>ZION</th>\n",
       "      <th>ZTS</th>\n",
       "    </tr>\n",
       "  </thead>\n",
       "  <tbody>\n",
       "    <tr>\n",
       "      <th>1996-01-02</th>\n",
       "      <td>NaN</td>\n",
       "      <td>NaN</td>\n",
       "      <td>NaN</td>\n",
       "      <td>NaN</td>\n",
       "      <td>NaN</td>\n",
       "      <td>0.007843</td>\n",
       "      <td>NaN</td>\n",
       "      <td>NaN</td>\n",
       "      <td>NaN</td>\n",
       "      <td>NaN</td>\n",
       "      <td>...</td>\n",
       "      <td>-0.003650</td>\n",
       "      <td>NaN</td>\n",
       "      <td>NaN</td>\n",
       "      <td>NaN</td>\n",
       "      <td>NaN</td>\n",
       "      <td>NaN</td>\n",
       "      <td>NaN</td>\n",
       "      <td>NaN</td>\n",
       "      <td>NaN</td>\n",
       "      <td>NaN</td>\n",
       "    </tr>\n",
       "    <tr>\n",
       "      <th>1996-01-03</th>\n",
       "      <td>NaN</td>\n",
       "      <td>NaN</td>\n",
       "      <td>NaN</td>\n",
       "      <td>NaN</td>\n",
       "      <td>NaN</td>\n",
       "      <td>0.000000</td>\n",
       "      <td>NaN</td>\n",
       "      <td>NaN</td>\n",
       "      <td>NaN</td>\n",
       "      <td>NaN</td>\n",
       "      <td>...</td>\n",
       "      <td>-0.000915</td>\n",
       "      <td>NaN</td>\n",
       "      <td>NaN</td>\n",
       "      <td>NaN</td>\n",
       "      <td>NaN</td>\n",
       "      <td>NaN</td>\n",
       "      <td>NaN</td>\n",
       "      <td>NaN</td>\n",
       "      <td>NaN</td>\n",
       "      <td>NaN</td>\n",
       "    </tr>\n",
       "    <tr>\n",
       "      <th>1996-01-04</th>\n",
       "      <td>NaN</td>\n",
       "      <td>NaN</td>\n",
       "      <td>NaN</td>\n",
       "      <td>NaN</td>\n",
       "      <td>NaN</td>\n",
       "      <td>-0.017508</td>\n",
       "      <td>NaN</td>\n",
       "      <td>NaN</td>\n",
       "      <td>NaN</td>\n",
       "      <td>NaN</td>\n",
       "      <td>...</td>\n",
       "      <td>-0.021082</td>\n",
       "      <td>NaN</td>\n",
       "      <td>NaN</td>\n",
       "      <td>NaN</td>\n",
       "      <td>NaN</td>\n",
       "      <td>NaN</td>\n",
       "      <td>NaN</td>\n",
       "      <td>NaN</td>\n",
       "      <td>NaN</td>\n",
       "      <td>NaN</td>\n",
       "    </tr>\n",
       "    <tr>\n",
       "      <th>1996-01-05</th>\n",
       "      <td>NaN</td>\n",
       "      <td>NaN</td>\n",
       "      <td>NaN</td>\n",
       "      <td>NaN</td>\n",
       "      <td>NaN</td>\n",
       "      <td>0.085150</td>\n",
       "      <td>NaN</td>\n",
       "      <td>NaN</td>\n",
       "      <td>NaN</td>\n",
       "      <td>NaN</td>\n",
       "      <td>...</td>\n",
       "      <td>-0.011236</td>\n",
       "      <td>NaN</td>\n",
       "      <td>NaN</td>\n",
       "      <td>NaN</td>\n",
       "      <td>NaN</td>\n",
       "      <td>NaN</td>\n",
       "      <td>NaN</td>\n",
       "      <td>NaN</td>\n",
       "      <td>NaN</td>\n",
       "      <td>NaN</td>\n",
       "    </tr>\n",
       "    <tr>\n",
       "      <th>1996-01-08</th>\n",
       "      <td>NaN</td>\n",
       "      <td>NaN</td>\n",
       "      <td>NaN</td>\n",
       "      <td>NaN</td>\n",
       "      <td>NaN</td>\n",
       "      <td>0.010948</td>\n",
       "      <td>NaN</td>\n",
       "      <td>NaN</td>\n",
       "      <td>NaN</td>\n",
       "      <td>NaN</td>\n",
       "      <td>...</td>\n",
       "      <td>-0.001894</td>\n",
       "      <td>NaN</td>\n",
       "      <td>NaN</td>\n",
       "      <td>NaN</td>\n",
       "      <td>NaN</td>\n",
       "      <td>NaN</td>\n",
       "      <td>NaN</td>\n",
       "      <td>NaN</td>\n",
       "      <td>NaN</td>\n",
       "      <td>NaN</td>\n",
       "    </tr>\n",
       "  </tbody>\n",
       "</table>\n",
       "<p>5 rows × 1110 columns</p>\n",
       "</div>"
      ],
      "text/plain": [
       "             A  AABA  AAL  AAMRQ  AAP      AAPL  ABBV  ABC  ABI  ABKFQ  ...  \\\n",
       "1996-01-02 NaN   NaN  NaN    NaN  NaN  0.007843   NaN  NaN  NaN    NaN  ...   \n",
       "1996-01-03 NaN   NaN  NaN    NaN  NaN  0.000000   NaN  NaN  NaN    NaN  ...   \n",
       "1996-01-04 NaN   NaN  NaN    NaN  NaN -0.017508   NaN  NaN  NaN    NaN  ...   \n",
       "1996-01-05 NaN   NaN  NaN    NaN  NaN  0.085150   NaN  NaN  NaN    NaN  ...   \n",
       "1996-01-08 NaN   NaN  NaN    NaN  NaN  0.010948   NaN  NaN  NaN    NaN  ...   \n",
       "\n",
       "                 XRX  XTO  XYL  YNR  YRCW  YUM  ZBH  ZBRA  ZION  ZTS  \n",
       "1996-01-02 -0.003650  NaN  NaN  NaN   NaN  NaN  NaN   NaN   NaN  NaN  \n",
       "1996-01-03 -0.000915  NaN  NaN  NaN   NaN  NaN  NaN   NaN   NaN  NaN  \n",
       "1996-01-04 -0.021082  NaN  NaN  NaN   NaN  NaN  NaN   NaN   NaN  NaN  \n",
       "1996-01-05 -0.011236  NaN  NaN  NaN   NaN  NaN  NaN   NaN   NaN  NaN  \n",
       "1996-01-08 -0.001894  NaN  NaN  NaN   NaN  NaN  NaN   NaN   NaN  NaN  \n",
       "\n",
       "[5 rows x 1110 columns]"
      ]
     },
     "execution_count": 9,
     "metadata": {},
     "output_type": "execute_result"
    }
   ],
   "source": [
    "# Open the file\n",
    "df = pd.read_hdf('1-rets.h5')\n",
    "df.head()"
   ]
  },
  {
   "cell_type": "markdown",
   "metadata": {},
   "source": [
    "# Pulling Data From All Companies\n",
    "\n",
    "Now, we will pull the data from all the companies found in the .csv file."
   ]
  },
  {
   "cell_type": "code",
   "execution_count": 10,
   "metadata": {},
   "outputs": [],
   "source": [
    "response = json.loads(requests.get(\"https://www.sec.gov/files/company_tickers.json\").text)"
   ]
  },
  {
   "cell_type": "code",
   "execution_count": 11,
   "metadata": {},
   "outputs": [
    {
     "data": {
      "text/html": [
       "<div>\n",
       "<style scoped>\n",
       "    .dataframe tbody tr th:only-of-type {\n",
       "        vertical-align: middle;\n",
       "    }\n",
       "\n",
       "    .dataframe tbody tr th {\n",
       "        vertical-align: top;\n",
       "    }\n",
       "\n",
       "    .dataframe thead th {\n",
       "        text-align: right;\n",
       "    }\n",
       "</style>\n",
       "<table border=\"1\" class=\"dataframe\">\n",
       "  <thead>\n",
       "    <tr style=\"text-align: right;\">\n",
       "      <th></th>\n",
       "      <th>cik_str</th>\n",
       "      <th>ticker</th>\n",
       "      <th>title</th>\n",
       "    </tr>\n",
       "  </thead>\n",
       "  <tbody>\n",
       "    <tr>\n",
       "      <th>0</th>\n",
       "      <td>320193</td>\n",
       "      <td>AAPL</td>\n",
       "      <td>Apple Inc.</td>\n",
       "    </tr>\n",
       "    <tr>\n",
       "      <th>1</th>\n",
       "      <td>789019</td>\n",
       "      <td>MSFT</td>\n",
       "      <td>MICROSOFT CORP</td>\n",
       "    </tr>\n",
       "    <tr>\n",
       "      <th>2</th>\n",
       "      <td>1652044</td>\n",
       "      <td>GOOG</td>\n",
       "      <td>Alphabet Inc.</td>\n",
       "    </tr>\n",
       "    <tr>\n",
       "      <th>3</th>\n",
       "      <td>1018724</td>\n",
       "      <td>AMZN</td>\n",
       "      <td>AMAZON COM INC</td>\n",
       "    </tr>\n",
       "    <tr>\n",
       "      <th>4</th>\n",
       "      <td>1326801</td>\n",
       "      <td>FB</td>\n",
       "      <td>Facebook Inc</td>\n",
       "    </tr>\n",
       "  </tbody>\n",
       "</table>\n",
       "</div>"
      ],
      "text/plain": [
       "   cik_str ticker           title\n",
       "0   320193   AAPL      Apple Inc.\n",
       "1   789019   MSFT  MICROSOFT CORP\n",
       "2  1652044   GOOG   Alphabet Inc.\n",
       "3  1018724   AMZN  AMAZON COM INC\n",
       "4  1326801     FB    Facebook Inc"
      ]
     },
     "execution_count": 11,
     "metadata": {},
     "output_type": "execute_result"
    }
   ],
   "source": [
    "mapping = pd.DataFrame(response).T\n",
    "mapping.head()"
   ]
  },
  {
   "cell_type": "code",
   "execution_count": 12,
   "metadata": {},
   "outputs": [
    {
     "data": {
      "text/plain": [
       "1110"
      ]
     },
     "execution_count": 12,
     "metadata": {},
     "output_type": "execute_result"
    }
   ],
   "source": [
    "ticks = df.columns\n",
    "len(ticks)"
   ]
  },
  {
   "cell_type": "code",
   "execution_count": 13,
   "metadata": {},
   "outputs": [
    {
     "data": {
      "text/plain": [
       "413"
      ]
     },
     "execution_count": 13,
     "metadata": {},
     "output_type": "execute_result"
    }
   ],
   "source": [
    "no_matches = [x for x in ticks if x not in mapping['ticker'].values]\n",
    "len(no_matches)"
   ]
  },
  {
   "cell_type": "markdown",
   "metadata": {},
   "source": [
    "Wow! So 417/1110 of these stocks are missing assoicated tickers via the SEC's own database. This is pretty crazy, I think. Let's try a dataset provided by rankandfiled found here: http://rankandfiled.com/#/data/cusips"
   ]
  },
  {
   "cell_type": "code",
   "execution_count": 14,
   "metadata": {},
   "outputs": [
    {
     "data": {
      "text/html": [
       "<div>\n",
       "<style scoped>\n",
       "    .dataframe tbody tr th:only-of-type {\n",
       "        vertical-align: middle;\n",
       "    }\n",
       "\n",
       "    .dataframe tbody tr th {\n",
       "        vertical-align: top;\n",
       "    }\n",
       "\n",
       "    .dataframe thead th {\n",
       "        text-align: right;\n",
       "    }\n",
       "</style>\n",
       "<table border=\"1\" class=\"dataframe\">\n",
       "  <thead>\n",
       "    <tr style=\"text-align: right;\">\n",
       "      <th></th>\n",
       "      <th>Issuer</th>\n",
       "      <th>Ticker</th>\n",
       "      <th>CUSIP</th>\n",
       "      <th>CIK</th>\n",
       "    </tr>\n",
       "  </thead>\n",
       "  <tbody>\n",
       "    <tr>\n",
       "      <th>0</th>\n",
       "      <td>ALCOA INC</td>\n",
       "      <td>AA</td>\n",
       "      <td>013817101</td>\n",
       "      <td>4281.0</td>\n",
       "    </tr>\n",
       "    <tr>\n",
       "      <th>1</th>\n",
       "      <td>ALTANA AKTIENGESELLSCHAFT SPON</td>\n",
       "      <td>AAA</td>\n",
       "      <td>02143N103</td>\n",
       "      <td>NaN</td>\n",
       "    </tr>\n",
       "    <tr>\n",
       "      <th>2</th>\n",
       "      <td>AAA PUB ADJUSTING GRP INC NEW</td>\n",
       "      <td>AAAA</td>\n",
       "      <td>00249C203</td>\n",
       "      <td>NaN</td>\n",
       "    </tr>\n",
       "    <tr>\n",
       "      <th>3</th>\n",
       "      <td>ASIA AUTOMOTIVE ACQUISITION CO</td>\n",
       "      <td>AAAC</td>\n",
       "      <td>04519K101</td>\n",
       "      <td>1332552.0</td>\n",
       "    </tr>\n",
       "    <tr>\n",
       "      <th>4</th>\n",
       "      <td>ASIA AUTOMOTIVE ACQUISITION CO</td>\n",
       "      <td>AAACU</td>\n",
       "      <td>04519K200</td>\n",
       "      <td>1332552.0</td>\n",
       "    </tr>\n",
       "  </tbody>\n",
       "</table>\n",
       "</div>"
      ],
      "text/plain": [
       "                           Issuer Ticker      CUSIP        CIK\n",
       "0                       ALCOA INC     AA  013817101     4281.0\n",
       "1  ALTANA AKTIENGESELLSCHAFT SPON    AAA  02143N103        NaN\n",
       "2  AAA PUB ADJUSTING GRP INC NEW    AAAA  00249C203        NaN\n",
       "3  ASIA AUTOMOTIVE ACQUISITION CO   AAAC  04519K101  1332552.0\n",
       "4  ASIA AUTOMOTIVE ACQUISITION CO  AAACU  04519K200  1332552.0"
      ]
     },
     "execution_count": 14,
     "metadata": {},
     "output_type": "execute_result"
    }
   ],
   "source": [
    "mapping = pd.read_csv(\"2-cusip_ticker.csv\", sep='|')\n",
    "mapping.head()"
   ]
  },
  {
   "cell_type": "code",
   "execution_count": 15,
   "metadata": {},
   "outputs": [
    {
     "data": {
      "text/html": [
       "<div>\n",
       "<style scoped>\n",
       "    .dataframe tbody tr th:only-of-type {\n",
       "        vertical-align: middle;\n",
       "    }\n",
       "\n",
       "    .dataframe tbody tr th {\n",
       "        vertical-align: top;\n",
       "    }\n",
       "\n",
       "    .dataframe thead th {\n",
       "        text-align: right;\n",
       "    }\n",
       "</style>\n",
       "<table border=\"1\" class=\"dataframe\">\n",
       "  <thead>\n",
       "    <tr style=\"text-align: right;\">\n",
       "      <th></th>\n",
       "      <th>Issuer</th>\n",
       "      <th>Ticker</th>\n",
       "      <th>CUSIP</th>\n",
       "      <th>CIK</th>\n",
       "    </tr>\n",
       "  </thead>\n",
       "  <tbody>\n",
       "    <tr>\n",
       "      <th>55</th>\n",
       "      <td>AMERICAN AIRLINES GROUP INC CO</td>\n",
       "      <td>AAL</td>\n",
       "      <td>02376R102</td>\n",
       "      <td>6201.0</td>\n",
       "    </tr>\n",
       "    <tr>\n",
       "      <th>67</th>\n",
       "      <td>AMR CORP</td>\n",
       "      <td>AAMRQ</td>\n",
       "      <td>001765106</td>\n",
       "      <td>NaN</td>\n",
       "    </tr>\n",
       "    <tr>\n",
       "      <th>80</th>\n",
       "      <td>ADVANCE AUTO PARTS INC</td>\n",
       "      <td>AAP</td>\n",
       "      <td>00751Y106</td>\n",
       "      <td>1158449.0</td>\n",
       "    </tr>\n",
       "    <tr>\n",
       "      <th>84</th>\n",
       "      <td>APPLE INC;COM NPV</td>\n",
       "      <td>AAPL</td>\n",
       "      <td>037833100</td>\n",
       "      <td>320193.0</td>\n",
       "    </tr>\n",
       "    <tr>\n",
       "      <th>132</th>\n",
       "      <td>ABBVIE INC COM STK (DE)</td>\n",
       "      <td>ABBV</td>\n",
       "      <td>00287Y109</td>\n",
       "      <td>1551152.0</td>\n",
       "    </tr>\n",
       "  </tbody>\n",
       "</table>\n",
       "</div>"
      ],
      "text/plain": [
       "                             Issuer Ticker      CUSIP        CIK\n",
       "55   AMERICAN AIRLINES GROUP INC CO    AAL  02376R102     6201.0\n",
       "67                         AMR CORP  AAMRQ  001765106        NaN\n",
       "80           ADVANCE AUTO PARTS INC    AAP  00751Y106  1158449.0\n",
       "84                APPLE INC;COM NPV   AAPL  037833100   320193.0\n",
       "132         ABBVIE INC COM STK (DE)   ABBV  00287Y109  1551152.0"
      ]
     },
     "execution_count": 15,
     "metadata": {},
     "output_type": "execute_result"
    }
   ],
   "source": [
    "matches = mapping[mapping['Ticker'].isin(ticks)]\n",
    "matches.head()"
   ]
  },
  {
   "cell_type": "code",
   "execution_count": 16,
   "metadata": {},
   "outputs": [
    {
     "data": {
      "text/plain": [
       "146"
      ]
     },
     "execution_count": 16,
     "metadata": {},
     "output_type": "execute_result"
    }
   ],
   "source": [
    "1110 - len(matches)"
   ]
  },
  {
   "cell_type": "markdown",
   "metadata": {},
   "source": [
    "There appears to be less tickers missing in here than in the SEC's own mapping!"
   ]
  },
  {
   "cell_type": "code",
   "execution_count": 17,
   "metadata": {},
   "outputs": [
    {
     "data": {
      "text/plain": [
       "85"
      ]
     },
     "execution_count": 17,
     "metadata": {},
     "output_type": "execute_result"
    }
   ],
   "source": [
    "sum(matches['CIK'].isna())"
   ]
  },
  {
   "cell_type": "code",
   "execution_count": 18,
   "metadata": {},
   "outputs": [],
   "source": [
    "valid_tickers = matches.dropna(axis=0)"
   ]
  },
  {
   "cell_type": "code",
   "execution_count": 19,
   "metadata": {
    "scrolled": true
   },
   "outputs": [],
   "source": [
    "valid_tickers.to_csv('1-valid_tickers.csv')"
   ]
  },
  {
   "cell_type": "code",
   "execution_count": 20,
   "metadata": {},
   "outputs": [],
   "source": [
    "CIKs = valid_tickers['CIK']"
   ]
  },
  {
   "cell_type": "markdown",
   "metadata": {},
   "source": [
    "# Download the Necessary Documents"
   ]
  },
  {
   "cell_type": "code",
   "execution_count": 58,
   "metadata": {},
   "outputs": [
    {
     "name": "stdout",
     "output_type": "stream",
     "text": [
      "Request Successful\n",
      "https://www.sec.gov/cgi-bin/browse-edgar?action=getcompany&CIK=1265107&type=10-k&dateb=20190101&owner=exclude&start=&output=&count=100\n"
     ]
    }
   ],
   "source": [
    "# base URL for the SEC EDGAR browser\n",
    "endpoint = r\"https://www.sec.gov/cgi-bin/browse-edgar\"\n",
    "\n",
    "# define our parameters dictionary\n",
    "param_dict = {'action':'getcompany',\n",
    "              'CIK':'1265107',\n",
    "              'type':'10-k',\n",
    "              'dateb':'20190101',\n",
    "              'owner':'exclude',\n",
    "              'start':'',\n",
    "              'output':'',\n",
    "              'count':'100'}\n",
    "\n",
    "# request the url, and then parse the response.\n",
    "response = requests.get(url = endpoint, params = param_dict)\n",
    "soup = BeautifulSoup(response.content, 'html.parser')\n",
    "\n",
    "# Let the user know it was successful.\n",
    "print('Request Successful')\n",
    "print(response.url)"
   ]
  },
  {
   "cell_type": "code",
   "execution_count": 156,
   "metadata": {},
   "outputs": [],
   "source": [
    "# Used for the requests\n",
    "heads = {#'Host': 'www.sec.gov', \n",
    "         #'Connection': 'close',\n",
    "         #'Accept': 'application/json',#, text/javascript, */*; q=0.01', \n",
    "         'X-Requested-With': 'XMLHttpRequest',\n",
    "         'User-Agent': 'Mozilla/5.0 (Windows NT 10.0; Win64; x64) AppleWebKit/537.36 (KHTML, like Gecko) Chrome/80.0.3987.163 Safari/537.36',\n",
    "         }"
   ]
  },
  {
   "cell_type": "code",
   "execution_count": 157,
   "metadata": {},
   "outputs": [],
   "source": [
    "import requests\n",
    "import json\n",
    "response = json.loads(requests.get(\"https://data.sec.gov/submissions/CIK0000006201.json\", headers=heads).text)"
   ]
  },
  {
   "cell_type": "code",
   "execution_count": 111,
   "metadata": {},
   "outputs": [
    {
     "data": {
      "text/html": [
       "<div>\n",
       "<style scoped>\n",
       "    .dataframe tbody tr th:only-of-type {\n",
       "        vertical-align: middle;\n",
       "    }\n",
       "\n",
       "    .dataframe tbody tr th {\n",
       "        vertical-align: top;\n",
       "    }\n",
       "\n",
       "    .dataframe thead th {\n",
       "        text-align: right;\n",
       "    }\n",
       "</style>\n",
       "<table border=\"1\" class=\"dataframe\">\n",
       "  <thead>\n",
       "    <tr style=\"text-align: right;\">\n",
       "      <th></th>\n",
       "      <th>accessionNumber</th>\n",
       "      <th>filingDate</th>\n",
       "      <th>reportDate</th>\n",
       "      <th>acceptanceDateTime</th>\n",
       "      <th>act</th>\n",
       "      <th>form</th>\n",
       "      <th>fileNumber</th>\n",
       "      <th>filmNumber</th>\n",
       "      <th>items</th>\n",
       "      <th>size</th>\n",
       "      <th>isXBRL</th>\n",
       "      <th>isInlineXBRL</th>\n",
       "      <th>primaryDocument</th>\n",
       "      <th>primaryDocDescription</th>\n",
       "    </tr>\n",
       "  </thead>\n",
       "  <tbody>\n",
       "    <tr>\n",
       "      <th>49</th>\n",
       "      <td>0000006201-21-000014</td>\n",
       "      <td>2021-02-17</td>\n",
       "      <td>2020-12-31</td>\n",
       "      <td>2021-02-17T17:17:57.000Z</td>\n",
       "      <td>34</td>\n",
       "      <td>10-K</td>\n",
       "      <td>001-08400</td>\n",
       "      <td>21646186</td>\n",
       "      <td></td>\n",
       "      <td>43925703</td>\n",
       "      <td>1</td>\n",
       "      <td>1</td>\n",
       "      <td>aal-20201231.htm</td>\n",
       "      <td>10-K 2020 02.17.21</td>\n",
       "    </tr>\n",
       "    <tr>\n",
       "      <th>150</th>\n",
       "      <td>0000006201-20-000023</td>\n",
       "      <td>2020-02-19</td>\n",
       "      <td>2019-12-31</td>\n",
       "      <td>2020-02-19T07:31:30.000Z</td>\n",
       "      <td>34</td>\n",
       "      <td>10-K</td>\n",
       "      <td>001-08400</td>\n",
       "      <td>20627428</td>\n",
       "      <td></td>\n",
       "      <td>30851334</td>\n",
       "      <td>1</td>\n",
       "      <td>1</td>\n",
       "      <td>a10k123119.htm</td>\n",
       "      <td>10-K 2019 02.19.20</td>\n",
       "    </tr>\n",
       "    <tr>\n",
       "      <th>225</th>\n",
       "      <td>0000006201-19-000009</td>\n",
       "      <td>2019-02-25</td>\n",
       "      <td>2018-12-31</td>\n",
       "      <td>2019-02-25T07:31:34.000Z</td>\n",
       "      <td>34</td>\n",
       "      <td>10-K</td>\n",
       "      <td>001-08400</td>\n",
       "      <td>19628071</td>\n",
       "      <td></td>\n",
       "      <td>30572408</td>\n",
       "      <td>1</td>\n",
       "      <td>0</td>\n",
       "      <td>a10k123118.htm</td>\n",
       "      <td>10-K 2018 02.25.19</td>\n",
       "    </tr>\n",
       "    <tr>\n",
       "      <th>315</th>\n",
       "      <td>0000006201-18-000009</td>\n",
       "      <td>2018-02-21</td>\n",
       "      <td>2017-12-31</td>\n",
       "      <td>2018-02-21T08:02:40.000Z</td>\n",
       "      <td>34</td>\n",
       "      <td>10-K</td>\n",
       "      <td>001-08400</td>\n",
       "      <td>18627088</td>\n",
       "      <td></td>\n",
       "      <td>27914491</td>\n",
       "      <td>1</td>\n",
       "      <td>0</td>\n",
       "      <td>a10k123117.htm</td>\n",
       "      <td>10-K</td>\n",
       "    </tr>\n",
       "    <tr>\n",
       "      <th>412</th>\n",
       "      <td>0001193125-17-051216</td>\n",
       "      <td>2017-02-22</td>\n",
       "      <td>2016-12-31</td>\n",
       "      <td>2017-02-22T08:01:43.000Z</td>\n",
       "      <td>34</td>\n",
       "      <td>10-K</td>\n",
       "      <td>001-08400</td>\n",
       "      <td>17627073</td>\n",
       "      <td></td>\n",
       "      <td>24888480</td>\n",
       "      <td>1</td>\n",
       "      <td>0</td>\n",
       "      <td>d286458d10k.htm</td>\n",
       "      <td>FORM 10-K</td>\n",
       "    </tr>\n",
       "    <tr>\n",
       "      <th>538</th>\n",
       "      <td>0001193125-16-474605</td>\n",
       "      <td>2016-02-24</td>\n",
       "      <td>2015-12-31</td>\n",
       "      <td>2016-02-24T08:04:10.000Z</td>\n",
       "      <td>34</td>\n",
       "      <td>10-K</td>\n",
       "      <td>001-08400</td>\n",
       "      <td>161450518</td>\n",
       "      <td></td>\n",
       "      <td>26170400</td>\n",
       "      <td>1</td>\n",
       "      <td>0</td>\n",
       "      <td>d78287d10k.htm</td>\n",
       "      <td>FORM 10-K</td>\n",
       "    </tr>\n",
       "    <tr>\n",
       "      <th>651</th>\n",
       "      <td>0001193125-15-061145</td>\n",
       "      <td>2015-02-25</td>\n",
       "      <td>2014-12-31</td>\n",
       "      <td>2015-02-25T08:02:34.000Z</td>\n",
       "      <td>34</td>\n",
       "      <td>10-K</td>\n",
       "      <td>001-08400</td>\n",
       "      <td>15645918</td>\n",
       "      <td></td>\n",
       "      <td>39524925</td>\n",
       "      <td>1</td>\n",
       "      <td>0</td>\n",
       "      <td>d829913d10k.htm</td>\n",
       "      <td>FORM 10-K</td>\n",
       "    </tr>\n",
       "    <tr>\n",
       "      <th>750</th>\n",
       "      <td>0000006201-14-000004</td>\n",
       "      <td>2014-02-28</td>\n",
       "      <td>2013-12-31</td>\n",
       "      <td>2014-02-28T07:52:16.000Z</td>\n",
       "      <td>34</td>\n",
       "      <td>10-K</td>\n",
       "      <td>001-08400</td>\n",
       "      <td>14651496</td>\n",
       "      <td></td>\n",
       "      <td>47888955</td>\n",
       "      <td>1</td>\n",
       "      <td>0</td>\n",
       "      <td>aagaa10k-20131231.htm</td>\n",
       "      <td>10-K</td>\n",
       "    </tr>\n",
       "  </tbody>\n",
       "</table>\n",
       "</div>"
      ],
      "text/plain": [
       "          accessionNumber  filingDate  reportDate        acceptanceDateTime  \\\n",
       "49   0000006201-21-000014  2021-02-17  2020-12-31  2021-02-17T17:17:57.000Z   \n",
       "150  0000006201-20-000023  2020-02-19  2019-12-31  2020-02-19T07:31:30.000Z   \n",
       "225  0000006201-19-000009  2019-02-25  2018-12-31  2019-02-25T07:31:34.000Z   \n",
       "315  0000006201-18-000009  2018-02-21  2017-12-31  2018-02-21T08:02:40.000Z   \n",
       "412  0001193125-17-051216  2017-02-22  2016-12-31  2017-02-22T08:01:43.000Z   \n",
       "538  0001193125-16-474605  2016-02-24  2015-12-31  2016-02-24T08:04:10.000Z   \n",
       "651  0001193125-15-061145  2015-02-25  2014-12-31  2015-02-25T08:02:34.000Z   \n",
       "750  0000006201-14-000004  2014-02-28  2013-12-31  2014-02-28T07:52:16.000Z   \n",
       "\n",
       "    act  form fileNumber filmNumber items      size  isXBRL  isInlineXBRL  \\\n",
       "49   34  10-K  001-08400   21646186        43925703       1             1   \n",
       "150  34  10-K  001-08400   20627428        30851334       1             1   \n",
       "225  34  10-K  001-08400   19628071        30572408       1             0   \n",
       "315  34  10-K  001-08400   18627088        27914491       1             0   \n",
       "412  34  10-K  001-08400   17627073        24888480       1             0   \n",
       "538  34  10-K  001-08400  161450518        26170400       1             0   \n",
       "651  34  10-K  001-08400   15645918        39524925       1             0   \n",
       "750  34  10-K  001-08400   14651496        47888955       1             0   \n",
       "\n",
       "           primaryDocument primaryDocDescription  \n",
       "49        aal-20201231.htm    10-K 2020 02.17.21  \n",
       "150         a10k123119.htm    10-K 2019 02.19.20  \n",
       "225         a10k123118.htm    10-K 2018 02.25.19  \n",
       "315         a10k123117.htm                  10-K  \n",
       "412        d286458d10k.htm             FORM 10-K  \n",
       "538         d78287d10k.htm             FORM 10-K  \n",
       "651        d829913d10k.htm             FORM 10-K  \n",
       "750  aagaa10k-20131231.htm                  10-K  "
      ]
     },
     "execution_count": 111,
     "metadata": {},
     "output_type": "execute_result"
    }
   ],
   "source": [
    "selection = pd.DataFrame(response['filings']['recent'])\n",
    "tenks = selection[selection['form'] == '10-K']\n",
    "tenks"
   ]
  },
  {
   "cell_type": "code",
   "execution_count": 107,
   "metadata": {},
   "outputs": [
    {
     "data": {
      "text/plain": [
       "'https://www.sec.gov/Archives/edgar/data/6201/000119312516474605/d78287d10k.htm'"
      ]
     },
     "execution_count": 107,
     "metadata": {},
     "output_type": "execute_result"
    }
   ],
   "source": [
    "# Target: https://www.sec.gov/Archives/edgar/data/4515/000119312516474605/d78287d10k.htm\n",
    "\n",
    "base_url = 'https://www.sec.gov/Archives/edgar/data/'\n",
    "cik = response['cik']\n",
    "accession_num = '0001193125-16-474605'.replace('-', '')\n",
    "doc = 'd78287d10k.htm'\n",
    "\n",
    "link = base_url + cik + '/' + accession_num + '/' + doc\n",
    "link"
   ]
  },
  {
   "cell_type": "code",
   "execution_count": 96,
   "metadata": {},
   "outputs": [],
   "source": [
    "response = requests.get(link, headers=heads)"
   ]
  },
  {
   "cell_type": "code",
   "execution_count": 97,
   "metadata": {},
   "outputs": [],
   "source": [
    "soup = BeautifulSoup(response.content, 'html.parser')"
   ]
  },
  {
   "cell_type": "code",
   "execution_count": 98,
   "metadata": {},
   "outputs": [
    {
     "data": {
      "text/plain": [
       "'\\n10-K\\n1\\nd78287d10k.htm\\nFORM 10-K\\n\\n\\nForm 10-K\\n\\n\\nTable of Contents\\n\\xa0\\n\\xa0 UNITED STATES SECURITIES AND\\nEXCHANGE COMMISSION  Washington, D.C. 20549 \\n\\xa0 \\xa0\\nFORM 10-K  \\xa0\\n\\xa0 \\xa0\\n\\n\\nþ\\n ANNUAL REPORT PURSUANT TO SECTION 13 OR 15(d) OF THE SECURITIES EXCHANGE ACT OF 1934 \\nFor the Fiscal Year Ended December\\xa031, 2015 \\n\\xa0\\n\\n\\n¨\\n TRANSITION REPORT PURSUANT TO SECTION 13 OR 15(d) OF THE SECURITIES EXCHANGE ACT OF 1934 \\nFor the Transition Period From\\n\\xa0\\xa0\\xa0\\xa0\\xa0\\xa0\\xa0\\xa0\\xa0\\xa0\\xa0\\xa0\\xa0\\xa0\\xa0\\xa0\\xa0\\xa0\\xa0\\xa0 to \\xa0\\xa0\\xa0\\xa0\\xa0\\xa0\\xa0\\xa0\\xa0\\xa0\\xa0\\xa0\\xa0\\xa0\\xa0\\xa0\\xa0\\xa0\\xa0\\xa0\\n Commission file number 1-8'"
      ]
     },
     "execution_count": 98,
     "metadata": {},
     "output_type": "execute_result"
    }
   ],
   "source": [
    "soup.text[:500]"
   ]
  },
  {
   "cell_type": "code",
   "execution_count": 133,
   "metadata": {},
   "outputs": [
    {
     "data": {
      "text/plain": [
       "'https://www.sec.gov/Archives/edgar/data/6201/000000620114000004/aagaa10k-20131231.htm'"
      ]
     },
     "execution_count": 133,
     "metadata": {},
     "output_type": "execute_result"
    }
   ],
   "source": [
    "links = pd.Series([base_url]*len(tenks))\n",
    "links += response['cik'] + \"/\"\n",
    "links += list(map(lambda s: s.replace('-' , ''), tenks['accessionNumber']))\n",
    "links += [\"/\"]*len(tenks)\n",
    "links += tenks['primaryDocument'].values\n",
    "links[7]"
   ]
  },
  {
   "cell_type": "code",
   "execution_count": 117,
   "metadata": {},
   "outputs": [
    {
     "data": {
      "text/plain": [
       "array(['0000006201-21-000014', '0000006201-20-000023',\n",
       "       '0000006201-19-000009', '0000006201-18-000009',\n",
       "       '0001193125-17-051216', '0001193125-16-474605',\n",
       "       '0001193125-15-061145', '0000006201-14-000004'], dtype=object)"
      ]
     },
     "execution_count": 117,
     "metadata": {},
     "output_type": "execute_result"
    }
   ],
   "source": [
    "tenks['accessionNumber'].values"
   ]
  },
  {
   "cell_type": "code",
   "execution_count": 135,
   "metadata": {},
   "outputs": [
    {
     "name": "stderr",
     "output_type": "stream",
     "text": [
      "/Users/lucaskrenn/opt/anaconda3/lib/python3.7/site-packages/ipykernel_launcher.py:1: SettingWithCopyWarning: \n",
      "A value is trying to be set on a copy of a slice from a DataFrame.\n",
      "Try using .loc[row_indexer,col_indexer] = value instead\n",
      "\n",
      "See the caveats in the documentation: https://pandas.pydata.org/pandas-docs/stable/user_guide/indexing.html#returning-a-view-versus-a-copy\n",
      "  \"\"\"Entry point for launching an IPython kernel.\n"
     ]
    },
    {
     "data": {
      "text/html": [
       "<div>\n",
       "<style scoped>\n",
       "    .dataframe tbody tr th:only-of-type {\n",
       "        vertical-align: middle;\n",
       "    }\n",
       "\n",
       "    .dataframe tbody tr th {\n",
       "        vertical-align: top;\n",
       "    }\n",
       "\n",
       "    .dataframe thead th {\n",
       "        text-align: right;\n",
       "    }\n",
       "</style>\n",
       "<table border=\"1\" class=\"dataframe\">\n",
       "  <thead>\n",
       "    <tr style=\"text-align: right;\">\n",
       "      <th></th>\n",
       "      <th>accessionNumber</th>\n",
       "      <th>filingDate</th>\n",
       "      <th>reportDate</th>\n",
       "      <th>acceptanceDateTime</th>\n",
       "      <th>act</th>\n",
       "      <th>form</th>\n",
       "      <th>fileNumber</th>\n",
       "      <th>filmNumber</th>\n",
       "      <th>items</th>\n",
       "      <th>size</th>\n",
       "      <th>isXBRL</th>\n",
       "      <th>isInlineXBRL</th>\n",
       "      <th>primaryDocument</th>\n",
       "      <th>primaryDocDescription</th>\n",
       "      <th>Link</th>\n",
       "    </tr>\n",
       "  </thead>\n",
       "  <tbody>\n",
       "    <tr>\n",
       "      <th>49</th>\n",
       "      <td>0000006201-21-000014</td>\n",
       "      <td>2021-02-17</td>\n",
       "      <td>2020-12-31</td>\n",
       "      <td>2021-02-17T17:17:57.000Z</td>\n",
       "      <td>34</td>\n",
       "      <td>10-K</td>\n",
       "      <td>001-08400</td>\n",
       "      <td>21646186</td>\n",
       "      <td></td>\n",
       "      <td>43925703</td>\n",
       "      <td>1</td>\n",
       "      <td>1</td>\n",
       "      <td>aal-20201231.htm</td>\n",
       "      <td>10-K 2020 02.17.21</td>\n",
       "      <td>https://www.sec.gov/Archives/edgar/data/6201/0...</td>\n",
       "    </tr>\n",
       "    <tr>\n",
       "      <th>150</th>\n",
       "      <td>0000006201-20-000023</td>\n",
       "      <td>2020-02-19</td>\n",
       "      <td>2019-12-31</td>\n",
       "      <td>2020-02-19T07:31:30.000Z</td>\n",
       "      <td>34</td>\n",
       "      <td>10-K</td>\n",
       "      <td>001-08400</td>\n",
       "      <td>20627428</td>\n",
       "      <td></td>\n",
       "      <td>30851334</td>\n",
       "      <td>1</td>\n",
       "      <td>1</td>\n",
       "      <td>a10k123119.htm</td>\n",
       "      <td>10-K 2019 02.19.20</td>\n",
       "      <td>https://www.sec.gov/Archives/edgar/data/6201/0...</td>\n",
       "    </tr>\n",
       "    <tr>\n",
       "      <th>225</th>\n",
       "      <td>0000006201-19-000009</td>\n",
       "      <td>2019-02-25</td>\n",
       "      <td>2018-12-31</td>\n",
       "      <td>2019-02-25T07:31:34.000Z</td>\n",
       "      <td>34</td>\n",
       "      <td>10-K</td>\n",
       "      <td>001-08400</td>\n",
       "      <td>19628071</td>\n",
       "      <td></td>\n",
       "      <td>30572408</td>\n",
       "      <td>1</td>\n",
       "      <td>0</td>\n",
       "      <td>a10k123118.htm</td>\n",
       "      <td>10-K 2018 02.25.19</td>\n",
       "      <td>https://www.sec.gov/Archives/edgar/data/6201/0...</td>\n",
       "    </tr>\n",
       "    <tr>\n",
       "      <th>315</th>\n",
       "      <td>0000006201-18-000009</td>\n",
       "      <td>2018-02-21</td>\n",
       "      <td>2017-12-31</td>\n",
       "      <td>2018-02-21T08:02:40.000Z</td>\n",
       "      <td>34</td>\n",
       "      <td>10-K</td>\n",
       "      <td>001-08400</td>\n",
       "      <td>18627088</td>\n",
       "      <td></td>\n",
       "      <td>27914491</td>\n",
       "      <td>1</td>\n",
       "      <td>0</td>\n",
       "      <td>a10k123117.htm</td>\n",
       "      <td>10-K</td>\n",
       "      <td>https://www.sec.gov/Archives/edgar/data/6201/0...</td>\n",
       "    </tr>\n",
       "    <tr>\n",
       "      <th>412</th>\n",
       "      <td>0001193125-17-051216</td>\n",
       "      <td>2017-02-22</td>\n",
       "      <td>2016-12-31</td>\n",
       "      <td>2017-02-22T08:01:43.000Z</td>\n",
       "      <td>34</td>\n",
       "      <td>10-K</td>\n",
       "      <td>001-08400</td>\n",
       "      <td>17627073</td>\n",
       "      <td></td>\n",
       "      <td>24888480</td>\n",
       "      <td>1</td>\n",
       "      <td>0</td>\n",
       "      <td>d286458d10k.htm</td>\n",
       "      <td>FORM 10-K</td>\n",
       "      <td>https://www.sec.gov/Archives/edgar/data/6201/0...</td>\n",
       "    </tr>\n",
       "    <tr>\n",
       "      <th>538</th>\n",
       "      <td>0001193125-16-474605</td>\n",
       "      <td>2016-02-24</td>\n",
       "      <td>2015-12-31</td>\n",
       "      <td>2016-02-24T08:04:10.000Z</td>\n",
       "      <td>34</td>\n",
       "      <td>10-K</td>\n",
       "      <td>001-08400</td>\n",
       "      <td>161450518</td>\n",
       "      <td></td>\n",
       "      <td>26170400</td>\n",
       "      <td>1</td>\n",
       "      <td>0</td>\n",
       "      <td>d78287d10k.htm</td>\n",
       "      <td>FORM 10-K</td>\n",
       "      <td>https://www.sec.gov/Archives/edgar/data/6201/0...</td>\n",
       "    </tr>\n",
       "    <tr>\n",
       "      <th>651</th>\n",
       "      <td>0001193125-15-061145</td>\n",
       "      <td>2015-02-25</td>\n",
       "      <td>2014-12-31</td>\n",
       "      <td>2015-02-25T08:02:34.000Z</td>\n",
       "      <td>34</td>\n",
       "      <td>10-K</td>\n",
       "      <td>001-08400</td>\n",
       "      <td>15645918</td>\n",
       "      <td></td>\n",
       "      <td>39524925</td>\n",
       "      <td>1</td>\n",
       "      <td>0</td>\n",
       "      <td>d829913d10k.htm</td>\n",
       "      <td>FORM 10-K</td>\n",
       "      <td>https://www.sec.gov/Archives/edgar/data/6201/0...</td>\n",
       "    </tr>\n",
       "    <tr>\n",
       "      <th>750</th>\n",
       "      <td>0000006201-14-000004</td>\n",
       "      <td>2014-02-28</td>\n",
       "      <td>2013-12-31</td>\n",
       "      <td>2014-02-28T07:52:16.000Z</td>\n",
       "      <td>34</td>\n",
       "      <td>10-K</td>\n",
       "      <td>001-08400</td>\n",
       "      <td>14651496</td>\n",
       "      <td></td>\n",
       "      <td>47888955</td>\n",
       "      <td>1</td>\n",
       "      <td>0</td>\n",
       "      <td>aagaa10k-20131231.htm</td>\n",
       "      <td>10-K</td>\n",
       "      <td>https://www.sec.gov/Archives/edgar/data/6201/0...</td>\n",
       "    </tr>\n",
       "  </tbody>\n",
       "</table>\n",
       "</div>"
      ],
      "text/plain": [
       "          accessionNumber  filingDate  reportDate        acceptanceDateTime  \\\n",
       "49   0000006201-21-000014  2021-02-17  2020-12-31  2021-02-17T17:17:57.000Z   \n",
       "150  0000006201-20-000023  2020-02-19  2019-12-31  2020-02-19T07:31:30.000Z   \n",
       "225  0000006201-19-000009  2019-02-25  2018-12-31  2019-02-25T07:31:34.000Z   \n",
       "315  0000006201-18-000009  2018-02-21  2017-12-31  2018-02-21T08:02:40.000Z   \n",
       "412  0001193125-17-051216  2017-02-22  2016-12-31  2017-02-22T08:01:43.000Z   \n",
       "538  0001193125-16-474605  2016-02-24  2015-12-31  2016-02-24T08:04:10.000Z   \n",
       "651  0001193125-15-061145  2015-02-25  2014-12-31  2015-02-25T08:02:34.000Z   \n",
       "750  0000006201-14-000004  2014-02-28  2013-12-31  2014-02-28T07:52:16.000Z   \n",
       "\n",
       "    act  form fileNumber filmNumber items      size  isXBRL  isInlineXBRL  \\\n",
       "49   34  10-K  001-08400   21646186        43925703       1             1   \n",
       "150  34  10-K  001-08400   20627428        30851334       1             1   \n",
       "225  34  10-K  001-08400   19628071        30572408       1             0   \n",
       "315  34  10-K  001-08400   18627088        27914491       1             0   \n",
       "412  34  10-K  001-08400   17627073        24888480       1             0   \n",
       "538  34  10-K  001-08400  161450518        26170400       1             0   \n",
       "651  34  10-K  001-08400   15645918        39524925       1             0   \n",
       "750  34  10-K  001-08400   14651496        47888955       1             0   \n",
       "\n",
       "           primaryDocument primaryDocDescription  \\\n",
       "49        aal-20201231.htm    10-K 2020 02.17.21   \n",
       "150         a10k123119.htm    10-K 2019 02.19.20   \n",
       "225         a10k123118.htm    10-K 2018 02.25.19   \n",
       "315         a10k123117.htm                  10-K   \n",
       "412        d286458d10k.htm             FORM 10-K   \n",
       "538         d78287d10k.htm             FORM 10-K   \n",
       "651        d829913d10k.htm             FORM 10-K   \n",
       "750  aagaa10k-20131231.htm                  10-K   \n",
       "\n",
       "                                                  Link  \n",
       "49   https://www.sec.gov/Archives/edgar/data/6201/0...  \n",
       "150  https://www.sec.gov/Archives/edgar/data/6201/0...  \n",
       "225  https://www.sec.gov/Archives/edgar/data/6201/0...  \n",
       "315  https://www.sec.gov/Archives/edgar/data/6201/0...  \n",
       "412  https://www.sec.gov/Archives/edgar/data/6201/0...  \n",
       "538  https://www.sec.gov/Archives/edgar/data/6201/0...  \n",
       "651  https://www.sec.gov/Archives/edgar/data/6201/0...  \n",
       "750  https://www.sec.gov/Archives/edgar/data/6201/0...  "
      ]
     },
     "execution_count": 135,
     "metadata": {},
     "output_type": "execute_result"
    }
   ],
   "source": [
    "tenks['Link'] = links.values\n",
    "tenks"
   ]
  },
  {
   "cell_type": "code",
   "execution_count": 141,
   "metadata": {},
   "outputs": [
    {
     "data": {
      "text/plain": [
       "['0000006201', '0001158449', '0000320193', '0001551152', '0001140859']"
      ]
     },
     "execution_count": 141,
     "metadata": {},
     "output_type": "execute_result"
    }
   ],
   "source": [
    "formatted_CIKs = [str(int(x)).zfill(10) for x in CIKs.values]\n",
    "formatted_CIKs[:5]"
   ]
  },
  {
   "cell_type": "code",
   "execution_count": 147,
   "metadata": {},
   "outputs": [
    {
     "name": "stderr",
     "output_type": "stream",
     "text": [
      "/Users/lucaskrenn/opt/anaconda3/lib/python3.7/site-packages/ipykernel_launcher.py:14: SettingWithCopyWarning: \n",
      "A value is trying to be set on a copy of a slice from a DataFrame.\n",
      "Try using .loc[row_indexer,col_indexer] = value instead\n",
      "\n",
      "See the caveats in the documentation: https://pandas.pydata.org/pandas-docs/stable/user_guide/indexing.html#returning-a-view-versus-a-copy\n",
      "  \n",
      "/Users/lucaskrenn/opt/anaconda3/lib/python3.7/site-packages/ipykernel_launcher.py:8: DeprecationWarning: The default dtype for empty Series will be 'object' instead of 'float64' in a future version. Specify a dtype explicitly to silence this warning.\n",
      "  \n"
     ]
    }
   ],
   "source": [
    "import time\n",
    "link_dict = {}\n",
    "for cik in formatted_CIKs:\n",
    "    response = json.loads(requests.get(\"https://data.sec.gov/submissions/CIK\"+cik+\".json\", headers=heads).text)\n",
    "    selection = pd.DataFrame(response['filings']['recent'])\n",
    "    tenks = selection[selection['form'] == '10-K']\n",
    "    \n",
    "    links = pd.Series([base_url]*len(tenks))\n",
    "    links += response['cik'] + \"/\"\n",
    "    links += list(map(lambda s: s.replace('-' , ''), tenks['accessionNumber']))\n",
    "    links += [\"/\"]*len(tenks)\n",
    "    links += tenks['primaryDocument'].values\n",
    "    \n",
    "    tenks['Link'] = links.values\n",
    "    \n",
    "    link_dict[cik] = tenks.copy()\n",
    "    time.sleep(0.11)"
   ]
  },
  {
   "cell_type": "code",
   "execution_count": 151,
   "metadata": {},
   "outputs": [
    {
     "data": {
      "text/plain": [
       "'https://www.sec.gov/Archives/edgar/data/1004434/000104746911001624/a2202148z10-k.htm'"
      ]
     },
     "execution_count": 151,
     "metadata": {},
     "output_type": "execute_result"
    }
   ],
   "source": [
    "link_dict['0001004434']['Link'].values[10]"
   ]
  },
  {
   "cell_type": "code",
   "execution_count": 155,
   "metadata": {},
   "outputs": [],
   "source": [
    "with open('2-link_dict.pickle', 'wb') as handle:\n",
    "    pickle.dump(link_dict, handle, protocol=pickle.HIGHEST_PROTOCOL)"
   ]
  },
  {
   "cell_type": "markdown",
   "metadata": {},
   "source": [
    "# Validation"
   ]
  },
  {
   "cell_type": "code",
   "execution_count": 159,
   "metadata": {},
   "outputs": [
    {
     "data": {
      "text/plain": [
       "['0001391461',\n",
       " '0001409741',\n",
       " '0001181249',\n",
       " '0001124074',\n",
       " '0001576340',\n",
       " '0000031225',\n",
       " '0001319183',\n",
       " '0001438893',\n",
       " '0000806085',\n",
       " '0001323206',\n",
       " '0000798738',\n",
       " '0000833203']"
      ]
     },
     "execution_count": 159,
     "metadata": {},
     "output_type": "execute_result"
    }
   ],
   "source": [
    "bads = [x for x in link_dict.keys() if link_dict[x].empty]\n",
    "bads"
   ]
  },
  {
   "cell_type": "code",
   "execution_count": 160,
   "metadata": {},
   "outputs": [],
   "source": [
    "response = json.loads(requests.get(\"https://data.sec.gov/submissions/CIK\"+bads[0]+\".json\", headers=heads).text)"
   ]
  },
  {
   "cell_type": "code",
   "execution_count": 161,
   "metadata": {},
   "outputs": [],
   "source": [
    "selection = pd.DataFrame(response['filings']['recent'])"
   ]
  },
  {
   "cell_type": "code",
   "execution_count": 162,
   "metadata": {},
   "outputs": [
    {
     "data": {
      "text/html": [
       "<div>\n",
       "<style scoped>\n",
       "    .dataframe tbody tr th:only-of-type {\n",
       "        vertical-align: middle;\n",
       "    }\n",
       "\n",
       "    .dataframe tbody tr th {\n",
       "        vertical-align: top;\n",
       "    }\n",
       "\n",
       "    .dataframe thead th {\n",
       "        text-align: right;\n",
       "    }\n",
       "</style>\n",
       "<table border=\"1\" class=\"dataframe\">\n",
       "  <thead>\n",
       "    <tr style=\"text-align: right;\">\n",
       "      <th></th>\n",
       "      <th>accessionNumber</th>\n",
       "      <th>filingDate</th>\n",
       "      <th>reportDate</th>\n",
       "      <th>acceptanceDateTime</th>\n",
       "      <th>act</th>\n",
       "      <th>form</th>\n",
       "      <th>fileNumber</th>\n",
       "      <th>filmNumber</th>\n",
       "      <th>items</th>\n",
       "      <th>size</th>\n",
       "      <th>isXBRL</th>\n",
       "      <th>isInlineXBRL</th>\n",
       "      <th>primaryDocument</th>\n",
       "      <th>primaryDocDescription</th>\n",
       "    </tr>\n",
       "  </thead>\n",
       "  <tbody>\n",
       "    <tr>\n",
       "      <th>0</th>\n",
       "      <td>0000891804-19-000279</td>\n",
       "      <td>2019-07-31</td>\n",
       "      <td>2019-06-30</td>\n",
       "      <td>2019-07-31T09:24:40.000Z</td>\n",
       "      <td>40</td>\n",
       "      <td>N-PX</td>\n",
       "      <td>811-22022</td>\n",
       "      <td>19987539</td>\n",
       "      <td></td>\n",
       "      <td>6585</td>\n",
       "      <td>0</td>\n",
       "      <td>0</td>\n",
       "      <td>gugagc-npx.txt</td>\n",
       "      <td>AGC</td>\n",
       "    </tr>\n",
       "    <tr>\n",
       "      <th>1</th>\n",
       "      <td>9999999997-18-009099</td>\n",
       "      <td>2018-11-21</td>\n",
       "      <td></td>\n",
       "      <td>2018-11-21T14:41:50.000Z</td>\n",
       "      <td>40</td>\n",
       "      <td>N-8F ORDR</td>\n",
       "      <td>811-22022</td>\n",
       "      <td>181198004</td>\n",
       "      <td></td>\n",
       "      <td>74228</td>\n",
       "      <td>0</td>\n",
       "      <td>0</td>\n",
       "      <td>filename1.pdf</td>\n",
       "      <td></td>\n",
       "    </tr>\n",
       "    <tr>\n",
       "      <th>2</th>\n",
       "      <td>9999999997-18-008807</td>\n",
       "      <td>2018-10-29</td>\n",
       "      <td></td>\n",
       "      <td>2018-10-29T08:50:24.000Z</td>\n",
       "      <td>40</td>\n",
       "      <td>N-8F NTC</td>\n",
       "      <td>811-22022</td>\n",
       "      <td>181142889</td>\n",
       "      <td></td>\n",
       "      <td>148689</td>\n",
       "      <td>0</td>\n",
       "      <td>0</td>\n",
       "      <td>filename1.pdf</td>\n",
       "      <td></td>\n",
       "    </tr>\n",
       "    <tr>\n",
       "      <th>3</th>\n",
       "      <td>0000891804-18-000451</td>\n",
       "      <td>2018-10-12</td>\n",
       "      <td></td>\n",
       "      <td>2018-10-12T16:05:19.000Z</td>\n",
       "      <td>40</td>\n",
       "      <td>N-8F/A</td>\n",
       "      <td>811-22022</td>\n",
       "      <td>181120285</td>\n",
       "      <td></td>\n",
       "      <td>62232</td>\n",
       "      <td>0</td>\n",
       "      <td>0</td>\n",
       "      <td>gug75184-n8fa.htm</td>\n",
       "      <td>AGC</td>\n",
       "    </tr>\n",
       "    <tr>\n",
       "      <th>4</th>\n",
       "      <td>0000891804-18-000442</td>\n",
       "      <td>2018-09-28</td>\n",
       "      <td>2018-07-31</td>\n",
       "      <td>2018-09-28T13:39:42.000Z</td>\n",
       "      <td>40</td>\n",
       "      <td>N-Q</td>\n",
       "      <td>811-22022</td>\n",
       "      <td>181093434</td>\n",
       "      <td></td>\n",
       "      <td>691307</td>\n",
       "      <td>0</td>\n",
       "      <td>0</td>\n",
       "      <td>gug74683-nq.htm</td>\n",
       "      <td>AGC</td>\n",
       "    </tr>\n",
       "    <tr>\n",
       "      <th>...</th>\n",
       "      <td>...</td>\n",
       "      <td>...</td>\n",
       "      <td>...</td>\n",
       "      <td>...</td>\n",
       "      <td>...</td>\n",
       "      <td>...</td>\n",
       "      <td>...</td>\n",
       "      <td>...</td>\n",
       "      <td>...</td>\n",
       "      <td>...</td>\n",
       "      <td>...</td>\n",
       "      <td>...</td>\n",
       "      <td>...</td>\n",
       "      <td>...</td>\n",
       "    </tr>\n",
       "    <tr>\n",
       "      <th>381</th>\n",
       "      <td>0001341004-07-001216</td>\n",
       "      <td>2007-04-13</td>\n",
       "      <td></td>\n",
       "      <td>2007-04-13T07:32:29.000Z</td>\n",
       "      <td>40,33</td>\n",
       "      <td>N-2/A</td>\n",
       "      <td>811-22022,333-140951</td>\n",
       "      <td>07764721,07764720</td>\n",
       "      <td></td>\n",
       "      <td>561307</td>\n",
       "      <td>0</td>\n",
       "      <td>0</td>\n",
       "      <td>adventn2a.txt</td>\n",
       "      <td>AMENDMENT NO. 1</td>\n",
       "    </tr>\n",
       "    <tr>\n",
       "      <th>382</th>\n",
       "      <td>0001341004-07-001210</td>\n",
       "      <td>2007-04-12</td>\n",
       "      <td></td>\n",
       "      <td>2007-04-12T19:10:36.000Z</td>\n",
       "      <td></td>\n",
       "      <td>CORRESP</td>\n",
       "      <td></td>\n",
       "      <td></td>\n",
       "      <td></td>\n",
       "      <td>39470</td>\n",
       "      <td>0</td>\n",
       "      <td>0</td>\n",
       "      <td>filename1.txt</td>\n",
       "      <td></td>\n",
       "    </tr>\n",
       "    <tr>\n",
       "      <th>383</th>\n",
       "      <td>0001341004-07-000847</td>\n",
       "      <td>2007-03-07</td>\n",
       "      <td></td>\n",
       "      <td>2007-03-07T17:14:29.000Z</td>\n",
       "      <td>40</td>\n",
       "      <td>N-8A/A</td>\n",
       "      <td>811-22022</td>\n",
       "      <td>07678575</td>\n",
       "      <td></td>\n",
       "      <td>17282</td>\n",
       "      <td>0</td>\n",
       "      <td>0</td>\n",
       "      <td>chi535797.htm</td>\n",
       "      <td></td>\n",
       "    </tr>\n",
       "    <tr>\n",
       "      <th>384</th>\n",
       "      <td>0001341004-07-000769</td>\n",
       "      <td>2007-02-28</td>\n",
       "      <td></td>\n",
       "      <td>2007-02-28T15:53:22.000Z</td>\n",
       "      <td>40,33</td>\n",
       "      <td>N-2</td>\n",
       "      <td>811-22022,333-140951</td>\n",
       "      <td>07657673,07657674</td>\n",
       "      <td></td>\n",
       "      <td>503474</td>\n",
       "      <td>0</td>\n",
       "      <td>0</td>\n",
       "      <td>n2.txt</td>\n",
       "      <td>FORM N-2</td>\n",
       "    </tr>\n",
       "    <tr>\n",
       "      <th>385</th>\n",
       "      <td>0001341004-07-000768</td>\n",
       "      <td>2007-02-28</td>\n",
       "      <td></td>\n",
       "      <td>2007-02-28T15:50:32.000Z</td>\n",
       "      <td>40</td>\n",
       "      <td>N-8A</td>\n",
       "      <td>811-22022</td>\n",
       "      <td>07657643</td>\n",
       "      <td></td>\n",
       "      <td>3973</td>\n",
       "      <td>0</td>\n",
       "      <td>0</td>\n",
       "      <td>n8a.txt</td>\n",
       "      <td>FORM N-8A</td>\n",
       "    </tr>\n",
       "  </tbody>\n",
       "</table>\n",
       "<p>386 rows × 14 columns</p>\n",
       "</div>"
      ],
      "text/plain": [
       "          accessionNumber  filingDate  reportDate        acceptanceDateTime  \\\n",
       "0    0000891804-19-000279  2019-07-31  2019-06-30  2019-07-31T09:24:40.000Z   \n",
       "1    9999999997-18-009099  2018-11-21              2018-11-21T14:41:50.000Z   \n",
       "2    9999999997-18-008807  2018-10-29              2018-10-29T08:50:24.000Z   \n",
       "3    0000891804-18-000451  2018-10-12              2018-10-12T16:05:19.000Z   \n",
       "4    0000891804-18-000442  2018-09-28  2018-07-31  2018-09-28T13:39:42.000Z   \n",
       "..                    ...         ...         ...                       ...   \n",
       "381  0001341004-07-001216  2007-04-13              2007-04-13T07:32:29.000Z   \n",
       "382  0001341004-07-001210  2007-04-12              2007-04-12T19:10:36.000Z   \n",
       "383  0001341004-07-000847  2007-03-07              2007-03-07T17:14:29.000Z   \n",
       "384  0001341004-07-000769  2007-02-28              2007-02-28T15:53:22.000Z   \n",
       "385  0001341004-07-000768  2007-02-28              2007-02-28T15:50:32.000Z   \n",
       "\n",
       "       act       form            fileNumber         filmNumber items    size  \\\n",
       "0       40       N-PX             811-22022           19987539          6585   \n",
       "1       40  N-8F ORDR             811-22022          181198004         74228   \n",
       "2       40   N-8F NTC             811-22022          181142889        148689   \n",
       "3       40     N-8F/A             811-22022          181120285         62232   \n",
       "4       40        N-Q             811-22022          181093434        691307   \n",
       "..     ...        ...                   ...                ...   ...     ...   \n",
       "381  40,33      N-2/A  811-22022,333-140951  07764721,07764720        561307   \n",
       "382           CORRESP                                                  39470   \n",
       "383     40     N-8A/A             811-22022           07678575         17282   \n",
       "384  40,33        N-2  811-22022,333-140951  07657673,07657674        503474   \n",
       "385     40       N-8A             811-22022           07657643          3973   \n",
       "\n",
       "     isXBRL  isInlineXBRL    primaryDocument primaryDocDescription  \n",
       "0         0             0     gugagc-npx.txt                   AGC  \n",
       "1         0             0      filename1.pdf                        \n",
       "2         0             0      filename1.pdf                        \n",
       "3         0             0  gug75184-n8fa.htm                   AGC  \n",
       "4         0             0    gug74683-nq.htm                   AGC  \n",
       "..      ...           ...                ...                   ...  \n",
       "381       0             0      adventn2a.txt       AMENDMENT NO. 1  \n",
       "382       0             0      filename1.txt                        \n",
       "383       0             0      chi535797.htm                        \n",
       "384       0             0             n2.txt              FORM N-2  \n",
       "385       0             0            n8a.txt             FORM N-8A  \n",
       "\n",
       "[386 rows x 14 columns]"
      ]
     },
     "execution_count": 162,
     "metadata": {},
     "output_type": "execute_result"
    }
   ],
   "source": [
    "selection"
   ]
  },
  {
   "cell_type": "markdown",
   "metadata": {},
   "source": [
    "There may not be any 10-K forms in these documents...."
   ]
  },
  {
   "cell_type": "code",
   "execution_count": 166,
   "metadata": {},
   "outputs": [
    {
     "data": {
      "text/plain": [
       "0"
      ]
     },
     "execution_count": 166,
     "metadata": {},
     "output_type": "execute_result"
    }
   ],
   "source": [
    "sum(selection[\"form\"] == '10-K')"
   ]
  }
 ],
 "metadata": {
  "kernelspec": {
   "display_name": "Python 3",
   "language": "python",
   "name": "python3"
  },
  "language_info": {
   "codemirror_mode": {
    "name": "ipython",
    "version": 3
   },
   "file_extension": ".py",
   "mimetype": "text/x-python",
   "name": "python",
   "nbconvert_exporter": "python",
   "pygments_lexer": "ipython3",
   "version": "3.7.4"
  }
 },
 "nbformat": 4,
 "nbformat_minor": 2
}
