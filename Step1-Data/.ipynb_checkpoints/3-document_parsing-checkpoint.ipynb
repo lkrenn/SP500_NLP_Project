{
 "cells": [
  {
   "cell_type": "markdown",
   "metadata": {},
   "source": [
    "# Document Parsing\n",
    "\n",
    "In this notebook, we will be iterating through all the links created in file 2.2. (i.e. link_dict.pickle), extracting the necessary information, and then saving an updated dictionary, which will be analyzed in section 3. "
   ]
  },
  {
   "cell_type": "code",
   "execution_count": 64,
   "metadata": {},
   "outputs": [],
   "source": [
    "import numpy as np\n",
    "import pandas as pd\n",
    "import os\n",
    "import pickle\n",
    "import time\n",
    "import json\n",
    "import requests\n",
    "import re\n",
    "\n",
    "from bs4 import BeautifulSoup"
   ]
  },
  {
   "cell_type": "code",
   "execution_count": 4,
   "metadata": {},
   "outputs": [],
   "source": [
    "with open('../Step1-Data/2-link_dict.pickle', 'rb') as f:\n",
    "    link_dict = pickle.load(f)"
   ]
  },
  {
   "cell_type": "code",
   "execution_count": 11,
   "metadata": {},
   "outputs": [
    {
     "data": {
      "text/plain": [
       "['0000006201', '0001158449', '0000320193', '0001551152', '0001140859']"
      ]
     },
     "execution_count": 11,
     "metadata": {},
     "output_type": "execute_result"
    }
   ],
   "source": [
    "# Sanity check\n",
    "list(link_dict.keys())[:5]"
   ]
  },
  {
   "cell_type": "markdown",
   "metadata": {},
   "source": [
    "# Single Name Sample\n",
    "\n",
    "First, we will start by using a single name to parse its documents, then extrapolate to all."
   ]
  },
  {
   "cell_type": "code",
   "execution_count": 12,
   "metadata": {},
   "outputs": [
    {
     "data": {
      "text/html": [
       "<div>\n",
       "<style scoped>\n",
       "    .dataframe tbody tr th:only-of-type {\n",
       "        vertical-align: middle;\n",
       "    }\n",
       "\n",
       "    .dataframe tbody tr th {\n",
       "        vertical-align: top;\n",
       "    }\n",
       "\n",
       "    .dataframe thead th {\n",
       "        text-align: right;\n",
       "    }\n",
       "</style>\n",
       "<table border=\"1\" class=\"dataframe\">\n",
       "  <thead>\n",
       "    <tr style=\"text-align: right;\">\n",
       "      <th></th>\n",
       "      <th>accessionNumber</th>\n",
       "      <th>filingDate</th>\n",
       "      <th>reportDate</th>\n",
       "      <th>acceptanceDateTime</th>\n",
       "      <th>act</th>\n",
       "      <th>form</th>\n",
       "      <th>fileNumber</th>\n",
       "      <th>filmNumber</th>\n",
       "      <th>items</th>\n",
       "      <th>size</th>\n",
       "      <th>isXBRL</th>\n",
       "      <th>isInlineXBRL</th>\n",
       "      <th>primaryDocument</th>\n",
       "      <th>primaryDocDescription</th>\n",
       "      <th>Link</th>\n",
       "    </tr>\n",
       "  </thead>\n",
       "  <tbody>\n",
       "    <tr>\n",
       "      <th>49</th>\n",
       "      <td>0000006201-21-000014</td>\n",
       "      <td>2021-02-17</td>\n",
       "      <td>2020-12-31</td>\n",
       "      <td>2021-02-17T17:17:57.000Z</td>\n",
       "      <td>34</td>\n",
       "      <td>10-K</td>\n",
       "      <td>001-08400</td>\n",
       "      <td>21646186</td>\n",
       "      <td></td>\n",
       "      <td>43925703</td>\n",
       "      <td>1</td>\n",
       "      <td>1</td>\n",
       "      <td>aal-20201231.htm</td>\n",
       "      <td>10-K 2020 02.17.21</td>\n",
       "      <td>https://www.sec.gov/Archives/edgar/data/6201/0...</td>\n",
       "    </tr>\n",
       "    <tr>\n",
       "      <th>150</th>\n",
       "      <td>0000006201-20-000023</td>\n",
       "      <td>2020-02-19</td>\n",
       "      <td>2019-12-31</td>\n",
       "      <td>2020-02-19T07:31:30.000Z</td>\n",
       "      <td>34</td>\n",
       "      <td>10-K</td>\n",
       "      <td>001-08400</td>\n",
       "      <td>20627428</td>\n",
       "      <td></td>\n",
       "      <td>30851334</td>\n",
       "      <td>1</td>\n",
       "      <td>1</td>\n",
       "      <td>a10k123119.htm</td>\n",
       "      <td>10-K 2019 02.19.20</td>\n",
       "      <td>https://www.sec.gov/Archives/edgar/data/6201/0...</td>\n",
       "    </tr>\n",
       "    <tr>\n",
       "      <th>225</th>\n",
       "      <td>0000006201-19-000009</td>\n",
       "      <td>2019-02-25</td>\n",
       "      <td>2018-12-31</td>\n",
       "      <td>2019-02-25T07:31:34.000Z</td>\n",
       "      <td>34</td>\n",
       "      <td>10-K</td>\n",
       "      <td>001-08400</td>\n",
       "      <td>19628071</td>\n",
       "      <td></td>\n",
       "      <td>30572408</td>\n",
       "      <td>1</td>\n",
       "      <td>0</td>\n",
       "      <td>a10k123118.htm</td>\n",
       "      <td>10-K 2018 02.25.19</td>\n",
       "      <td>https://www.sec.gov/Archives/edgar/data/6201/0...</td>\n",
       "    </tr>\n",
       "    <tr>\n",
       "      <th>315</th>\n",
       "      <td>0000006201-18-000009</td>\n",
       "      <td>2018-02-21</td>\n",
       "      <td>2017-12-31</td>\n",
       "      <td>2018-02-21T08:02:40.000Z</td>\n",
       "      <td>34</td>\n",
       "      <td>10-K</td>\n",
       "      <td>001-08400</td>\n",
       "      <td>18627088</td>\n",
       "      <td></td>\n",
       "      <td>27914491</td>\n",
       "      <td>1</td>\n",
       "      <td>0</td>\n",
       "      <td>a10k123117.htm</td>\n",
       "      <td>10-K</td>\n",
       "      <td>https://www.sec.gov/Archives/edgar/data/6201/0...</td>\n",
       "    </tr>\n",
       "    <tr>\n",
       "      <th>412</th>\n",
       "      <td>0001193125-17-051216</td>\n",
       "      <td>2017-02-22</td>\n",
       "      <td>2016-12-31</td>\n",
       "      <td>2017-02-22T08:01:43.000Z</td>\n",
       "      <td>34</td>\n",
       "      <td>10-K</td>\n",
       "      <td>001-08400</td>\n",
       "      <td>17627073</td>\n",
       "      <td></td>\n",
       "      <td>24888480</td>\n",
       "      <td>1</td>\n",
       "      <td>0</td>\n",
       "      <td>d286458d10k.htm</td>\n",
       "      <td>FORM 10-K</td>\n",
       "      <td>https://www.sec.gov/Archives/edgar/data/6201/0...</td>\n",
       "    </tr>\n",
       "    <tr>\n",
       "      <th>538</th>\n",
       "      <td>0001193125-16-474605</td>\n",
       "      <td>2016-02-24</td>\n",
       "      <td>2015-12-31</td>\n",
       "      <td>2016-02-24T08:04:10.000Z</td>\n",
       "      <td>34</td>\n",
       "      <td>10-K</td>\n",
       "      <td>001-08400</td>\n",
       "      <td>161450518</td>\n",
       "      <td></td>\n",
       "      <td>26170400</td>\n",
       "      <td>1</td>\n",
       "      <td>0</td>\n",
       "      <td>d78287d10k.htm</td>\n",
       "      <td>FORM 10-K</td>\n",
       "      <td>https://www.sec.gov/Archives/edgar/data/6201/0...</td>\n",
       "    </tr>\n",
       "    <tr>\n",
       "      <th>651</th>\n",
       "      <td>0001193125-15-061145</td>\n",
       "      <td>2015-02-25</td>\n",
       "      <td>2014-12-31</td>\n",
       "      <td>2015-02-25T08:02:34.000Z</td>\n",
       "      <td>34</td>\n",
       "      <td>10-K</td>\n",
       "      <td>001-08400</td>\n",
       "      <td>15645918</td>\n",
       "      <td></td>\n",
       "      <td>39524925</td>\n",
       "      <td>1</td>\n",
       "      <td>0</td>\n",
       "      <td>d829913d10k.htm</td>\n",
       "      <td>FORM 10-K</td>\n",
       "      <td>https://www.sec.gov/Archives/edgar/data/6201/0...</td>\n",
       "    </tr>\n",
       "    <tr>\n",
       "      <th>750</th>\n",
       "      <td>0000006201-14-000004</td>\n",
       "      <td>2014-02-28</td>\n",
       "      <td>2013-12-31</td>\n",
       "      <td>2014-02-28T07:52:16.000Z</td>\n",
       "      <td>34</td>\n",
       "      <td>10-K</td>\n",
       "      <td>001-08400</td>\n",
       "      <td>14651496</td>\n",
       "      <td></td>\n",
       "      <td>47888955</td>\n",
       "      <td>1</td>\n",
       "      <td>0</td>\n",
       "      <td>aagaa10k-20131231.htm</td>\n",
       "      <td>10-K</td>\n",
       "      <td>https://www.sec.gov/Archives/edgar/data/6201/0...</td>\n",
       "    </tr>\n",
       "  </tbody>\n",
       "</table>\n",
       "</div>"
      ],
      "text/plain": [
       "          accessionNumber  filingDate  reportDate        acceptanceDateTime  \\\n",
       "49   0000006201-21-000014  2021-02-17  2020-12-31  2021-02-17T17:17:57.000Z   \n",
       "150  0000006201-20-000023  2020-02-19  2019-12-31  2020-02-19T07:31:30.000Z   \n",
       "225  0000006201-19-000009  2019-02-25  2018-12-31  2019-02-25T07:31:34.000Z   \n",
       "315  0000006201-18-000009  2018-02-21  2017-12-31  2018-02-21T08:02:40.000Z   \n",
       "412  0001193125-17-051216  2017-02-22  2016-12-31  2017-02-22T08:01:43.000Z   \n",
       "538  0001193125-16-474605  2016-02-24  2015-12-31  2016-02-24T08:04:10.000Z   \n",
       "651  0001193125-15-061145  2015-02-25  2014-12-31  2015-02-25T08:02:34.000Z   \n",
       "750  0000006201-14-000004  2014-02-28  2013-12-31  2014-02-28T07:52:16.000Z   \n",
       "\n",
       "    act  form fileNumber filmNumber items      size  isXBRL  isInlineXBRL  \\\n",
       "49   34  10-K  001-08400   21646186        43925703       1             1   \n",
       "150  34  10-K  001-08400   20627428        30851334       1             1   \n",
       "225  34  10-K  001-08400   19628071        30572408       1             0   \n",
       "315  34  10-K  001-08400   18627088        27914491       1             0   \n",
       "412  34  10-K  001-08400   17627073        24888480       1             0   \n",
       "538  34  10-K  001-08400  161450518        26170400       1             0   \n",
       "651  34  10-K  001-08400   15645918        39524925       1             0   \n",
       "750  34  10-K  001-08400   14651496        47888955       1             0   \n",
       "\n",
       "           primaryDocument primaryDocDescription  \\\n",
       "49        aal-20201231.htm    10-K 2020 02.17.21   \n",
       "150         a10k123119.htm    10-K 2019 02.19.20   \n",
       "225         a10k123118.htm    10-K 2018 02.25.19   \n",
       "315         a10k123117.htm                  10-K   \n",
       "412        d286458d10k.htm             FORM 10-K   \n",
       "538         d78287d10k.htm             FORM 10-K   \n",
       "651        d829913d10k.htm             FORM 10-K   \n",
       "750  aagaa10k-20131231.htm                  10-K   \n",
       "\n",
       "                                                  Link  \n",
       "49   https://www.sec.gov/Archives/edgar/data/6201/0...  \n",
       "150  https://www.sec.gov/Archives/edgar/data/6201/0...  \n",
       "225  https://www.sec.gov/Archives/edgar/data/6201/0...  \n",
       "315  https://www.sec.gov/Archives/edgar/data/6201/0...  \n",
       "412  https://www.sec.gov/Archives/edgar/data/6201/0...  \n",
       "538  https://www.sec.gov/Archives/edgar/data/6201/0...  \n",
       "651  https://www.sec.gov/Archives/edgar/data/6201/0...  \n",
       "750  https://www.sec.gov/Archives/edgar/data/6201/0...  "
      ]
     },
     "execution_count": 12,
     "metadata": {},
     "output_type": "execute_result"
    }
   ],
   "source": [
    "sample = link_dict['0000006201']\n",
    "sample"
   ]
  },
  {
   "cell_type": "code",
   "execution_count": 271,
   "metadata": {},
   "outputs": [
    {
     "data": {
      "text/plain": [
       "'https://www.sec.gov/Archives/edgar/data/1555280/000155528021000098/zts-20201231.htm'"
      ]
     },
     "execution_count": 271,
     "metadata": {},
     "output_type": "execute_result"
    }
   ],
   "source": [
    "sample_link = sample['Link'].values[0]\n",
    "sample_link"
   ]
  },
  {
   "cell_type": "code",
   "execution_count": 279,
   "metadata": {},
   "outputs": [
    {
     "data": {
      "text/html": [
       "<div>\n",
       "<style scoped>\n",
       "    .dataframe tbody tr th:only-of-type {\n",
       "        vertical-align: middle;\n",
       "    }\n",
       "\n",
       "    .dataframe tbody tr th {\n",
       "        vertical-align: top;\n",
       "    }\n",
       "\n",
       "    .dataframe thead th {\n",
       "        text-align: right;\n",
       "    }\n",
       "</style>\n",
       "<table border=\"1\" class=\"dataframe\">\n",
       "  <thead>\n",
       "    <tr style=\"text-align: right;\">\n",
       "      <th></th>\n",
       "      <th>accessionNumber</th>\n",
       "      <th>filingDate</th>\n",
       "      <th>reportDate</th>\n",
       "      <th>acceptanceDateTime</th>\n",
       "      <th>act</th>\n",
       "      <th>form</th>\n",
       "      <th>fileNumber</th>\n",
       "      <th>filmNumber</th>\n",
       "      <th>items</th>\n",
       "      <th>size</th>\n",
       "      <th>isXBRL</th>\n",
       "      <th>isInlineXBRL</th>\n",
       "      <th>primaryDocument</th>\n",
       "      <th>primaryDocDescription</th>\n",
       "      <th>Link</th>\n",
       "      <th>Loc7</th>\n",
       "      <th>Loc8</th>\n",
       "    </tr>\n",
       "  </thead>\n",
       "  <tbody>\n",
       "    <tr>\n",
       "      <th>90</th>\n",
       "      <td>0001555280-21-000098</td>\n",
       "      <td>2021-02-16</td>\n",
       "      <td>2020-12-31</td>\n",
       "      <td>2021-02-16T14:24:47.000Z</td>\n",
       "      <td>34</td>\n",
       "      <td>10-K</td>\n",
       "      <td>001-35797</td>\n",
       "      <td>21636290</td>\n",
       "      <td></td>\n",
       "      <td>18961290</td>\n",
       "      <td>1</td>\n",
       "      <td>1</td>\n",
       "      <td>zts-20201231.htm</td>\n",
       "      <td>10-K</td>\n",
       "      <td>https://www.sec.gov/Archives/edgar/data/155528...</td>\n",
       "      <td>&lt;callable_iterator object at 0x7fc269c1bcd0&gt;</td>\n",
       "      <td>&lt;callable_iterator object at 0x7fc27d64d350&gt;</td>\n",
       "    </tr>\n",
       "    <tr>\n",
       "      <th>277</th>\n",
       "      <td>0001555280-20-000054</td>\n",
       "      <td>2020-02-13</td>\n",
       "      <td>2019-12-31</td>\n",
       "      <td>2020-02-13T15:13:44.000Z</td>\n",
       "      <td>34</td>\n",
       "      <td>10-K</td>\n",
       "      <td>001-35797</td>\n",
       "      <td>20609808</td>\n",
       "      <td></td>\n",
       "      <td>21406402</td>\n",
       "      <td>1</td>\n",
       "      <td>1</td>\n",
       "      <td>zoetis-20191231x10kye.htm</td>\n",
       "      <td>10-K</td>\n",
       "      <td>https://www.sec.gov/Archives/edgar/data/155528...</td>\n",
       "      <td>&lt;callable_iterator object at 0x7fc34926f410&gt;</td>\n",
       "      <td>&lt;callable_iterator object at 0x7fc269c25590&gt;</td>\n",
       "    </tr>\n",
       "    <tr>\n",
       "      <th>428</th>\n",
       "      <td>0001555280-19-000041</td>\n",
       "      <td>2019-02-14</td>\n",
       "      <td>2018-12-31</td>\n",
       "      <td>2019-02-14T17:08:33.000Z</td>\n",
       "      <td>34</td>\n",
       "      <td>10-K</td>\n",
       "      <td>001-35797</td>\n",
       "      <td>19608112</td>\n",
       "      <td></td>\n",
       "      <td>19494677</td>\n",
       "      <td>1</td>\n",
       "      <td>0</td>\n",
       "      <td>zoetis-20181231x10kye.htm</td>\n",
       "      <td>10-K</td>\n",
       "      <td>https://www.sec.gov/Archives/edgar/data/155528...</td>\n",
       "      <td>&lt;callable_iterator object at 0x7fc346aaa450&gt;</td>\n",
       "      <td>&lt;callable_iterator object at 0x7fc34926fdd0&gt;</td>\n",
       "    </tr>\n",
       "    <tr>\n",
       "      <th>572</th>\n",
       "      <td>0001555280-18-000053</td>\n",
       "      <td>2018-02-15</td>\n",
       "      <td>2017-12-31</td>\n",
       "      <td>2018-02-15T12:31:15.000Z</td>\n",
       "      <td>34</td>\n",
       "      <td>10-K</td>\n",
       "      <td>001-35797</td>\n",
       "      <td>18616883</td>\n",
       "      <td></td>\n",
       "      <td>18267949</td>\n",
       "      <td>1</td>\n",
       "      <td>0</td>\n",
       "      <td>zoetis-20171231x10kye.htm</td>\n",
       "      <td>10-K</td>\n",
       "      <td>https://www.sec.gov/Archives/edgar/data/155528...</td>\n",
       "      <td>&lt;callable_iterator object at 0x7fc2ae834410&gt;</td>\n",
       "      <td>&lt;callable_iterator object at 0x7fc346aaa850&gt;</td>\n",
       "    </tr>\n",
       "    <tr>\n",
       "      <th>683</th>\n",
       "      <td>0001555280-17-000044</td>\n",
       "      <td>2017-02-16</td>\n",
       "      <td>2016-12-31</td>\n",
       "      <td>2017-02-16T16:26:45.000Z</td>\n",
       "      <td>34</td>\n",
       "      <td>10-K</td>\n",
       "      <td>001-35797</td>\n",
       "      <td>17618235</td>\n",
       "      <td></td>\n",
       "      <td>18284297</td>\n",
       "      <td>1</td>\n",
       "      <td>0</td>\n",
       "      <td>zoetis-20161231x10kye.htm</td>\n",
       "      <td>10-K</td>\n",
       "      <td>https://www.sec.gov/Archives/edgar/data/155528...</td>\n",
       "      <td>&lt;callable_iterator object at 0x7fc2db85e3d0&gt;</td>\n",
       "      <td>&lt;callable_iterator object at 0x7fc2ae834d90&gt;</td>\n",
       "    </tr>\n",
       "    <tr>\n",
       "      <th>783</th>\n",
       "      <td>0001555280-16-000344</td>\n",
       "      <td>2016-02-24</td>\n",
       "      <td>2015-12-31</td>\n",
       "      <td>2016-02-24T11:32:51.000Z</td>\n",
       "      <td>34</td>\n",
       "      <td>10-K</td>\n",
       "      <td>001-35797</td>\n",
       "      <td>161450905</td>\n",
       "      <td></td>\n",
       "      <td>19416727</td>\n",
       "      <td>1</td>\n",
       "      <td>0</td>\n",
       "      <td>zoetis-20151231x10kye.htm</td>\n",
       "      <td>10-K</td>\n",
       "      <td>https://www.sec.gov/Archives/edgar/data/155528...</td>\n",
       "      <td>&lt;callable_iterator object at 0x7fc3601c3b10&gt;</td>\n",
       "      <td>&lt;callable_iterator object at 0x7fc2db85ee10&gt;</td>\n",
       "    </tr>\n",
       "    <tr>\n",
       "      <th>927</th>\n",
       "      <td>0001555280-15-000057</td>\n",
       "      <td>2015-02-27</td>\n",
       "      <td>2014-12-31</td>\n",
       "      <td>2015-02-27T16:52:38.000Z</td>\n",
       "      <td>34</td>\n",
       "      <td>10-K</td>\n",
       "      <td>001-35797</td>\n",
       "      <td>15660089</td>\n",
       "      <td></td>\n",
       "      <td>24724525</td>\n",
       "      <td>1</td>\n",
       "      <td>0</td>\n",
       "      <td>zoetis-20141231x10kye.htm</td>\n",
       "      <td>10-K</td>\n",
       "      <td>https://www.sec.gov/Archives/edgar/data/155528...</td>\n",
       "      <td>&lt;callable_iterator object at 0x7fc2ee317f90&gt;</td>\n",
       "      <td>&lt;callable_iterator object at 0x7fc3601c3490&gt;</td>\n",
       "    </tr>\n",
       "  </tbody>\n",
       "</table>\n",
       "</div>"
      ],
      "text/plain": [
       "          accessionNumber  filingDate  reportDate        acceptanceDateTime  \\\n",
       "90   0001555280-21-000098  2021-02-16  2020-12-31  2021-02-16T14:24:47.000Z   \n",
       "277  0001555280-20-000054  2020-02-13  2019-12-31  2020-02-13T15:13:44.000Z   \n",
       "428  0001555280-19-000041  2019-02-14  2018-12-31  2019-02-14T17:08:33.000Z   \n",
       "572  0001555280-18-000053  2018-02-15  2017-12-31  2018-02-15T12:31:15.000Z   \n",
       "683  0001555280-17-000044  2017-02-16  2016-12-31  2017-02-16T16:26:45.000Z   \n",
       "783  0001555280-16-000344  2016-02-24  2015-12-31  2016-02-24T11:32:51.000Z   \n",
       "927  0001555280-15-000057  2015-02-27  2014-12-31  2015-02-27T16:52:38.000Z   \n",
       "\n",
       "    act  form fileNumber filmNumber items      size  isXBRL  isInlineXBRL  \\\n",
       "90   34  10-K  001-35797   21636290        18961290       1             1   \n",
       "277  34  10-K  001-35797   20609808        21406402       1             1   \n",
       "428  34  10-K  001-35797   19608112        19494677       1             0   \n",
       "572  34  10-K  001-35797   18616883        18267949       1             0   \n",
       "683  34  10-K  001-35797   17618235        18284297       1             0   \n",
       "783  34  10-K  001-35797  161450905        19416727       1             0   \n",
       "927  34  10-K  001-35797   15660089        24724525       1             0   \n",
       "\n",
       "               primaryDocument primaryDocDescription  \\\n",
       "90            zts-20201231.htm                  10-K   \n",
       "277  zoetis-20191231x10kye.htm                  10-K   \n",
       "428  zoetis-20181231x10kye.htm                  10-K   \n",
       "572  zoetis-20171231x10kye.htm                  10-K   \n",
       "683  zoetis-20161231x10kye.htm                  10-K   \n",
       "783  zoetis-20151231x10kye.htm                  10-K   \n",
       "927  zoetis-20141231x10kye.htm                  10-K   \n",
       "\n",
       "                                                  Link  \\\n",
       "90   https://www.sec.gov/Archives/edgar/data/155528...   \n",
       "277  https://www.sec.gov/Archives/edgar/data/155528...   \n",
       "428  https://www.sec.gov/Archives/edgar/data/155528...   \n",
       "572  https://www.sec.gov/Archives/edgar/data/155528...   \n",
       "683  https://www.sec.gov/Archives/edgar/data/155528...   \n",
       "783  https://www.sec.gov/Archives/edgar/data/155528...   \n",
       "927  https://www.sec.gov/Archives/edgar/data/155528...   \n",
       "\n",
       "                                             Loc7  \\\n",
       "90   <callable_iterator object at 0x7fc269c1bcd0>   \n",
       "277  <callable_iterator object at 0x7fc34926f410>   \n",
       "428  <callable_iterator object at 0x7fc346aaa450>   \n",
       "572  <callable_iterator object at 0x7fc2ae834410>   \n",
       "683  <callable_iterator object at 0x7fc2db85e3d0>   \n",
       "783  <callable_iterator object at 0x7fc3601c3b10>   \n",
       "927  <callable_iterator object at 0x7fc2ee317f90>   \n",
       "\n",
       "                                             Loc8  \n",
       "90   <callable_iterator object at 0x7fc27d64d350>  \n",
       "277  <callable_iterator object at 0x7fc269c25590>  \n",
       "428  <callable_iterator object at 0x7fc34926fdd0>  \n",
       "572  <callable_iterator object at 0x7fc346aaa850>  \n",
       "683  <callable_iterator object at 0x7fc2ae834d90>  \n",
       "783  <callable_iterator object at 0x7fc2db85ee10>  \n",
       "927  <callable_iterator object at 0x7fc3601c3490>  "
      ]
     },
     "execution_count": 279,
     "metadata": {},
     "output_type": "execute_result"
    }
   ],
   "source": [
    "sample[sample['reportDate'].values > '1996-01-01']"
   ]
  },
  {
   "cell_type": "code",
   "execution_count": 26,
   "metadata": {},
   "outputs": [],
   "source": [
    "# Used for the requests\n",
    "heads = {#'Host': 'www.sec.gov', \n",
    "         #'Connection': 'close',\n",
    "         'Accept': 'application/json',#, text/javascript, */*; q=0.01', \n",
    "         'X-Requested-With': 'XMLHttpRequest',\n",
    "         'User-Agent': 'Mozilla/5.0 (Windows NT 10.0; Win64; x64) AppleWebKit/537.36 (KHTML, like Gecko) Chrome/80.0.3987.163 Safari/537.36',\n",
    "         }"
   ]
  },
  {
   "cell_type": "code",
   "execution_count": 54,
   "metadata": {},
   "outputs": [],
   "source": [
    "response = requests.get(sample_link, headers=heads).text"
   ]
  },
  {
   "cell_type": "code",
   "execution_count": 386,
   "metadata": {},
   "outputs": [],
   "source": [
    "raw_10k = response"
   ]
  },
  {
   "cell_type": "code",
   "execution_count": 372,
   "metadata": {},
   "outputs": [],
   "source": [
    "soup = BeautifulSoup(response, 'lxml')"
   ]
  },
  {
   "cell_type": "code",
   "execution_count": 375,
   "metadata": {},
   "outputs": [
    {
     "data": {
      "text/plain": [
       "\"\\n10-K\\n1\\nzoetis-20141231x10kye.htm\\n10-K\\n\\n\\n\\n\\nZoetis-2014.12.31-10K YE\\nTable of ContentsUNITED STATES SECURITIES AND EXCHANGE COMMISSION Washington, D.C. 20549 FORM 10-K (Mark One)xANNUAL REPORT PURSUANT TO SECTION\\xa013 OR 15(d) OF THE SECURITIES EXCHANGE ACT OF 1934\\xa0\\xa0For the fiscal year ended December 31, 2014\\xa0\\xa0or\\xa0oTRANSITION REPORT PURSUANT TO SECTION 13 OR 15(d) OF THE SECURITIES  EXCHANGE ACT OF 1934\\xa0\\xa0For the transition period from __________ to __________\\xa0Commission File Number: 001-35797 Zoetis Inc.(Exact name of registrant as specified in its charter)\\xa0Delaware\\xa046-0696167(State or other jurisdiction of\\xa0(I.R.S. Employer Identification No.)incorporation or organization)\\xa0\\xa0100 Campus Drive, Florham Park, New Jersey\\xa007932(Address of principal executive offices)\\xa0(Zip Code)(973) 822-7000(Registrant’s telephone number, including area code)Securities registered pursuant to Section\\xa012(b) of the Act: Title of each class\\xa0\\xa0Name of each exchange on which registeredCommon Stock, $0.01 par value per share\\xa0\\xa0New York Stock ExchangeSecurities registered pursuant to Section\\xa012(g) of the Act: None Indicate by check mark if the registrant is a well-known seasoned issuer, as defined in Rule\\xa0405 of Securities Act.\\xa0\\xa0\\xa0\\xa0Yes\\xa0x\\xa0\\xa0 No\\xa0\\xa0¨Indicate by check mark if the registrant is not required to file reports pursuant to Section\\xa013 or Section\\xa015(d) of the Act.\\xa0\\xa0\\xa0\\xa0Yes\\xa0¨\\xa0\\xa0\\xa0\\xa0No\\xa0\\xa0xIndicate by check mark whether the registrant (1)\\xa0has filed all reports required to be filed by Section\\xa013 or 15(d) of the Securities Exchange Act of 1934 during the preceding 12\\xa0months (or for such shorter period that the registrant was required to file such reports), and (2)\\xa0has been subject to such filing requirements for the past 90\\xa0days. \\xa0\\xa0\\xa0\\xa0Yes\\xa0x\\xa0\\xa0\\xa0No\\xa0\\xa0¨Indicate by check mark whether the registrant has submitted electronically and posted on its corporate Website, if any, every Interactive Data File required to be submitted and posted pursuant to Rule 405 of Regulation S-T (§232.405 of this chapter) during the preceding 12 months (or for such shorter period that the registrant was required to submit and post such files). \\xa0\\xa0\\xa0\\xa0Yes\\xa0x\\xa0\\xa0\\xa0\\xa0No\\xa0¨Indicate by check mark if disclosure of delinquent filers pursuant to Item\\xa0405 of Regulation\\xa0S-K (§229.405 of this chapter) is not contained herein, and will not be contained, to the best of the registrant’s knowledge, in definitive proxy or information statements incorporated by reference in Part\\xa0III of this Form\\xa010-K or any amendment to this Form\\xa010-K.\\xa0\\xa0\\xa0\\xa0¨Indicate by check mark whether the registrant is a large accelerated filer, an accelerated filer, a non-accelerated filer, or a smaller reporting company. See the definitions of “large accelerated filer,” “accelerated filer” and “smaller reporting company” in Rule 12b-2 of the Exchange Act. (Check one): \\xa0Large\\xa0accelerated\\xa0filer\\xa0x\\xa0Accelerated\\xa0filer ¨\\xa0Non-accelerated\\xa0filer\\xa0¨\\xa0Smaller\\xa0reporting\\xa0company ¨Indicate by check mark whether the registrant is a shell company (as defined in Rule\\xa012b-2 of the Act).\\xa0\\xa0\\xa0\\xa0Yes\\xa0\\xa0¨\\xa0\\xa0\\xa0\\xa0No\\xa0\\xa0x The aggregate market value of the voting stock held by nonaffiliates of the registrant as of June 29, 2014, the last business day of the registrant's most recently completed second fiscal quarter, was $16,224 million. The registrant has no non-voting common stock.The number of shares outstanding of the registrant's common stock as of February\\xa023, 2015 was 500,787,817 shares.DOCUMENTS INCORPORATED BY REFERENCE:  Table of ContentsPortions of the registrant’s Proxy Statement for the 2015 Annual Meeting of Shareholders to be held on May\\xa01, 2015 (hereinafter referred to as the “2015 Proxy Statement”) are incorporated into Parts II and III of this Form 10-K.Table of ContentsTABLE OF CONTENTSPART I\\xa0\\xa0\\xa0PageItem 1.\\xa0Business\\xa0\\xa0\\xa0\\xa0Overview\\xa01\\xa0\\xa0Operating Segments\\xa01\\xa0\\xa0Products\\xa04\\xa0\\xa0International Operations\\xa06\\xa0\\xa0Sales and Marketing\\xa06\\xa0\\xa0Customers\\xa06\\xa0\\xa0Research and Development\\xa07\\xa0\\xa0Manufacturing and Supply Chain\\xa07\\xa0\\xa0Competition\\xa08\\xa0\\xa0Intellectual Property\\xa09\\xa0\\xa0Regulatory\\xa09\\xa0\\xa0Employees\\xa011\\xa0\\xa0Environmental, Health and Safety\\xa011\\xa0\\xa0Available Information\\xa012Item 1A.\\xa0Risk Factors\\xa012Item 1B.\\xa0Unresolved Staff Comments\\xa028Item 2.\\xa0Properties\\xa028Item 3.\\xa0Legal Proceedings\\xa028Item 4.\\xa0Mine Safety Disclosures\\xa028PART II\\xa0\\xa0\\xa0\\xa0Item 5.\\xa0Market for Registrant’s Common Equity, Related Stockholder Matters and Issuer Purchases of Equity Securities\\xa029Item 6.\\xa0Selected Financial Data\\xa031Item 7.\\xa0Management’s Discussion and Analysis of Financial Condition and Results of Operations\\xa033Item 7A.\\xa0Quantitative and Qualitative Disclosures About Market Risk \\xa061Item 8.\\xa0Financial Statements and Supplementary Data\\xa062Item 9.\\xa0Changes in and Disagreements with Accountants on Accounting and Financial Disclosure\\xa0107Item 9A.\\xa0Controls and Procedures\\xa0107Item 9B.\\xa0Other Information\\xa0107PART III\\xa0\\xa0\\xa0\\xa0Item 10.\\xa0Directors, Executive Officers and Corporate Governance\\xa0108Item 11.\\xa0Executive Compensation\\xa0108Item 12.\\xa0Security Ownership of Certain Beneficial Owners and Management and Related Stockholder Matters\\xa0108Item 13.\\xa0Certain Relationships and Related Transact\""
      ]
     },
     "execution_count": 375,
     "metadata": {},
     "output_type": "execute_result"
    }
   ],
   "source": [
    "cleaned_soup = soup.text\n",
    "cleaned_soup[:5000]"
   ]
  },
  {
   "cell_type": "code",
   "execution_count": 270,
   "metadata": {},
   "outputs": [
    {
     "data": {
      "text/plain": [
       "[<re.Match object; span=(183890, 183908), match='Item 7. Management'>,\n",
       " <re.Match object; span=(185116, 185134), match='Item 7. Management'>,\n",
       " <re.Match object; span=(186022, 186040), match='Item 7. Management'>,\n",
       " <re.Match object; span=(186422, 186440), match='Item 7. Management'>,\n",
       " <re.Match object; span=(187030, 187048), match='Item 7. Management'>]"
      ]
     },
     "execution_count": 270,
     "metadata": {},
     "output_type": "execute_result"
    }
   ],
   "source": [
    "locs7 = re.finditer(r\"ITEM\\s7(|\\.) Management\", cleaned_soup, re.IGNORECASE)\n",
    "[[x.span(), x.group()] for x in locs7]"
   ]
  },
  {
   "cell_type": "code",
   "execution_count": 103,
   "metadata": {},
   "outputs": [
    {
     "data": {
      "text/plain": [
       "[<re.Match object; span=(502641, 502662), match='ITEM\\xa08A.\\xa0CONSOLIDATED'>]"
      ]
     },
     "execution_count": 103,
     "metadata": {},
     "output_type": "execute_result"
    }
   ],
   "source": [
    "locs8 = re.finditer(r\"ITEM\\s8(|A)(|\\.)\\s(Consolidated|Financial)\", cleaned_soup, re.IGNORECASE)\n",
    "[x for x in locs8]"
   ]
  },
  {
   "cell_type": "markdown",
   "metadata": {},
   "source": [
    "I wonder if maybe it would be best to use some sort of clustering algorithm to find the correct locations? "
   ]
  },
  {
   "cell_type": "code",
   "execution_count": 395,
   "metadata": {},
   "outputs": [
    {
     "ename": "KeyboardInterrupt",
     "evalue": "",
     "output_type": "error",
     "traceback": [
      "\u001b[0;31m---------------------------------------------------------------------------\u001b[0m",
      "\u001b[0;31mKeyboardInterrupt\u001b[0m                         Traceback (most recent call last)",
      "\u001b[0;32m<ipython-input-395-9dc7f181ba60>\u001b[0m in \u001b[0;36m<module>\u001b[0;34m\u001b[0m\n\u001b[1;32m     11\u001b[0m     \u001b[0;32mfor\u001b[0m \u001b[0mi\u001b[0m \u001b[0;32min\u001b[0m \u001b[0mrange\u001b[0m\u001b[0;34m(\u001b[0m\u001b[0mlen\u001b[0m\u001b[0;34m(\u001b[0m\u001b[0msample\u001b[0m\u001b[0;34m)\u001b[0m\u001b[0;34m)\u001b[0m\u001b[0;34m:\u001b[0m\u001b[0;34m\u001b[0m\u001b[0;34m\u001b[0m\u001b[0m\n\u001b[1;32m     12\u001b[0m         \u001b[0msample_link\u001b[0m \u001b[0;34m=\u001b[0m \u001b[0msample\u001b[0m\u001b[0;34m.\u001b[0m\u001b[0miloc\u001b[0m\u001b[0;34m[\u001b[0m\u001b[0mi\u001b[0m\u001b[0;34m,\u001b[0m\u001b[0;34m:\u001b[0m\u001b[0;34m]\u001b[0m\u001b[0;34m[\u001b[0m\u001b[0;34m'Link'\u001b[0m\u001b[0;34m]\u001b[0m\u001b[0;34m\u001b[0m\u001b[0;34m\u001b[0m\u001b[0m\n\u001b[0;32m---> 13\u001b[0;31m         \u001b[0mresponse\u001b[0m \u001b[0;34m=\u001b[0m \u001b[0mrequests\u001b[0m\u001b[0;34m.\u001b[0m\u001b[0mget\u001b[0m\u001b[0;34m(\u001b[0m\u001b[0msample_link\u001b[0m\u001b[0;34m,\u001b[0m \u001b[0mheaders\u001b[0m\u001b[0;34m=\u001b[0m\u001b[0mheads\u001b[0m\u001b[0;34m)\u001b[0m\u001b[0;34m.\u001b[0m\u001b[0mtext\u001b[0m\u001b[0;34m\u001b[0m\u001b[0;34m\u001b[0m\u001b[0m\n\u001b[0m\u001b[1;32m     14\u001b[0m         \u001b[0msoup\u001b[0m \u001b[0;34m=\u001b[0m \u001b[0mBeautifulSoup\u001b[0m\u001b[0;34m(\u001b[0m\u001b[0mresponse\u001b[0m\u001b[0;34m,\u001b[0m \u001b[0;34m'lxml'\u001b[0m\u001b[0;34m)\u001b[0m\u001b[0;34m\u001b[0m\u001b[0;34m\u001b[0m\u001b[0m\n\u001b[1;32m     15\u001b[0m         \u001b[0mcleaned_soup\u001b[0m \u001b[0;34m=\u001b[0m \u001b[0msoup\u001b[0m\u001b[0;34m.\u001b[0m\u001b[0mtext\u001b[0m\u001b[0;34m\u001b[0m\u001b[0;34m\u001b[0m\u001b[0m\n",
      "\u001b[0;32m~/opt/anaconda3/lib/python3.7/site-packages/requests/api.py\u001b[0m in \u001b[0;36mget\u001b[0;34m(url, params, **kwargs)\u001b[0m\n\u001b[1;32m     73\u001b[0m \u001b[0;34m\u001b[0m\u001b[0m\n\u001b[1;32m     74\u001b[0m     \u001b[0mkwargs\u001b[0m\u001b[0;34m.\u001b[0m\u001b[0msetdefault\u001b[0m\u001b[0;34m(\u001b[0m\u001b[0;34m'allow_redirects'\u001b[0m\u001b[0;34m,\u001b[0m \u001b[0;32mTrue\u001b[0m\u001b[0;34m)\u001b[0m\u001b[0;34m\u001b[0m\u001b[0;34m\u001b[0m\u001b[0m\n\u001b[0;32m---> 75\u001b[0;31m     \u001b[0;32mreturn\u001b[0m \u001b[0mrequest\u001b[0m\u001b[0;34m(\u001b[0m\u001b[0;34m'get'\u001b[0m\u001b[0;34m,\u001b[0m \u001b[0murl\u001b[0m\u001b[0;34m,\u001b[0m \u001b[0mparams\u001b[0m\u001b[0;34m=\u001b[0m\u001b[0mparams\u001b[0m\u001b[0;34m,\u001b[0m \u001b[0;34m**\u001b[0m\u001b[0mkwargs\u001b[0m\u001b[0;34m)\u001b[0m\u001b[0;34m\u001b[0m\u001b[0;34m\u001b[0m\u001b[0m\n\u001b[0m\u001b[1;32m     76\u001b[0m \u001b[0;34m\u001b[0m\u001b[0m\n\u001b[1;32m     77\u001b[0m \u001b[0;34m\u001b[0m\u001b[0m\n",
      "\u001b[0;32m~/opt/anaconda3/lib/python3.7/site-packages/requests/api.py\u001b[0m in \u001b[0;36mrequest\u001b[0;34m(method, url, **kwargs)\u001b[0m\n\u001b[1;32m     58\u001b[0m     \u001b[0;31m# cases, and look like a memory leak in others.\u001b[0m\u001b[0;34m\u001b[0m\u001b[0;34m\u001b[0m\u001b[0;34m\u001b[0m\u001b[0m\n\u001b[1;32m     59\u001b[0m     \u001b[0;32mwith\u001b[0m \u001b[0msessions\u001b[0m\u001b[0;34m.\u001b[0m\u001b[0mSession\u001b[0m\u001b[0;34m(\u001b[0m\u001b[0;34m)\u001b[0m \u001b[0;32mas\u001b[0m \u001b[0msession\u001b[0m\u001b[0;34m:\u001b[0m\u001b[0;34m\u001b[0m\u001b[0;34m\u001b[0m\u001b[0m\n\u001b[0;32m---> 60\u001b[0;31m         \u001b[0;32mreturn\u001b[0m \u001b[0msession\u001b[0m\u001b[0;34m.\u001b[0m\u001b[0mrequest\u001b[0m\u001b[0;34m(\u001b[0m\u001b[0mmethod\u001b[0m\u001b[0;34m=\u001b[0m\u001b[0mmethod\u001b[0m\u001b[0;34m,\u001b[0m \u001b[0murl\u001b[0m\u001b[0;34m=\u001b[0m\u001b[0murl\u001b[0m\u001b[0;34m,\u001b[0m \u001b[0;34m**\u001b[0m\u001b[0mkwargs\u001b[0m\u001b[0;34m)\u001b[0m\u001b[0;34m\u001b[0m\u001b[0;34m\u001b[0m\u001b[0m\n\u001b[0m\u001b[1;32m     61\u001b[0m \u001b[0;34m\u001b[0m\u001b[0m\n\u001b[1;32m     62\u001b[0m \u001b[0;34m\u001b[0m\u001b[0m\n",
      "\u001b[0;32m~/opt/anaconda3/lib/python3.7/site-packages/requests/sessions.py\u001b[0m in \u001b[0;36mrequest\u001b[0;34m(self, method, url, params, data, headers, cookies, files, auth, timeout, allow_redirects, proxies, hooks, stream, verify, cert, json)\u001b[0m\n\u001b[1;32m    531\u001b[0m         }\n\u001b[1;32m    532\u001b[0m         \u001b[0msend_kwargs\u001b[0m\u001b[0;34m.\u001b[0m\u001b[0mupdate\u001b[0m\u001b[0;34m(\u001b[0m\u001b[0msettings\u001b[0m\u001b[0;34m)\u001b[0m\u001b[0;34m\u001b[0m\u001b[0;34m\u001b[0m\u001b[0m\n\u001b[0;32m--> 533\u001b[0;31m         \u001b[0mresp\u001b[0m \u001b[0;34m=\u001b[0m \u001b[0mself\u001b[0m\u001b[0;34m.\u001b[0m\u001b[0msend\u001b[0m\u001b[0;34m(\u001b[0m\u001b[0mprep\u001b[0m\u001b[0;34m,\u001b[0m \u001b[0;34m**\u001b[0m\u001b[0msend_kwargs\u001b[0m\u001b[0;34m)\u001b[0m\u001b[0;34m\u001b[0m\u001b[0;34m\u001b[0m\u001b[0m\n\u001b[0m\u001b[1;32m    534\u001b[0m \u001b[0;34m\u001b[0m\u001b[0m\n\u001b[1;32m    535\u001b[0m         \u001b[0;32mreturn\u001b[0m \u001b[0mresp\u001b[0m\u001b[0;34m\u001b[0m\u001b[0;34m\u001b[0m\u001b[0m\n",
      "\u001b[0;32m~/opt/anaconda3/lib/python3.7/site-packages/requests/sessions.py\u001b[0m in \u001b[0;36msend\u001b[0;34m(self, request, **kwargs)\u001b[0m\n\u001b[1;32m    684\u001b[0m \u001b[0;34m\u001b[0m\u001b[0m\n\u001b[1;32m    685\u001b[0m         \u001b[0;32mif\u001b[0m \u001b[0;32mnot\u001b[0m \u001b[0mstream\u001b[0m\u001b[0;34m:\u001b[0m\u001b[0;34m\u001b[0m\u001b[0;34m\u001b[0m\u001b[0m\n\u001b[0;32m--> 686\u001b[0;31m             \u001b[0mr\u001b[0m\u001b[0;34m.\u001b[0m\u001b[0mcontent\u001b[0m\u001b[0;34m\u001b[0m\u001b[0;34m\u001b[0m\u001b[0m\n\u001b[0m\u001b[1;32m    687\u001b[0m \u001b[0;34m\u001b[0m\u001b[0m\n\u001b[1;32m    688\u001b[0m         \u001b[0;32mreturn\u001b[0m \u001b[0mr\u001b[0m\u001b[0;34m\u001b[0m\u001b[0;34m\u001b[0m\u001b[0m\n",
      "\u001b[0;32m~/opt/anaconda3/lib/python3.7/site-packages/requests/models.py\u001b[0m in \u001b[0;36mcontent\u001b[0;34m(self)\u001b[0m\n\u001b[1;32m    826\u001b[0m                 \u001b[0mself\u001b[0m\u001b[0;34m.\u001b[0m\u001b[0m_content\u001b[0m \u001b[0;34m=\u001b[0m \u001b[0;32mNone\u001b[0m\u001b[0;34m\u001b[0m\u001b[0;34m\u001b[0m\u001b[0m\n\u001b[1;32m    827\u001b[0m             \u001b[0;32melse\u001b[0m\u001b[0;34m:\u001b[0m\u001b[0;34m\u001b[0m\u001b[0;34m\u001b[0m\u001b[0m\n\u001b[0;32m--> 828\u001b[0;31m                 \u001b[0mself\u001b[0m\u001b[0;34m.\u001b[0m\u001b[0m_content\u001b[0m \u001b[0;34m=\u001b[0m \u001b[0;34mb''\u001b[0m\u001b[0;34m.\u001b[0m\u001b[0mjoin\u001b[0m\u001b[0;34m(\u001b[0m\u001b[0mself\u001b[0m\u001b[0;34m.\u001b[0m\u001b[0miter_content\u001b[0m\u001b[0;34m(\u001b[0m\u001b[0mCONTENT_CHUNK_SIZE\u001b[0m\u001b[0;34m)\u001b[0m\u001b[0;34m)\u001b[0m \u001b[0;32mor\u001b[0m \u001b[0;34mb''\u001b[0m\u001b[0;34m\u001b[0m\u001b[0;34m\u001b[0m\u001b[0m\n\u001b[0m\u001b[1;32m    829\u001b[0m \u001b[0;34m\u001b[0m\u001b[0m\n\u001b[1;32m    830\u001b[0m         \u001b[0mself\u001b[0m\u001b[0;34m.\u001b[0m\u001b[0m_content_consumed\u001b[0m \u001b[0;34m=\u001b[0m \u001b[0;32mTrue\u001b[0m\u001b[0;34m\u001b[0m\u001b[0;34m\u001b[0m\u001b[0m\n",
      "\u001b[0;32m~/opt/anaconda3/lib/python3.7/site-packages/requests/models.py\u001b[0m in \u001b[0;36mgenerate\u001b[0;34m()\u001b[0m\n\u001b[1;32m    748\u001b[0m             \u001b[0;32mif\u001b[0m \u001b[0mhasattr\u001b[0m\u001b[0;34m(\u001b[0m\u001b[0mself\u001b[0m\u001b[0;34m.\u001b[0m\u001b[0mraw\u001b[0m\u001b[0;34m,\u001b[0m \u001b[0;34m'stream'\u001b[0m\u001b[0;34m)\u001b[0m\u001b[0;34m:\u001b[0m\u001b[0;34m\u001b[0m\u001b[0;34m\u001b[0m\u001b[0m\n\u001b[1;32m    749\u001b[0m                 \u001b[0;32mtry\u001b[0m\u001b[0;34m:\u001b[0m\u001b[0;34m\u001b[0m\u001b[0;34m\u001b[0m\u001b[0m\n\u001b[0;32m--> 750\u001b[0;31m                     \u001b[0;32mfor\u001b[0m \u001b[0mchunk\u001b[0m \u001b[0;32min\u001b[0m \u001b[0mself\u001b[0m\u001b[0;34m.\u001b[0m\u001b[0mraw\u001b[0m\u001b[0;34m.\u001b[0m\u001b[0mstream\u001b[0m\u001b[0;34m(\u001b[0m\u001b[0mchunk_size\u001b[0m\u001b[0;34m,\u001b[0m \u001b[0mdecode_content\u001b[0m\u001b[0;34m=\u001b[0m\u001b[0;32mTrue\u001b[0m\u001b[0;34m)\u001b[0m\u001b[0;34m:\u001b[0m\u001b[0;34m\u001b[0m\u001b[0;34m\u001b[0m\u001b[0m\n\u001b[0m\u001b[1;32m    751\u001b[0m                         \u001b[0;32myield\u001b[0m \u001b[0mchunk\u001b[0m\u001b[0;34m\u001b[0m\u001b[0;34m\u001b[0m\u001b[0m\n\u001b[1;32m    752\u001b[0m                 \u001b[0;32mexcept\u001b[0m \u001b[0mProtocolError\u001b[0m \u001b[0;32mas\u001b[0m \u001b[0me\u001b[0m\u001b[0;34m:\u001b[0m\u001b[0;34m\u001b[0m\u001b[0;34m\u001b[0m\u001b[0m\n",
      "\u001b[0;32m~/opt/anaconda3/lib/python3.7/site-packages/urllib3/response.py\u001b[0m in \u001b[0;36mstream\u001b[0;34m(self, amt, decode_content)\u001b[0m\n\u001b[1;32m    492\u001b[0m         \u001b[0;32melse\u001b[0m\u001b[0;34m:\u001b[0m\u001b[0;34m\u001b[0m\u001b[0;34m\u001b[0m\u001b[0m\n\u001b[1;32m    493\u001b[0m             \u001b[0;32mwhile\u001b[0m \u001b[0;32mnot\u001b[0m \u001b[0mis_fp_closed\u001b[0m\u001b[0;34m(\u001b[0m\u001b[0mself\u001b[0m\u001b[0;34m.\u001b[0m\u001b[0m_fp\u001b[0m\u001b[0;34m)\u001b[0m\u001b[0;34m:\u001b[0m\u001b[0;34m\u001b[0m\u001b[0;34m\u001b[0m\u001b[0m\n\u001b[0;32m--> 494\u001b[0;31m                 \u001b[0mdata\u001b[0m \u001b[0;34m=\u001b[0m \u001b[0mself\u001b[0m\u001b[0;34m.\u001b[0m\u001b[0mread\u001b[0m\u001b[0;34m(\u001b[0m\u001b[0mamt\u001b[0m\u001b[0;34m=\u001b[0m\u001b[0mamt\u001b[0m\u001b[0;34m,\u001b[0m \u001b[0mdecode_content\u001b[0m\u001b[0;34m=\u001b[0m\u001b[0mdecode_content\u001b[0m\u001b[0;34m)\u001b[0m\u001b[0;34m\u001b[0m\u001b[0;34m\u001b[0m\u001b[0m\n\u001b[0m\u001b[1;32m    495\u001b[0m \u001b[0;34m\u001b[0m\u001b[0m\n\u001b[1;32m    496\u001b[0m                 \u001b[0;32mif\u001b[0m \u001b[0mdata\u001b[0m\u001b[0;34m:\u001b[0m\u001b[0;34m\u001b[0m\u001b[0;34m\u001b[0m\u001b[0m\n",
      "\u001b[0;32m~/opt/anaconda3/lib/python3.7/site-packages/urllib3/response.py\u001b[0m in \u001b[0;36mread\u001b[0;34m(self, amt, decode_content, cache_content)\u001b[0m\n\u001b[1;32m    440\u001b[0m             \u001b[0;32melse\u001b[0m\u001b[0;34m:\u001b[0m\u001b[0;34m\u001b[0m\u001b[0;34m\u001b[0m\u001b[0m\n\u001b[1;32m    441\u001b[0m                 \u001b[0mcache_content\u001b[0m \u001b[0;34m=\u001b[0m \u001b[0;32mFalse\u001b[0m\u001b[0;34m\u001b[0m\u001b[0;34m\u001b[0m\u001b[0m\n\u001b[0;32m--> 442\u001b[0;31m                 \u001b[0mdata\u001b[0m \u001b[0;34m=\u001b[0m \u001b[0mself\u001b[0m\u001b[0;34m.\u001b[0m\u001b[0m_fp\u001b[0m\u001b[0;34m.\u001b[0m\u001b[0mread\u001b[0m\u001b[0;34m(\u001b[0m\u001b[0mamt\u001b[0m\u001b[0;34m)\u001b[0m\u001b[0;34m\u001b[0m\u001b[0;34m\u001b[0m\u001b[0m\n\u001b[0m\u001b[1;32m    443\u001b[0m                 \u001b[0;32mif\u001b[0m \u001b[0mamt\u001b[0m \u001b[0;34m!=\u001b[0m \u001b[0;36m0\u001b[0m \u001b[0;32mand\u001b[0m \u001b[0;32mnot\u001b[0m \u001b[0mdata\u001b[0m\u001b[0;34m:\u001b[0m  \u001b[0;31m# Platform-specific: Buggy versions of Python.\u001b[0m\u001b[0;34m\u001b[0m\u001b[0;34m\u001b[0m\u001b[0m\n\u001b[1;32m    444\u001b[0m                     \u001b[0;31m# Close the connection when no data is returned\u001b[0m\u001b[0;34m\u001b[0m\u001b[0;34m\u001b[0m\u001b[0;34m\u001b[0m\u001b[0m\n",
      "\u001b[0;32m~/opt/anaconda3/lib/python3.7/http/client.py\u001b[0m in \u001b[0;36mread\u001b[0;34m(self, amt)\u001b[0m\n\u001b[1;32m    455\u001b[0m             \u001b[0;31m# Amount is given, implement using readinto\u001b[0m\u001b[0;34m\u001b[0m\u001b[0;34m\u001b[0m\u001b[0;34m\u001b[0m\u001b[0m\n\u001b[1;32m    456\u001b[0m             \u001b[0mb\u001b[0m \u001b[0;34m=\u001b[0m \u001b[0mbytearray\u001b[0m\u001b[0;34m(\u001b[0m\u001b[0mamt\u001b[0m\u001b[0;34m)\u001b[0m\u001b[0;34m\u001b[0m\u001b[0;34m\u001b[0m\u001b[0m\n\u001b[0;32m--> 457\u001b[0;31m             \u001b[0mn\u001b[0m \u001b[0;34m=\u001b[0m \u001b[0mself\u001b[0m\u001b[0;34m.\u001b[0m\u001b[0mreadinto\u001b[0m\u001b[0;34m(\u001b[0m\u001b[0mb\u001b[0m\u001b[0;34m)\u001b[0m\u001b[0;34m\u001b[0m\u001b[0;34m\u001b[0m\u001b[0m\n\u001b[0m\u001b[1;32m    458\u001b[0m             \u001b[0;32mreturn\u001b[0m \u001b[0mmemoryview\u001b[0m\u001b[0;34m(\u001b[0m\u001b[0mb\u001b[0m\u001b[0;34m)\u001b[0m\u001b[0;34m[\u001b[0m\u001b[0;34m:\u001b[0m\u001b[0mn\u001b[0m\u001b[0;34m]\u001b[0m\u001b[0;34m.\u001b[0m\u001b[0mtobytes\u001b[0m\u001b[0;34m(\u001b[0m\u001b[0;34m)\u001b[0m\u001b[0;34m\u001b[0m\u001b[0;34m\u001b[0m\u001b[0m\n\u001b[1;32m    459\u001b[0m         \u001b[0;32melse\u001b[0m\u001b[0;34m:\u001b[0m\u001b[0;34m\u001b[0m\u001b[0;34m\u001b[0m\u001b[0m\n",
      "\u001b[0;32m~/opt/anaconda3/lib/python3.7/http/client.py\u001b[0m in \u001b[0;36mreadinto\u001b[0;34m(self, b)\u001b[0m\n\u001b[1;32m    499\u001b[0m         \u001b[0;31m# connection, and the user is reading more bytes than will be provided\u001b[0m\u001b[0;34m\u001b[0m\u001b[0;34m\u001b[0m\u001b[0;34m\u001b[0m\u001b[0m\n\u001b[1;32m    500\u001b[0m         \u001b[0;31m# (for example, reading in 1k chunks)\u001b[0m\u001b[0;34m\u001b[0m\u001b[0;34m\u001b[0m\u001b[0;34m\u001b[0m\u001b[0m\n\u001b[0;32m--> 501\u001b[0;31m         \u001b[0mn\u001b[0m \u001b[0;34m=\u001b[0m \u001b[0mself\u001b[0m\u001b[0;34m.\u001b[0m\u001b[0mfp\u001b[0m\u001b[0;34m.\u001b[0m\u001b[0mreadinto\u001b[0m\u001b[0;34m(\u001b[0m\u001b[0mb\u001b[0m\u001b[0;34m)\u001b[0m\u001b[0;34m\u001b[0m\u001b[0;34m\u001b[0m\u001b[0m\n\u001b[0m\u001b[1;32m    502\u001b[0m         \u001b[0;32mif\u001b[0m \u001b[0;32mnot\u001b[0m \u001b[0mn\u001b[0m \u001b[0;32mand\u001b[0m \u001b[0mb\u001b[0m\u001b[0;34m:\u001b[0m\u001b[0;34m\u001b[0m\u001b[0;34m\u001b[0m\u001b[0m\n\u001b[1;32m    503\u001b[0m             \u001b[0;31m# Ideally, we would raise IncompleteRead if the content-length\u001b[0m\u001b[0;34m\u001b[0m\u001b[0;34m\u001b[0m\u001b[0;34m\u001b[0m\u001b[0m\n",
      "\u001b[0;32m~/opt/anaconda3/lib/python3.7/socket.py\u001b[0m in \u001b[0;36mreadinto\u001b[0;34m(self, b)\u001b[0m\n\u001b[1;32m    587\u001b[0m         \u001b[0;32mwhile\u001b[0m \u001b[0;32mTrue\u001b[0m\u001b[0;34m:\u001b[0m\u001b[0;34m\u001b[0m\u001b[0;34m\u001b[0m\u001b[0m\n\u001b[1;32m    588\u001b[0m             \u001b[0;32mtry\u001b[0m\u001b[0;34m:\u001b[0m\u001b[0;34m\u001b[0m\u001b[0;34m\u001b[0m\u001b[0m\n\u001b[0;32m--> 589\u001b[0;31m                 \u001b[0;32mreturn\u001b[0m \u001b[0mself\u001b[0m\u001b[0;34m.\u001b[0m\u001b[0m_sock\u001b[0m\u001b[0;34m.\u001b[0m\u001b[0mrecv_into\u001b[0m\u001b[0;34m(\u001b[0m\u001b[0mb\u001b[0m\u001b[0;34m)\u001b[0m\u001b[0;34m\u001b[0m\u001b[0;34m\u001b[0m\u001b[0m\n\u001b[0m\u001b[1;32m    590\u001b[0m             \u001b[0;32mexcept\u001b[0m \u001b[0mtimeout\u001b[0m\u001b[0;34m:\u001b[0m\u001b[0;34m\u001b[0m\u001b[0;34m\u001b[0m\u001b[0m\n\u001b[1;32m    591\u001b[0m                 \u001b[0mself\u001b[0m\u001b[0;34m.\u001b[0m\u001b[0m_timeout_occurred\u001b[0m \u001b[0;34m=\u001b[0m \u001b[0;32mTrue\u001b[0m\u001b[0;34m\u001b[0m\u001b[0;34m\u001b[0m\u001b[0m\n",
      "\u001b[0;32m~/opt/anaconda3/lib/python3.7/site-packages/urllib3/contrib/pyopenssl.py\u001b[0m in \u001b[0;36mrecv_into\u001b[0;34m(self, *args, **kwargs)\u001b[0m\n\u001b[1;32m    295\u001b[0m     \u001b[0;32mdef\u001b[0m \u001b[0mrecv_into\u001b[0m\u001b[0;34m(\u001b[0m\u001b[0mself\u001b[0m\u001b[0;34m,\u001b[0m \u001b[0;34m*\u001b[0m\u001b[0margs\u001b[0m\u001b[0;34m,\u001b[0m \u001b[0;34m**\u001b[0m\u001b[0mkwargs\u001b[0m\u001b[0;34m)\u001b[0m\u001b[0;34m:\u001b[0m\u001b[0;34m\u001b[0m\u001b[0;34m\u001b[0m\u001b[0m\n\u001b[1;32m    296\u001b[0m         \u001b[0;32mtry\u001b[0m\u001b[0;34m:\u001b[0m\u001b[0;34m\u001b[0m\u001b[0;34m\u001b[0m\u001b[0m\n\u001b[0;32m--> 297\u001b[0;31m             \u001b[0;32mreturn\u001b[0m \u001b[0mself\u001b[0m\u001b[0;34m.\u001b[0m\u001b[0mconnection\u001b[0m\u001b[0;34m.\u001b[0m\u001b[0mrecv_into\u001b[0m\u001b[0;34m(\u001b[0m\u001b[0;34m*\u001b[0m\u001b[0margs\u001b[0m\u001b[0;34m,\u001b[0m \u001b[0;34m**\u001b[0m\u001b[0mkwargs\u001b[0m\u001b[0;34m)\u001b[0m\u001b[0;34m\u001b[0m\u001b[0;34m\u001b[0m\u001b[0m\n\u001b[0m\u001b[1;32m    298\u001b[0m         \u001b[0;32mexcept\u001b[0m \u001b[0mOpenSSL\u001b[0m\u001b[0;34m.\u001b[0m\u001b[0mSSL\u001b[0m\u001b[0;34m.\u001b[0m\u001b[0mSysCallError\u001b[0m \u001b[0;32mas\u001b[0m \u001b[0me\u001b[0m\u001b[0;34m:\u001b[0m\u001b[0;34m\u001b[0m\u001b[0;34m\u001b[0m\u001b[0m\n\u001b[1;32m    299\u001b[0m             \u001b[0;32mif\u001b[0m \u001b[0mself\u001b[0m\u001b[0;34m.\u001b[0m\u001b[0msuppress_ragged_eofs\u001b[0m \u001b[0;32mand\u001b[0m \u001b[0me\u001b[0m\u001b[0;34m.\u001b[0m\u001b[0margs\u001b[0m \u001b[0;34m==\u001b[0m \u001b[0;34m(\u001b[0m\u001b[0;34m-\u001b[0m\u001b[0;36m1\u001b[0m\u001b[0;34m,\u001b[0m \u001b[0;34m'Unexpected EOF'\u001b[0m\u001b[0;34m)\u001b[0m\u001b[0;34m:\u001b[0m\u001b[0;34m\u001b[0m\u001b[0;34m\u001b[0m\u001b[0m\n",
      "\u001b[0;32m~/opt/anaconda3/lib/python3.7/site-packages/OpenSSL/SSL.py\u001b[0m in \u001b[0;36mrecv_into\u001b[0;34m(self, buffer, nbytes, flags)\u001b[0m\n\u001b[1;32m   1819\u001b[0m             \u001b[0mresult\u001b[0m \u001b[0;34m=\u001b[0m \u001b[0m_lib\u001b[0m\u001b[0;34m.\u001b[0m\u001b[0mSSL_peek\u001b[0m\u001b[0;34m(\u001b[0m\u001b[0mself\u001b[0m\u001b[0;34m.\u001b[0m\u001b[0m_ssl\u001b[0m\u001b[0;34m,\u001b[0m \u001b[0mbuf\u001b[0m\u001b[0;34m,\u001b[0m \u001b[0mnbytes\u001b[0m\u001b[0;34m)\u001b[0m\u001b[0;34m\u001b[0m\u001b[0;34m\u001b[0m\u001b[0m\n\u001b[1;32m   1820\u001b[0m         \u001b[0;32melse\u001b[0m\u001b[0;34m:\u001b[0m\u001b[0;34m\u001b[0m\u001b[0;34m\u001b[0m\u001b[0m\n\u001b[0;32m-> 1821\u001b[0;31m             \u001b[0mresult\u001b[0m \u001b[0;34m=\u001b[0m \u001b[0m_lib\u001b[0m\u001b[0;34m.\u001b[0m\u001b[0mSSL_read\u001b[0m\u001b[0;34m(\u001b[0m\u001b[0mself\u001b[0m\u001b[0;34m.\u001b[0m\u001b[0m_ssl\u001b[0m\u001b[0;34m,\u001b[0m \u001b[0mbuf\u001b[0m\u001b[0;34m,\u001b[0m \u001b[0mnbytes\u001b[0m\u001b[0;34m)\u001b[0m\u001b[0;34m\u001b[0m\u001b[0;34m\u001b[0m\u001b[0m\n\u001b[0m\u001b[1;32m   1822\u001b[0m         \u001b[0mself\u001b[0m\u001b[0;34m.\u001b[0m\u001b[0m_raise_ssl_error\u001b[0m\u001b[0;34m(\u001b[0m\u001b[0mself\u001b[0m\u001b[0;34m.\u001b[0m\u001b[0m_ssl\u001b[0m\u001b[0;34m,\u001b[0m \u001b[0mresult\u001b[0m\u001b[0;34m)\u001b[0m\u001b[0;34m\u001b[0m\u001b[0;34m\u001b[0m\u001b[0m\n\u001b[1;32m   1823\u001b[0m \u001b[0;34m\u001b[0m\u001b[0m\n",
      "\u001b[0;31mKeyboardInterrupt\u001b[0m: "
     ]
    }
   ],
   "source": [
    "start = time.time()\n",
    "link_dict4 = {}\n",
    "\n",
    "for key in list(link_dict.keys()):\n",
    "\n",
    "    loc7list = []\n",
    "    loc8list = []\n",
    "    \n",
    "    sample = link_dict[key].copy()\n",
    "    sample = sample[sample['reportDate'].values > '1996-01-01']\n",
    "    for i in range(len(sample)):\n",
    "        sample_link = sample.iloc[i,:]['Link']\n",
    "        response = requests.get(sample_link, headers=heads).text\n",
    "        soup = BeautifulSoup(response, 'lxml')\n",
    "        cleaned_soup = soup.text\n",
    "        locs7 = re.finditer(r\"ITEM\\s7\", cleaned_soup, re.IGNORECASE)\n",
    "        locs8 = re.finditer(r\"ITEM\\s8\", cleaned_soup, re.IGNORECASE)\n",
    "\n",
    "        loc7list.append([[x.span(), x.group()] for x in locs7])\n",
    "        loc8list.append([[x.span(), x.group()] for x in locs8])\n",
    "    \n",
    "    sample['Loc7'] = loc7list\n",
    "    sample['Loc8'] = loc8list\n",
    "    \n",
    "    link_dict4[key] = sample.copy()\n",
    "\n",
    "end = time.time()"
   ]
  },
  {
   "cell_type": "code",
   "execution_count": 396,
   "metadata": {},
   "outputs": [
    {
     "data": {
      "text/plain": [
       "353"
      ]
     },
     "execution_count": 396,
     "metadata": {},
     "output_type": "execute_result"
    }
   ],
   "source": [
    "len(link_dict4)"
   ]
  },
  {
   "cell_type": "code",
   "execution_count": null,
   "metadata": {},
   "outputs": [],
   "source": [
    "with open('2-link_dict4.pickle', 'wb') as handle:\n",
    "    pickle.dump(link_dict4, handle, protocol=pickle.HIGHEST_PROTOCOL)"
   ]
  },
  {
   "cell_type": "code",
   "execution_count": 282,
   "metadata": {},
   "outputs": [
    {
     "name": "stdout",
     "output_type": "stream",
     "text": [
      "13508.377779006958\n"
     ]
    }
   ],
   "source": [
    "print(end-start)"
   ]
  },
  {
   "cell_type": "code",
   "execution_count": 283,
   "metadata": {},
   "outputs": [
    {
     "data": {
      "text/plain": [
       "873"
      ]
     },
     "execution_count": 283,
     "metadata": {},
     "output_type": "execute_result"
    }
   ],
   "source": [
    "len(link_dict3.keys())"
   ]
  },
  {
   "cell_type": "code",
   "execution_count": 214,
   "metadata": {},
   "outputs": [
    {
     "data": {
      "text/plain": [
       "6.319669485092163"
      ]
     },
     "execution_count": 214,
     "metadata": {},
     "output_type": "execute_result"
    }
   ],
   "source": [
    "((end-start) * 1110)/5 /60/60"
   ]
  },
  {
   "cell_type": "code",
   "execution_count": 366,
   "metadata": {},
   "outputs": [
    {
     "data": {
      "text/plain": [
       "[[(92292, 92310), 'Item 7. Management'],\n",
       " [(105990, 106008), 'Item 7. Management']]"
      ]
     },
     "execution_count": 366,
     "metadata": {},
     "output_type": "execute_result"
    }
   ],
   "source": [
    "[x for x in link_dict3['0001158449']['Loc7'].copy().values[0]]"
   ]
  },
  {
   "cell_type": "code",
   "execution_count": 369,
   "metadata": {},
   "outputs": [
    {
     "data": {
      "text/plain": [
       "['0001391461',\n",
       " '0001409741',\n",
       " '0001181249',\n",
       " '0001124074',\n",
       " '0001576340',\n",
       " '0000031225',\n",
       " '0001319183',\n",
       " '0001438893',\n",
       " '0000806085',\n",
       " '0001323206',\n",
       " '0000798738',\n",
       " '0000833203']"
      ]
     },
     "execution_count": 369,
     "metadata": {},
     "output_type": "execute_result"
    }
   ],
   "source": [
    "bads = [x for x in link_dict3.keys() if link_dict3[x].empty]\n",
    "bads"
   ]
  },
  {
   "cell_type": "code",
   "execution_count": 443,
   "metadata": {},
   "outputs": [
    {
     "data": {
      "text/plain": [
       "49     [[(158292, 158310), Item 7. Management], [(167...\n",
       "150    [[(153128, 153146), Item 7. Management], [(156...\n",
       "225    [[(9505, 9523), Item 7. Management], [(12796, ...\n",
       "315    [[(9554, 9572), Item 7. Management], [(13606, ...\n",
       "412    [[(9935, 9953), Item 7. Management], [(14047, ...\n",
       "538    [[(17027, 17045), Item 7. Management], [(21453...\n",
       "651    [[(16174, 16192), Item 7. Management], [(23008...\n",
       "750    [[(15590, 15608), Item 7. Management], [(23363...\n",
       "Name: Loc7, dtype: object"
      ]
     },
     "execution_count": 443,
     "metadata": {},
     "output_type": "execute_result"
    }
   ],
   "source": [
    "link_dict3['0000006201']['Loc7']"
   ]
  },
  {
   "cell_type": "markdown",
   "metadata": {},
   "source": [
    "# Find Closest Pair of Points\n",
    "\n",
    "Now that we have the start/end points of all Item 7s and 8s, I'd like to use some sort of KNN or clustering algorithm to decide which start points are the true start points. Let's explore how the data looks:"
   ]
  },
  {
   "cell_type": "code",
   "execution_count": 312,
   "metadata": {},
   "outputs": [
    {
     "data": {
      "text/plain": [
       "[[(158292, 158310), 'Item 7. Management'],\n",
       " [(167163, 167181), 'Item\\xa07. Management'],\n",
       " [(180987, 181005), 'Item\\xa07. Management'],\n",
       " [(430418, 430436), 'Item 7. Management'],\n",
       " [(440363, 440381), 'Item 7. Management'],\n",
       " [(451837, 451855), 'Item 7. Management']]"
      ]
     },
     "execution_count": 312,
     "metadata": {},
     "output_type": "execute_result"
    }
   ],
   "source": [
    "sample1 = link_dict3['0000006201']['Loc7'].values[0]\n",
    "sample1"
   ]
  },
  {
   "cell_type": "code",
   "execution_count": 304,
   "metadata": {},
   "outputs": [
    {
     "data": {
      "text/plain": [
       "[[(502641, 502662), 'ITEM\\xa08A.\\xa0CONSOLIDATED']]"
      ]
     },
     "execution_count": 304,
     "metadata": {},
     "output_type": "execute_result"
    }
   ],
   "source": [
    "sample2 = link_dict3['0000006201']['Loc8'].values[0]\n",
    "sample2"
   ]
  },
  {
   "cell_type": "code",
   "execution_count": 315,
   "metadata": {},
   "outputs": [
    {
     "data": {
      "text/plain": [
       "[158292, 167163, 180987, 430418, 440363, 451837]"
      ]
     },
     "execution_count": 315,
     "metadata": {},
     "output_type": "execute_result"
    }
   ],
   "source": [
    "x_points = [x[0][0] for x in sample1]\n",
    "x_points"
   ]
  },
  {
   "cell_type": "code",
   "execution_count": 316,
   "metadata": {},
   "outputs": [
    {
     "data": {
      "text/plain": [
       "[502641]"
      ]
     },
     "execution_count": 316,
     "metadata": {},
     "output_type": "execute_result"
    }
   ],
   "source": [
    "y_points = [x[0][0] for x in sample2]\n",
    "y_points"
   ]
  },
  {
   "cell_type": "code",
   "execution_count": 319,
   "metadata": {},
   "outputs": [],
   "source": [
    "import itertools\n",
    "import matplotlib.pyplot as plt"
   ]
  },
  {
   "cell_type": "code",
   "execution_count": 333,
   "metadata": {},
   "outputs": [
    {
     "data": {
      "text/plain": [
       "array([[158292, 502641],\n",
       "       [167163, 502641],\n",
       "       [180987, 502641],\n",
       "       [430418, 502641],\n",
       "       [440363, 502641],\n",
       "       [451837, 502641]])"
      ]
     },
     "execution_count": 333,
     "metadata": {},
     "output_type": "execute_result"
    }
   ],
   "source": [
    "points = np.array(list(itertools.product(x_points, y_points)))\n",
    "points"
   ]
  },
  {
   "cell_type": "code",
   "execution_count": 336,
   "metadata": {},
   "outputs": [
    {
     "data": {
      "text/plain": [
       "<matplotlib.collections.PathCollection at 0x7fc362dcac90>"
      ]
     },
     "execution_count": 336,
     "metadata": {},
     "output_type": "execute_result"
    },
    {
     "data": {
      "image/png": "[encoded data removed]",
      "text/plain": [
       "<Figure size 432x288 with 1 Axes>"
      ]
     },
     "metadata": {
      "needs_background": "light"
     },
     "output_type": "display_data"
    }
   ],
   "source": [
    "plt.scatter(points[:,0], points[:,1], color)"
   ]
  },
  {
   "cell_type": "markdown",
   "metadata": {},
   "source": [
    "# Build out to First 10 Companies"
   ]
  },
  {
   "cell_type": "code",
   "execution_count": 432,
   "metadata": {},
   "outputs": [
    {
     "name": "stdout",
     "output_type": "stream",
     "text": [
      "0001391461\n"
     ]
    },
    {
     "data": {
      "image/png": "[encoded data removed]",
      "text/plain": [
       "<Figure size 432x288 with 1 Axes>"
      ]
     },
     "metadata": {
      "needs_background": "light"
     },
     "output_type": "display_data"
    }
   ],
   "source": [
    "import matplotlib.cm as cm\n",
    "\n",
    "\n",
    "plt.figure()\n",
    "companies = list(link_dict.keys())[27:29]\n",
    "\n",
    "idx = 0\n",
    "for company in companies:\n",
    "    \n",
    "    if link_dict3[company].empty:\n",
    "        print(company)\n",
    "        continue\n",
    "    \n",
    "    sample1 = link_dict3[company]['Loc7'].values[0]\n",
    "    sample2 = link_dict3[company]['Loc8'].values[0]\n",
    "    \n",
    "    try:\n",
    "        x_points = [x[0][0] for x in sample1]\n",
    "        y_points = [x[0][0] for x in sample2]\n",
    "        points = np.array(list(itertools.product(x_points, y_points)))\n",
    "        plt.scatter(points[:,0], points[:,1])\n",
    "    except:\n",
    "        print(company)\n",
    "        continue\n",
    "plt.show()"
   ]
  },
  {
   "cell_type": "code",
   "execution_count": 433,
   "metadata": {},
   "outputs": [
    {
     "data": {
      "text/plain": [
       "['0000004977', '0001391461']"
      ]
     },
     "execution_count": 433,
     "metadata": {},
     "output_type": "execute_result"
    }
   ],
   "source": [
    "companies = list(link_dict.keys())[27:29]\n",
    "companies"
   ]
  },
  {
   "cell_type": "code",
   "execution_count": 442,
   "metadata": {},
   "outputs": [
    {
     "data": {
      "text/plain": [
       "'https://www.sec.gov/Archives/edgar/data/4977/000000497721000047/afl-20201231.htm'"
      ]
     },
     "execution_count": 442,
     "metadata": {},
     "output_type": "execute_result"
    }
   ],
   "source": [
    "link_dict3['0000004977']['Link'].values[0]"
   ]
  },
  {
   "cell_type": "code",
   "execution_count": 435,
   "metadata": {},
   "outputs": [
    {
     "data": {
      "text/plain": [
       "[114316,\n",
       " 245736,\n",
       " 247593,\n",
       " 247975,\n",
       " 253500,\n",
       " 259002,\n",
       " 264175,\n",
       " 269233,\n",
       " 274441,\n",
       " 278663,\n",
       " 281976,\n",
       " 282917,\n",
       " 287953,\n",
       " 292246,\n",
       " 296530,\n",
       " 301746,\n",
       " 304215,\n",
       " 307837,\n",
       " 310912,\n",
       " 316022,\n",
       " 318751,\n",
       " 321221,\n",
       " 324260,\n",
       " 327586,\n",
       " 331226,\n",
       " 333189,\n",
       " 335910,\n",
       " 338018,\n",
       " 339944,\n",
       " 343387,\n",
       " 347369,\n",
       " 350549,\n",
       " 353007,\n",
       " 355957,\n",
       " 359802,\n",
       " 364992,\n",
       " 369265,\n",
       " 374432,\n",
       " 377692,\n",
       " 382552,\n",
       " 387773,\n",
       " 393268,\n",
       " 397266,\n",
       " 400941,\n",
       " 406712]"
      ]
     },
     "execution_count": 435,
     "metadata": {},
     "output_type": "execute_result"
    }
   ],
   "source": [
    "x_points"
   ]
  },
  {
   "cell_type": "code",
   "execution_count": 347,
   "metadata": {},
   "outputs": [
    {
     "data": {
      "text/plain": [
       "Series([], Name: Link, dtype: object)"
      ]
     },
     "execution_count": 347,
     "metadata": {},
     "output_type": "execute_result"
    }
   ],
   "source": [
    "link_dict3[company]['Link']"
   ]
  },
  {
   "cell_type": "code",
   "execution_count": 359,
   "metadata": {},
   "outputs": [
    {
     "data": {
      "text/plain": [
       "['0001391461',\n",
       " '0001409741',\n",
       " '0001181249',\n",
       " '0001124074',\n",
       " '0001576340',\n",
       " '0000031225',\n",
       " '0001319183',\n",
       " '0001438893',\n",
       " '0000806085',\n",
       " '0001323206',\n",
       " '0000798738',\n",
       " '0000833203']"
      ]
     },
     "execution_count": 359,
     "metadata": {},
     "output_type": "execute_result"
    }
   ],
   "source": [
    "[x for x in link_dict.keys() if link_dict[x].empty]"
   ]
  },
  {
   "cell_type": "code",
   "execution_count": 364,
   "metadata": {},
   "outputs": [
    {
     "data": {
      "text/plain": [
       "True"
      ]
     },
     "execution_count": 364,
     "metadata": {},
     "output_type": "execute_result"
    }
   ],
   "source": [
    "link_dict[company].empty"
   ]
  },
  {
   "cell_type": "markdown",
   "metadata": {},
   "source": [
    "# Try Another Thing"
   ]
  },
  {
   "cell_type": "code",
   "execution_count": null,
   "metadata": {},
   "outputs": [],
   "source": [
    "start = time.time()\n",
    "link_dict4 = {}\n",
    "\n",
    "for key in list(link_dict.keys()):\n",
    "\n",
    "    loc7list = []\n",
    "    loc8list = []\n",
    "    \n",
    "    sample = link_dict[key].copy()\n",
    "    sample = sample[sample['reportDate'].values > '1996-01-01']\n",
    "    for i in range(len(sample)):\n",
    "        sample_link = sample.iloc[i,:]['Link']\n",
    "        response = requests.get(sample_link, headers=heads).text\n",
    "        soup = BeautifulSoup(response, 'lxml')\n",
    "        cleaned_soup = soup.text\n",
    "        locs7 = re.finditer(r\"ITEM\\s7(|\\.)\\sManagement\", cleaned_soup, re.IGNORECASE)\n",
    "        locs8 = re.finditer(r\"ITEM\\s8(|A)(|\\.)\\s(Consolidated|Financial)\", cleaned_soup, re.IGNORECASE)\n",
    "\n",
    "        loc7list.append([[x.span(), x.group()] for x in locs7])\n",
    "        loc8list.append([[x.span(), x.group()] for x in locs8])\n",
    "    \n",
    "    sample['Loc7'] = loc7list\n",
    "    sample['Loc8'] = loc8list\n",
    "    \n",
    "    link_dict4[key] = sample.copy()\n",
    "\n",
    "end = time.time()"
   ]
  },
  {
   "cell_type": "code",
   "execution_count": 421,
   "metadata": {},
   "outputs": [
    {
     "data": {
      "text/plain": [
       "array(['https://www.sec.gov/Archives/edgar/data/1051470/000105147021000031/cci-20201231.htm',\n",
       "       'https://www.sec.gov/Archives/edgar/data/1051470/000105147020000077/cci10k123119q4.htm',\n",
       "       'https://www.sec.gov/Archives/edgar/data/1051470/000105147019000046/cci10-k123118.htm',\n",
       "       'https://www.sec.gov/Archives/edgar/data/1051470/000105147018000082/cci10-k123117.htm',\n",
       "       'https://www.sec.gov/Archives/edgar/data/1051470/000105147017000059/cci10-k123116.htm',\n",
       "       'https://www.sec.gov/Archives/edgar/data/1051470/000105147016000158/cci10-k123115.htm',\n",
       "       'https://www.sec.gov/Archives/edgar/data/1051470/000105147015000034/cci10-k123114.htm',\n",
       "       'https://www.sec.gov/Archives/edgar/data/1051470/000105147014000008/cci10-k123113.htm',\n",
       "       'https://www.sec.gov/Archives/edgar/data/1051470/000105147013000007/cci10-k123112.htm',\n",
       "       'https://www.sec.gov/Archives/edgar/data/1051470/000105147012000007/cci10-k123111.htm',\n",
       "       'https://www.sec.gov/Archives/edgar/data/1051470/000144530511000263/cci10k123110.htm'],\n",
       "      dtype=object)"
      ]
     },
     "execution_count": 421,
     "metadata": {},
     "output_type": "execute_result"
    }
   ],
   "source": [
    "link_dict[list(link_dict.keys())[150]]['Link'].values"
   ]
  },
  {
   "cell_type": "code",
   "execution_count": 413,
   "metadata": {},
   "outputs": [],
   "source": [
    "sample_link = 'https://www.sec.gov/Archives/edgar/data/6201/000000620121000014/aal-20201231.htm'\n",
    "response = requests.get(sample_link, headers=heads).text"
   ]
  },
  {
   "cell_type": "code",
   "execution_count": 416,
   "metadata": {},
   "outputs": [
    {
     "name": "stderr",
     "output_type": "stream",
     "text": [
      "IOPub data rate exceeded.\n",
      "The notebook server will temporarily stop sending output\n",
      "to the client in order to avoid crashing it.\n",
      "To change this limit, set the config variable\n",
      "`--NotebookApp.iopub_data_rate_limit`.\n",
      "\n",
      "Current values:\n",
      "NotebookApp.iopub_data_rate_limit=1000000.0 (bytes/sec)\n",
      "NotebookApp.rate_limit_window=3.0 (secs)\n",
      "\n"
     ]
    }
   ],
   "source": [
    "print(response)"
   ]
  },
  {
   "cell_type": "code",
   "execution_count": 446,
   "metadata": {},
   "outputs": [],
   "source": [
    "soup = BeautifulSoup(response, 'lxml')"
   ]
  },
  {
   "cell_type": "code",
   "execution_count": 463,
   "metadata": {},
   "outputs": [],
   "source": [
    "tables = soup.findAll('table')"
   ]
  },
  {
   "cell_type": "code",
   "execution_count": 470,
   "metadata": {},
   "outputs": [
    {
     "data": {
      "text/plain": [
       "'<table cellpadding=\"0\" cellspacing=\"0\" style=\"font-family:Times New Roman;font-size:10pt;margin-left:auto;margin-right:auto;width:100%;border-collapse:collapse;text-align:left;\"><tr><td colspan=\"1\"></td></tr><tr><td style=\"width:100%;\"></td></tr><tr><td style=\"vertical-align:bottom;border-bottom:1px solid #000000;padding-left:2px;padding-top:2px;padding-bottom:2px;padding-right:2px;border-top:1px solid #000000;\"><div style=\"overflow:hidden;height:5px;font-size:10pt;\"><font style=\"font-family:inherit;font-size:10pt;\">\\xa0</font></div></td></tr></table>'"
      ]
     },
     "execution_count": 470,
     "metadata": {},
     "output_type": "execute_result"
    }
   ],
   "source": [
    "str(tables[6])"
   ]
  },
  {
   "cell_type": "code",
   "execution_count": 444,
   "metadata": {},
   "outputs": [
    {
     "name": "stdout",
     "output_type": "stream",
     "text": [
      "\n"
     ]
    }
   ],
   "source": [
    "filing = ''\n",
    "for f in soup.select('font'):\n",
    "    if f.text is not None and t.text != \"Table of Contents\":\n",
    "        filing+=(f.text)+\" \\n\"\n",
    "print(filing.split('Item 1B')[0].split('Item 1A')[-1])"
   ]
  },
  {
   "cell_type": "code",
   "execution_count": 449,
   "metadata": {},
   "outputs": [],
   "source": [
    "file = requests.get('https://www.sec.gov/Archives/edgar/data/101830/000010183019000022/sprintcorp201810-k.htm')                                                                      \n",
    "soup = BeautifulSoup(file.content, 'html.parser')                                                                                                                                 \n",
    "risk_factors_header = soup.find_all(\"font\", text=\"Risk Factors\")[1]                                                                                                                  \n",
    "staff_comments_header = soup.find_all(\"font\", text=\"Unresolved Staff Comments \")[0]                                                                                                  "
   ]
  },
  {
   "cell_type": "code",
   "execution_count": 450,
   "metadata": {},
   "outputs": [
    {
     "data": {
      "text/plain": [
       "<font style=\"font-family:inherit;font-size:10pt;font-style:italic;font-weight:bold;\">Risk Factors</font>"
      ]
     },
     "execution_count": 450,
     "metadata": {},
     "output_type": "execute_result"
    }
   ],
   "source": [
    "risk_factors_header"
   ]
  },
  {
   "cell_type": "code",
   "execution_count": null,
   "metadata": {},
   "outputs": [],
   "source": []
  }
 ],
 "metadata": {
  "kernelspec": {
   "display_name": "Python 3",
   "language": "python",
   "name": "python3"
  },
  "language_info": {
   "codemirror_mode": {
    "name": "ipython",
    "version": 3
   },
   "file_extension": ".py",
   "mimetype": "text/x-python",
   "name": "python",
   "nbconvert_exporter": "python",
   "pygments_lexer": "ipython3",
   "version": "3.7.4"
  }
 },
 "nbformat": 4,
 "nbformat_minor": 2
}
