{
 "cells": [
  {
   "cell_type": "markdown",
   "metadata": {},
   "source": [
    "# Document Parsing\n",
    "\n",
    "In this notebook, we will be iterating through all the links created in file 2.2. (i.e. link_dict.pickle), extracting the necessary information, and then saving an updated dictionary, which will be analyzed in section 3. "
   ]
  },
  {
   "cell_type": "code",
   "execution_count": 64,
   "metadata": {},
   "outputs": [],
   "source": [
    "import numpy as np\n",
    "import pandas as pd\n",
    "import os\n",
    "import pickle\n",
    "import time\n",
    "import json\n",
    "import requests\n",
    "import re\n",
    "\n",
    "from bs4 import BeautifulSoup"
   ]
  },
  {
   "cell_type": "code",
   "execution_count": 4,
   "metadata": {},
   "outputs": [],
   "source": [
    "with open('../Step1-Data/2-link_dict.pickle', 'rb') as f:\n",
    "    link_dict = pickle.load(f)"
   ]
  },
  {
   "cell_type": "code",
   "execution_count": 11,
   "metadata": {},
   "outputs": [
    {
     "data": {
      "text/plain": [
       "['0000006201', '0001158449', '0000320193', '0001551152', '0001140859']"
      ]
     },
     "execution_count": 11,
     "metadata": {},
     "output_type": "execute_result"
    }
   ],
   "source": [
    "# Sanity check\n",
    "list(link_dict.keys())[:5]"
   ]
  },
  {
   "cell_type": "markdown",
   "metadata": {},
   "source": [
    "# Single Name Sample\n",
    "\n",
    "First, we will start by using a single name to parse its documents, then extrapolate to all."
   ]
  },
  {
   "cell_type": "code",
   "execution_count": 12,
   "metadata": {},
   "outputs": [
    {
     "data": {
      "text/html": [
       "<div>\n",
       "<style scoped>\n",
       "    .dataframe tbody tr th:only-of-type {\n",
       "        vertical-align: middle;\n",
       "    }\n",
       "\n",
       "    .dataframe tbody tr th {\n",
       "        vertical-align: top;\n",
       "    }\n",
       "\n",
       "    .dataframe thead th {\n",
       "        text-align: right;\n",
       "    }\n",
       "</style>\n",
       "<table border=\"1\" class=\"dataframe\">\n",
       "  <thead>\n",
       "    <tr style=\"text-align: right;\">\n",
       "      <th></th>\n",
       "      <th>accessionNumber</th>\n",
       "      <th>filingDate</th>\n",
       "      <th>reportDate</th>\n",
       "      <th>acceptanceDateTime</th>\n",
       "      <th>act</th>\n",
       "      <th>form</th>\n",
       "      <th>fileNumber</th>\n",
       "      <th>filmNumber</th>\n",
       "      <th>items</th>\n",
       "      <th>size</th>\n",
       "      <th>isXBRL</th>\n",
       "      <th>isInlineXBRL</th>\n",
       "      <th>primaryDocument</th>\n",
       "      <th>primaryDocDescription</th>\n",
       "      <th>Link</th>\n",
       "    </tr>\n",
       "  </thead>\n",
       "  <tbody>\n",
       "    <tr>\n",
       "      <th>49</th>\n",
       "      <td>0000006201-21-000014</td>\n",
       "      <td>2021-02-17</td>\n",
       "      <td>2020-12-31</td>\n",
       "      <td>2021-02-17T17:17:57.000Z</td>\n",
       "      <td>34</td>\n",
       "      <td>10-K</td>\n",
       "      <td>001-08400</td>\n",
       "      <td>21646186</td>\n",
       "      <td></td>\n",
       "      <td>43925703</td>\n",
       "      <td>1</td>\n",
       "      <td>1</td>\n",
       "      <td>aal-20201231.htm</td>\n",
       "      <td>10-K 2020 02.17.21</td>\n",
       "      <td>https://www.sec.gov/Archives/edgar/data/6201/0...</td>\n",
       "    </tr>\n",
       "    <tr>\n",
       "      <th>150</th>\n",
       "      <td>0000006201-20-000023</td>\n",
       "      <td>2020-02-19</td>\n",
       "      <td>2019-12-31</td>\n",
       "      <td>2020-02-19T07:31:30.000Z</td>\n",
       "      <td>34</td>\n",
       "      <td>10-K</td>\n",
       "      <td>001-08400</td>\n",
       "      <td>20627428</td>\n",
       "      <td></td>\n",
       "      <td>30851334</td>\n",
       "      <td>1</td>\n",
       "      <td>1</td>\n",
       "      <td>a10k123119.htm</td>\n",
       "      <td>10-K 2019 02.19.20</td>\n",
       "      <td>https://www.sec.gov/Archives/edgar/data/6201/0...</td>\n",
       "    </tr>\n",
       "    <tr>\n",
       "      <th>225</th>\n",
       "      <td>0000006201-19-000009</td>\n",
       "      <td>2019-02-25</td>\n",
       "      <td>2018-12-31</td>\n",
       "      <td>2019-02-25T07:31:34.000Z</td>\n",
       "      <td>34</td>\n",
       "      <td>10-K</td>\n",
       "      <td>001-08400</td>\n",
       "      <td>19628071</td>\n",
       "      <td></td>\n",
       "      <td>30572408</td>\n",
       "      <td>1</td>\n",
       "      <td>0</td>\n",
       "      <td>a10k123118.htm</td>\n",
       "      <td>10-K 2018 02.25.19</td>\n",
       "      <td>https://www.sec.gov/Archives/edgar/data/6201/0...</td>\n",
       "    </tr>\n",
       "    <tr>\n",
       "      <th>315</th>\n",
       "      <td>0000006201-18-000009</td>\n",
       "      <td>2018-02-21</td>\n",
       "      <td>2017-12-31</td>\n",
       "      <td>2018-02-21T08:02:40.000Z</td>\n",
       "      <td>34</td>\n",
       "      <td>10-K</td>\n",
       "      <td>001-08400</td>\n",
       "      <td>18627088</td>\n",
       "      <td></td>\n",
       "      <td>27914491</td>\n",
       "      <td>1</td>\n",
       "      <td>0</td>\n",
       "      <td>a10k123117.htm</td>\n",
       "      <td>10-K</td>\n",
       "      <td>https://www.sec.gov/Archives/edgar/data/6201/0...</td>\n",
       "    </tr>\n",
       "    <tr>\n",
       "      <th>412</th>\n",
       "      <td>0001193125-17-051216</td>\n",
       "      <td>2017-02-22</td>\n",
       "      <td>2016-12-31</td>\n",
       "      <td>2017-02-22T08:01:43.000Z</td>\n",
       "      <td>34</td>\n",
       "      <td>10-K</td>\n",
       "      <td>001-08400</td>\n",
       "      <td>17627073</td>\n",
       "      <td></td>\n",
       "      <td>24888480</td>\n",
       "      <td>1</td>\n",
       "      <td>0</td>\n",
       "      <td>d286458d10k.htm</td>\n",
       "      <td>FORM 10-K</td>\n",
       "      <td>https://www.sec.gov/Archives/edgar/data/6201/0...</td>\n",
       "    </tr>\n",
       "    <tr>\n",
       "      <th>538</th>\n",
       "      <td>0001193125-16-474605</td>\n",
       "      <td>2016-02-24</td>\n",
       "      <td>2015-12-31</td>\n",
       "      <td>2016-02-24T08:04:10.000Z</td>\n",
       "      <td>34</td>\n",
       "      <td>10-K</td>\n",
       "      <td>001-08400</td>\n",
       "      <td>161450518</td>\n",
       "      <td></td>\n",
       "      <td>26170400</td>\n",
       "      <td>1</td>\n",
       "      <td>0</td>\n",
       "      <td>d78287d10k.htm</td>\n",
       "      <td>FORM 10-K</td>\n",
       "      <td>https://www.sec.gov/Archives/edgar/data/6201/0...</td>\n",
       "    </tr>\n",
       "    <tr>\n",
       "      <th>651</th>\n",
       "      <td>0001193125-15-061145</td>\n",
       "      <td>2015-02-25</td>\n",
       "      <td>2014-12-31</td>\n",
       "      <td>2015-02-25T08:02:34.000Z</td>\n",
       "      <td>34</td>\n",
       "      <td>10-K</td>\n",
       "      <td>001-08400</td>\n",
       "      <td>15645918</td>\n",
       "      <td></td>\n",
       "      <td>39524925</td>\n",
       "      <td>1</td>\n",
       "      <td>0</td>\n",
       "      <td>d829913d10k.htm</td>\n",
       "      <td>FORM 10-K</td>\n",
       "      <td>https://www.sec.gov/Archives/edgar/data/6201/0...</td>\n",
       "    </tr>\n",
       "    <tr>\n",
       "      <th>750</th>\n",
       "      <td>0000006201-14-000004</td>\n",
       "      <td>2014-02-28</td>\n",
       "      <td>2013-12-31</td>\n",
       "      <td>2014-02-28T07:52:16.000Z</td>\n",
       "      <td>34</td>\n",
       "      <td>10-K</td>\n",
       "      <td>001-08400</td>\n",
       "      <td>14651496</td>\n",
       "      <td></td>\n",
       "      <td>47888955</td>\n",
       "      <td>1</td>\n",
       "      <td>0</td>\n",
       "      <td>aagaa10k-20131231.htm</td>\n",
       "      <td>10-K</td>\n",
       "      <td>https://www.sec.gov/Archives/edgar/data/6201/0...</td>\n",
       "    </tr>\n",
       "  </tbody>\n",
       "</table>\n",
       "</div>"
      ],
      "text/plain": [
       "          accessionNumber  filingDate  reportDate        acceptanceDateTime  \\\n",
       "49   0000006201-21-000014  2021-02-17  2020-12-31  2021-02-17T17:17:57.000Z   \n",
       "150  0000006201-20-000023  2020-02-19  2019-12-31  2020-02-19T07:31:30.000Z   \n",
       "225  0000006201-19-000009  2019-02-25  2018-12-31  2019-02-25T07:31:34.000Z   \n",
       "315  0000006201-18-000009  2018-02-21  2017-12-31  2018-02-21T08:02:40.000Z   \n",
       "412  0001193125-17-051216  2017-02-22  2016-12-31  2017-02-22T08:01:43.000Z   \n",
       "538  0001193125-16-474605  2016-02-24  2015-12-31  2016-02-24T08:04:10.000Z   \n",
       "651  0001193125-15-061145  2015-02-25  2014-12-31  2015-02-25T08:02:34.000Z   \n",
       "750  0000006201-14-000004  2014-02-28  2013-12-31  2014-02-28T07:52:16.000Z   \n",
       "\n",
       "    act  form fileNumber filmNumber items      size  isXBRL  isInlineXBRL  \\\n",
       "49   34  10-K  001-08400   21646186        43925703       1             1   \n",
       "150  34  10-K  001-08400   20627428        30851334       1             1   \n",
       "225  34  10-K  001-08400   19628071        30572408       1             0   \n",
       "315  34  10-K  001-08400   18627088        27914491       1             0   \n",
       "412  34  10-K  001-08400   17627073        24888480       1             0   \n",
       "538  34  10-K  001-08400  161450518        26170400       1             0   \n",
       "651  34  10-K  001-08400   15645918        39524925       1             0   \n",
       "750  34  10-K  001-08400   14651496        47888955       1             0   \n",
       "\n",
       "           primaryDocument primaryDocDescription  \\\n",
       "49        aal-20201231.htm    10-K 2020 02.17.21   \n",
       "150         a10k123119.htm    10-K 2019 02.19.20   \n",
       "225         a10k123118.htm    10-K 2018 02.25.19   \n",
       "315         a10k123117.htm                  10-K   \n",
       "412        d286458d10k.htm             FORM 10-K   \n",
       "538         d78287d10k.htm             FORM 10-K   \n",
       "651        d829913d10k.htm             FORM 10-K   \n",
       "750  aagaa10k-20131231.htm                  10-K   \n",
       "\n",
       "                                                  Link  \n",
       "49   https://www.sec.gov/Archives/edgar/data/6201/0...  \n",
       "150  https://www.sec.gov/Archives/edgar/data/6201/0...  \n",
       "225  https://www.sec.gov/Archives/edgar/data/6201/0...  \n",
       "315  https://www.sec.gov/Archives/edgar/data/6201/0...  \n",
       "412  https://www.sec.gov/Archives/edgar/data/6201/0...  \n",
       "538  https://www.sec.gov/Archives/edgar/data/6201/0...  \n",
       "651  https://www.sec.gov/Archives/edgar/data/6201/0...  \n",
       "750  https://www.sec.gov/Archives/edgar/data/6201/0...  "
      ]
     },
     "execution_count": 12,
     "metadata": {},
     "output_type": "execute_result"
    }
   ],
   "source": [
    "sample = link_dict['0000006201']\n",
    "sample"
   ]
  },
  {
   "cell_type": "code",
   "execution_count": 15,
   "metadata": {},
   "outputs": [
    {
     "data": {
      "text/plain": [
       "'https://www.sec.gov/Archives/edgar/data/6201/000000620121000014/aal-20201231.htm'"
      ]
     },
     "execution_count": 15,
     "metadata": {},
     "output_type": "execute_result"
    }
   ],
   "source": [
    "sample_link = sample['Link'].values[0]\n",
    "sample_link"
   ]
  },
  {
   "cell_type": "code",
   "execution_count": 26,
   "metadata": {},
   "outputs": [],
   "source": [
    "# Used for the requests\n",
    "heads = {#'Host': 'www.sec.gov', \n",
    "         #'Connection': 'close',\n",
    "         'Accept': 'application/json',#, text/javascript, */*; q=0.01', \n",
    "         'X-Requested-With': 'XMLHttpRequest',\n",
    "         'User-Agent': 'Mozilla/5.0 (Windows NT 10.0; Win64; x64) AppleWebKit/537.36 (KHTML, like Gecko) Chrome/80.0.3987.163 Safari/537.36',\n",
    "         }"
   ]
  },
  {
   "cell_type": "code",
   "execution_count": 54,
   "metadata": {},
   "outputs": [],
   "source": [
    "response = requests.get(sample_link, headers=heads).text"
   ]
  },
  {
   "cell_type": "code",
   "execution_count": 55,
   "metadata": {},
   "outputs": [
    {
     "data": {
      "text/plain": [
       "'<?xml version=\"1.0\" ?><!--XBRL Document Created with Wdesk from Workiva--><!--Copyright 2021 Workiva--><!--r:e284921f-ba97-4934-aa95-4c28f5345f62,g:0d6c1504-a6c8-4292-b9c4-47751639beae,d:218984ca4fa54d3589b92be28c18f351--><html xmlns:xsi=\"http://www.w3.org/2001/XMLSchema-instance\" xmlns:srt=\"http://fasb.org/srt/2020-01-31\" xmlns:iso4217=\"http://www.xbrl.org/2003/iso4217\" xmlns:xlink=\"http://www.w3.org/1999/xlink\" xmlns=\"http://www.w3.org/1999/xhtml\" xmlns:xbrldi=\"http://xbrl.org/2006/xbrldi\" xml'"
      ]
     },
     "execution_count": 55,
     "metadata": {},
     "output_type": "execute_result"
    }
   ],
   "source": [
    "response[:500]"
   ]
  },
  {
   "cell_type": "code",
   "execution_count": 58,
   "metadata": {},
   "outputs": [],
   "source": [
    "soup = BeautifulSoup(response, 'lxml')"
   ]
  },
  {
   "cell_type": "code",
   "execution_count": 148,
   "metadata": {},
   "outputs": [],
   "source": [
    "cleaned_soup = soup.text"
   ]
  },
  {
   "cell_type": "code",
   "execution_count": 149,
   "metadata": {},
   "outputs": [],
   "source": [
    "raw_10k = str(soup)"
   ]
  },
  {
   "cell_type": "code",
   "execution_count": 101,
   "metadata": {},
   "outputs": [
    {
     "data": {
      "text/plain": [
       "[<re.Match object; span=(158292, 158310), match='Item 7. Management'>,\n",
       " <re.Match object; span=(167163, 167181), match='Item\\xa07. Management'>,\n",
       " <re.Match object; span=(180987, 181005), match='Item\\xa07. Management'>,\n",
       " <re.Match object; span=(430418, 430436), match='Item 7. Management'>,\n",
       " <re.Match object; span=(440363, 440381), match='Item 7. Management'>,\n",
       " <re.Match object; span=(451837, 451855), match='Item 7. Management'>]"
      ]
     },
     "execution_count": 101,
     "metadata": {},
     "output_type": "execute_result"
    }
   ],
   "source": [
    "locs7 = re.finditer(r\"ITEM\\s7(|\\.) Management\", cleaned_soup, re.IGNORECASE)\n",
    "[x for x in locs7]"
   ]
  },
  {
   "cell_type": "code",
   "execution_count": 103,
   "metadata": {},
   "outputs": [
    {
     "data": {
      "text/plain": [
       "[<re.Match object; span=(502641, 502662), match='ITEM\\xa08A.\\xa0CONSOLIDATED'>]"
      ]
     },
     "execution_count": 103,
     "metadata": {},
     "output_type": "execute_result"
    }
   ],
   "source": [
    "locs8 = re.finditer(r\"ITEM\\s8(|A)(|\\.)\\s(Consolidated|Financial)\", cleaned_soup, re.IGNORECASE)\n",
    "[x for x in locs8]"
   ]
  },
  {
   "cell_type": "markdown",
   "metadata": {},
   "source": [
    "I wonder if maybe it would be best to use some sort of clustering algorithm to find the correct locations? "
   ]
  },
  {
   "cell_type": "code",
   "execution_count": 223,
   "metadata": {},
   "outputs": [],
   "source": [
    "start = time.time()\n",
    "#link_dict2 = {}\n",
    "\n",
    "for key in list(link_dict.keys())[686:]:\n",
    "\n",
    "    loc7list = []\n",
    "    loc8list = []\n",
    "    \n",
    "    sample = link_dict[key].copy()\n",
    "    for i in range(len(sample)):\n",
    "        sample_link = sample.iloc[i,:]['Link']\n",
    "        response = requests.get(sample_link, headers=heads).text\n",
    "        soup = BeautifulSoup(response, 'lxml')\n",
    "        cleaned_soup = soup.text\n",
    "        locs7 = re.finditer(r\"ITEM\\s7(|\\.)\\sManagement\", cleaned_soup, re.IGNORECASE)\n",
    "        locs8 = re.finditer(r\"ITEM\\s8(|A)(|\\.)\\s(Consolidated|Financial)\", cleaned_soup, re.IGNORECASE)\n",
    "\n",
    "        loc7list.append(locs7)\n",
    "        loc8list.append(locs8)\n",
    "    \n",
    "    sample['Loc7'] = loc7list\n",
    "    sample['Loc8'] = loc8list\n",
    "    \n",
    "    link_dict2[key] = sample.copy()\n",
    "\n",
    "end = time.time()"
   ]
  },
  {
   "cell_type": "code",
   "execution_count": 222,
   "metadata": {},
   "outputs": [
    {
     "ename": "TypeError",
     "evalue": "can't pickle _sre.SRE_Scanner objects",
     "output_type": "error",
     "traceback": [
      "\u001b[0;31m---------------------------------------------------------------------------\u001b[0m",
      "\u001b[0;31mTypeError\u001b[0m                                 Traceback (most recent call last)",
      "\u001b[0;32m<ipython-input-222-3647b7173d50>\u001b[0m in \u001b[0;36m<module>\u001b[0;34m\u001b[0m\n\u001b[1;32m      1\u001b[0m \u001b[0;32mwith\u001b[0m \u001b[0mopen\u001b[0m\u001b[0;34m(\u001b[0m\u001b[0;34m'2-link_dict.pickle'\u001b[0m\u001b[0;34m,\u001b[0m \u001b[0;34m'rb'\u001b[0m\u001b[0;34m)\u001b[0m \u001b[0;32mas\u001b[0m \u001b[0mhandle\u001b[0m\u001b[0;34m:\u001b[0m\u001b[0;34m\u001b[0m\u001b[0;34m\u001b[0m\u001b[0m\n\u001b[0;32m----> 2\u001b[0;31m     \u001b[0mpickle\u001b[0m\u001b[0;34m.\u001b[0m\u001b[0mdump\u001b[0m\u001b[0;34m(\u001b[0m\u001b[0mlink_dict2\u001b[0m\u001b[0;34m,\u001b[0m \u001b[0mhandle\u001b[0m\u001b[0;34m,\u001b[0m \u001b[0mprotocol\u001b[0m\u001b[0;34m=\u001b[0m\u001b[0mpickle\u001b[0m\u001b[0;34m.\u001b[0m\u001b[0mHIGHEST_PROTOCOL\u001b[0m\u001b[0;34m)\u001b[0m\u001b[0;34m\u001b[0m\u001b[0;34m\u001b[0m\u001b[0m\n\u001b[0m",
      "\u001b[0;31mTypeError\u001b[0m: can't pickle _sre.SRE_Scanner objects"
     ]
    }
   ],
   "source": [
    "with open('2-link_dict.pickle', 'rb') as handle:\n",
    "    pickle.dump(link_dict2, handle, protocol=pickle.HIGHEST_PROTOCOL)"
   ]
  },
  {
   "cell_type": "code",
   "execution_count": 218,
   "metadata": {},
   "outputs": [
    {
     "name": "stdout",
     "output_type": "stream",
     "text": [
      "30001.40250992775\n"
     ]
    }
   ],
   "source": [
    "print(time.time()-start)"
   ]
  },
  {
   "cell_type": "code",
   "execution_count": 224,
   "metadata": {},
   "outputs": [
    {
     "data": {
      "text/plain": [
       "873"
      ]
     },
     "execution_count": 224,
     "metadata": {},
     "output_type": "execute_result"
    }
   ],
   "source": [
    "len(link_dict2.keys())"
   ]
  },
  {
   "cell_type": "code",
   "execution_count": 214,
   "metadata": {},
   "outputs": [
    {
     "data": {
      "text/plain": [
       "6.319669485092163"
      ]
     },
     "execution_count": 214,
     "metadata": {},
     "output_type": "execute_result"
    }
   ],
   "source": [
    "((end-start) * 1110)/5 /60/60"
   ]
  },
  {
   "cell_type": "code",
   "execution_count": 205,
   "metadata": {},
   "outputs": [
    {
     "data": {
      "text/plain": [
       "[<re.Match object; span=(92292, 92310), match='Item 7. Management'>,\n",
       " <re.Match object; span=(105990, 106008), match='Item 7. Management'>]"
      ]
     },
     "execution_count": 205,
     "metadata": {},
     "output_type": "execute_result"
    }
   ],
   "source": [
    "[x for x in link_dict2['0001158449']['Loc7'].values[0]]"
   ]
  },
  {
   "cell_type": "code",
   "execution_count": 193,
   "metadata": {},
   "outputs": [
    {
     "data": {
      "text/plain": [
       "[]"
      ]
     },
     "execution_count": 193,
     "metadata": {},
     "output_type": "execute_result"
    }
   ],
   "source": [
    "[x for x in all_locs[4][0]]"
   ]
  },
  {
   "cell_type": "code",
   "execution_count": 196,
   "metadata": {},
   "outputs": [
    {
     "ename": "TypeError",
     "evalue": "'dict_keys' object is not subscriptable",
     "output_type": "error",
     "traceback": [
      "\u001b[0;31m---------------------------------------------------------------------------\u001b[0m",
      "\u001b[0;31mTypeError\u001b[0m                                 Traceback (most recent call last)",
      "\u001b[0;32m<ipython-input-196-738582d56f90>\u001b[0m in \u001b[0;36m<module>\u001b[0;34m\u001b[0m\n\u001b[0;32m----> 1\u001b[0;31m \u001b[0mlink_dict\u001b[0m\u001b[0;34m.\u001b[0m\u001b[0mkeys\u001b[0m\u001b[0;34m(\u001b[0m\u001b[0;34m)\u001b[0m\u001b[0;34m[\u001b[0m\u001b[0;34m:\u001b[0m\u001b[0;36m5\u001b[0m\u001b[0;34m]\u001b[0m\u001b[0;34m\u001b[0m\u001b[0;34m\u001b[0m\u001b[0m\n\u001b[0m",
      "\u001b[0;31mTypeError\u001b[0m: 'dict_keys' object is not subscriptable"
     ]
    }
   ],
   "source": [
    "link_dict.keys()[:5]"
   ]
  },
  {
   "cell_type": "code",
   "execution_count": null,
   "metadata": {},
   "outputs": [],
   "source": []
  }
 ],
 "metadata": {
  "kernelspec": {
   "display_name": "Python 3",
   "language": "python",
   "name": "python3"
  },
  "language_info": {
   "codemirror_mode": {
    "name": "ipython",
    "version": 3
   },
   "file_extension": ".py",
   "mimetype": "text/x-python",
   "name": "python",
   "nbconvert_exporter": "python",
   "pygments_lexer": "ipython3",
   "version": "3.7.4"
  }
 },
 "nbformat": 4,
 "nbformat_minor": 2
}
