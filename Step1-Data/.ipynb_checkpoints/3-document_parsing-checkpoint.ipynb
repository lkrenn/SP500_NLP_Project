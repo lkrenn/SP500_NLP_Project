{
 "cells": [
  {
   "cell_type": "markdown",
   "metadata": {},
   "source": [
    "# Document Parsing\n",
    "\n",
    "In this notebook, we will be iterating through all the links created in file 2.2. (i.e. link_dict.pickle), extracting the necessary information, and then saving an updated dictionary, which will be analyzed in section 3. "
   ]
  },
  {
   "cell_type": "code",
   "execution_count": 64,
   "metadata": {},
   "outputs": [],
   "source": [
    "import numpy as np\n",
    "import pandas as pd\n",
    "import os\n",
    "import pickle\n",
    "import time\n",
    "import json\n",
    "import requests\n",
    "import re\n",
    "\n",
    "from bs4 import BeautifulSoup"
   ]
  },
  {
   "cell_type": "code",
   "execution_count": 4,
   "metadata": {},
   "outputs": [],
   "source": [
    "with open('../Step1-Data/2-link_dict.pickle', 'rb') as f:\n",
    "    link_dict = pickle.load(f)"
   ]
  },
  {
   "cell_type": "code",
   "execution_count": 1,
   "metadata": {},
   "outputs": [
    {
     "ename": "NameError",
     "evalue": "name 'link_dict' is not defined",
     "output_type": "error",
     "traceback": [
      "\u001b[0;31m---------------------------------------------------------------------------\u001b[0m",
      "\u001b[0;31mNameError\u001b[0m                                 Traceback (most recent call last)",
      "\u001b[0;32m<ipython-input-1-f136e0b5cbb4>\u001b[0m in \u001b[0;36m<module>\u001b[0;34m\u001b[0m\n\u001b[1;32m      1\u001b[0m \u001b[0;31m# Sanity check\u001b[0m\u001b[0;34m\u001b[0m\u001b[0;34m\u001b[0m\u001b[0;34m\u001b[0m\u001b[0m\n\u001b[0;32m----> 2\u001b[0;31m \u001b[0mlist\u001b[0m\u001b[0;34m(\u001b[0m\u001b[0mlink_dict\u001b[0m\u001b[0;34m.\u001b[0m\u001b[0mkeys\u001b[0m\u001b[0;34m(\u001b[0m\u001b[0;34m)\u001b[0m\u001b[0;34m)\u001b[0m\u001b[0;34m[\u001b[0m\u001b[0;34m:\u001b[0m\u001b[0;36m5\u001b[0m\u001b[0;34m]\u001b[0m\u001b[0;34m\u001b[0m\u001b[0;34m\u001b[0m\u001b[0m\n\u001b[0m",
      "\u001b[0;31mNameError\u001b[0m: name 'link_dict' is not defined"
     ]
    }
   ],
   "source": [
    "# Sanity check\n",
    "list(link_dict.keys())[:5]"
   ]
  },
  {
   "cell_type": "code",
   "execution_count": 2,
   "metadata": {},
   "outputs": [
    {
     "name": "stdout",
     "output_type": "stream",
     "text": [
      "Loading pages (1/6)\n",
      "[>                                                           ] 0%\r",
      "[======>                                                     ] 10%\r",
      "[==================>                                         ] 30%\r",
      "[===========================>                                ] 45%\r",
      "[============================================================] 100%\r",
      "Counting pages (2/6)                                               \n",
      "[============================================================] Object 1 of 1\r",
      "Resolving links (4/6)                                                       \n",
      "[============================================================] Object 1 of 1\r",
      "Loading headers and footers (5/6)                                           \n",
      "Printing pages (6/6)\n",
      "[>                                                           ] Preparing\r",
      "[=>                                                          ] Page 1 of 32\r",
      "[===>                                                        ] Page 2 of 32\r",
      "[=====>                                                      ] Page 3 of 32\r",
      "[=======>                                                    ] Page 4 of 32\r",
      "[=========>                                                  ] Page 5 of 32\r",
      "[==========>                                                 ] Page 6 of 32\r",
      "[============>                                               ] Page 7 of 32\r",
      "[===============>                                            ] Page 8 of 32\r",
      "[================>                                           ] Page 9 of 32\r",
      "[==================>                                         ] Page 10 of 32\r",
      "[====================>                                       ] Page 11 of 32\r",
      "[======================>                                     ] Page 12 of 32\r",
      "[========================>                                   ] Page 13 of 32\r",
      "[=========================>                                  ] Page 14 of 32\r",
      "[===========================>                                ] Page 15 of 32\r",
      "[==============================>                             ] Page 16 of 32\r",
      "[===============================>                            ] Page 17 of 32\r",
      "[=================================>                          ] Page 18 of 32\r",
      "[===================================>                        ] Page 19 of 32\r",
      "[=====================================>                      ] Page 20 of 32\r",
      "[=======================================>                    ] Page 21 of 32\r",
      "[========================================>                   ] Page 22 of 32\r",
      "[==========================================>                 ] Page 23 of 32\r",
      "[=============================================>              ] Page 24 of 32\r",
      "[==============================================>             ] Page 25 of 32\r",
      "[================================================>           ] Page 26 of 32\r",
      "[==================================================>         ] Page 27 of 32\r",
      "[====================================================>       ] Page 28 of 32\r",
      "[======================================================>     ] Page 29 of 32\r",
      "[=======================================================>    ] Page 30 of 32\r",
      "[=========================================================>  ] Page 31 of 32\r",
      "[============================================================] Page 32 of 32\r",
      "Done                                                                        \n"
     ]
    },
    {
     "data": {
      "text/plain": [
       "True"
      ]
     },
     "execution_count": 2,
     "metadata": {},
     "output_type": "execute_result"
    }
   ],
   "source": [
    "import pdfkit\n",
    "pdfkit.from_url('https://www.sec.gov/Archives/edgar/data/835910/000083591001000012/0000835910-01-000012.txt', 'aaaaa.pdf')"
   ]
  },
  {
   "cell_type": "markdown",
   "metadata": {},
   "source": [
    "# Single Name Sample\n",
    "\n",
    "First, we will start by using a single name to parse its documents, then extrapolate to all."
   ]
  },
  {
   "cell_type": "code",
   "execution_count": 12,
   "metadata": {},
   "outputs": [
    {
     "data": {
      "text/html": [
       "<div>\n",
       "<style scoped>\n",
       "    .dataframe tbody tr th:only-of-type {\n",
       "        vertical-align: middle;\n",
       "    }\n",
       "\n",
       "    .dataframe tbody tr th {\n",
       "        vertical-align: top;\n",
       "    }\n",
       "\n",
       "    .dataframe thead th {\n",
       "        text-align: right;\n",
       "    }\n",
       "</style>\n",
       "<table border=\"1\" class=\"dataframe\">\n",
       "  <thead>\n",
       "    <tr style=\"text-align: right;\">\n",
       "      <th></th>\n",
       "      <th>accessionNumber</th>\n",
       "      <th>filingDate</th>\n",
       "      <th>reportDate</th>\n",
       "      <th>acceptanceDateTime</th>\n",
       "      <th>act</th>\n",
       "      <th>form</th>\n",
       "      <th>fileNumber</th>\n",
       "      <th>filmNumber</th>\n",
       "      <th>items</th>\n",
       "      <th>size</th>\n",
       "      <th>isXBRL</th>\n",
       "      <th>isInlineXBRL</th>\n",
       "      <th>primaryDocument</th>\n",
       "      <th>primaryDocDescription</th>\n",
       "      <th>Link</th>\n",
       "    </tr>\n",
       "  </thead>\n",
       "  <tbody>\n",
       "    <tr>\n",
       "      <th>49</th>\n",
       "      <td>0000006201-21-000014</td>\n",
       "      <td>2021-02-17</td>\n",
       "      <td>2020-12-31</td>\n",
       "      <td>2021-02-17T17:17:57.000Z</td>\n",
       "      <td>34</td>\n",
       "      <td>10-K</td>\n",
       "      <td>001-08400</td>\n",
       "      <td>21646186</td>\n",
       "      <td></td>\n",
       "      <td>43925703</td>\n",
       "      <td>1</td>\n",
       "      <td>1</td>\n",
       "      <td>aal-20201231.htm</td>\n",
       "      <td>10-K 2020 02.17.21</td>\n",
       "      <td>https://www.sec.gov/Archives/edgar/data/6201/0...</td>\n",
       "    </tr>\n",
       "    <tr>\n",
       "      <th>150</th>\n",
       "      <td>0000006201-20-000023</td>\n",
       "      <td>2020-02-19</td>\n",
       "      <td>2019-12-31</td>\n",
       "      <td>2020-02-19T07:31:30.000Z</td>\n",
       "      <td>34</td>\n",
       "      <td>10-K</td>\n",
       "      <td>001-08400</td>\n",
       "      <td>20627428</td>\n",
       "      <td></td>\n",
       "      <td>30851334</td>\n",
       "      <td>1</td>\n",
       "      <td>1</td>\n",
       "      <td>a10k123119.htm</td>\n",
       "      <td>10-K 2019 02.19.20</td>\n",
       "      <td>https://www.sec.gov/Archives/edgar/data/6201/0...</td>\n",
       "    </tr>\n",
       "    <tr>\n",
       "      <th>225</th>\n",
       "      <td>0000006201-19-000009</td>\n",
       "      <td>2019-02-25</td>\n",
       "      <td>2018-12-31</td>\n",
       "      <td>2019-02-25T07:31:34.000Z</td>\n",
       "      <td>34</td>\n",
       "      <td>10-K</td>\n",
       "      <td>001-08400</td>\n",
       "      <td>19628071</td>\n",
       "      <td></td>\n",
       "      <td>30572408</td>\n",
       "      <td>1</td>\n",
       "      <td>0</td>\n",
       "      <td>a10k123118.htm</td>\n",
       "      <td>10-K 2018 02.25.19</td>\n",
       "      <td>https://www.sec.gov/Archives/edgar/data/6201/0...</td>\n",
       "    </tr>\n",
       "    <tr>\n",
       "      <th>315</th>\n",
       "      <td>0000006201-18-000009</td>\n",
       "      <td>2018-02-21</td>\n",
       "      <td>2017-12-31</td>\n",
       "      <td>2018-02-21T08:02:40.000Z</td>\n",
       "      <td>34</td>\n",
       "      <td>10-K</td>\n",
       "      <td>001-08400</td>\n",
       "      <td>18627088</td>\n",
       "      <td></td>\n",
       "      <td>27914491</td>\n",
       "      <td>1</td>\n",
       "      <td>0</td>\n",
       "      <td>a10k123117.htm</td>\n",
       "      <td>10-K</td>\n",
       "      <td>https://www.sec.gov/Archives/edgar/data/6201/0...</td>\n",
       "    </tr>\n",
       "    <tr>\n",
       "      <th>412</th>\n",
       "      <td>0001193125-17-051216</td>\n",
       "      <td>2017-02-22</td>\n",
       "      <td>2016-12-31</td>\n",
       "      <td>2017-02-22T08:01:43.000Z</td>\n",
       "      <td>34</td>\n",
       "      <td>10-K</td>\n",
       "      <td>001-08400</td>\n",
       "      <td>17627073</td>\n",
       "      <td></td>\n",
       "      <td>24888480</td>\n",
       "      <td>1</td>\n",
       "      <td>0</td>\n",
       "      <td>d286458d10k.htm</td>\n",
       "      <td>FORM 10-K</td>\n",
       "      <td>https://www.sec.gov/Archives/edgar/data/6201/0...</td>\n",
       "    </tr>\n",
       "    <tr>\n",
       "      <th>538</th>\n",
       "      <td>0001193125-16-474605</td>\n",
       "      <td>2016-02-24</td>\n",
       "      <td>2015-12-31</td>\n",
       "      <td>2016-02-24T08:04:10.000Z</td>\n",
       "      <td>34</td>\n",
       "      <td>10-K</td>\n",
       "      <td>001-08400</td>\n",
       "      <td>161450518</td>\n",
       "      <td></td>\n",
       "      <td>26170400</td>\n",
       "      <td>1</td>\n",
       "      <td>0</td>\n",
       "      <td>d78287d10k.htm</td>\n",
       "      <td>FORM 10-K</td>\n",
       "      <td>https://www.sec.gov/Archives/edgar/data/6201/0...</td>\n",
       "    </tr>\n",
       "    <tr>\n",
       "      <th>651</th>\n",
       "      <td>0001193125-15-061145</td>\n",
       "      <td>2015-02-25</td>\n",
       "      <td>2014-12-31</td>\n",
       "      <td>2015-02-25T08:02:34.000Z</td>\n",
       "      <td>34</td>\n",
       "      <td>10-K</td>\n",
       "      <td>001-08400</td>\n",
       "      <td>15645918</td>\n",
       "      <td></td>\n",
       "      <td>39524925</td>\n",
       "      <td>1</td>\n",
       "      <td>0</td>\n",
       "      <td>d829913d10k.htm</td>\n",
       "      <td>FORM 10-K</td>\n",
       "      <td>https://www.sec.gov/Archives/edgar/data/6201/0...</td>\n",
       "    </tr>\n",
       "    <tr>\n",
       "      <th>750</th>\n",
       "      <td>0000006201-14-000004</td>\n",
       "      <td>2014-02-28</td>\n",
       "      <td>2013-12-31</td>\n",
       "      <td>2014-02-28T07:52:16.000Z</td>\n",
       "      <td>34</td>\n",
       "      <td>10-K</td>\n",
       "      <td>001-08400</td>\n",
       "      <td>14651496</td>\n",
       "      <td></td>\n",
       "      <td>47888955</td>\n",
       "      <td>1</td>\n",
       "      <td>0</td>\n",
       "      <td>aagaa10k-20131231.htm</td>\n",
       "      <td>10-K</td>\n",
       "      <td>https://www.sec.gov/Archives/edgar/data/6201/0...</td>\n",
       "    </tr>\n",
       "  </tbody>\n",
       "</table>\n",
       "</div>"
      ],
      "text/plain": [
       "          accessionNumber  filingDate  reportDate        acceptanceDateTime  \\\n",
       "49   0000006201-21-000014  2021-02-17  2020-12-31  2021-02-17T17:17:57.000Z   \n",
       "150  0000006201-20-000023  2020-02-19  2019-12-31  2020-02-19T07:31:30.000Z   \n",
       "225  0000006201-19-000009  2019-02-25  2018-12-31  2019-02-25T07:31:34.000Z   \n",
       "315  0000006201-18-000009  2018-02-21  2017-12-31  2018-02-21T08:02:40.000Z   \n",
       "412  0001193125-17-051216  2017-02-22  2016-12-31  2017-02-22T08:01:43.000Z   \n",
       "538  0001193125-16-474605  2016-02-24  2015-12-31  2016-02-24T08:04:10.000Z   \n",
       "651  0001193125-15-061145  2015-02-25  2014-12-31  2015-02-25T08:02:34.000Z   \n",
       "750  0000006201-14-000004  2014-02-28  2013-12-31  2014-02-28T07:52:16.000Z   \n",
       "\n",
       "    act  form fileNumber filmNumber items      size  isXBRL  isInlineXBRL  \\\n",
       "49   34  10-K  001-08400   21646186        43925703       1             1   \n",
       "150  34  10-K  001-08400   20627428        30851334       1             1   \n",
       "225  34  10-K  001-08400   19628071        30572408       1             0   \n",
       "315  34  10-K  001-08400   18627088        27914491       1             0   \n",
       "412  34  10-K  001-08400   17627073        24888480       1             0   \n",
       "538  34  10-K  001-08400  161450518        26170400       1             0   \n",
       "651  34  10-K  001-08400   15645918        39524925       1             0   \n",
       "750  34  10-K  001-08400   14651496        47888955       1             0   \n",
       "\n",
       "           primaryDocument primaryDocDescription  \\\n",
       "49        aal-20201231.htm    10-K 2020 02.17.21   \n",
       "150         a10k123119.htm    10-K 2019 02.19.20   \n",
       "225         a10k123118.htm    10-K 2018 02.25.19   \n",
       "315         a10k123117.htm                  10-K   \n",
       "412        d286458d10k.htm             FORM 10-K   \n",
       "538         d78287d10k.htm             FORM 10-K   \n",
       "651        d829913d10k.htm             FORM 10-K   \n",
       "750  aagaa10k-20131231.htm                  10-K   \n",
       "\n",
       "                                                  Link  \n",
       "49   https://www.sec.gov/Archives/edgar/data/6201/0...  \n",
       "150  https://www.sec.gov/Archives/edgar/data/6201/0...  \n",
       "225  https://www.sec.gov/Archives/edgar/data/6201/0...  \n",
       "315  https://www.sec.gov/Archives/edgar/data/6201/0...  \n",
       "412  https://www.sec.gov/Archives/edgar/data/6201/0...  \n",
       "538  https://www.sec.gov/Archives/edgar/data/6201/0...  \n",
       "651  https://www.sec.gov/Archives/edgar/data/6201/0...  \n",
       "750  https://www.sec.gov/Archives/edgar/data/6201/0...  "
      ]
     },
     "execution_count": 12,
     "metadata": {},
     "output_type": "execute_result"
    }
   ],
   "source": [
    "sample = link_dict['0000006201']\n",
    "sample"
   ]
  },
  {
   "cell_type": "code",
   "execution_count": 271,
   "metadata": {},
   "outputs": [
    {
     "data": {
      "text/plain": [
       "'https://www.sec.gov/Archives/edgar/data/1555280/000155528021000098/zts-20201231.htm'"
      ]
     },
     "execution_count": 271,
     "metadata": {},
     "output_type": "execute_result"
    }
   ],
   "source": [
    "sample_link = sample['Link'].values[0]\n",
    "sample_link"
   ]
  },
  {
   "cell_type": "code",
   "execution_count": 279,
   "metadata": {},
   "outputs": [
    {
     "data": {
      "text/html": [
       "<div>\n",
       "<style scoped>\n",
       "    .dataframe tbody tr th:only-of-type {\n",
       "        vertical-align: middle;\n",
       "    }\n",
       "\n",
       "    .dataframe tbody tr th {\n",
       "        vertical-align: top;\n",
       "    }\n",
       "\n",
       "    .dataframe thead th {\n",
       "        text-align: right;\n",
       "    }\n",
       "</style>\n",
       "<table border=\"1\" class=\"dataframe\">\n",
       "  <thead>\n",
       "    <tr style=\"text-align: right;\">\n",
       "      <th></th>\n",
       "      <th>accessionNumber</th>\n",
       "      <th>filingDate</th>\n",
       "      <th>reportDate</th>\n",
       "      <th>acceptanceDateTime</th>\n",
       "      <th>act</th>\n",
       "      <th>form</th>\n",
       "      <th>fileNumber</th>\n",
       "      <th>filmNumber</th>\n",
       "      <th>items</th>\n",
       "      <th>size</th>\n",
       "      <th>isXBRL</th>\n",
       "      <th>isInlineXBRL</th>\n",
       "      <th>primaryDocument</th>\n",
       "      <th>primaryDocDescription</th>\n",
       "      <th>Link</th>\n",
       "      <th>Loc7</th>\n",
       "      <th>Loc8</th>\n",
       "    </tr>\n",
       "  </thead>\n",
       "  <tbody>\n",
       "    <tr>\n",
       "      <th>90</th>\n",
       "      <td>0001555280-21-000098</td>\n",
       "      <td>2021-02-16</td>\n",
       "      <td>2020-12-31</td>\n",
       "      <td>2021-02-16T14:24:47.000Z</td>\n",
       "      <td>34</td>\n",
       "      <td>10-K</td>\n",
       "      <td>001-35797</td>\n",
       "      <td>21636290</td>\n",
       "      <td></td>\n",
       "      <td>18961290</td>\n",
       "      <td>1</td>\n",
       "      <td>1</td>\n",
       "      <td>zts-20201231.htm</td>\n",
       "      <td>10-K</td>\n",
       "      <td>https://www.sec.gov/Archives/edgar/data/155528...</td>\n",
       "      <td>&lt;callable_iterator object at 0x7fc269c1bcd0&gt;</td>\n",
       "      <td>&lt;callable_iterator object at 0x7fc27d64d350&gt;</td>\n",
       "    </tr>\n",
       "    <tr>\n",
       "      <th>277</th>\n",
       "      <td>0001555280-20-000054</td>\n",
       "      <td>2020-02-13</td>\n",
       "      <td>2019-12-31</td>\n",
       "      <td>2020-02-13T15:13:44.000Z</td>\n",
       "      <td>34</td>\n",
       "      <td>10-K</td>\n",
       "      <td>001-35797</td>\n",
       "      <td>20609808</td>\n",
       "      <td></td>\n",
       "      <td>21406402</td>\n",
       "      <td>1</td>\n",
       "      <td>1</td>\n",
       "      <td>zoetis-20191231x10kye.htm</td>\n",
       "      <td>10-K</td>\n",
       "      <td>https://www.sec.gov/Archives/edgar/data/155528...</td>\n",
       "      <td>&lt;callable_iterator object at 0x7fc34926f410&gt;</td>\n",
       "      <td>&lt;callable_iterator object at 0x7fc269c25590&gt;</td>\n",
       "    </tr>\n",
       "    <tr>\n",
       "      <th>428</th>\n",
       "      <td>0001555280-19-000041</td>\n",
       "      <td>2019-02-14</td>\n",
       "      <td>2018-12-31</td>\n",
       "      <td>2019-02-14T17:08:33.000Z</td>\n",
       "      <td>34</td>\n",
       "      <td>10-K</td>\n",
       "      <td>001-35797</td>\n",
       "      <td>19608112</td>\n",
       "      <td></td>\n",
       "      <td>19494677</td>\n",
       "      <td>1</td>\n",
       "      <td>0</td>\n",
       "      <td>zoetis-20181231x10kye.htm</td>\n",
       "      <td>10-K</td>\n",
       "      <td>https://www.sec.gov/Archives/edgar/data/155528...</td>\n",
       "      <td>&lt;callable_iterator object at 0x7fc346aaa450&gt;</td>\n",
       "      <td>&lt;callable_iterator object at 0x7fc34926fdd0&gt;</td>\n",
       "    </tr>\n",
       "    <tr>\n",
       "      <th>572</th>\n",
       "      <td>0001555280-18-000053</td>\n",
       "      <td>2018-02-15</td>\n",
       "      <td>2017-12-31</td>\n",
       "      <td>2018-02-15T12:31:15.000Z</td>\n",
       "      <td>34</td>\n",
       "      <td>10-K</td>\n",
       "      <td>001-35797</td>\n",
       "      <td>18616883</td>\n",
       "      <td></td>\n",
       "      <td>18267949</td>\n",
       "      <td>1</td>\n",
       "      <td>0</td>\n",
       "      <td>zoetis-20171231x10kye.htm</td>\n",
       "      <td>10-K</td>\n",
       "      <td>https://www.sec.gov/Archives/edgar/data/155528...</td>\n",
       "      <td>&lt;callable_iterator object at 0x7fc2ae834410&gt;</td>\n",
       "      <td>&lt;callable_iterator object at 0x7fc346aaa850&gt;</td>\n",
       "    </tr>\n",
       "    <tr>\n",
       "      <th>683</th>\n",
       "      <td>0001555280-17-000044</td>\n",
       "      <td>2017-02-16</td>\n",
       "      <td>2016-12-31</td>\n",
       "      <td>2017-02-16T16:26:45.000Z</td>\n",
       "      <td>34</td>\n",
       "      <td>10-K</td>\n",
       "      <td>001-35797</td>\n",
       "      <td>17618235</td>\n",
       "      <td></td>\n",
       "      <td>18284297</td>\n",
       "      <td>1</td>\n",
       "      <td>0</td>\n",
       "      <td>zoetis-20161231x10kye.htm</td>\n",
       "      <td>10-K</td>\n",
       "      <td>https://www.sec.gov/Archives/edgar/data/155528...</td>\n",
       "      <td>&lt;callable_iterator object at 0x7fc2db85e3d0&gt;</td>\n",
       "      <td>&lt;callable_iterator object at 0x7fc2ae834d90&gt;</td>\n",
       "    </tr>\n",
       "    <tr>\n",
       "      <th>783</th>\n",
       "      <td>0001555280-16-000344</td>\n",
       "      <td>2016-02-24</td>\n",
       "      <td>2015-12-31</td>\n",
       "      <td>2016-02-24T11:32:51.000Z</td>\n",
       "      <td>34</td>\n",
       "      <td>10-K</td>\n",
       "      <td>001-35797</td>\n",
       "      <td>161450905</td>\n",
       "      <td></td>\n",
       "      <td>19416727</td>\n",
       "      <td>1</td>\n",
       "      <td>0</td>\n",
       "      <td>zoetis-20151231x10kye.htm</td>\n",
       "      <td>10-K</td>\n",
       "      <td>https://www.sec.gov/Archives/edgar/data/155528...</td>\n",
       "      <td>&lt;callable_iterator object at 0x7fc3601c3b10&gt;</td>\n",
       "      <td>&lt;callable_iterator object at 0x7fc2db85ee10&gt;</td>\n",
       "    </tr>\n",
       "    <tr>\n",
       "      <th>927</th>\n",
       "      <td>0001555280-15-000057</td>\n",
       "      <td>2015-02-27</td>\n",
       "      <td>2014-12-31</td>\n",
       "      <td>2015-02-27T16:52:38.000Z</td>\n",
       "      <td>34</td>\n",
       "      <td>10-K</td>\n",
       "      <td>001-35797</td>\n",
       "      <td>15660089</td>\n",
       "      <td></td>\n",
       "      <td>24724525</td>\n",
       "      <td>1</td>\n",
       "      <td>0</td>\n",
       "      <td>zoetis-20141231x10kye.htm</td>\n",
       "      <td>10-K</td>\n",
       "      <td>https://www.sec.gov/Archives/edgar/data/155528...</td>\n",
       "      <td>&lt;callable_iterator object at 0x7fc2ee317f90&gt;</td>\n",
       "      <td>&lt;callable_iterator object at 0x7fc3601c3490&gt;</td>\n",
       "    </tr>\n",
       "  </tbody>\n",
       "</table>\n",
       "</div>"
      ],
      "text/plain": [
       "          accessionNumber  filingDate  reportDate        acceptanceDateTime  \\\n",
       "90   0001555280-21-000098  2021-02-16  2020-12-31  2021-02-16T14:24:47.000Z   \n",
       "277  0001555280-20-000054  2020-02-13  2019-12-31  2020-02-13T15:13:44.000Z   \n",
       "428  0001555280-19-000041  2019-02-14  2018-12-31  2019-02-14T17:08:33.000Z   \n",
       "572  0001555280-18-000053  2018-02-15  2017-12-31  2018-02-15T12:31:15.000Z   \n",
       "683  0001555280-17-000044  2017-02-16  2016-12-31  2017-02-16T16:26:45.000Z   \n",
       "783  0001555280-16-000344  2016-02-24  2015-12-31  2016-02-24T11:32:51.000Z   \n",
       "927  0001555280-15-000057  2015-02-27  2014-12-31  2015-02-27T16:52:38.000Z   \n",
       "\n",
       "    act  form fileNumber filmNumber items      size  isXBRL  isInlineXBRL  \\\n",
       "90   34  10-K  001-35797   21636290        18961290       1             1   \n",
       "277  34  10-K  001-35797   20609808        21406402       1             1   \n",
       "428  34  10-K  001-35797   19608112        19494677       1             0   \n",
       "572  34  10-K  001-35797   18616883        18267949       1             0   \n",
       "683  34  10-K  001-35797   17618235        18284297       1             0   \n",
       "783  34  10-K  001-35797  161450905        19416727       1             0   \n",
       "927  34  10-K  001-35797   15660089        24724525       1             0   \n",
       "\n",
       "               primaryDocument primaryDocDescription  \\\n",
       "90            zts-20201231.htm                  10-K   \n",
       "277  zoetis-20191231x10kye.htm                  10-K   \n",
       "428  zoetis-20181231x10kye.htm                  10-K   \n",
       "572  zoetis-20171231x10kye.htm                  10-K   \n",
       "683  zoetis-20161231x10kye.htm                  10-K   \n",
       "783  zoetis-20151231x10kye.htm                  10-K   \n",
       "927  zoetis-20141231x10kye.htm                  10-K   \n",
       "\n",
       "                                                  Link  \\\n",
       "90   https://www.sec.gov/Archives/edgar/data/155528...   \n",
       "277  https://www.sec.gov/Archives/edgar/data/155528...   \n",
       "428  https://www.sec.gov/Archives/edgar/data/155528...   \n",
       "572  https://www.sec.gov/Archives/edgar/data/155528...   \n",
       "683  https://www.sec.gov/Archives/edgar/data/155528...   \n",
       "783  https://www.sec.gov/Archives/edgar/data/155528...   \n",
       "927  https://www.sec.gov/Archives/edgar/data/155528...   \n",
       "\n",
       "                                             Loc7  \\\n",
       "90   <callable_iterator object at 0x7fc269c1bcd0>   \n",
       "277  <callable_iterator object at 0x7fc34926f410>   \n",
       "428  <callable_iterator object at 0x7fc346aaa450>   \n",
       "572  <callable_iterator object at 0x7fc2ae834410>   \n",
       "683  <callable_iterator object at 0x7fc2db85e3d0>   \n",
       "783  <callable_iterator object at 0x7fc3601c3b10>   \n",
       "927  <callable_iterator object at 0x7fc2ee317f90>   \n",
       "\n",
       "                                             Loc8  \n",
       "90   <callable_iterator object at 0x7fc27d64d350>  \n",
       "277  <callable_iterator object at 0x7fc269c25590>  \n",
       "428  <callable_iterator object at 0x7fc34926fdd0>  \n",
       "572  <callable_iterator object at 0x7fc346aaa850>  \n",
       "683  <callable_iterator object at 0x7fc2ae834d90>  \n",
       "783  <callable_iterator object at 0x7fc2db85ee10>  \n",
       "927  <callable_iterator object at 0x7fc3601c3490>  "
      ]
     },
     "execution_count": 279,
     "metadata": {},
     "output_type": "execute_result"
    }
   ],
   "source": [
    "sample[sample['reportDate'].values > '1996-01-01']"
   ]
  },
  {
   "cell_type": "code",
   "execution_count": 26,
   "metadata": {},
   "outputs": [],
   "source": [
    "# Used for the requests\n",
    "heads = {#'Host': 'www.sec.gov', \n",
    "         #'Connection': 'close',\n",
    "         'Accept': 'application/json',#, text/javascript, */*; q=0.01', \n",
    "         'X-Requested-With': 'XMLHttpRequest',\n",
    "         'User-Agent': 'Mozilla/5.0 (Windows NT 10.0; Win64; x64) AppleWebKit/537.36 (KHTML, like Gecko) Chrome/80.0.3987.163 Safari/537.36',\n",
    "         }"
   ]
  },
  {
   "cell_type": "code",
   "execution_count": 54,
   "metadata": {},
   "outputs": [],
   "source": [
    "response = requests.get(sample_link, headers=heads).text"
   ]
  },
  {
   "cell_type": "code",
   "execution_count": 386,
   "metadata": {},
   "outputs": [],
   "source": [
    "raw_10k = response"
   ]
  },
  {
   "cell_type": "code",
   "execution_count": 372,
   "metadata": {},
   "outputs": [],
   "source": [
    "soup = BeautifulSoup(response, 'lxml')"
   ]
  },
  {
   "cell_type": "code",
   "execution_count": 375,
   "metadata": {},
   "outputs": [
    {
     "data": {
      "text/plain": [
       "\"\\n10-K\\n1\\nzoetis-20141231x10kye.htm\\n10-K\\n\\n\\n\\n\\nZoetis-2014.12.31-10K YE\\nTable of ContentsUNITED STATES SECURITIES AND EXCHANGE COMMISSION Washington, D.C. 20549 FORM 10-K (Mark One)xANNUAL REPORT PURSUANT TO SECTION\\xa013 OR 15(d) OF THE SECURITIES EXCHANGE ACT OF 1934\\xa0\\xa0For the fiscal year ended December 31, 2014\\xa0\\xa0or\\xa0oTRANSITION REPORT PURSUANT TO SECTION 13 OR 15(d) OF THE SECURITIES  EXCHANGE ACT OF 1934\\xa0\\xa0For the transition period from __________ to __________\\xa0Commission File Number: 001-35797 Zoetis Inc.(Exact name of registrant as specified in its charter)\\xa0Delaware\\xa046-0696167(State or other jurisdiction of\\xa0(I.R.S. Employer Identification No.)incorporation or organization)\\xa0\\xa0100 Campus Drive, Florham Park, New Jersey\\xa007932(Address of principal executive offices)\\xa0(Zip Code)(973) 822-7000(Registrant’s telephone number, including area code)Securities registered pursuant to Section\\xa012(b) of the Act: Title of each class\\xa0\\xa0Name of each exchange on which registeredCommon Stock, $0.01 par value per share\\xa0\\xa0New York Stock ExchangeSecurities registered pursuant to Section\\xa012(g) of the Act: None Indicate by check mark if the registrant is a well-known seasoned issuer, as defined in Rule\\xa0405 of Securities Act.\\xa0\\xa0\\xa0\\xa0Yes\\xa0x\\xa0\\xa0 No\\xa0\\xa0¨Indicate by check mark if the registrant is not required to file reports pursuant to Section\\xa013 or Section\\xa015(d) of the Act.\\xa0\\xa0\\xa0\\xa0Yes\\xa0¨\\xa0\\xa0\\xa0\\xa0No\\xa0\\xa0xIndicate by check mark whether the registrant (1)\\xa0has filed all reports required to be filed by Section\\xa013 or 15(d) of the Securities Exchange Act of 1934 during the preceding 12\\xa0months (or for such shorter period that the registrant was required to file such reports), and (2)\\xa0has been subject to such filing requirements for the past 90\\xa0days. \\xa0\\xa0\\xa0\\xa0Yes\\xa0x\\xa0\\xa0\\xa0No\\xa0\\xa0¨Indicate by check mark whether the registrant has submitted electronically and posted on its corporate Website, if any, every Interactive Data File required to be submitted and posted pursuant to Rule 405 of Regulation S-T (§232.405 of this chapter) during the preceding 12 months (or for such shorter period that the registrant was required to submit and post such files). \\xa0\\xa0\\xa0\\xa0Yes\\xa0x\\xa0\\xa0\\xa0\\xa0No\\xa0¨Indicate by check mark if disclosure of delinquent filers pursuant to Item\\xa0405 of Regulation\\xa0S-K (§229.405 of this chapter) is not contained herein, and will not be contained, to the best of the registrant’s knowledge, in definitive proxy or information statements incorporated by reference in Part\\xa0III of this Form\\xa010-K or any amendment to this Form\\xa010-K.\\xa0\\xa0\\xa0\\xa0¨Indicate by check mark whether the registrant is a large accelerated filer, an accelerated filer, a non-accelerated filer, or a smaller reporting company. See the definitions of “large accelerated filer,” “accelerated filer” and “smaller reporting company” in Rule 12b-2 of the Exchange Act. (Check one): \\xa0Large\\xa0accelerated\\xa0filer\\xa0x\\xa0Accelerated\\xa0filer ¨\\xa0Non-accelerated\\xa0filer\\xa0¨\\xa0Smaller\\xa0reporting\\xa0company ¨Indicate by check mark whether the registrant is a shell company (as defined in Rule\\xa012b-2 of the Act).\\xa0\\xa0\\xa0\\xa0Yes\\xa0\\xa0¨\\xa0\\xa0\\xa0\\xa0No\\xa0\\xa0x The aggregate market value of the voting stock held by nonaffiliates of the registrant as of June 29, 2014, the last business day of the registrant's most recently completed second fiscal quarter, was $16,224 million. The registrant has no non-voting common stock.The number of shares outstanding of the registrant's common stock as of February\\xa023, 2015 was 500,787,817 shares.DOCUMENTS INCORPORATED BY REFERENCE:  Table of ContentsPortions of the registrant’s Proxy Statement for the 2015 Annual Meeting of Shareholders to be held on May\\xa01, 2015 (hereinafter referred to as the “2015 Proxy Statement”) are incorporated into Parts II and III of this Form 10-K.Table of ContentsTABLE OF CONTENTSPART I\\xa0\\xa0\\xa0PageItem 1.\\xa0Business\\xa0\\xa0\\xa0\\xa0Overview\\xa01\\xa0\\xa0Operating Segments\\xa01\\xa0\\xa0Products\\xa04\\xa0\\xa0International Operations\\xa06\\xa0\\xa0Sales and Marketing\\xa06\\xa0\\xa0Customers\\xa06\\xa0\\xa0Research and Development\\xa07\\xa0\\xa0Manufacturing and Supply Chain\\xa07\\xa0\\xa0Competition\\xa08\\xa0\\xa0Intellectual Property\\xa09\\xa0\\xa0Regulatory\\xa09\\xa0\\xa0Employees\\xa011\\xa0\\xa0Environmental, Health and Safety\\xa011\\xa0\\xa0Available Information\\xa012Item 1A.\\xa0Risk Factors\\xa012Item 1B.\\xa0Unresolved Staff Comments\\xa028Item 2.\\xa0Properties\\xa028Item 3.\\xa0Legal Proceedings\\xa028Item 4.\\xa0Mine Safety Disclosures\\xa028PART II\\xa0\\xa0\\xa0\\xa0Item 5.\\xa0Market for Registrant’s Common Equity, Related Stockholder Matters and Issuer Purchases of Equity Securities\\xa029Item 6.\\xa0Selected Financial Data\\xa031Item 7.\\xa0Management’s Discussion and Analysis of Financial Condition and Results of Operations\\xa033Item 7A.\\xa0Quantitative and Qualitative Disclosures About Market Risk \\xa061Item 8.\\xa0Financial Statements and Supplementary Data\\xa062Item 9.\\xa0Changes in and Disagreements with Accountants on Accounting and Financial Disclosure\\xa0107Item 9A.\\xa0Controls and Procedures\\xa0107Item 9B.\\xa0Other Information\\xa0107PART III\\xa0\\xa0\\xa0\\xa0Item 10.\\xa0Directors, Executive Officers and Corporate Governance\\xa0108Item 11.\\xa0Executive Compensation\\xa0108Item 12.\\xa0Security Ownership of Certain Beneficial Owners and Management and Related Stockholder Matters\\xa0108Item 13.\\xa0Certain Relationships and Related Transact\""
      ]
     },
     "execution_count": 375,
     "metadata": {},
     "output_type": "execute_result"
    }
   ],
   "source": [
    "cleaned_soup = soup.text\n",
    "cleaned_soup[:5000]"
   ]
  },
  {
   "cell_type": "code",
   "execution_count": 270,
   "metadata": {},
   "outputs": [
    {
     "data": {
      "text/plain": [
       "[<re.Match object; span=(183890, 183908), match='Item 7. Management'>,\n",
       " <re.Match object; span=(185116, 185134), match='Item 7. Management'>,\n",
       " <re.Match object; span=(186022, 186040), match='Item 7. Management'>,\n",
       " <re.Match object; span=(186422, 186440), match='Item 7. Management'>,\n",
       " <re.Match object; span=(187030, 187048), match='Item 7. Management'>]"
      ]
     },
     "execution_count": 270,
     "metadata": {},
     "output_type": "execute_result"
    }
   ],
   "source": [
    "locs7 = re.finditer(r\"ITEM\\s7(|\\.) Management\", cleaned_soup, re.IGNORECASE)\n",
    "[[x.span(), x.group()] for x in locs7]"
   ]
  },
  {
   "cell_type": "code",
   "execution_count": 103,
   "metadata": {},
   "outputs": [
    {
     "data": {
      "text/plain": [
       "[<re.Match object; span=(502641, 502662), match='ITEM\\xa08A.\\xa0CONSOLIDATED'>]"
      ]
     },
     "execution_count": 103,
     "metadata": {},
     "output_type": "execute_result"
    }
   ],
   "source": [
    "locs8 = re.finditer(r\"ITEM\\s8(|A)(|\\.)\\s(Consolidated|Financial)\", cleaned_soup, re.IGNORECASE)\n",
    "[x for x in locs8]"
   ]
  },
  {
   "cell_type": "markdown",
   "metadata": {},
   "source": [
    "I wonder if maybe it would be best to use some sort of clustering algorithm to find the correct locations? "
   ]
  },
  {
   "cell_type": "code",
   "execution_count": 395,
   "metadata": {},
   "outputs": [
    {
     "ename": "KeyboardInterrupt",
     "evalue": "",
     "output_type": "error",
     "traceback": [
      "\u001b[0;31m---------------------------------------------------------------------------\u001b[0m",
      "\u001b[0;31mKeyboardInterrupt\u001b[0m                         Traceback (most recent call last)",
      "\u001b[0;32m<ipython-input-395-9dc7f181ba60>\u001b[0m in \u001b[0;36m<module>\u001b[0;34m\u001b[0m\n\u001b[1;32m     11\u001b[0m     \u001b[0;32mfor\u001b[0m \u001b[0mi\u001b[0m \u001b[0;32min\u001b[0m \u001b[0mrange\u001b[0m\u001b[0;34m(\u001b[0m\u001b[0mlen\u001b[0m\u001b[0;34m(\u001b[0m\u001b[0msample\u001b[0m\u001b[0;34m)\u001b[0m\u001b[0;34m)\u001b[0m\u001b[0;34m:\u001b[0m\u001b[0;34m\u001b[0m\u001b[0;34m\u001b[0m\u001b[0m\n\u001b[1;32m     12\u001b[0m         \u001b[0msample_link\u001b[0m \u001b[0;34m=\u001b[0m \u001b[0msample\u001b[0m\u001b[0;34m.\u001b[0m\u001b[0miloc\u001b[0m\u001b[0;34m[\u001b[0m\u001b[0mi\u001b[0m\u001b[0;34m,\u001b[0m\u001b[0;34m:\u001b[0m\u001b[0;34m]\u001b[0m\u001b[0;34m[\u001b[0m\u001b[0;34m'Link'\u001b[0m\u001b[0;34m]\u001b[0m\u001b[0;34m\u001b[0m\u001b[0;34m\u001b[0m\u001b[0m\n\u001b[0;32m---> 13\u001b[0;31m         \u001b[0mresponse\u001b[0m \u001b[0;34m=\u001b[0m \u001b[0mrequests\u001b[0m\u001b[0;34m.\u001b[0m\u001b[0mget\u001b[0m\u001b[0;34m(\u001b[0m\u001b[0msample_link\u001b[0m\u001b[0;34m,\u001b[0m \u001b[0mheaders\u001b[0m\u001b[0;34m=\u001b[0m\u001b[0mheads\u001b[0m\u001b[0;34m)\u001b[0m\u001b[0;34m.\u001b[0m\u001b[0mtext\u001b[0m\u001b[0;34m\u001b[0m\u001b[0;34m\u001b[0m\u001b[0m\n\u001b[0m\u001b[1;32m     14\u001b[0m         \u001b[0msoup\u001b[0m \u001b[0;34m=\u001b[0m \u001b[0mBeautifulSoup\u001b[0m\u001b[0;34m(\u001b[0m\u001b[0mresponse\u001b[0m\u001b[0;34m,\u001b[0m \u001b[0;34m'lxml'\u001b[0m\u001b[0;34m)\u001b[0m\u001b[0;34m\u001b[0m\u001b[0;34m\u001b[0m\u001b[0m\n\u001b[1;32m     15\u001b[0m         \u001b[0mcleaned_soup\u001b[0m \u001b[0;34m=\u001b[0m \u001b[0msoup\u001b[0m\u001b[0;34m.\u001b[0m\u001b[0mtext\u001b[0m\u001b[0;34m\u001b[0m\u001b[0;34m\u001b[0m\u001b[0m\n",
      "\u001b[0;32m~/opt/anaconda3/lib/python3.7/site-packages/requests/api.py\u001b[0m in \u001b[0;36mget\u001b[0;34m(url, params, **kwargs)\u001b[0m\n\u001b[1;32m     73\u001b[0m \u001b[0;34m\u001b[0m\u001b[0m\n\u001b[1;32m     74\u001b[0m     \u001b[0mkwargs\u001b[0m\u001b[0;34m.\u001b[0m\u001b[0msetdefault\u001b[0m\u001b[0;34m(\u001b[0m\u001b[0;34m'allow_redirects'\u001b[0m\u001b[0;34m,\u001b[0m \u001b[0;32mTrue\u001b[0m\u001b[0;34m)\u001b[0m\u001b[0;34m\u001b[0m\u001b[0;34m\u001b[0m\u001b[0m\n\u001b[0;32m---> 75\u001b[0;31m     \u001b[0;32mreturn\u001b[0m \u001b[0mrequest\u001b[0m\u001b[0;34m(\u001b[0m\u001b[0;34m'get'\u001b[0m\u001b[0;34m,\u001b[0m \u001b[0murl\u001b[0m\u001b[0;34m,\u001b[0m \u001b[0mparams\u001b[0m\u001b[0;34m=\u001b[0m\u001b[0mparams\u001b[0m\u001b[0;34m,\u001b[0m \u001b[0;34m**\u001b[0m\u001b[0mkwargs\u001b[0m\u001b[0;34m)\u001b[0m\u001b[0;34m\u001b[0m\u001b[0;34m\u001b[0m\u001b[0m\n\u001b[0m\u001b[1;32m     76\u001b[0m \u001b[0;34m\u001b[0m\u001b[0m\n\u001b[1;32m     77\u001b[0m \u001b[0;34m\u001b[0m\u001b[0m\n",
      "\u001b[0;32m~/opt/anaconda3/lib/python3.7/site-packages/requests/api.py\u001b[0m in \u001b[0;36mrequest\u001b[0;34m(method, url, **kwargs)\u001b[0m\n\u001b[1;32m     58\u001b[0m     \u001b[0;31m# cases, and look like a memory leak in others.\u001b[0m\u001b[0;34m\u001b[0m\u001b[0;34m\u001b[0m\u001b[0;34m\u001b[0m\u001b[0m\n\u001b[1;32m     59\u001b[0m     \u001b[0;32mwith\u001b[0m \u001b[0msessions\u001b[0m\u001b[0;34m.\u001b[0m\u001b[0mSession\u001b[0m\u001b[0;34m(\u001b[0m\u001b[0;34m)\u001b[0m \u001b[0;32mas\u001b[0m \u001b[0msession\u001b[0m\u001b[0;34m:\u001b[0m\u001b[0;34m\u001b[0m\u001b[0;34m\u001b[0m\u001b[0m\n\u001b[0;32m---> 60\u001b[0;31m         \u001b[0;32mreturn\u001b[0m \u001b[0msession\u001b[0m\u001b[0;34m.\u001b[0m\u001b[0mrequest\u001b[0m\u001b[0;34m(\u001b[0m\u001b[0mmethod\u001b[0m\u001b[0;34m=\u001b[0m\u001b[0mmethod\u001b[0m\u001b[0;34m,\u001b[0m \u001b[0murl\u001b[0m\u001b[0;34m=\u001b[0m\u001b[0murl\u001b[0m\u001b[0;34m,\u001b[0m \u001b[0;34m**\u001b[0m\u001b[0mkwargs\u001b[0m\u001b[0;34m)\u001b[0m\u001b[0;34m\u001b[0m\u001b[0;34m\u001b[0m\u001b[0m\n\u001b[0m\u001b[1;32m     61\u001b[0m \u001b[0;34m\u001b[0m\u001b[0m\n\u001b[1;32m     62\u001b[0m \u001b[0;34m\u001b[0m\u001b[0m\n",
      "\u001b[0;32m~/opt/anaconda3/lib/python3.7/site-packages/requests/sessions.py\u001b[0m in \u001b[0;36mrequest\u001b[0;34m(self, method, url, params, data, headers, cookies, files, auth, timeout, allow_redirects, proxies, hooks, stream, verify, cert, json)\u001b[0m\n\u001b[1;32m    531\u001b[0m         }\n\u001b[1;32m    532\u001b[0m         \u001b[0msend_kwargs\u001b[0m\u001b[0;34m.\u001b[0m\u001b[0mupdate\u001b[0m\u001b[0;34m(\u001b[0m\u001b[0msettings\u001b[0m\u001b[0;34m)\u001b[0m\u001b[0;34m\u001b[0m\u001b[0;34m\u001b[0m\u001b[0m\n\u001b[0;32m--> 533\u001b[0;31m         \u001b[0mresp\u001b[0m \u001b[0;34m=\u001b[0m \u001b[0mself\u001b[0m\u001b[0;34m.\u001b[0m\u001b[0msend\u001b[0m\u001b[0;34m(\u001b[0m\u001b[0mprep\u001b[0m\u001b[0;34m,\u001b[0m \u001b[0;34m**\u001b[0m\u001b[0msend_kwargs\u001b[0m\u001b[0;34m)\u001b[0m\u001b[0;34m\u001b[0m\u001b[0;34m\u001b[0m\u001b[0m\n\u001b[0m\u001b[1;32m    534\u001b[0m \u001b[0;34m\u001b[0m\u001b[0m\n\u001b[1;32m    535\u001b[0m         \u001b[0;32mreturn\u001b[0m \u001b[0mresp\u001b[0m\u001b[0;34m\u001b[0m\u001b[0;34m\u001b[0m\u001b[0m\n",
      "\u001b[0;32m~/opt/anaconda3/lib/python3.7/site-packages/requests/sessions.py\u001b[0m in \u001b[0;36msend\u001b[0;34m(self, request, **kwargs)\u001b[0m\n\u001b[1;32m    684\u001b[0m \u001b[0;34m\u001b[0m\u001b[0m\n\u001b[1;32m    685\u001b[0m         \u001b[0;32mif\u001b[0m \u001b[0;32mnot\u001b[0m \u001b[0mstream\u001b[0m\u001b[0;34m:\u001b[0m\u001b[0;34m\u001b[0m\u001b[0;34m\u001b[0m\u001b[0m\n\u001b[0;32m--> 686\u001b[0;31m             \u001b[0mr\u001b[0m\u001b[0;34m.\u001b[0m\u001b[0mcontent\u001b[0m\u001b[0;34m\u001b[0m\u001b[0;34m\u001b[0m\u001b[0m\n\u001b[0m\u001b[1;32m    687\u001b[0m \u001b[0;34m\u001b[0m\u001b[0m\n\u001b[1;32m    688\u001b[0m         \u001b[0;32mreturn\u001b[0m \u001b[0mr\u001b[0m\u001b[0;34m\u001b[0m\u001b[0;34m\u001b[0m\u001b[0m\n",
      "\u001b[0;32m~/opt/anaconda3/lib/python3.7/site-packages/requests/models.py\u001b[0m in \u001b[0;36mcontent\u001b[0;34m(self)\u001b[0m\n\u001b[1;32m    826\u001b[0m                 \u001b[0mself\u001b[0m\u001b[0;34m.\u001b[0m\u001b[0m_content\u001b[0m \u001b[0;34m=\u001b[0m \u001b[0;32mNone\u001b[0m\u001b[0;34m\u001b[0m\u001b[0;34m\u001b[0m\u001b[0m\n\u001b[1;32m    827\u001b[0m             \u001b[0;32melse\u001b[0m\u001b[0;34m:\u001b[0m\u001b[0;34m\u001b[0m\u001b[0;34m\u001b[0m\u001b[0m\n\u001b[0;32m--> 828\u001b[0;31m                 \u001b[0mself\u001b[0m\u001b[0;34m.\u001b[0m\u001b[0m_content\u001b[0m \u001b[0;34m=\u001b[0m \u001b[0;34mb''\u001b[0m\u001b[0;34m.\u001b[0m\u001b[0mjoin\u001b[0m\u001b[0;34m(\u001b[0m\u001b[0mself\u001b[0m\u001b[0;34m.\u001b[0m\u001b[0miter_content\u001b[0m\u001b[0;34m(\u001b[0m\u001b[0mCONTENT_CHUNK_SIZE\u001b[0m\u001b[0;34m)\u001b[0m\u001b[0;34m)\u001b[0m \u001b[0;32mor\u001b[0m \u001b[0;34mb''\u001b[0m\u001b[0;34m\u001b[0m\u001b[0;34m\u001b[0m\u001b[0m\n\u001b[0m\u001b[1;32m    829\u001b[0m \u001b[0;34m\u001b[0m\u001b[0m\n\u001b[1;32m    830\u001b[0m         \u001b[0mself\u001b[0m\u001b[0;34m.\u001b[0m\u001b[0m_content_consumed\u001b[0m \u001b[0;34m=\u001b[0m \u001b[0;32mTrue\u001b[0m\u001b[0;34m\u001b[0m\u001b[0;34m\u001b[0m\u001b[0m\n",
      "\u001b[0;32m~/opt/anaconda3/lib/python3.7/site-packages/requests/models.py\u001b[0m in \u001b[0;36mgenerate\u001b[0;34m()\u001b[0m\n\u001b[1;32m    748\u001b[0m             \u001b[0;32mif\u001b[0m \u001b[0mhasattr\u001b[0m\u001b[0;34m(\u001b[0m\u001b[0mself\u001b[0m\u001b[0;34m.\u001b[0m\u001b[0mraw\u001b[0m\u001b[0;34m,\u001b[0m \u001b[0;34m'stream'\u001b[0m\u001b[0;34m)\u001b[0m\u001b[0;34m:\u001b[0m\u001b[0;34m\u001b[0m\u001b[0;34m\u001b[0m\u001b[0m\n\u001b[1;32m    749\u001b[0m                 \u001b[0;32mtry\u001b[0m\u001b[0;34m:\u001b[0m\u001b[0;34m\u001b[0m\u001b[0;34m\u001b[0m\u001b[0m\n\u001b[0;32m--> 750\u001b[0;31m                     \u001b[0;32mfor\u001b[0m \u001b[0mchunk\u001b[0m \u001b[0;32min\u001b[0m \u001b[0mself\u001b[0m\u001b[0;34m.\u001b[0m\u001b[0mraw\u001b[0m\u001b[0;34m.\u001b[0m\u001b[0mstream\u001b[0m\u001b[0;34m(\u001b[0m\u001b[0mchunk_size\u001b[0m\u001b[0;34m,\u001b[0m \u001b[0mdecode_content\u001b[0m\u001b[0;34m=\u001b[0m\u001b[0;32mTrue\u001b[0m\u001b[0;34m)\u001b[0m\u001b[0;34m:\u001b[0m\u001b[0;34m\u001b[0m\u001b[0;34m\u001b[0m\u001b[0m\n\u001b[0m\u001b[1;32m    751\u001b[0m                         \u001b[0;32myield\u001b[0m \u001b[0mchunk\u001b[0m\u001b[0;34m\u001b[0m\u001b[0;34m\u001b[0m\u001b[0m\n\u001b[1;32m    752\u001b[0m                 \u001b[0;32mexcept\u001b[0m \u001b[0mProtocolError\u001b[0m \u001b[0;32mas\u001b[0m \u001b[0me\u001b[0m\u001b[0;34m:\u001b[0m\u001b[0;34m\u001b[0m\u001b[0;34m\u001b[0m\u001b[0m\n",
      "\u001b[0;32m~/opt/anaconda3/lib/python3.7/site-packages/urllib3/response.py\u001b[0m in \u001b[0;36mstream\u001b[0;34m(self, amt, decode_content)\u001b[0m\n\u001b[1;32m    492\u001b[0m         \u001b[0;32melse\u001b[0m\u001b[0;34m:\u001b[0m\u001b[0;34m\u001b[0m\u001b[0;34m\u001b[0m\u001b[0m\n\u001b[1;32m    493\u001b[0m             \u001b[0;32mwhile\u001b[0m \u001b[0;32mnot\u001b[0m \u001b[0mis_fp_closed\u001b[0m\u001b[0;34m(\u001b[0m\u001b[0mself\u001b[0m\u001b[0;34m.\u001b[0m\u001b[0m_fp\u001b[0m\u001b[0;34m)\u001b[0m\u001b[0;34m:\u001b[0m\u001b[0;34m\u001b[0m\u001b[0;34m\u001b[0m\u001b[0m\n\u001b[0;32m--> 494\u001b[0;31m                 \u001b[0mdata\u001b[0m \u001b[0;34m=\u001b[0m \u001b[0mself\u001b[0m\u001b[0;34m.\u001b[0m\u001b[0mread\u001b[0m\u001b[0;34m(\u001b[0m\u001b[0mamt\u001b[0m\u001b[0;34m=\u001b[0m\u001b[0mamt\u001b[0m\u001b[0;34m,\u001b[0m \u001b[0mdecode_content\u001b[0m\u001b[0;34m=\u001b[0m\u001b[0mdecode_content\u001b[0m\u001b[0;34m)\u001b[0m\u001b[0;34m\u001b[0m\u001b[0;34m\u001b[0m\u001b[0m\n\u001b[0m\u001b[1;32m    495\u001b[0m \u001b[0;34m\u001b[0m\u001b[0m\n\u001b[1;32m    496\u001b[0m                 \u001b[0;32mif\u001b[0m \u001b[0mdata\u001b[0m\u001b[0;34m:\u001b[0m\u001b[0;34m\u001b[0m\u001b[0;34m\u001b[0m\u001b[0m\n",
      "\u001b[0;32m~/opt/anaconda3/lib/python3.7/site-packages/urllib3/response.py\u001b[0m in \u001b[0;36mread\u001b[0;34m(self, amt, decode_content, cache_content)\u001b[0m\n\u001b[1;32m    440\u001b[0m             \u001b[0;32melse\u001b[0m\u001b[0;34m:\u001b[0m\u001b[0;34m\u001b[0m\u001b[0;34m\u001b[0m\u001b[0m\n\u001b[1;32m    441\u001b[0m                 \u001b[0mcache_content\u001b[0m \u001b[0;34m=\u001b[0m \u001b[0;32mFalse\u001b[0m\u001b[0;34m\u001b[0m\u001b[0;34m\u001b[0m\u001b[0m\n\u001b[0;32m--> 442\u001b[0;31m                 \u001b[0mdata\u001b[0m \u001b[0;34m=\u001b[0m \u001b[0mself\u001b[0m\u001b[0;34m.\u001b[0m\u001b[0m_fp\u001b[0m\u001b[0;34m.\u001b[0m\u001b[0mread\u001b[0m\u001b[0;34m(\u001b[0m\u001b[0mamt\u001b[0m\u001b[0;34m)\u001b[0m\u001b[0;34m\u001b[0m\u001b[0;34m\u001b[0m\u001b[0m\n\u001b[0m\u001b[1;32m    443\u001b[0m                 \u001b[0;32mif\u001b[0m \u001b[0mamt\u001b[0m \u001b[0;34m!=\u001b[0m \u001b[0;36m0\u001b[0m \u001b[0;32mand\u001b[0m \u001b[0;32mnot\u001b[0m \u001b[0mdata\u001b[0m\u001b[0;34m:\u001b[0m  \u001b[0;31m# Platform-specific: Buggy versions of Python.\u001b[0m\u001b[0;34m\u001b[0m\u001b[0;34m\u001b[0m\u001b[0m\n\u001b[1;32m    444\u001b[0m                     \u001b[0;31m# Close the connection when no data is returned\u001b[0m\u001b[0;34m\u001b[0m\u001b[0;34m\u001b[0m\u001b[0;34m\u001b[0m\u001b[0m\n",
      "\u001b[0;32m~/opt/anaconda3/lib/python3.7/http/client.py\u001b[0m in \u001b[0;36mread\u001b[0;34m(self, amt)\u001b[0m\n\u001b[1;32m    455\u001b[0m             \u001b[0;31m# Amount is given, implement using readinto\u001b[0m\u001b[0;34m\u001b[0m\u001b[0;34m\u001b[0m\u001b[0;34m\u001b[0m\u001b[0m\n\u001b[1;32m    456\u001b[0m             \u001b[0mb\u001b[0m \u001b[0;34m=\u001b[0m \u001b[0mbytearray\u001b[0m\u001b[0;34m(\u001b[0m\u001b[0mamt\u001b[0m\u001b[0;34m)\u001b[0m\u001b[0;34m\u001b[0m\u001b[0;34m\u001b[0m\u001b[0m\n\u001b[0;32m--> 457\u001b[0;31m             \u001b[0mn\u001b[0m \u001b[0;34m=\u001b[0m \u001b[0mself\u001b[0m\u001b[0;34m.\u001b[0m\u001b[0mreadinto\u001b[0m\u001b[0;34m(\u001b[0m\u001b[0mb\u001b[0m\u001b[0;34m)\u001b[0m\u001b[0;34m\u001b[0m\u001b[0;34m\u001b[0m\u001b[0m\n\u001b[0m\u001b[1;32m    458\u001b[0m             \u001b[0;32mreturn\u001b[0m \u001b[0mmemoryview\u001b[0m\u001b[0;34m(\u001b[0m\u001b[0mb\u001b[0m\u001b[0;34m)\u001b[0m\u001b[0;34m[\u001b[0m\u001b[0;34m:\u001b[0m\u001b[0mn\u001b[0m\u001b[0;34m]\u001b[0m\u001b[0;34m.\u001b[0m\u001b[0mtobytes\u001b[0m\u001b[0;34m(\u001b[0m\u001b[0;34m)\u001b[0m\u001b[0;34m\u001b[0m\u001b[0;34m\u001b[0m\u001b[0m\n\u001b[1;32m    459\u001b[0m         \u001b[0;32melse\u001b[0m\u001b[0;34m:\u001b[0m\u001b[0;34m\u001b[0m\u001b[0;34m\u001b[0m\u001b[0m\n",
      "\u001b[0;32m~/opt/anaconda3/lib/python3.7/http/client.py\u001b[0m in \u001b[0;36mreadinto\u001b[0;34m(self, b)\u001b[0m\n\u001b[1;32m    499\u001b[0m         \u001b[0;31m# connection, and the user is reading more bytes than will be provided\u001b[0m\u001b[0;34m\u001b[0m\u001b[0;34m\u001b[0m\u001b[0;34m\u001b[0m\u001b[0m\n\u001b[1;32m    500\u001b[0m         \u001b[0;31m# (for example, reading in 1k chunks)\u001b[0m\u001b[0;34m\u001b[0m\u001b[0;34m\u001b[0m\u001b[0;34m\u001b[0m\u001b[0m\n\u001b[0;32m--> 501\u001b[0;31m         \u001b[0mn\u001b[0m \u001b[0;34m=\u001b[0m \u001b[0mself\u001b[0m\u001b[0;34m.\u001b[0m\u001b[0mfp\u001b[0m\u001b[0;34m.\u001b[0m\u001b[0mreadinto\u001b[0m\u001b[0;34m(\u001b[0m\u001b[0mb\u001b[0m\u001b[0;34m)\u001b[0m\u001b[0;34m\u001b[0m\u001b[0;34m\u001b[0m\u001b[0m\n\u001b[0m\u001b[1;32m    502\u001b[0m         \u001b[0;32mif\u001b[0m \u001b[0;32mnot\u001b[0m \u001b[0mn\u001b[0m \u001b[0;32mand\u001b[0m \u001b[0mb\u001b[0m\u001b[0;34m:\u001b[0m\u001b[0;34m\u001b[0m\u001b[0;34m\u001b[0m\u001b[0m\n\u001b[1;32m    503\u001b[0m             \u001b[0;31m# Ideally, we would raise IncompleteRead if the content-length\u001b[0m\u001b[0;34m\u001b[0m\u001b[0;34m\u001b[0m\u001b[0;34m\u001b[0m\u001b[0m\n",
      "\u001b[0;32m~/opt/anaconda3/lib/python3.7/socket.py\u001b[0m in \u001b[0;36mreadinto\u001b[0;34m(self, b)\u001b[0m\n\u001b[1;32m    587\u001b[0m         \u001b[0;32mwhile\u001b[0m \u001b[0;32mTrue\u001b[0m\u001b[0;34m:\u001b[0m\u001b[0;34m\u001b[0m\u001b[0;34m\u001b[0m\u001b[0m\n\u001b[1;32m    588\u001b[0m             \u001b[0;32mtry\u001b[0m\u001b[0;34m:\u001b[0m\u001b[0;34m\u001b[0m\u001b[0;34m\u001b[0m\u001b[0m\n\u001b[0;32m--> 589\u001b[0;31m                 \u001b[0;32mreturn\u001b[0m \u001b[0mself\u001b[0m\u001b[0;34m.\u001b[0m\u001b[0m_sock\u001b[0m\u001b[0;34m.\u001b[0m\u001b[0mrecv_into\u001b[0m\u001b[0;34m(\u001b[0m\u001b[0mb\u001b[0m\u001b[0;34m)\u001b[0m\u001b[0;34m\u001b[0m\u001b[0;34m\u001b[0m\u001b[0m\n\u001b[0m\u001b[1;32m    590\u001b[0m             \u001b[0;32mexcept\u001b[0m \u001b[0mtimeout\u001b[0m\u001b[0;34m:\u001b[0m\u001b[0;34m\u001b[0m\u001b[0;34m\u001b[0m\u001b[0m\n\u001b[1;32m    591\u001b[0m                 \u001b[0mself\u001b[0m\u001b[0;34m.\u001b[0m\u001b[0m_timeout_occurred\u001b[0m \u001b[0;34m=\u001b[0m \u001b[0;32mTrue\u001b[0m\u001b[0;34m\u001b[0m\u001b[0;34m\u001b[0m\u001b[0m\n",
      "\u001b[0;32m~/opt/anaconda3/lib/python3.7/site-packages/urllib3/contrib/pyopenssl.py\u001b[0m in \u001b[0;36mrecv_into\u001b[0;34m(self, *args, **kwargs)\u001b[0m\n\u001b[1;32m    295\u001b[0m     \u001b[0;32mdef\u001b[0m \u001b[0mrecv_into\u001b[0m\u001b[0;34m(\u001b[0m\u001b[0mself\u001b[0m\u001b[0;34m,\u001b[0m \u001b[0;34m*\u001b[0m\u001b[0margs\u001b[0m\u001b[0;34m,\u001b[0m \u001b[0;34m**\u001b[0m\u001b[0mkwargs\u001b[0m\u001b[0;34m)\u001b[0m\u001b[0;34m:\u001b[0m\u001b[0;34m\u001b[0m\u001b[0;34m\u001b[0m\u001b[0m\n\u001b[1;32m    296\u001b[0m         \u001b[0;32mtry\u001b[0m\u001b[0;34m:\u001b[0m\u001b[0;34m\u001b[0m\u001b[0;34m\u001b[0m\u001b[0m\n\u001b[0;32m--> 297\u001b[0;31m             \u001b[0;32mreturn\u001b[0m \u001b[0mself\u001b[0m\u001b[0;34m.\u001b[0m\u001b[0mconnection\u001b[0m\u001b[0;34m.\u001b[0m\u001b[0mrecv_into\u001b[0m\u001b[0;34m(\u001b[0m\u001b[0;34m*\u001b[0m\u001b[0margs\u001b[0m\u001b[0;34m,\u001b[0m \u001b[0;34m**\u001b[0m\u001b[0mkwargs\u001b[0m\u001b[0;34m)\u001b[0m\u001b[0;34m\u001b[0m\u001b[0;34m\u001b[0m\u001b[0m\n\u001b[0m\u001b[1;32m    298\u001b[0m         \u001b[0;32mexcept\u001b[0m \u001b[0mOpenSSL\u001b[0m\u001b[0;34m.\u001b[0m\u001b[0mSSL\u001b[0m\u001b[0;34m.\u001b[0m\u001b[0mSysCallError\u001b[0m \u001b[0;32mas\u001b[0m \u001b[0me\u001b[0m\u001b[0;34m:\u001b[0m\u001b[0;34m\u001b[0m\u001b[0;34m\u001b[0m\u001b[0m\n\u001b[1;32m    299\u001b[0m             \u001b[0;32mif\u001b[0m \u001b[0mself\u001b[0m\u001b[0;34m.\u001b[0m\u001b[0msuppress_ragged_eofs\u001b[0m \u001b[0;32mand\u001b[0m \u001b[0me\u001b[0m\u001b[0;34m.\u001b[0m\u001b[0margs\u001b[0m \u001b[0;34m==\u001b[0m \u001b[0;34m(\u001b[0m\u001b[0;34m-\u001b[0m\u001b[0;36m1\u001b[0m\u001b[0;34m,\u001b[0m \u001b[0;34m'Unexpected EOF'\u001b[0m\u001b[0;34m)\u001b[0m\u001b[0;34m:\u001b[0m\u001b[0;34m\u001b[0m\u001b[0;34m\u001b[0m\u001b[0m\n",
      "\u001b[0;32m~/opt/anaconda3/lib/python3.7/site-packages/OpenSSL/SSL.py\u001b[0m in \u001b[0;36mrecv_into\u001b[0;34m(self, buffer, nbytes, flags)\u001b[0m\n\u001b[1;32m   1819\u001b[0m             \u001b[0mresult\u001b[0m \u001b[0;34m=\u001b[0m \u001b[0m_lib\u001b[0m\u001b[0;34m.\u001b[0m\u001b[0mSSL_peek\u001b[0m\u001b[0;34m(\u001b[0m\u001b[0mself\u001b[0m\u001b[0;34m.\u001b[0m\u001b[0m_ssl\u001b[0m\u001b[0;34m,\u001b[0m \u001b[0mbuf\u001b[0m\u001b[0;34m,\u001b[0m \u001b[0mnbytes\u001b[0m\u001b[0;34m)\u001b[0m\u001b[0;34m\u001b[0m\u001b[0;34m\u001b[0m\u001b[0m\n\u001b[1;32m   1820\u001b[0m         \u001b[0;32melse\u001b[0m\u001b[0;34m:\u001b[0m\u001b[0;34m\u001b[0m\u001b[0;34m\u001b[0m\u001b[0m\n\u001b[0;32m-> 1821\u001b[0;31m             \u001b[0mresult\u001b[0m \u001b[0;34m=\u001b[0m \u001b[0m_lib\u001b[0m\u001b[0;34m.\u001b[0m\u001b[0mSSL_read\u001b[0m\u001b[0;34m(\u001b[0m\u001b[0mself\u001b[0m\u001b[0;34m.\u001b[0m\u001b[0m_ssl\u001b[0m\u001b[0;34m,\u001b[0m \u001b[0mbuf\u001b[0m\u001b[0;34m,\u001b[0m \u001b[0mnbytes\u001b[0m\u001b[0;34m)\u001b[0m\u001b[0;34m\u001b[0m\u001b[0;34m\u001b[0m\u001b[0m\n\u001b[0m\u001b[1;32m   1822\u001b[0m         \u001b[0mself\u001b[0m\u001b[0;34m.\u001b[0m\u001b[0m_raise_ssl_error\u001b[0m\u001b[0;34m(\u001b[0m\u001b[0mself\u001b[0m\u001b[0;34m.\u001b[0m\u001b[0m_ssl\u001b[0m\u001b[0;34m,\u001b[0m \u001b[0mresult\u001b[0m\u001b[0;34m)\u001b[0m\u001b[0;34m\u001b[0m\u001b[0;34m\u001b[0m\u001b[0m\n\u001b[1;32m   1823\u001b[0m \u001b[0;34m\u001b[0m\u001b[0m\n",
      "\u001b[0;31mKeyboardInterrupt\u001b[0m: "
     ]
    }
   ],
   "source": [
    "start = time.time()\n",
    "link_dict4 = {}\n",
    "\n",
    "for key in list(link_dict.keys()):\n",
    "\n",
    "    loc7list = []\n",
    "    loc8list = []\n",
    "    \n",
    "    sample = link_dict[key].copy()\n",
    "    sample = sample[sample['reportDate'].values > '1996-01-01']\n",
    "    for i in range(len(sample)):\n",
    "        sample_link = sample.iloc[i,:]['Link']\n",
    "        response = requests.get(sample_link, headers=heads).text\n",
    "        soup = BeautifulSoup(response, 'lxml')\n",
    "        cleaned_soup = soup.text\n",
    "        locs7 = re.finditer(r\"ITEM\\s7\", cleaned_soup, re.IGNORECASE)\n",
    "        locs8 = re.finditer(r\"ITEM\\s8\", cleaned_soup, re.IGNORECASE)\n",
    "\n",
    "        loc7list.append([[x.span(), x.group()] for x in locs7])\n",
    "        loc8list.append([[x.span(), x.group()] for x in locs8])\n",
    "    \n",
    "    sample['Loc7'] = loc7list\n",
    "    sample['Loc8'] = loc8list\n",
    "    \n",
    "    link_dict4[key] = sample.copy()\n",
    "\n",
    "end = time.time()"
   ]
  },
  {
   "cell_type": "code",
   "execution_count": 396,
   "metadata": {},
   "outputs": [
    {
     "data": {
      "text/plain": [
       "353"
      ]
     },
     "execution_count": 396,
     "metadata": {},
     "output_type": "execute_result"
    }
   ],
   "source": [
    "len(link_dict4)"
   ]
  },
  {
   "cell_type": "code",
   "execution_count": null,
   "metadata": {},
   "outputs": [],
   "source": [
    "with open('2-link_dict4.pickle', 'wb') as handle:\n",
    "    pickle.dump(link_dict4, handle, protocol=pickle.HIGHEST_PROTOCOL)"
   ]
  },
  {
   "cell_type": "code",
   "execution_count": 282,
   "metadata": {},
   "outputs": [
    {
     "name": "stdout",
     "output_type": "stream",
     "text": [
      "13508.377779006958\n"
     ]
    }
   ],
   "source": [
    "print(end-start)"
   ]
  },
  {
   "cell_type": "code",
   "execution_count": 283,
   "metadata": {},
   "outputs": [
    {
     "data": {
      "text/plain": [
       "873"
      ]
     },
     "execution_count": 283,
     "metadata": {},
     "output_type": "execute_result"
    }
   ],
   "source": [
    "len(link_dict3.keys())"
   ]
  },
  {
   "cell_type": "code",
   "execution_count": 214,
   "metadata": {},
   "outputs": [
    {
     "data": {
      "text/plain": [
       "6.319669485092163"
      ]
     },
     "execution_count": 214,
     "metadata": {},
     "output_type": "execute_result"
    }
   ],
   "source": [
    "((end-start) * 1110)/5 /60/60"
   ]
  },
  {
   "cell_type": "code",
   "execution_count": 366,
   "metadata": {},
   "outputs": [
    {
     "data": {
      "text/plain": [
       "[[(92292, 92310), 'Item 7. Management'],\n",
       " [(105990, 106008), 'Item 7. Management']]"
      ]
     },
     "execution_count": 366,
     "metadata": {},
     "output_type": "execute_result"
    }
   ],
   "source": [
    "[x for x in link_dict3['0001158449']['Loc7'].copy().values[0]]"
   ]
  },
  {
   "cell_type": "code",
   "execution_count": 369,
   "metadata": {},
   "outputs": [
    {
     "data": {
      "text/plain": [
       "['0001391461',\n",
       " '0001409741',\n",
       " '0001181249',\n",
       " '0001124074',\n",
       " '0001576340',\n",
       " '0000031225',\n",
       " '0001319183',\n",
       " '0001438893',\n",
       " '0000806085',\n",
       " '0001323206',\n",
       " '0000798738',\n",
       " '0000833203']"
      ]
     },
     "execution_count": 369,
     "metadata": {},
     "output_type": "execute_result"
    }
   ],
   "source": [
    "bads = [x for x in link_dict3.keys() if link_dict3[x].empty]\n",
    "bads"
   ]
  },
  {
   "cell_type": "code",
   "execution_count": 443,
   "metadata": {},
   "outputs": [
    {
     "data": {
      "text/plain": [
       "49     [[(158292, 158310), Item 7. Management], [(167...\n",
       "150    [[(153128, 153146), Item 7. Management], [(156...\n",
       "225    [[(9505, 9523), Item 7. Management], [(12796, ...\n",
       "315    [[(9554, 9572), Item 7. Management], [(13606, ...\n",
       "412    [[(9935, 9953), Item 7. Management], [(14047, ...\n",
       "538    [[(17027, 17045), Item 7. Management], [(21453...\n",
       "651    [[(16174, 16192), Item 7. Management], [(23008...\n",
       "750    [[(15590, 15608), Item 7. Management], [(23363...\n",
       "Name: Loc7, dtype: object"
      ]
     },
     "execution_count": 443,
     "metadata": {},
     "output_type": "execute_result"
    }
   ],
   "source": [
    "link_dict3['0000006201']['Loc7']"
   ]
  },
  {
   "cell_type": "markdown",
   "metadata": {},
   "source": [
    "# Find Closest Pair of Points\n",
    "\n",
    "Now that we have the start/end points of all Item 7s and 8s, I'd like to use some sort of KNN or clustering algorithm to decide which start points are the true start points. Let's explore how the data looks:"
   ]
  },
  {
   "cell_type": "code",
   "execution_count": 312,
   "metadata": {},
   "outputs": [
    {
     "data": {
      "text/plain": [
       "[[(158292, 158310), 'Item 7. Management'],\n",
       " [(167163, 167181), 'Item\\xa07. Management'],\n",
       " [(180987, 181005), 'Item\\xa07. Management'],\n",
       " [(430418, 430436), 'Item 7. Management'],\n",
       " [(440363, 440381), 'Item 7. Management'],\n",
       " [(451837, 451855), 'Item 7. Management']]"
      ]
     },
     "execution_count": 312,
     "metadata": {},
     "output_type": "execute_result"
    }
   ],
   "source": [
    "sample1 = link_dict3['0000006201']['Loc7'].values[0]\n",
    "sample1"
   ]
  },
  {
   "cell_type": "code",
   "execution_count": 304,
   "metadata": {},
   "outputs": [
    {
     "data": {
      "text/plain": [
       "[[(502641, 502662), 'ITEM\\xa08A.\\xa0CONSOLIDATED']]"
      ]
     },
     "execution_count": 304,
     "metadata": {},
     "output_type": "execute_result"
    }
   ],
   "source": [
    "sample2 = link_dict3['0000006201']['Loc8'].values[0]\n",
    "sample2"
   ]
  },
  {
   "cell_type": "code",
   "execution_count": 315,
   "metadata": {},
   "outputs": [
    {
     "data": {
      "text/plain": [
       "[158292, 167163, 180987, 430418, 440363, 451837]"
      ]
     },
     "execution_count": 315,
     "metadata": {},
     "output_type": "execute_result"
    }
   ],
   "source": [
    "x_points = [x[0][0] for x in sample1]\n",
    "x_points"
   ]
  },
  {
   "cell_type": "code",
   "execution_count": 316,
   "metadata": {},
   "outputs": [
    {
     "data": {
      "text/plain": [
       "[502641]"
      ]
     },
     "execution_count": 316,
     "metadata": {},
     "output_type": "execute_result"
    }
   ],
   "source": [
    "y_points = [x[0][0] for x in sample2]\n",
    "y_points"
   ]
  },
  {
   "cell_type": "code",
   "execution_count": 319,
   "metadata": {},
   "outputs": [],
   "source": [
    "import itertools\n",
    "import matplotlib.pyplot as plt"
   ]
  },
  {
   "cell_type": "code",
   "execution_count": 333,
   "metadata": {},
   "outputs": [
    {
     "data": {
      "text/plain": [
       "array([[158292, 502641],\n",
       "       [167163, 502641],\n",
       "       [180987, 502641],\n",
       "       [430418, 502641],\n",
       "       [440363, 502641],\n",
       "       [451837, 502641]])"
      ]
     },
     "execution_count": 333,
     "metadata": {},
     "output_type": "execute_result"
    }
   ],
   "source": [
    "points = np.array(list(itertools.product(x_points, y_points)))\n",
    "points"
   ]
  },
  {
   "cell_type": "code",
   "execution_count": 336,
   "metadata": {},
   "outputs": [
    {
     "data": {
      "text/plain": [
       "<matplotlib.collections.PathCollection at 0x7fc362dcac90>"
      ]
     },
     "execution_count": 336,
     "metadata": {},
     "output_type": "execute_result"
    },
    {
     "data": {
      "image/png": "[encoded data removed]",
      "text/plain": [
       "<Figure size 432x288 with 1 Axes>"
      ]
     },
     "metadata": {
      "needs_background": "light"
     },
     "output_type": "display_data"
    }
   ],
   "source": [
    "plt.scatter(points[:,0], points[:,1], color)"
   ]
  },
  {
   "cell_type": "markdown",
   "metadata": {},
   "source": [
    "# Build out to First 10 Companies"
   ]
  },
  {
   "cell_type": "code",
   "execution_count": 432,
   "metadata": {},
   "outputs": [
    {
     "name": "stdout",
     "output_type": "stream",
     "text": [
      "0001391461\n"
     ]
    },
    {
     "data": {
      "image/png": "[encoded data removed]",
      "text/plain": [
       "<Figure size 432x288 with 1 Axes>"
      ]
     },
     "metadata": {
      "needs_background": "light"
     },
     "output_type": "display_data"
    }
   ],
   "source": [
    "import matplotlib.cm as cm\n",
    "\n",
    "\n",
    "plt.figure()\n",
    "companies = list(link_dict.keys())[27:29]\n",
    "\n",
    "idx = 0\n",
    "for company in companies:\n",
    "    \n",
    "    if link_dict3[company].empty:\n",
    "        print(company)\n",
    "        continue\n",
    "    \n",
    "    sample1 = link_dict3[company]['Loc7'].values[0]\n",
    "    sample2 = link_dict3[company]['Loc8'].values[0]\n",
    "    \n",
    "    try:\n",
    "        x_points = [x[0][0] for x in sample1]\n",
    "        y_points = [x[0][0] for x in sample2]\n",
    "        points = np.array(list(itertools.product(x_points, y_points)))\n",
    "        plt.scatter(points[:,0], points[:,1])\n",
    "    except:\n",
    "        print(company)\n",
    "        continue\n",
    "plt.show()"
   ]
  },
  {
   "cell_type": "code",
   "execution_count": 433,
   "metadata": {},
   "outputs": [
    {
     "data": {
      "text/plain": [
       "['0000004977', '0001391461']"
      ]
     },
     "execution_count": 433,
     "metadata": {},
     "output_type": "execute_result"
    }
   ],
   "source": [
    "companies = list(link_dict.keys())[27:29]\n",
    "companies"
   ]
  },
  {
   "cell_type": "code",
   "execution_count": 442,
   "metadata": {},
   "outputs": [
    {
     "data": {
      "text/plain": [
       "'https://www.sec.gov/Archives/edgar/data/4977/000000497721000047/afl-20201231.htm'"
      ]
     },
     "execution_count": 442,
     "metadata": {},
     "output_type": "execute_result"
    }
   ],
   "source": [
    "link_dict3['0000004977']['Link'].values[0]"
   ]
  },
  {
   "cell_type": "code",
   "execution_count": 435,
   "metadata": {},
   "outputs": [
    {
     "data": {
      "text/plain": [
       "[114316,\n",
       " 245736,\n",
       " 247593,\n",
       " 247975,\n",
       " 253500,\n",
       " 259002,\n",
       " 264175,\n",
       " 269233,\n",
       " 274441,\n",
       " 278663,\n",
       " 281976,\n",
       " 282917,\n",
       " 287953,\n",
       " 292246,\n",
       " 296530,\n",
       " 301746,\n",
       " 304215,\n",
       " 307837,\n",
       " 310912,\n",
       " 316022,\n",
       " 318751,\n",
       " 321221,\n",
       " 324260,\n",
       " 327586,\n",
       " 331226,\n",
       " 333189,\n",
       " 335910,\n",
       " 338018,\n",
       " 339944,\n",
       " 343387,\n",
       " 347369,\n",
       " 350549,\n",
       " 353007,\n",
       " 355957,\n",
       " 359802,\n",
       " 364992,\n",
       " 369265,\n",
       " 374432,\n",
       " 377692,\n",
       " 382552,\n",
       " 387773,\n",
       " 393268,\n",
       " 397266,\n",
       " 400941,\n",
       " 406712]"
      ]
     },
     "execution_count": 435,
     "metadata": {},
     "output_type": "execute_result"
    }
   ],
   "source": [
    "x_points"
   ]
  },
  {
   "cell_type": "code",
   "execution_count": 347,
   "metadata": {},
   "outputs": [
    {
     "data": {
      "text/plain": [
       "Series([], Name: Link, dtype: object)"
      ]
     },
     "execution_count": 347,
     "metadata": {},
     "output_type": "execute_result"
    }
   ],
   "source": [
    "link_dict3[company]['Link']"
   ]
  },
  {
   "cell_type": "code",
   "execution_count": 359,
   "metadata": {},
   "outputs": [
    {
     "data": {
      "text/plain": [
       "['0001391461',\n",
       " '0001409741',\n",
       " '0001181249',\n",
       " '0001124074',\n",
       " '0001576340',\n",
       " '0000031225',\n",
       " '0001319183',\n",
       " '0001438893',\n",
       " '0000806085',\n",
       " '0001323206',\n",
       " '0000798738',\n",
       " '0000833203']"
      ]
     },
     "execution_count": 359,
     "metadata": {},
     "output_type": "execute_result"
    }
   ],
   "source": [
    "[x for x in link_dict.keys() if link_dict[x].empty]"
   ]
  },
  {
   "cell_type": "code",
   "execution_count": 364,
   "metadata": {},
   "outputs": [
    {
     "data": {
      "text/plain": [
       "True"
      ]
     },
     "execution_count": 364,
     "metadata": {},
     "output_type": "execute_result"
    }
   ],
   "source": [
    "link_dict[company].empty"
   ]
  },
  {
   "cell_type": "markdown",
   "metadata": {},
   "source": [
    "# Try Another Thing"
   ]
  },
  {
   "cell_type": "code",
   "execution_count": null,
   "metadata": {},
   "outputs": [],
   "source": [
    "start = time.time()\n",
    "link_dict4 = {}\n",
    "\n",
    "for key in list(link_dict.keys()):\n",
    "\n",
    "    loc7list = []\n",
    "    loc8list = []\n",
    "    \n",
    "    sample = link_dict[key].copy()\n",
    "    sample = sample[sample['reportDate'].values > '1996-01-01']\n",
    "    for i in range(len(sample)):\n",
    "        sample_link = sample.iloc[i,:]['Link']\n",
    "        response = requests.get(sample_link, headers=heads).text\n",
    "        soup = BeautifulSoup(response, 'lxml')\n",
    "        cleaned_soup = soup.text\n",
    "        locs7 = re.finditer(r\"ITEM\\s7(|\\.)\\sManagement\", cleaned_soup, re.IGNORECASE)\n",
    "        locs8 = re.finditer(r\"ITEM\\s8(|A)(|\\.)\\s(Consolidated|Financial)\", cleaned_soup, re.IGNORECASE)\n",
    "\n",
    "        loc7list.append([[x.span(), x.group()] for x in locs7])\n",
    "        loc8list.append([[x.span(), x.group()] for x in locs8])\n",
    "    \n",
    "    sample['Loc7'] = loc7list\n",
    "    sample['Loc8'] = loc8list\n",
    "    \n",
    "    link_dict4[key] = sample.copy()\n",
    "\n",
    "end = time.time()"
   ]
  },
  {
   "cell_type": "code",
   "execution_count": 421,
   "metadata": {},
   "outputs": [
    {
     "data": {
      "text/plain": [
       "array(['https://www.sec.gov/Archives/edgar/data/1051470/000105147021000031/cci-20201231.htm',\n",
       "       'https://www.sec.gov/Archives/edgar/data/1051470/000105147020000077/cci10k123119q4.htm',\n",
       "       'https://www.sec.gov/Archives/edgar/data/1051470/000105147019000046/cci10-k123118.htm',\n",
       "       'https://www.sec.gov/Archives/edgar/data/1051470/000105147018000082/cci10-k123117.htm',\n",
       "       'https://www.sec.gov/Archives/edgar/data/1051470/000105147017000059/cci10-k123116.htm',\n",
       "       'https://www.sec.gov/Archives/edgar/data/1051470/000105147016000158/cci10-k123115.htm',\n",
       "       'https://www.sec.gov/Archives/edgar/data/1051470/000105147015000034/cci10-k123114.htm',\n",
       "       'https://www.sec.gov/Archives/edgar/data/1051470/000105147014000008/cci10-k123113.htm',\n",
       "       'https://www.sec.gov/Archives/edgar/data/1051470/000105147013000007/cci10-k123112.htm',\n",
       "       'https://www.sec.gov/Archives/edgar/data/1051470/000105147012000007/cci10-k123111.htm',\n",
       "       'https://www.sec.gov/Archives/edgar/data/1051470/000144530511000263/cci10k123110.htm'],\n",
       "      dtype=object)"
      ]
     },
     "execution_count": 421,
     "metadata": {},
     "output_type": "execute_result"
    }
   ],
   "source": [
    "link_dict[list(link_dict.keys())[150]]['Link'].values"
   ]
  },
  {
   "cell_type": "code",
   "execution_count": 413,
   "metadata": {},
   "outputs": [],
   "source": [
    "sample_link = 'https://www.sec.gov/Archives/edgar/data/6201/000000620121000014/aal-20201231.htm'\n",
    "response = requests.get(sample_link, headers=heads).text"
   ]
  },
  {
   "cell_type": "code",
   "execution_count": 416,
   "metadata": {},
   "outputs": [
    {
     "name": "stderr",
     "output_type": "stream",
     "text": [
      "IOPub data rate exceeded.\n",
      "The notebook server will temporarily stop sending output\n",
      "to the client in order to avoid crashing it.\n",
      "To change this limit, set the config variable\n",
      "`--NotebookApp.iopub_data_rate_limit`.\n",
      "\n",
      "Current values:\n",
      "NotebookApp.iopub_data_rate_limit=1000000.0 (bytes/sec)\n",
      "NotebookApp.rate_limit_window=3.0 (secs)\n",
      "\n"
     ]
    }
   ],
   "source": [
    "print(response)"
   ]
  },
  {
   "cell_type": "code",
   "execution_count": 446,
   "metadata": {},
   "outputs": [],
   "source": [
    "soup = BeautifulSoup(response, 'lxml')"
   ]
  },
  {
   "cell_type": "code",
   "execution_count": 463,
   "metadata": {},
   "outputs": [],
   "source": [
    "tables = soup.findAll('table')"
   ]
  },
  {
   "cell_type": "code",
   "execution_count": 470,
   "metadata": {},
   "outputs": [
    {
     "data": {
      "text/plain": [
       "'<table cellpadding=\"0\" cellspacing=\"0\" style=\"font-family:Times New Roman;font-size:10pt;margin-left:auto;margin-right:auto;width:100%;border-collapse:collapse;text-align:left;\"><tr><td colspan=\"1\"></td></tr><tr><td style=\"width:100%;\"></td></tr><tr><td style=\"vertical-align:bottom;border-bottom:1px solid #000000;padding-left:2px;padding-top:2px;padding-bottom:2px;padding-right:2px;border-top:1px solid #000000;\"><div style=\"overflow:hidden;height:5px;font-size:10pt;\"><font style=\"font-family:inherit;font-size:10pt;\">\\xa0</font></div></td></tr></table>'"
      ]
     },
     "execution_count": 470,
     "metadata": {},
     "output_type": "execute_result"
    }
   ],
   "source": [
    "str(tables[6])"
   ]
  },
  {
   "cell_type": "code",
   "execution_count": 444,
   "metadata": {},
   "outputs": [
    {
     "name": "stdout",
     "output_type": "stream",
     "text": [
      "\n"
     ]
    }
   ],
   "source": [
    "filing = ''\n",
    "for f in soup.select('font'):\n",
    "    if f.text is not None and t.text != \"Table of Contents\":\n",
    "        filing+=(f.text)+\" \\n\"\n",
    "print(filing.split('Item 1B')[0].split('Item 1A')[-1])"
   ]
  },
  {
   "cell_type": "code",
   "execution_count": 449,
   "metadata": {},
   "outputs": [],
   "source": [
    "file = requests.get('https://www.sec.gov/Archives/edgar/data/101830/000010183019000022/sprintcorp201810-k.htm')                                                                      \n",
    "soup = BeautifulSoup(file.content, 'html.parser')                                                                                                                                 \n",
    "risk_factors_header = soup.find_all(\"font\", text=\"Risk Factors\")[1]                                                                                                                  \n",
    "staff_comments_header = soup.find_all(\"font\", text=\"Unresolved Staff Comments \")[0]                                                                                                  "
   ]
  },
  {
   "cell_type": "code",
   "execution_count": 450,
   "metadata": {},
   "outputs": [
    {
     "data": {
      "text/plain": [
       "<font style=\"font-family:inherit;font-size:10pt;font-style:italic;font-weight:bold;\">Risk Factors</font>"
      ]
     },
     "execution_count": 450,
     "metadata": {},
     "output_type": "execute_result"
    }
   ],
   "source": [
    "risk_factors_header"
   ]
  },
  {
   "cell_type": "code",
   "execution_count": 475,
   "metadata": {},
   "outputs": [],
   "source": [
    "TenKtext = soup.text"
   ]
  },
  {
   "cell_type": "code",
   "execution_count": 502,
   "metadata": {},
   "outputs": [
    {
     "data": {
      "text/html": [
       "<div>\n",
       "<style scoped>\n",
       "    .dataframe tbody tr th:only-of-type {\n",
       "        vertical-align: middle;\n",
       "    }\n",
       "\n",
       "    .dataframe tbody tr th {\n",
       "        vertical-align: top;\n",
       "    }\n",
       "\n",
       "    .dataframe thead th {\n",
       "        text-align: right;\n",
       "    }\n",
       "</style>\n",
       "<table border=\"1\" class=\"dataframe\">\n",
       "  <thead>\n",
       "    <tr style=\"text-align: right;\">\n",
       "      <th></th>\n",
       "      <th>0</th>\n",
       "      <th>1</th>\n",
       "    </tr>\n",
       "  </thead>\n",
       "  <tbody>\n",
       "    <tr>\n",
       "      <th>0</th>\n",
       "      <td>Management's Discussion and Analysis of Financ...</td>\n",
       "      <td>3834</td>\n",
       "    </tr>\n",
       "    <tr>\n",
       "      <th>1</th>\n",
       "      <td>Financial Statements and Supplementary Data</td>\n",
       "      <td>3988</td>\n",
       "    </tr>\n",
       "    <tr>\n",
       "      <th>2</th>\n",
       "      <td>Item 7.</td>\n",
       "      <td>9744</td>\n",
       "    </tr>\n",
       "    <tr>\n",
       "      <th>3</th>\n",
       "      <td>Management's Discussion and Analysis of Financ...</td>\n",
       "      <td>9752</td>\n",
       "    </tr>\n",
       "    <tr>\n",
       "      <th>4</th>\n",
       "      <td>Item 7.</td>\n",
       "      <td>14128</td>\n",
       "    </tr>\n",
       "    <tr>\n",
       "      <th>5</th>\n",
       "      <td>Management's Discussion and Analysis of Financ...</td>\n",
       "      <td>14136</td>\n",
       "    </tr>\n",
       "    <tr>\n",
       "      <th>6</th>\n",
       "      <td>Item 7.</td>\n",
       "      <td>15058</td>\n",
       "    </tr>\n",
       "    <tr>\n",
       "      <th>7</th>\n",
       "      <td>Management's Discussion and Analysis of Financ...</td>\n",
       "      <td>15066</td>\n",
       "    </tr>\n",
       "    <tr>\n",
       "      <th>8</th>\n",
       "      <td>Item 7.</td>\n",
       "      <td>146186</td>\n",
       "    </tr>\n",
       "    <tr>\n",
       "      <th>9</th>\n",
       "      <td>Management's Discussion and Analysis of Financ...</td>\n",
       "      <td>146194</td>\n",
       "    </tr>\n",
       "    <tr>\n",
       "      <th>10</th>\n",
       "      <td>Item 8.</td>\n",
       "      <td>146295</td>\n",
       "    </tr>\n",
       "    <tr>\n",
       "      <th>11</th>\n",
       "      <td>Financial Statements and Supplementary Data</td>\n",
       "      <td>146303</td>\n",
       "    </tr>\n",
       "    <tr>\n",
       "      <th>12</th>\n",
       "      <td>Item 8.</td>\n",
       "      <td>146970</td>\n",
       "    </tr>\n",
       "    <tr>\n",
       "      <th>13</th>\n",
       "      <td>Financial Statements and Supplementary Data</td>\n",
       "      <td>146978</td>\n",
       "    </tr>\n",
       "    <tr>\n",
       "      <th>14</th>\n",
       "      <td>Item 8.</td>\n",
       "      <td>147685</td>\n",
       "    </tr>\n",
       "    <tr>\n",
       "      <th>15</th>\n",
       "      <td>Financial Statements and Supplementary Data</td>\n",
       "      <td>147693</td>\n",
       "    </tr>\n",
       "    <tr>\n",
       "      <th>16</th>\n",
       "      <td>Item 8.</td>\n",
       "      <td>149863</td>\n",
       "    </tr>\n",
       "    <tr>\n",
       "      <th>17</th>\n",
       "      <td>Financial Statements and Supplementary Data</td>\n",
       "      <td>149871</td>\n",
       "    </tr>\n",
       "    <tr>\n",
       "      <th>18</th>\n",
       "      <td>Item 7.</td>\n",
       "      <td>149971</td>\n",
       "    </tr>\n",
       "    <tr>\n",
       "      <th>19</th>\n",
       "      <td>Management's Discussion and Analysis of Financ...</td>\n",
       "      <td>149978</td>\n",
       "    </tr>\n",
       "    <tr>\n",
       "      <th>20</th>\n",
       "      <td>Item 8.</td>\n",
       "      <td>153401</td>\n",
       "    </tr>\n",
       "    <tr>\n",
       "      <th>21</th>\n",
       "      <td>Financial Statements and Supplementary Data</td>\n",
       "      <td>153409</td>\n",
       "    </tr>\n",
       "    <tr>\n",
       "      <th>22</th>\n",
       "      <td>Item 8.</td>\n",
       "      <td>153859</td>\n",
       "    </tr>\n",
       "    <tr>\n",
       "      <th>23</th>\n",
       "      <td>Financial Statements and Supplementary Data</td>\n",
       "      <td>153867</td>\n",
       "    </tr>\n",
       "    <tr>\n",
       "      <th>24</th>\n",
       "      <td>Item 8.</td>\n",
       "      <td>164581</td>\n",
       "    </tr>\n",
       "    <tr>\n",
       "      <th>25</th>\n",
       "      <td>Financial Statements and Supplementary Data</td>\n",
       "      <td>164589</td>\n",
       "    </tr>\n",
       "    <tr>\n",
       "      <th>26</th>\n",
       "      <td>Item 8.</td>\n",
       "      <td>186813</td>\n",
       "    </tr>\n",
       "    <tr>\n",
       "      <th>27</th>\n",
       "      <td>Financial Statements and Supplementary Data</td>\n",
       "      <td>186821</td>\n",
       "    </tr>\n",
       "    <tr>\n",
       "      <th>28</th>\n",
       "      <td>Item 8.</td>\n",
       "      <td>191291</td>\n",
       "    </tr>\n",
       "    <tr>\n",
       "      <th>29</th>\n",
       "      <td>Financial Statements and Supplementary Data</td>\n",
       "      <td>191299</td>\n",
       "    </tr>\n",
       "    <tr>\n",
       "      <th>30</th>\n",
       "      <td>Item 8.</td>\n",
       "      <td>212476</td>\n",
       "    </tr>\n",
       "    <tr>\n",
       "      <th>31</th>\n",
       "      <td>Financial Statements and Supplementary Data</td>\n",
       "      <td>212484</td>\n",
       "    </tr>\n",
       "    <tr>\n",
       "      <th>32</th>\n",
       "      <td>Item 8.</td>\n",
       "      <td>218745</td>\n",
       "    </tr>\n",
       "    <tr>\n",
       "      <th>33</th>\n",
       "      <td>Financial Statements and Supplementary Data</td>\n",
       "      <td>218753</td>\n",
       "    </tr>\n",
       "    <tr>\n",
       "      <th>34</th>\n",
       "      <td>Item 8.</td>\n",
       "      <td>264395</td>\n",
       "    </tr>\n",
       "    <tr>\n",
       "      <th>35</th>\n",
       "      <td>Financial Statements and Supplementary Data</td>\n",
       "      <td>264403</td>\n",
       "    </tr>\n",
       "    <tr>\n",
       "      <th>36</th>\n",
       "      <td>Item 8.</td>\n",
       "      <td>272761</td>\n",
       "    </tr>\n",
       "    <tr>\n",
       "      <th>37</th>\n",
       "      <td>Financial Statements and Supplementary Data</td>\n",
       "      <td>272769</td>\n",
       "    </tr>\n",
       "    <tr>\n",
       "      <th>38</th>\n",
       "      <td>Item 8.</td>\n",
       "      <td>281453</td>\n",
       "    </tr>\n",
       "    <tr>\n",
       "      <th>39</th>\n",
       "      <td>Financial Statements and Supplementary Data</td>\n",
       "      <td>281461</td>\n",
       "    </tr>\n",
       "    <tr>\n",
       "      <th>40</th>\n",
       "      <td>Management's Discussion and Analysis of Financ...</td>\n",
       "      <td>291192</td>\n",
       "    </tr>\n",
       "    <tr>\n",
       "      <th>41</th>\n",
       "      <td>Item 8.</td>\n",
       "      <td>294774</td>\n",
       "    </tr>\n",
       "    <tr>\n",
       "      <th>42</th>\n",
       "      <td>Financial Statements and Supplementary Data</td>\n",
       "      <td>294781</td>\n",
       "    </tr>\n",
       "  </tbody>\n",
       "</table>\n",
       "</div>"
      ],
      "text/plain": [
       "                                                    0       1\n",
       "0   Management's Discussion and Analysis of Financ...    3834\n",
       "1         Financial Statements and Supplementary Data    3988\n",
       "2                                             Item 7.    9744\n",
       "3   Management's Discussion and Analysis of Financ...    9752\n",
       "4                                             Item 7.   14128\n",
       "5   Management's Discussion and Analysis of Financ...   14136\n",
       "6                                             Item 7.   15058\n",
       "7   Management's Discussion and Analysis of Financ...   15066\n",
       "8                                             Item 7.  146186\n",
       "9   Management's Discussion and Analysis of Financ...  146194\n",
       "10                                            Item 8.  146295\n",
       "11        Financial Statements and Supplementary Data  146303\n",
       "12                                            Item 8.  146970\n",
       "13        Financial Statements and Supplementary Data  146978\n",
       "14                                            Item 8.  147685\n",
       "15        Financial Statements and Supplementary Data  147693\n",
       "16                                            Item 8.  149863\n",
       "17        Financial Statements and Supplementary Data  149871\n",
       "18                                            Item 7.  149971\n",
       "19  Management's Discussion and Analysis of Financ...  149978\n",
       "20                                            Item 8.  153401\n",
       "21        Financial Statements and Supplementary Data  153409\n",
       "22                                            Item 8.  153859\n",
       "23        Financial Statements and Supplementary Data  153867\n",
       "24                                            Item 8.  164581\n",
       "25        Financial Statements and Supplementary Data  164589\n",
       "26                                            Item 8.  186813\n",
       "27        Financial Statements and Supplementary Data  186821\n",
       "28                                            Item 8.  191291\n",
       "29        Financial Statements and Supplementary Data  191299\n",
       "30                                            Item 8.  212476\n",
       "31        Financial Statements and Supplementary Data  212484\n",
       "32                                            Item 8.  218745\n",
       "33        Financial Statements and Supplementary Data  218753\n",
       "34                                            Item 8.  264395\n",
       "35        Financial Statements and Supplementary Data  264403\n",
       "36                                            Item 8.  272761\n",
       "37        Financial Statements and Supplementary Data  272769\n",
       "38                                            Item 8.  281453\n",
       "39        Financial Statements and Supplementary Data  281461\n",
       "40  Management's Discussion and Analysis of Financ...  291192\n",
       "41                                            Item 8.  294774\n",
       "42        Financial Statements and Supplementary Data  294781"
      ]
     },
     "execution_count": 502,
     "metadata": {},
     "output_type": "execute_result"
    }
   ],
   "source": [
    "# Set up the regex pattern\n",
    "matches = re.compile(r'item\\s7[\\.\\s]|'\n",
    "                     'item\\s(8A|8)[\\.\\s]|'\n",
    "                     'management\\'s\\sdiscussion\\sand\\sanalysis\\sof\\s(consolidated\\sfinancial|financial)\\scondition|'\n",
    "                     '((consolidated\\sfinancial|financial)\\sstatements\\sand\\ssupplementary\\sdata)', re.IGNORECASE)\n",
    "\n",
    "matches_array = pd.DataFrame([(match.group(), match.start()) for match in matches.finditer(TenKtext)])\n",
    "matches_array"
   ]
  },
  {
   "cell_type": "code",
   "execution_count": 503,
   "metadata": {},
   "outputs": [],
   "source": [
    "# Set columns in the dataframe\n",
    "matches_array.columns = ['SearchTerm', 'Start']\n",
    "\n",
    "# Get the number of rows in the dataframe\n",
    "Rows = matches_array['SearchTerm'].count()"
   ]
  },
  {
   "cell_type": "code",
   "execution_count": 517,
   "metadata": {},
   "outputs": [],
   "source": [
    "# Create a new column in 'matches_array' called 'Selection' and add adjacent \n",
    "# 'SearchTerm' (i and i+1 rows) text concatenated\n",
    "count = 0 # Counter to help with row location and iteration\n",
    "\n",
    "while count < (Rows-1): # Can only iterate to the second last row\n",
    "    matches_array.at[count,'Selection'] = (matches_array.iloc[count,0] + matches_array.iloc[count+1,0]).lower() # Convert to lower case\n",
    "    count += 1"
   ]
  },
  {
   "cell_type": "code",
   "execution_count": 518,
   "metadata": {},
   "outputs": [
    {
     "data": {
      "text/html": [
       "<div>\n",
       "<style scoped>\n",
       "    .dataframe tbody tr th:only-of-type {\n",
       "        vertical-align: middle;\n",
       "    }\n",
       "\n",
       "    .dataframe tbody tr th {\n",
       "        vertical-align: top;\n",
       "    }\n",
       "\n",
       "    .dataframe thead th {\n",
       "        text-align: right;\n",
       "    }\n",
       "</style>\n",
       "<table border=\"1\" class=\"dataframe\">\n",
       "  <thead>\n",
       "    <tr style=\"text-align: right;\">\n",
       "      <th></th>\n",
       "      <th>SearchTerm</th>\n",
       "      <th>Start</th>\n",
       "      <th>Selection</th>\n",
       "    </tr>\n",
       "  </thead>\n",
       "  <tbody>\n",
       "    <tr>\n",
       "      <th>0</th>\n",
       "      <td>Management's Discussion and Analysis of Financ...</td>\n",
       "      <td>3834</td>\n",
       "      <td>management's discussion and analysis of financ...</td>\n",
       "    </tr>\n",
       "    <tr>\n",
       "      <th>1</th>\n",
       "      <td>Financial Statements and Supplementary Data</td>\n",
       "      <td>3988</td>\n",
       "      <td>financial statements and supplementary dataite...</td>\n",
       "    </tr>\n",
       "    <tr>\n",
       "      <th>2</th>\n",
       "      <td>Item 7.</td>\n",
       "      <td>9744</td>\n",
       "      <td>item 7.management's discussion and analysis of...</td>\n",
       "    </tr>\n",
       "    <tr>\n",
       "      <th>3</th>\n",
       "      <td>Management's Discussion and Analysis of Financ...</td>\n",
       "      <td>9752</td>\n",
       "      <td>management's discussion and analysis of financ...</td>\n",
       "    </tr>\n",
       "    <tr>\n",
       "      <th>4</th>\n",
       "      <td>Item 7.</td>\n",
       "      <td>14128</td>\n",
       "      <td>item 7.management's discussion and analysis of...</td>\n",
       "    </tr>\n",
       "    <tr>\n",
       "      <th>5</th>\n",
       "      <td>Management's Discussion and Analysis of Financ...</td>\n",
       "      <td>14136</td>\n",
       "      <td>management's discussion and analysis of financ...</td>\n",
       "    </tr>\n",
       "    <tr>\n",
       "      <th>6</th>\n",
       "      <td>Item 7.</td>\n",
       "      <td>15058</td>\n",
       "      <td>item 7.management's discussion and analysis of...</td>\n",
       "    </tr>\n",
       "    <tr>\n",
       "      <th>7</th>\n",
       "      <td>Management's Discussion and Analysis of Financ...</td>\n",
       "      <td>15066</td>\n",
       "      <td>management's discussion and analysis of financ...</td>\n",
       "    </tr>\n",
       "    <tr>\n",
       "      <th>8</th>\n",
       "      <td>Item 7.</td>\n",
       "      <td>146186</td>\n",
       "      <td>item 7.management's discussion and analysis of...</td>\n",
       "    </tr>\n",
       "    <tr>\n",
       "      <th>9</th>\n",
       "      <td>Management's Discussion and Analysis of Financ...</td>\n",
       "      <td>146194</td>\n",
       "      <td>management's discussion and analysis of financ...</td>\n",
       "    </tr>\n",
       "    <tr>\n",
       "      <th>10</th>\n",
       "      <td>Item 8.</td>\n",
       "      <td>146295</td>\n",
       "      <td>item 8.financial statements and supplementary ...</td>\n",
       "    </tr>\n",
       "    <tr>\n",
       "      <th>11</th>\n",
       "      <td>Financial Statements and Supplementary Data</td>\n",
       "      <td>146303</td>\n",
       "      <td>financial statements and supplementary dataite...</td>\n",
       "    </tr>\n",
       "    <tr>\n",
       "      <th>12</th>\n",
       "      <td>Item 8.</td>\n",
       "      <td>146970</td>\n",
       "      <td>item 8.financial statements and supplementary ...</td>\n",
       "    </tr>\n",
       "    <tr>\n",
       "      <th>13</th>\n",
       "      <td>Financial Statements and Supplementary Data</td>\n",
       "      <td>146978</td>\n",
       "      <td>financial statements and supplementary dataite...</td>\n",
       "    </tr>\n",
       "    <tr>\n",
       "      <th>14</th>\n",
       "      <td>Item 8.</td>\n",
       "      <td>147685</td>\n",
       "      <td>item 8.financial statements and supplementary ...</td>\n",
       "    </tr>\n",
       "    <tr>\n",
       "      <th>15</th>\n",
       "      <td>Financial Statements and Supplementary Data</td>\n",
       "      <td>147693</td>\n",
       "      <td>financial statements and supplementary dataite...</td>\n",
       "    </tr>\n",
       "    <tr>\n",
       "      <th>16</th>\n",
       "      <td>Item 8.</td>\n",
       "      <td>149863</td>\n",
       "      <td>item 8.financial statements and supplementary ...</td>\n",
       "    </tr>\n",
       "    <tr>\n",
       "      <th>17</th>\n",
       "      <td>Financial Statements and Supplementary Data</td>\n",
       "      <td>149871</td>\n",
       "      <td>financial statements and supplementary dataite...</td>\n",
       "    </tr>\n",
       "    <tr>\n",
       "      <th>18</th>\n",
       "      <td>Item 7.</td>\n",
       "      <td>149971</td>\n",
       "      <td>item 7.management's discussion and analysis of...</td>\n",
       "    </tr>\n",
       "    <tr>\n",
       "      <th>19</th>\n",
       "      <td>Management's Discussion and Analysis of Financ...</td>\n",
       "      <td>149978</td>\n",
       "      <td>management's discussion and analysis of financ...</td>\n",
       "    </tr>\n",
       "    <tr>\n",
       "      <th>20</th>\n",
       "      <td>Item 8.</td>\n",
       "      <td>153401</td>\n",
       "      <td>item 8.financial statements and supplementary ...</td>\n",
       "    </tr>\n",
       "    <tr>\n",
       "      <th>21</th>\n",
       "      <td>Financial Statements and Supplementary Data</td>\n",
       "      <td>153409</td>\n",
       "      <td>financial statements and supplementary dataite...</td>\n",
       "    </tr>\n",
       "    <tr>\n",
       "      <th>22</th>\n",
       "      <td>Item 8.</td>\n",
       "      <td>153859</td>\n",
       "      <td>item 8.financial statements and supplementary ...</td>\n",
       "    </tr>\n",
       "    <tr>\n",
       "      <th>23</th>\n",
       "      <td>Financial Statements and Supplementary Data</td>\n",
       "      <td>153867</td>\n",
       "      <td>financial statements and supplementary dataite...</td>\n",
       "    </tr>\n",
       "    <tr>\n",
       "      <th>24</th>\n",
       "      <td>Item 8.</td>\n",
       "      <td>164581</td>\n",
       "      <td>item 8.financial statements and supplementary ...</td>\n",
       "    </tr>\n",
       "    <tr>\n",
       "      <th>25</th>\n",
       "      <td>Financial Statements and Supplementary Data</td>\n",
       "      <td>164589</td>\n",
       "      <td>financial statements and supplementary dataite...</td>\n",
       "    </tr>\n",
       "    <tr>\n",
       "      <th>26</th>\n",
       "      <td>Item 8.</td>\n",
       "      <td>186813</td>\n",
       "      <td>item 8.financial statements and supplementary ...</td>\n",
       "    </tr>\n",
       "    <tr>\n",
       "      <th>27</th>\n",
       "      <td>Financial Statements and Supplementary Data</td>\n",
       "      <td>186821</td>\n",
       "      <td>financial statements and supplementary dataite...</td>\n",
       "    </tr>\n",
       "    <tr>\n",
       "      <th>28</th>\n",
       "      <td>Item 8.</td>\n",
       "      <td>191291</td>\n",
       "      <td>item 8.financial statements and supplementary ...</td>\n",
       "    </tr>\n",
       "    <tr>\n",
       "      <th>29</th>\n",
       "      <td>Financial Statements and Supplementary Data</td>\n",
       "      <td>191299</td>\n",
       "      <td>financial statements and supplementary dataite...</td>\n",
       "    </tr>\n",
       "    <tr>\n",
       "      <th>30</th>\n",
       "      <td>Item 8.</td>\n",
       "      <td>212476</td>\n",
       "      <td>item 8.financial statements and supplementary ...</td>\n",
       "    </tr>\n",
       "    <tr>\n",
       "      <th>31</th>\n",
       "      <td>Financial Statements and Supplementary Data</td>\n",
       "      <td>212484</td>\n",
       "      <td>financial statements and supplementary dataite...</td>\n",
       "    </tr>\n",
       "    <tr>\n",
       "      <th>32</th>\n",
       "      <td>Item 8.</td>\n",
       "      <td>218745</td>\n",
       "      <td>item 8.financial statements and supplementary ...</td>\n",
       "    </tr>\n",
       "    <tr>\n",
       "      <th>33</th>\n",
       "      <td>Financial Statements and Supplementary Data</td>\n",
       "      <td>218753</td>\n",
       "      <td>financial statements and supplementary dataite...</td>\n",
       "    </tr>\n",
       "    <tr>\n",
       "      <th>34</th>\n",
       "      <td>Item 8.</td>\n",
       "      <td>264395</td>\n",
       "      <td>item 8.financial statements and supplementary ...</td>\n",
       "    </tr>\n",
       "    <tr>\n",
       "      <th>35</th>\n",
       "      <td>Financial Statements and Supplementary Data</td>\n",
       "      <td>264403</td>\n",
       "      <td>financial statements and supplementary dataite...</td>\n",
       "    </tr>\n",
       "    <tr>\n",
       "      <th>36</th>\n",
       "      <td>Item 8.</td>\n",
       "      <td>272761</td>\n",
       "      <td>item 8.financial statements and supplementary ...</td>\n",
       "    </tr>\n",
       "    <tr>\n",
       "      <th>37</th>\n",
       "      <td>Financial Statements and Supplementary Data</td>\n",
       "      <td>272769</td>\n",
       "      <td>financial statements and supplementary dataite...</td>\n",
       "    </tr>\n",
       "    <tr>\n",
       "      <th>38</th>\n",
       "      <td>Item 8.</td>\n",
       "      <td>281453</td>\n",
       "      <td>item 8.financial statements and supplementary ...</td>\n",
       "    </tr>\n",
       "    <tr>\n",
       "      <th>39</th>\n",
       "      <td>Financial Statements and Supplementary Data</td>\n",
       "      <td>281461</td>\n",
       "      <td>financial statements and supplementary dataman...</td>\n",
       "    </tr>\n",
       "    <tr>\n",
       "      <th>40</th>\n",
       "      <td>Management's Discussion and Analysis of Financ...</td>\n",
       "      <td>291192</td>\n",
       "      <td>management's discussion and analysis of financ...</td>\n",
       "    </tr>\n",
       "    <tr>\n",
       "      <th>41</th>\n",
       "      <td>Item 8.</td>\n",
       "      <td>294774</td>\n",
       "      <td>item 8.financial statements and supplementary ...</td>\n",
       "    </tr>\n",
       "    <tr>\n",
       "      <th>42</th>\n",
       "      <td>Financial Statements and Supplementary Data</td>\n",
       "      <td>294781</td>\n",
       "      <td>NaN</td>\n",
       "    </tr>\n",
       "  </tbody>\n",
       "</table>\n",
       "</div>"
      ],
      "text/plain": [
       "                                           SearchTerm   Start  \\\n",
       "0   Management's Discussion and Analysis of Financ...    3834   \n",
       "1         Financial Statements and Supplementary Data    3988   \n",
       "2                                             Item 7.    9744   \n",
       "3   Management's Discussion and Analysis of Financ...    9752   \n",
       "4                                             Item 7.   14128   \n",
       "5   Management's Discussion and Analysis of Financ...   14136   \n",
       "6                                             Item 7.   15058   \n",
       "7   Management's Discussion and Analysis of Financ...   15066   \n",
       "8                                             Item 7.  146186   \n",
       "9   Management's Discussion and Analysis of Financ...  146194   \n",
       "10                                            Item 8.  146295   \n",
       "11        Financial Statements and Supplementary Data  146303   \n",
       "12                                            Item 8.  146970   \n",
       "13        Financial Statements and Supplementary Data  146978   \n",
       "14                                            Item 8.  147685   \n",
       "15        Financial Statements and Supplementary Data  147693   \n",
       "16                                            Item 8.  149863   \n",
       "17        Financial Statements and Supplementary Data  149871   \n",
       "18                                            Item 7.  149971   \n",
       "19  Management's Discussion and Analysis of Financ...  149978   \n",
       "20                                            Item 8.  153401   \n",
       "21        Financial Statements and Supplementary Data  153409   \n",
       "22                                            Item 8.  153859   \n",
       "23        Financial Statements and Supplementary Data  153867   \n",
       "24                                            Item 8.  164581   \n",
       "25        Financial Statements and Supplementary Data  164589   \n",
       "26                                            Item 8.  186813   \n",
       "27        Financial Statements and Supplementary Data  186821   \n",
       "28                                            Item 8.  191291   \n",
       "29        Financial Statements and Supplementary Data  191299   \n",
       "30                                            Item 8.  212476   \n",
       "31        Financial Statements and Supplementary Data  212484   \n",
       "32                                            Item 8.  218745   \n",
       "33        Financial Statements and Supplementary Data  218753   \n",
       "34                                            Item 8.  264395   \n",
       "35        Financial Statements and Supplementary Data  264403   \n",
       "36                                            Item 8.  272761   \n",
       "37        Financial Statements and Supplementary Data  272769   \n",
       "38                                            Item 8.  281453   \n",
       "39        Financial Statements and Supplementary Data  281461   \n",
       "40  Management's Discussion and Analysis of Financ...  291192   \n",
       "41                                            Item 8.  294774   \n",
       "42        Financial Statements and Supplementary Data  294781   \n",
       "\n",
       "                                            Selection  \n",
       "0   management's discussion and analysis of financ...  \n",
       "1   financial statements and supplementary dataite...  \n",
       "2   item 7.management's discussion and analysis of...  \n",
       "3   management's discussion and analysis of financ...  \n",
       "4   item 7.management's discussion and analysis of...  \n",
       "5   management's discussion and analysis of financ...  \n",
       "6   item 7.management's discussion and analysis of...  \n",
       "7   management's discussion and analysis of financ...  \n",
       "8   item 7.management's discussion and analysis of...  \n",
       "9   management's discussion and analysis of financ...  \n",
       "10  item 8.financial statements and supplementary ...  \n",
       "11  financial statements and supplementary dataite...  \n",
       "12  item 8.financial statements and supplementary ...  \n",
       "13  financial statements and supplementary dataite...  \n",
       "14  item 8.financial statements and supplementary ...  \n",
       "15  financial statements and supplementary dataite...  \n",
       "16  item 8.financial statements and supplementary ...  \n",
       "17  financial statements and supplementary dataite...  \n",
       "18  item 7.management's discussion and analysis of...  \n",
       "19  management's discussion and analysis of financ...  \n",
       "20  item 8.financial statements and supplementary ...  \n",
       "21  financial statements and supplementary dataite...  \n",
       "22  item 8.financial statements and supplementary ...  \n",
       "23  financial statements and supplementary dataite...  \n",
       "24  item 8.financial statements and supplementary ...  \n",
       "25  financial statements and supplementary dataite...  \n",
       "26  item 8.financial statements and supplementary ...  \n",
       "27  financial statements and supplementary dataite...  \n",
       "28  item 8.financial statements and supplementary ...  \n",
       "29  financial statements and supplementary dataite...  \n",
       "30  item 8.financial statements and supplementary ...  \n",
       "31  financial statements and supplementary dataite...  \n",
       "32  item 8.financial statements and supplementary ...  \n",
       "33  financial statements and supplementary dataite...  \n",
       "34  item 8.financial statements and supplementary ...  \n",
       "35  financial statements and supplementary dataite...  \n",
       "36  item 8.financial statements and supplementary ...  \n",
       "37  financial statements and supplementary dataite...  \n",
       "38  item 8.financial statements and supplementary ...  \n",
       "39  financial statements and supplementary dataman...  \n",
       "40  management's discussion and analysis of financ...  \n",
       "41  item 8.financial statements and supplementary ...  \n",
       "42                                                NaN  "
      ]
     },
     "execution_count": 518,
     "metadata": {},
     "output_type": "execute_result"
    }
   ],
   "source": [
    "matches_array"
   ]
  },
  {
   "cell_type": "code",
   "execution_count": 539,
   "metadata": {},
   "outputs": [],
   "source": [
    "# Set up 'Item 7/8 Search Pattern' regex patterns\n",
    "matches_item7 = re.compile(r'(item\\s7\\.management\\'s\\s[a-z]*)', re.IGNORECASE)\n",
    "matches_item8 = re.compile(r'(item\\s(8A|8)\\.(consolidated\\sfinancial|financial)\\s[a-z]*)', re.IGNORECASE)\n",
    "\n",
    "# Lists to store the locations of Item 7/8 Search Pattern matches\n",
    "Start_Loc = []\n",
    "End_Loc = []\n",
    "\n",
    "# Find and store the locations of Item 7/8 Search Pattern matches\n",
    "count = 0 # Set up counter\n",
    "\n",
    "while count < (Rows-1): # Can only iterate to the second last row\n",
    "\n",
    "    # Match Item 7 Search Pattern\n",
    "    if re.match(matches_item7, matches_array.at[count,'Selection']):\n",
    "        # Column 1 = 'Start' columnn in 'matches_array'\n",
    "        Start_Loc.append(matches_array.iloc[count,1]) # Store in list => Item 7 will be the starting location (column '1' = 'Start' column)\n",
    "\n",
    "    # Match Item 8 Search Pattern\n",
    "    if re.match(matches_item8, matches_array.at[count,'Selection']):\n",
    "        End_Loc.append(matches_array.iloc[count,1])\n",
    "\n",
    "    count += 1"
   ]
  },
  {
   "cell_type": "code",
   "execution_count": 540,
   "metadata": {},
   "outputs": [
    {
     "name": "stdout",
     "output_type": "stream",
     "text": [
      "Item 7. Management's Discussion and Analysis of Financial Condition and Results of Operations\" for more information.)WholesaleWe have focused our wholesale business on enabling our diverse network of customers to successfully grow their business by providing them with an array of network, product and device solutions. This allows our customers to customize this full suite of value-added solutions to meet the growing demands of their businesses. As part of these growing demands, 2Table of Content\n"
     ]
    }
   ],
   "source": [
    "# Extract section of text and store in 'TenKItem7'\n",
    "TenKItem7 = TenKtext[Start_Loc[1]:End_Loc[1]]\n",
    "\n",
    "# Clean newly extracted text\n",
    "TenKItem7 = TenKItem7.strip() # Remove starting/ending white spaces\n",
    "TenKItem7 = TenKItem7.replace('\\n', ' ') # Replace \\n (new line) with space\n",
    "TenKItem7 = TenKItem7.replace('\\r', '') # Replace \\r (carriage returns-if you're on windows) with space\n",
    "TenKItem7 = TenKItem7.replace(' ', ' ') # Replace \" \" (a special character for space in HTML) with space\n",
    "TenKItem7 = TenKItem7.replace(' ', ' ') # Replace \" \" (a special character for space in HTML) with space\n",
    "while '  ' in TenKItem7:\n",
    "    TenKItem7 = TenKItem7.replace('  ', ' ') # Remove extra spaces\n",
    "\n",
    "# Print first 500 characters of newly extracted text\n",
    "print(TenKItem7[:500])"
   ]
  },
  {
   "cell_type": "code",
   "execution_count": 526,
   "metadata": {},
   "outputs": [
    {
     "data": {
      "text/plain": [
       "[9744, 14128, 15058, 146186, 149971]"
      ]
     },
     "execution_count": 526,
     "metadata": {},
     "output_type": "execute_result"
    }
   ],
   "source": [
    "Start_Loc"
   ]
  },
  {
   "cell_type": "code",
   "execution_count": 527,
   "metadata": {},
   "outputs": [
    {
     "data": {
      "text/plain": [
       "[146295,\n",
       " 146970,\n",
       " 147685,\n",
       " 149863,\n",
       " 153401,\n",
       " 153859,\n",
       " 164581,\n",
       " 186813,\n",
       " 191291,\n",
       " 212476,\n",
       " 218745,\n",
       " 264395,\n",
       " 272761,\n",
       " 281453,\n",
       " 294774]"
      ]
     },
     "execution_count": 527,
     "metadata": {},
     "output_type": "execute_result"
    }
   ],
   "source": [
    "End_Loc"
   ]
  },
  {
   "cell_type": "code",
   "execution_count": 528,
   "metadata": {},
   "outputs": [
    {
     "data": {
      "text/html": [
       "<div>\n",
       "<style scoped>\n",
       "    .dataframe tbody tr th:only-of-type {\n",
       "        vertical-align: middle;\n",
       "    }\n",
       "\n",
       "    .dataframe tbody tr th {\n",
       "        vertical-align: top;\n",
       "    }\n",
       "\n",
       "    .dataframe thead th {\n",
       "        text-align: right;\n",
       "    }\n",
       "</style>\n",
       "<table border=\"1\" class=\"dataframe\">\n",
       "  <thead>\n",
       "    <tr style=\"text-align: right;\">\n",
       "      <th></th>\n",
       "      <th>SearchTerm</th>\n",
       "      <th>Start</th>\n",
       "      <th>Selection</th>\n",
       "    </tr>\n",
       "  </thead>\n",
       "  <tbody>\n",
       "    <tr>\n",
       "      <th>0</th>\n",
       "      <td>Management's Discussion and Analysis of Financ...</td>\n",
       "      <td>3834</td>\n",
       "      <td>management's discussion and analysis of financ...</td>\n",
       "    </tr>\n",
       "    <tr>\n",
       "      <th>1</th>\n",
       "      <td>Financial Statements and Supplementary Data</td>\n",
       "      <td>3988</td>\n",
       "      <td>financial statements and supplementary dataite...</td>\n",
       "    </tr>\n",
       "    <tr>\n",
       "      <th>2</th>\n",
       "      <td>Item 7.</td>\n",
       "      <td>9744</td>\n",
       "      <td>item 7.management's discussion and analysis of...</td>\n",
       "    </tr>\n",
       "    <tr>\n",
       "      <th>3</th>\n",
       "      <td>Management's Discussion and Analysis of Financ...</td>\n",
       "      <td>9752</td>\n",
       "      <td>management's discussion and analysis of financ...</td>\n",
       "    </tr>\n",
       "    <tr>\n",
       "      <th>4</th>\n",
       "      <td>Item 7.</td>\n",
       "      <td>14128</td>\n",
       "      <td>item 7.management's discussion and analysis of...</td>\n",
       "    </tr>\n",
       "    <tr>\n",
       "      <th>5</th>\n",
       "      <td>Management's Discussion and Analysis of Financ...</td>\n",
       "      <td>14136</td>\n",
       "      <td>management's discussion and analysis of financ...</td>\n",
       "    </tr>\n",
       "    <tr>\n",
       "      <th>6</th>\n",
       "      <td>Item 7.</td>\n",
       "      <td>15058</td>\n",
       "      <td>item 7.management's discussion and analysis of...</td>\n",
       "    </tr>\n",
       "    <tr>\n",
       "      <th>7</th>\n",
       "      <td>Management's Discussion and Analysis of Financ...</td>\n",
       "      <td>15066</td>\n",
       "      <td>management's discussion and analysis of financ...</td>\n",
       "    </tr>\n",
       "    <tr>\n",
       "      <th>8</th>\n",
       "      <td>Item 7.</td>\n",
       "      <td>146186</td>\n",
       "      <td>item 7.management's discussion and analysis of...</td>\n",
       "    </tr>\n",
       "    <tr>\n",
       "      <th>9</th>\n",
       "      <td>Management's Discussion and Analysis of Financ...</td>\n",
       "      <td>146194</td>\n",
       "      <td>management's discussion and analysis of financ...</td>\n",
       "    </tr>\n",
       "    <tr>\n",
       "      <th>10</th>\n",
       "      <td>Item 8.</td>\n",
       "      <td>146295</td>\n",
       "      <td>item 8.financial statements and supplementary ...</td>\n",
       "    </tr>\n",
       "    <tr>\n",
       "      <th>11</th>\n",
       "      <td>Financial Statements and Supplementary Data</td>\n",
       "      <td>146303</td>\n",
       "      <td>financial statements and supplementary dataite...</td>\n",
       "    </tr>\n",
       "    <tr>\n",
       "      <th>12</th>\n",
       "      <td>Item 8.</td>\n",
       "      <td>146970</td>\n",
       "      <td>item 8.financial statements and supplementary ...</td>\n",
       "    </tr>\n",
       "    <tr>\n",
       "      <th>13</th>\n",
       "      <td>Financial Statements and Supplementary Data</td>\n",
       "      <td>146978</td>\n",
       "      <td>financial statements and supplementary dataite...</td>\n",
       "    </tr>\n",
       "    <tr>\n",
       "      <th>14</th>\n",
       "      <td>Item 8.</td>\n",
       "      <td>147685</td>\n",
       "      <td>item 8.financial statements and supplementary ...</td>\n",
       "    </tr>\n",
       "    <tr>\n",
       "      <th>15</th>\n",
       "      <td>Financial Statements and Supplementary Data</td>\n",
       "      <td>147693</td>\n",
       "      <td>financial statements and supplementary dataite...</td>\n",
       "    </tr>\n",
       "    <tr>\n",
       "      <th>16</th>\n",
       "      <td>Item 8.</td>\n",
       "      <td>149863</td>\n",
       "      <td>item 8.financial statements and supplementary ...</td>\n",
       "    </tr>\n",
       "    <tr>\n",
       "      <th>17</th>\n",
       "      <td>Financial Statements and Supplementary Data</td>\n",
       "      <td>149871</td>\n",
       "      <td>financial statements and supplementary dataite...</td>\n",
       "    </tr>\n",
       "    <tr>\n",
       "      <th>18</th>\n",
       "      <td>Item 7.</td>\n",
       "      <td>149971</td>\n",
       "      <td>item 7.management's discussion and analysis of...</td>\n",
       "    </tr>\n",
       "    <tr>\n",
       "      <th>19</th>\n",
       "      <td>Management's Discussion and Analysis of Financ...</td>\n",
       "      <td>149978</td>\n",
       "      <td>management's discussion and analysis of financ...</td>\n",
       "    </tr>\n",
       "    <tr>\n",
       "      <th>20</th>\n",
       "      <td>Item 8.</td>\n",
       "      <td>153401</td>\n",
       "      <td>item 8.financial statements and supplementary ...</td>\n",
       "    </tr>\n",
       "    <tr>\n",
       "      <th>21</th>\n",
       "      <td>Financial Statements and Supplementary Data</td>\n",
       "      <td>153409</td>\n",
       "      <td>financial statements and supplementary dataite...</td>\n",
       "    </tr>\n",
       "    <tr>\n",
       "      <th>22</th>\n",
       "      <td>Item 8.</td>\n",
       "      <td>153859</td>\n",
       "      <td>item 8.financial statements and supplementary ...</td>\n",
       "    </tr>\n",
       "    <tr>\n",
       "      <th>23</th>\n",
       "      <td>Financial Statements and Supplementary Data</td>\n",
       "      <td>153867</td>\n",
       "      <td>financial statements and supplementary dataite...</td>\n",
       "    </tr>\n",
       "    <tr>\n",
       "      <th>24</th>\n",
       "      <td>Item 8.</td>\n",
       "      <td>164581</td>\n",
       "      <td>item 8.financial statements and supplementary ...</td>\n",
       "    </tr>\n",
       "    <tr>\n",
       "      <th>25</th>\n",
       "      <td>Financial Statements and Supplementary Data</td>\n",
       "      <td>164589</td>\n",
       "      <td>financial statements and supplementary dataite...</td>\n",
       "    </tr>\n",
       "    <tr>\n",
       "      <th>26</th>\n",
       "      <td>Item 8.</td>\n",
       "      <td>186813</td>\n",
       "      <td>item 8.financial statements and supplementary ...</td>\n",
       "    </tr>\n",
       "    <tr>\n",
       "      <th>27</th>\n",
       "      <td>Financial Statements and Supplementary Data</td>\n",
       "      <td>186821</td>\n",
       "      <td>financial statements and supplementary dataite...</td>\n",
       "    </tr>\n",
       "    <tr>\n",
       "      <th>28</th>\n",
       "      <td>Item 8.</td>\n",
       "      <td>191291</td>\n",
       "      <td>item 8.financial statements and supplementary ...</td>\n",
       "    </tr>\n",
       "    <tr>\n",
       "      <th>29</th>\n",
       "      <td>Financial Statements and Supplementary Data</td>\n",
       "      <td>191299</td>\n",
       "      <td>financial statements and supplementary dataite...</td>\n",
       "    </tr>\n",
       "    <tr>\n",
       "      <th>30</th>\n",
       "      <td>Item 8.</td>\n",
       "      <td>212476</td>\n",
       "      <td>item 8.financial statements and supplementary ...</td>\n",
       "    </tr>\n",
       "    <tr>\n",
       "      <th>31</th>\n",
       "      <td>Financial Statements and Supplementary Data</td>\n",
       "      <td>212484</td>\n",
       "      <td>financial statements and supplementary dataite...</td>\n",
       "    </tr>\n",
       "    <tr>\n",
       "      <th>32</th>\n",
       "      <td>Item 8.</td>\n",
       "      <td>218745</td>\n",
       "      <td>item 8.financial statements and supplementary ...</td>\n",
       "    </tr>\n",
       "    <tr>\n",
       "      <th>33</th>\n",
       "      <td>Financial Statements and Supplementary Data</td>\n",
       "      <td>218753</td>\n",
       "      <td>financial statements and supplementary dataite...</td>\n",
       "    </tr>\n",
       "    <tr>\n",
       "      <th>34</th>\n",
       "      <td>Item 8.</td>\n",
       "      <td>264395</td>\n",
       "      <td>item 8.financial statements and supplementary ...</td>\n",
       "    </tr>\n",
       "    <tr>\n",
       "      <th>35</th>\n",
       "      <td>Financial Statements and Supplementary Data</td>\n",
       "      <td>264403</td>\n",
       "      <td>financial statements and supplementary dataite...</td>\n",
       "    </tr>\n",
       "    <tr>\n",
       "      <th>36</th>\n",
       "      <td>Item 8.</td>\n",
       "      <td>272761</td>\n",
       "      <td>item 8.financial statements and supplementary ...</td>\n",
       "    </tr>\n",
       "    <tr>\n",
       "      <th>37</th>\n",
       "      <td>Financial Statements and Supplementary Data</td>\n",
       "      <td>272769</td>\n",
       "      <td>financial statements and supplementary dataite...</td>\n",
       "    </tr>\n",
       "    <tr>\n",
       "      <th>38</th>\n",
       "      <td>Item 8.</td>\n",
       "      <td>281453</td>\n",
       "      <td>item 8.financial statements and supplementary ...</td>\n",
       "    </tr>\n",
       "    <tr>\n",
       "      <th>39</th>\n",
       "      <td>Financial Statements and Supplementary Data</td>\n",
       "      <td>281461</td>\n",
       "      <td>financial statements and supplementary dataman...</td>\n",
       "    </tr>\n",
       "    <tr>\n",
       "      <th>40</th>\n",
       "      <td>Management's Discussion and Analysis of Financ...</td>\n",
       "      <td>291192</td>\n",
       "      <td>management's discussion and analysis of financ...</td>\n",
       "    </tr>\n",
       "    <tr>\n",
       "      <th>41</th>\n",
       "      <td>Item 8.</td>\n",
       "      <td>294774</td>\n",
       "      <td>item 8.financial statements and supplementary ...</td>\n",
       "    </tr>\n",
       "    <tr>\n",
       "      <th>42</th>\n",
       "      <td>Financial Statements and Supplementary Data</td>\n",
       "      <td>294781</td>\n",
       "      <td>NaN</td>\n",
       "    </tr>\n",
       "  </tbody>\n",
       "</table>\n",
       "</div>"
      ],
      "text/plain": [
       "                                           SearchTerm   Start  \\\n",
       "0   Management's Discussion and Analysis of Financ...    3834   \n",
       "1         Financial Statements and Supplementary Data    3988   \n",
       "2                                             Item 7.    9744   \n",
       "3   Management's Discussion and Analysis of Financ...    9752   \n",
       "4                                             Item 7.   14128   \n",
       "5   Management's Discussion and Analysis of Financ...   14136   \n",
       "6                                             Item 7.   15058   \n",
       "7   Management's Discussion and Analysis of Financ...   15066   \n",
       "8                                             Item 7.  146186   \n",
       "9   Management's Discussion and Analysis of Financ...  146194   \n",
       "10                                            Item 8.  146295   \n",
       "11        Financial Statements and Supplementary Data  146303   \n",
       "12                                            Item 8.  146970   \n",
       "13        Financial Statements and Supplementary Data  146978   \n",
       "14                                            Item 8.  147685   \n",
       "15        Financial Statements and Supplementary Data  147693   \n",
       "16                                            Item 8.  149863   \n",
       "17        Financial Statements and Supplementary Data  149871   \n",
       "18                                            Item 7.  149971   \n",
       "19  Management's Discussion and Analysis of Financ...  149978   \n",
       "20                                            Item 8.  153401   \n",
       "21        Financial Statements and Supplementary Data  153409   \n",
       "22                                            Item 8.  153859   \n",
       "23        Financial Statements and Supplementary Data  153867   \n",
       "24                                            Item 8.  164581   \n",
       "25        Financial Statements and Supplementary Data  164589   \n",
       "26                                            Item 8.  186813   \n",
       "27        Financial Statements and Supplementary Data  186821   \n",
       "28                                            Item 8.  191291   \n",
       "29        Financial Statements and Supplementary Data  191299   \n",
       "30                                            Item 8.  212476   \n",
       "31        Financial Statements and Supplementary Data  212484   \n",
       "32                                            Item 8.  218745   \n",
       "33        Financial Statements and Supplementary Data  218753   \n",
       "34                                            Item 8.  264395   \n",
       "35        Financial Statements and Supplementary Data  264403   \n",
       "36                                            Item 8.  272761   \n",
       "37        Financial Statements and Supplementary Data  272769   \n",
       "38                                            Item 8.  281453   \n",
       "39        Financial Statements and Supplementary Data  281461   \n",
       "40  Management's Discussion and Analysis of Financ...  291192   \n",
       "41                                            Item 8.  294774   \n",
       "42        Financial Statements and Supplementary Data  294781   \n",
       "\n",
       "                                            Selection  \n",
       "0   management's discussion and analysis of financ...  \n",
       "1   financial statements and supplementary dataite...  \n",
       "2   item 7.management's discussion and analysis of...  \n",
       "3   management's discussion and analysis of financ...  \n",
       "4   item 7.management's discussion and analysis of...  \n",
       "5   management's discussion and analysis of financ...  \n",
       "6   item 7.management's discussion and analysis of...  \n",
       "7   management's discussion and analysis of financ...  \n",
       "8   item 7.management's discussion and analysis of...  \n",
       "9   management's discussion and analysis of financ...  \n",
       "10  item 8.financial statements and supplementary ...  \n",
       "11  financial statements and supplementary dataite...  \n",
       "12  item 8.financial statements and supplementary ...  \n",
       "13  financial statements and supplementary dataite...  \n",
       "14  item 8.financial statements and supplementary ...  \n",
       "15  financial statements and supplementary dataite...  \n",
       "16  item 8.financial statements and supplementary ...  \n",
       "17  financial statements and supplementary dataite...  \n",
       "18  item 7.management's discussion and analysis of...  \n",
       "19  management's discussion and analysis of financ...  \n",
       "20  item 8.financial statements and supplementary ...  \n",
       "21  financial statements and supplementary dataite...  \n",
       "22  item 8.financial statements and supplementary ...  \n",
       "23  financial statements and supplementary dataite...  \n",
       "24  item 8.financial statements and supplementary ...  \n",
       "25  financial statements and supplementary dataite...  \n",
       "26  item 8.financial statements and supplementary ...  \n",
       "27  financial statements and supplementary dataite...  \n",
       "28  item 8.financial statements and supplementary ...  \n",
       "29  financial statements and supplementary dataite...  \n",
       "30  item 8.financial statements and supplementary ...  \n",
       "31  financial statements and supplementary dataite...  \n",
       "32  item 8.financial statements and supplementary ...  \n",
       "33  financial statements and supplementary dataite...  \n",
       "34  item 8.financial statements and supplementary ...  \n",
       "35  financial statements and supplementary dataite...  \n",
       "36  item 8.financial statements and supplementary ...  \n",
       "37  financial statements and supplementary dataite...  \n",
       "38  item 8.financial statements and supplementary ...  \n",
       "39  financial statements and supplementary dataman...  \n",
       "40  management's discussion and analysis of financ...  \n",
       "41  item 8.financial statements and supplementary ...  \n",
       "42                                                NaN  "
      ]
     },
     "execution_count": 528,
     "metadata": {},
     "output_type": "execute_result"
    }
   ],
   "source": [
    "matches_array"
   ]
  },
  {
   "cell_type": "code",
   "execution_count": 532,
   "metadata": {},
   "outputs": [
    {
     "data": {
      "text/plain": [
       "[9744, 14128, 15058, 146186, 149971]"
      ]
     },
     "execution_count": 532,
     "metadata": {},
     "output_type": "execute_result"
    }
   ],
   "source": [
    "Start_Loc"
   ]
  },
  {
   "cell_type": "code",
   "execution_count": 538,
   "metadata": {},
   "outputs": [
    {
     "data": {
      "text/plain": [
       "'Financial Statements and Supplementary Data\" of this Annual Report on Form 10-K. 30Table of ContentsItem 7.Management\\'s Discussion and Analysis of Financial Condition and Results of Operations OVERVIEWBusiness OverviewSprint is a communications company offering a comprehensive range of wireless and wireline communications products and services that are designed to meet the needs of individual consumers, businesses, government subscribers, and resellers. Unless the context otherwise requires, references to \"Sprint,\" \"we,\" \"us,\" \"our\" and the \"Company\" mean Sprint Corporation and its consolidated subsidiaries for all periods presented, and references to \"Sprint Communications\" are to Sprint Communications, Inc. and its consolidated subsidiaries. Wireless segment earnings represented almost all of our total consolidated segment earnings for the year ended March\\xa031, 2019. Within the Wireless segment, postpaid wireless service revenue represents the most significant contributor to earnings, and is driven by the number of postpaid subscribers to our services, as well as the average revenue per user (ARPU).Business Combination AgreementOn April 29, 2018, we announced that we entered into a Business Combination Agreement with T-Mobile US, Inc. to merge in an all-stock transaction for a fixed exchange ratio of 0.10256 of T-Mobile shares for each Sprint share, or the equivalent of 9.75 Sprint shares for each T-Mobile share (Merger Transactions). Immediately following the Merger Transactions, Deutsche Telekom AG and SoftBank Group Corp. are expected to hold approximately 42% and 27% of fully-diluted shares of the combined company, respectively, with the remaining 31% of the fully-diluted shares of the combined company held by public stockholders. The board of directors will consist of 14 directors, of which nine will be nominated by Deutsche Telekom AG, four will be nominated by SoftBank Group Corp., and the final director will be the CEO of the combined company. The combined company will be named T-Mobile, and as a result of the Merger Transactions, is expected to be able to rapidly launch a nationwide 5G network, accelerate innovation and increase competition in the U.S. wireless, video and broadband industries. The Merger Transactions are subject to customary closing conditions, including certain state and federal regulatory approvals, and regulatory approval from the Federal Communications Commission (FCC) and the Department of Justice (DOJ) is expected in the first half of calendar year 2019. Sprint and T-Mobile completed the Hart-Scott-Rodino filing with the DOJ on May 24, 2018.\\xa0On June 18, 2018, the parties filed with the FCC the merger applications, including the Public Interest Statement. On July 18, 2018, the FCC accepted the applications for filing and established a public comment period for the Merger Transactions. The formal comment period concluded on October 31, 2018. The Merger Transactions received clearance from the Committee on Foreign Investment in the United States on December 17, 2018 and are awaiting further regulatory approvals. On April\\xa027, 2019, the parties to the Business Combination Agreement extended the Outside Date (as defined in the Business Combination Agreement) to July\\xa029, 2019.Revenue RecognitionThe Company adopted Revenue from Contracts with Customers (Topic 606) beginning on April 1, 2018 using themodified retrospective method. See Note 8. Revenues from Contracts with Customers in Notes to the Consolidated FinancialStatements in \"Part II, Item 8. Financial Statements and Supplementary Data\" of this Annual Report on Form 10-K for additional information related to revenues and contract costs, including qualitative and quantitative disclosures required under Topic 606. The impact to our consolidated financial statements of adopting Topic 606 is presented in Note 2. Summary of Significant Accounting Policies and Other Information in Notes to the Consolidated Financial Statements in \"Part II, Item 8. Financial Statements and Supplementary Data\" of this Annual Report on Form 10-K.Business Strategies and Key PrioritiesOur business strategy is to be responsive to changing customer mobility demands of existing and potential customers, and to expand our business into new areas of customer value and economic opportunity through innovation and differentiation. To help lay the foundation for these future growth opportunities, our strategy revolves around targeted investment in the following key priority areas: •Sprint\\'s Next-Gen network plan will deliver competitive coverage, faster speeds and more capacity;  •Create a compelling unlimited value proposition;•Provide the best digital customer experience; and•Engage our partners by making Sprint a great place to work. 31Table of ContentsWhile we plan to continue to invest in our network during the next few years and target the launch of 5G in select cities in the first half of 2019, many of the underlying service quality, scale, and financial challenges remain. We aim to use our spectrum to build our 5G network on 2.5 GHz spectrum. See Network below for more information regarding our network plans and potential challenges to our rollout of 5G.We aim to create a compelling unlimited value proposition by leveraging our spectrum holdings while remaining the price leader on Unlimited plan offerings and taking our brand to the next level.We plan to continue to invest in digital capabilities and artificial intelligence to improve the customer experience. We are focused on finding the right balance between physical and digital retail to serve customers wherever and whenever they want.We have recruited leaders in our industry from around the globe and employ an organizational focus to ensure Sprint has a work environment employees recommend.NetworkWe continue to increase coverage and capacity by densifying and evolving our existing network toward 5G. Densification, which includes increasing the number of small cells and antennas, is intended to enhance coverage and capacity across the network. We are also deploying new technologies, such as Massive MIMO and carrier aggregation, which allows us to move more data at faster speeds over the same spectrum and eventually migrate customers to an all IP network, supporting both Voice over LTE and data. Additionally, our introduction of tri-band devices, including those with 5G capabilities, allows us to manage and operate our network more efficiently and at a lower cost. We have continued to see positive results from these infrastructure upgrades in key U.S. markets. While Sprint will build 5G in a number of cities throughout the country, its current 5G build plans will result in coverage that is limited to major cities and the surrounding areas rather than coverage that blankets the entire geography of the United States.\\xa0Sprint’s ability to expand this 5G network build plan may be limited by its financial resources, lack of scale and access to low-band spectrum. Moreover, Sprint plans to focus on creating a 5G ecosystem for smartphones and other mobile devices rather than stationary devices.The 2.5 GHz spectrum band carries the highest percentage of Sprint\\'s LTE data traffic. We have significant additional capacity to grow the use of our 2.5 GHz spectrum holdings into the future. Sprint believes it is well-positioned with spectrum holdings of more than 160 MHz of 2.5 GHz spectrum in the top 100 markets in the U.S. Sprint\\'s spectrum holdings allow us to introduce 5G in parallel with 4G service over the same 2.5 GHz spectrum band, supporting the early introduction of 5G devices without disrupting the capacity needed to support our 4G users. Overall, our densification and introduction of 5G technologies are expected to continue to enhance the customer experience by adding data capacity, increasing the wireless data speeds available to our customers, and improving network performance for both voice and data services, especially in the geographic areas where 5G will be provided. In the event the Merger Transactions are not completed, our ability to provide a nationwide network capable of competing effectively with other competitors in the wireless industry will depend on our access to, and deployment of, adequate low-band spectrum. As part of the evolution of our existing network toward 5G, we plan to modify our existing backhaul architecture to enable increased capacity to our network at a lower cost by either negotiating lower vendor pricing for existing Ethernet technology or replacing Ethernet with fiber. We expect to incur termination costs associated with Ethernet contractual commitments with third-party vendors ranging between approximately $130 million to $150 million, of which the majority are expected to be incurred by December 31, 2020.Sprint has plans to launch 5G service beginning in 2019 in nine major cities. Once 5G-compatible equipment is in place and activated, customers in those cities will have access to Sprint\\'s 5G network if they are in range of a cell site that has been equipped with a 5G radio supported by available 2.5 GHz spectrum and have a 5G-capable device. As more and more sites are 5G-enabled, customers in those areas will be able to have an increasing percentage of their mobile experiences on 5G rather than on LTE or 3G.If the Merger Transactions with T-Mobile are not completed, it is expected that Sprint will not be able to deploy a nationwide 5G network on the same scale and on the same timeline as the combined company. For example, Sprint’s standalone 5G network would be geographically limited due to both Sprint’s limited current network footprint on which to build 5G sites and the cost of utilizing 2.5 GHz spectrum for 5G. See “Item 1A Risk Factors— The success of our network improvements and 5G deployment will depend on the timing, extent and cost of implementation; availability of financial resources; access to additional spectrum, including low-band frequencies; the performance of third-parties; upgrade requirements; and the availability and reliability of the various technolog'"
      ]
     },
     "execution_count": 538,
     "metadata": {},
     "output_type": "execute_result"
    }
   ],
   "source": [
    "idx = 4\n",
    "TenKtext[Start_Loc[idx]-100:Start_Loc[idx]+10000]"
   ]
  },
  {
   "cell_type": "code",
   "execution_count": 547,
   "metadata": {},
   "outputs": [
    {
     "ename": "AttributeError",
     "evalue": "'list' object has no attribute 'getchildren'",
     "output_type": "error",
     "traceback": [
      "\u001b[0;31m---------------------------------------------------------------------------\u001b[0m",
      "\u001b[0;31mAttributeError\u001b[0m                            Traceback (most recent call last)",
      "\u001b[0;32m<ipython-input-547-40b4340c031d>\u001b[0m in \u001b[0;36m<module>\u001b[0;34m\u001b[0m\n\u001b[1;32m      3\u001b[0m \u001b[0mcompany\u001b[0m \u001b[0;34m=\u001b[0m \u001b[0mCompany\u001b[0m\u001b[0;34m(\u001b[0m\u001b[0;34m\"Oracle Corp\"\u001b[0m\u001b[0;34m,\u001b[0m \u001b[0;34m\"0001341439\"\u001b[0m\u001b[0;34m)\u001b[0m\u001b[0;34m\u001b[0m\u001b[0;34m\u001b[0m\u001b[0m\n\u001b[1;32m      4\u001b[0m \u001b[0mdoc\u001b[0m \u001b[0;34m=\u001b[0m \u001b[0mcompany\u001b[0m\u001b[0;34m.\u001b[0m\u001b[0mget_10Ks\u001b[0m\u001b[0;34m(\u001b[0m\u001b[0;34m)\u001b[0m\u001b[0;34m\u001b[0m\u001b[0;34m\u001b[0m\u001b[0m\n\u001b[0;32m----> 5\u001b[0;31m \u001b[0mtext\u001b[0m \u001b[0;34m=\u001b[0m \u001b[0mTXTML\u001b[0m\u001b[0;34m.\u001b[0m\u001b[0mparse_full_10K\u001b[0m\u001b[0;34m(\u001b[0m\u001b[0mdoc\u001b[0m\u001b[0;34m)\u001b[0m\u001b[0;34m\u001b[0m\u001b[0;34m\u001b[0m\u001b[0m\n\u001b[0m",
      "\u001b[0;32m~/opt/anaconda3/lib/python3.7/site-packages/edgar/txtml.py\u001b[0m in \u001b[0;36mparse_full_10K\u001b[0;34m(cls, doc)\u001b[0m\n\u001b[1;32m     29\u001b[0m   \u001b[0;32mdef\u001b[0m \u001b[0mparse_full_10K\u001b[0m\u001b[0;34m(\u001b[0m\u001b[0mcls\u001b[0m\u001b[0;34m,\u001b[0m \u001b[0mdoc\u001b[0m\u001b[0;34m)\u001b[0m \u001b[0;34m->\u001b[0m \u001b[0mstr\u001b[0m\u001b[0;34m:\u001b[0m\u001b[0;34m\u001b[0m\u001b[0;34m\u001b[0m\u001b[0m\n\u001b[1;32m     30\u001b[0m     \u001b[0mtext\u001b[0m \u001b[0;34m=\u001b[0m \u001b[0;34m\"\"\u001b[0m\u001b[0;34m\u001b[0m\u001b[0;34m\u001b[0m\u001b[0m\n\u001b[0;32m---> 31\u001b[0;31m     \u001b[0;32mfor\u001b[0m \u001b[0mchild\u001b[0m \u001b[0;32min\u001b[0m \u001b[0mdoc\u001b[0m\u001b[0;34m.\u001b[0m\u001b[0mgetchildren\u001b[0m\u001b[0;34m(\u001b[0m\u001b[0;34m)\u001b[0m\u001b[0;34m:\u001b[0m\u001b[0;34m\u001b[0m\u001b[0;34m\u001b[0m\u001b[0m\n\u001b[0m\u001b[1;32m     32\u001b[0m       \u001b[0;32mif\u001b[0m \u001b[0mchild\u001b[0m\u001b[0;34m.\u001b[0m\u001b[0mtag\u001b[0m \u001b[0;34m==\u001b[0m \u001b[0;34m'sec-header'\u001b[0m\u001b[0;34m:\u001b[0m\u001b[0;34m\u001b[0m\u001b[0;34m\u001b[0m\u001b[0m\n\u001b[1;32m     33\u001b[0m           \u001b[0;32mcontinue\u001b[0m\u001b[0;34m\u001b[0m\u001b[0;34m\u001b[0m\u001b[0m\n",
      "\u001b[0;31mAttributeError\u001b[0m: 'list' object has no attribute 'getchildren'"
     ]
    }
   ],
   "source": [
    "from edgar import Company, TXTML\n",
    "\n",
    "company = Company(\"Oracle Corp\", \"0001341439\")\n",
    "doc = company.get_10Ks()\n",
    "text = TXTML.parse_full_10K(doc)"
   ]
  },
  {
   "cell_type": "code",
   "execution_count": 542,
   "metadata": {},
   "outputs": [
    {
     "name": "stdout",
     "output_type": "stream",
     "text": [
      "Collecting edgar\n",
      "  Downloading https://files.pythonhosted.org/packages/0f/55/89defc71453aa05a3b4beb2a251de54fd4438752d5f9c8022d35d02f3025/edgar-5.4.1-py3-none-any.whl\n",
      "Requirement already satisfied: tqdm in /Users/lucaskrenn/opt/anaconda3/lib/python3.7/site-packages (from edgar) (4.36.1)\n",
      "Requirement already satisfied: requests in /Users/lucaskrenn/opt/anaconda3/lib/python3.7/site-packages (from edgar) (2.22.0)\n",
      "Collecting fuzzywuzzy[speedup] (from edgar)\n",
      "  Downloading https://files.pythonhosted.org/packages/43/ff/74f23998ad2f93b945c0309f825be92e04e0348e062026998b5eefef4c33/fuzzywuzzy-0.18.0-py2.py3-none-any.whl\n",
      "Requirement already satisfied: lxml in /Users/lucaskrenn/opt/anaconda3/lib/python3.7/site-packages (from edgar) (4.6.3)\n",
      "Requirement already satisfied: urllib3!=1.25.0,!=1.25.1,<1.26,>=1.21.1 in /Users/lucaskrenn/opt/anaconda3/lib/python3.7/site-packages (from requests->edgar) (1.24.2)\n",
      "Requirement already satisfied: idna<2.9,>=2.5 in /Users/lucaskrenn/opt/anaconda3/lib/python3.7/site-packages (from requests->edgar) (2.8)\n",
      "Requirement already satisfied: chardet<3.1.0,>=3.0.2 in /Users/lucaskrenn/opt/anaconda3/lib/python3.7/site-packages (from requests->edgar) (3.0.4)\n",
      "Requirement already satisfied: certifi>=2017.4.17 in /Users/lucaskrenn/opt/anaconda3/lib/python3.7/site-packages (from requests->edgar) (2020.12.5)\n",
      "Collecting python-levenshtein>=0.12; extra == \"speedup\" (from fuzzywuzzy[speedup]->edgar)\n",
      "\u001b[?25l  Downloading https://files.pythonhosted.org/packages/2a/dc/97f2b63ef0fa1fd78dcb7195aca577804f6b2b51e712516cc0e902a9a201/python-Levenshtein-0.12.2.tar.gz (50kB)\n",
      "\u001b[K     |████████████████████████████████| 51kB 468kB/s eta 0:00:01\n",
      "\u001b[?25hRequirement already satisfied: setuptools in /Users/lucaskrenn/opt/anaconda3/lib/python3.7/site-packages (from python-levenshtein>=0.12; extra == \"speedup\"->fuzzywuzzy[speedup]->edgar) (41.4.0)\n",
      "Building wheels for collected packages: python-levenshtein\n",
      "  Building wheel for python-levenshtein (setup.py) ... \u001b[?25ldone\n",
      "\u001b[?25h  Created wheel for python-levenshtein: filename=python_Levenshtein-0.12.2-cp37-cp37m-macosx_10_9_x86_64.whl size=80548 sha256=39d1f39829ebbc34746bee54d997d4ea23e763673a10ff5b76bbbc078acdf228\n",
      "  Stored in directory: /Users/lucaskrenn/Library/Caches/pip/wheels/b3/26/73/4b48503bac73f01cf18e52cd250947049a7f339e940c5df8fc\n",
      "Successfully built python-levenshtein\n",
      "Installing collected packages: python-levenshtein, fuzzywuzzy, edgar\n",
      "Successfully installed edgar-5.4.1 fuzzywuzzy-0.18.0 python-levenshtein-0.12.2\n"
     ]
    }
   ],
   "source": [
    "!pip install edgar"
   ]
  },
  {
   "cell_type": "code",
   "execution_count": null,
   "metadata": {},
   "outputs": [],
   "source": []
  }
 ],
 "metadata": {
  "kernelspec": {
   "display_name": "Python 3",
   "language": "python",
   "name": "python3"
  },
  "language_info": {
   "codemirror_mode": {
    "name": "ipython",
    "version": 3
   },
   "file_extension": ".py",
   "mimetype": "text/x-python",
   "name": "python",
   "nbconvert_exporter": "python",
   "pygments_lexer": "ipython3",
   "version": "3.7.4"
  }
 },
 "nbformat": 4,
 "nbformat_minor": 2
}
