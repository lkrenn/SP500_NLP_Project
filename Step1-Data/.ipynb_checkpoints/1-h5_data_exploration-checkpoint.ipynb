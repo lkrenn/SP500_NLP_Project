{
 "cells": [
  {
   "cell_type": "markdown",
   "metadata": {},
   "source": [
    "# h5 Data Exploration\n",
    "\n",
    "In this notebook, I will be looking at some data provided to me in the .h5 format, which is traditionally used to store large amounts of data. "
   ]
  },
  {
   "cell_type": "code",
   "execution_count": 25,
   "metadata": {},
   "outputs": [],
   "source": [
    "import numpy as np\n",
    "import pandas as pd\n",
    "import matplotlib.pyplot as plt\n",
    "from datetime import datetime\n",
    "import yfinance as yf\n",
    "import pickle\n",
    "\n",
    "import h5py\n",
    "import os"
   ]
  },
  {
   "cell_type": "code",
   "execution_count": 2,
   "metadata": {},
   "outputs": [
    {
     "data": {
      "text/plain": [
       "['SP500_NLP_Project',\n",
       " '.DS_Store',\n",
       " '4-link_dict.pickle',\n",
       " 'universe_sp500.h5',\n",
       " 'returns_sp500.h5',\n",
       " 'analyst_tone']"
      ]
     },
     "execution_count": 2,
     "metadata": {},
     "output_type": "execute_result"
    }
   ],
   "source": [
    "os.listdir('../../')"
   ]
  },
  {
   "cell_type": "code",
   "execution_count": 3,
   "metadata": {},
   "outputs": [],
   "source": [
    "f = h5py.File('../../returns_sp500.h5', 'r')"
   ]
  },
  {
   "cell_type": "code",
   "execution_count": 4,
   "metadata": {},
   "outputs": [
    {
     "data": {
      "text/plain": [
       "<KeysViewHDF5 ['returns']>"
      ]
     },
     "execution_count": 4,
     "metadata": {},
     "output_type": "execute_result"
    }
   ],
   "source": [
    "f.keys()"
   ]
  },
  {
   "cell_type": "code",
   "execution_count": 5,
   "metadata": {},
   "outputs": [],
   "source": [
    "h = f['returns']"
   ]
  },
  {
   "cell_type": "code",
   "execution_count": 6,
   "metadata": {},
   "outputs": [
    {
     "data": {
      "text/plain": [
       "<KeysViewHDF5 ['axis0', 'axis1', 'block0_items', 'block0_values']>"
      ]
     },
     "execution_count": 6,
     "metadata": {},
     "output_type": "execute_result"
    }
   ],
   "source": [
    "h.keys()"
   ]
  },
  {
   "cell_type": "code",
   "execution_count": 7,
   "metadata": {},
   "outputs": [
    {
     "data": {
      "text/plain": [
       "(1110,)"
      ]
     },
     "execution_count": 7,
     "metadata": {},
     "output_type": "execute_result"
    }
   ],
   "source": [
    "dset = h['axis0']\n",
    "dset.shape"
   ]
  },
  {
   "cell_type": "code",
   "execution_count": 8,
   "metadata": {},
   "outputs": [
    {
     "data": {
      "text/plain": [
       "array([b'A', b'AABA', b'AAL', b'AAMRQ', b'AAP', b'AAPL', b'ABBV', b'ABC',\n",
       "       b'ABI', b'ABKFQ', b'ABMD', b'ABS', b'ABT', b'ABX', b'ACAS',\n",
       "       b'ACKH', b'ACN', b'ACS', b'ACV', b'ADBE'], dtype='|S5')"
      ]
     },
     "execution_count": 8,
     "metadata": {},
     "output_type": "execute_result"
    }
   ],
   "source": [
    "dset[:20]"
   ]
  },
  {
   "cell_type": "markdown",
   "metadata": {},
   "source": [
    "Those appear to be the tickers for the stocks in the S&P 500. Let us continue exploring:"
   ]
  },
  {
   "cell_type": "code",
   "execution_count": 9,
   "metadata": {},
   "outputs": [
    {
     "data": {
      "text/plain": [
       "(6451,)"
      ]
     },
     "execution_count": 9,
     "metadata": {},
     "output_type": "execute_result"
    }
   ],
   "source": [
    "dset2 = h['axis1']\n",
    "dset2.shape"
   ]
  },
  {
   "cell_type": "code",
   "execution_count": 10,
   "metadata": {},
   "outputs": [
    {
     "data": {
      "text/plain": [
       "array([820540800000000000, 820627200000000000, 820713600000000000,\n",
       "       820800000000000000, 821059200000000000, 821145600000000000,\n",
       "       821232000000000000, 821318400000000000, 821404800000000000,\n",
       "       821664000000000000, 821750400000000000, 821836800000000000,\n",
       "       821923200000000000, 822009600000000000, 822268800000000000,\n",
       "       822355200000000000, 822441600000000000, 822528000000000000,\n",
       "       822614400000000000, 822873600000000000])"
      ]
     },
     "execution_count": 10,
     "metadata": {},
     "output_type": "execute_result"
    }
   ],
   "source": [
    "dset2[:20]"
   ]
  },
  {
   "cell_type": "markdown",
   "metadata": {},
   "source": [
    "I believe that these numbers represent timestamps in Unix time. "
   ]
  },
  {
   "cell_type": "code",
   "execution_count": 11,
   "metadata": {},
   "outputs": [
    {
     "data": {
      "text/plain": [
       "(1110,)"
      ]
     },
     "execution_count": 11,
     "metadata": {},
     "output_type": "execute_result"
    }
   ],
   "source": [
    "dset3 = h['block0_items']\n",
    "dset3.shape"
   ]
  },
  {
   "cell_type": "code",
   "execution_count": 12,
   "metadata": {},
   "outputs": [
    {
     "data": {
      "text/plain": [
       "array([b'A', b'AABA', b'AAL', b'AAMRQ', b'AAP', b'AAPL', b'ABBV', b'ABC',\n",
       "       b'ABI', b'ABKFQ', b'ABMD', b'ABS', b'ABT', b'ABX', b'ACAS',\n",
       "       b'ACKH', b'ACN', b'ACS', b'ACV', b'ADBE'], dtype='|S5')"
      ]
     },
     "execution_count": 12,
     "metadata": {},
     "output_type": "execute_result"
    }
   ],
   "source": [
    "dset3[:20]"
   ]
  },
  {
   "cell_type": "code",
   "execution_count": 13,
   "metadata": {},
   "outputs": [
    {
     "data": {
      "text/plain": [
       "(6451, 1110)"
      ]
     },
     "execution_count": 13,
     "metadata": {},
     "output_type": "execute_result"
    }
   ],
   "source": [
    "dset4 = h['block0_values']\n",
    "dset4.shape"
   ]
  },
  {
   "cell_type": "code",
   "execution_count": 14,
   "metadata": {},
   "outputs": [
    {
     "data": {
      "text/plain": [
       "array([nan, nan, nan, ..., nan, nan, nan])"
      ]
     },
     "execution_count": 14,
     "metadata": {},
     "output_type": "execute_result"
    }
   ],
   "source": [
    "dset4[0]"
   ]
  },
  {
   "cell_type": "markdown",
   "metadata": {},
   "source": [
    "# Other File\n",
    "\n",
    "Let's take a look at the other file as well."
   ]
  },
  {
   "cell_type": "code",
   "execution_count": 16,
   "metadata": {},
   "outputs": [],
   "source": [
    "f = h5py.File('../../universe_sp500.h5', 'r')"
   ]
  },
  {
   "cell_type": "code",
   "execution_count": 17,
   "metadata": {},
   "outputs": [
    {
     "data": {
      "text/plain": [
       "<KeysViewHDF5 ['sp500']>"
      ]
     },
     "execution_count": 17,
     "metadata": {},
     "output_type": "execute_result"
    }
   ],
   "source": [
    "f.keys()"
   ]
  },
  {
   "cell_type": "code",
   "execution_count": 18,
   "metadata": {},
   "outputs": [
    {
     "data": {
      "text/plain": [
       "<KeysViewHDF5 ['axis0', 'axis1', 'block0_items', 'block0_values']>"
      ]
     },
     "execution_count": 18,
     "metadata": {},
     "output_type": "execute_result"
    }
   ],
   "source": [
    "h = f['sp500']\n",
    "h.keys()"
   ]
  },
  {
   "cell_type": "code",
   "execution_count": 19,
   "metadata": {},
   "outputs": [
    {
     "data": {
      "text/plain": [
       "(1110,)"
      ]
     },
     "execution_count": 19,
     "metadata": {},
     "output_type": "execute_result"
    }
   ],
   "source": [
    "dset = h['axis0']\n",
    "dset.shape"
   ]
  },
  {
   "cell_type": "code",
   "execution_count": 20,
   "metadata": {},
   "outputs": [
    {
     "data": {
      "text/plain": [
       "<HDF5 dataset \"axis0\": shape (1110,), type \"|S5\">"
      ]
     },
     "execution_count": 20,
     "metadata": {},
     "output_type": "execute_result"
    }
   ],
   "source": [
    "dset"
   ]
  },
  {
   "cell_type": "code",
   "execution_count": 21,
   "metadata": {},
   "outputs": [
    {
     "data": {
      "text/plain": [
       "array([b'A', b'AABA', b'AAL', b'AAMRQ', b'AAP', b'AAPL', b'ABBV', b'ABC',\n",
       "       b'ABI', b'ABKFQ', b'ABMD', b'ABS', b'ABT', b'ABX', b'ACAS',\n",
       "       b'ACKH', b'ACN', b'ACS', b'ACV', b'ADBE'], dtype='|S5')"
      ]
     },
     "execution_count": 21,
     "metadata": {},
     "output_type": "execute_result"
    }
   ],
   "source": [
    "dset[:20]"
   ]
  },
  {
   "cell_type": "code",
   "execution_count": 22,
   "metadata": {},
   "outputs": [
    {
     "data": {
      "text/plain": [
       "(9352,)"
      ]
     },
     "execution_count": 22,
     "metadata": {},
     "output_type": "execute_result"
    }
   ],
   "source": [
    "dset2 = h['axis1']\n",
    "dset2.shape"
   ]
  },
  {
   "cell_type": "code",
   "execution_count": 23,
   "metadata": {},
   "outputs": [
    {
     "data": {
      "text/plain": [
       "array([820540800000000000, 820627200000000000, 820713600000000000,\n",
       "       820800000000000000, 820886400000000000, 820972800000000000,\n",
       "       821059200000000000, 821145600000000000, 821232000000000000,\n",
       "       821318400000000000, 821404800000000000, 821491200000000000,\n",
       "       821577600000000000, 821664000000000000, 821750400000000000,\n",
       "       821836800000000000, 821923200000000000, 822009600000000000,\n",
       "       822096000000000000, 822182400000000000])"
      ]
     },
     "execution_count": 23,
     "metadata": {},
     "output_type": "execute_result"
    }
   ],
   "source": [
    "dset2[:20]"
   ]
  },
  {
   "cell_type": "code",
   "execution_count": 24,
   "metadata": {},
   "outputs": [
    {
     "data": {
      "text/plain": [
       "(1110,)"
      ]
     },
     "execution_count": 24,
     "metadata": {},
     "output_type": "execute_result"
    }
   ],
   "source": [
    "dset3 = h['block0_items']\n",
    "dset3.shape"
   ]
  },
  {
   "cell_type": "code",
   "execution_count": 25,
   "metadata": {},
   "outputs": [
    {
     "data": {
      "text/plain": [
       "array([b'A', b'AABA', b'AAL', b'AAMRQ', b'AAP', b'AAPL', b'ABBV', b'ABC',\n",
       "       b'ABI', b'ABKFQ', b'ABMD', b'ABS', b'ABT', b'ABX', b'ACAS',\n",
       "       b'ACKH', b'ACN', b'ACS', b'ACV', b'ADBE'], dtype='|S5')"
      ]
     },
     "execution_count": 25,
     "metadata": {},
     "output_type": "execute_result"
    }
   ],
   "source": [
    "dset3[:20]"
   ]
  },
  {
   "cell_type": "code",
   "execution_count": 26,
   "metadata": {},
   "outputs": [
    {
     "data": {
      "text/plain": [
       "(1,)"
      ]
     },
     "execution_count": 26,
     "metadata": {},
     "output_type": "execute_result"
    }
   ],
   "source": [
    "dset4 = h['block0_values']\n",
    "dset4.shape"
   ]
  },
  {
   "cell_type": "code",
   "execution_count": 27,
   "metadata": {},
   "outputs": [
    {
     "data": {
      "text/plain": [
       "array([array([128,   4, 149, ..., 148,  98,  46], dtype=uint8)],\n",
       "      dtype=object)"
      ]
     },
     "execution_count": 27,
     "metadata": {},
     "output_type": "execute_result"
    }
   ],
   "source": [
    "dset4[:200]"
   ]
  },
  {
   "cell_type": "markdown",
   "metadata": {},
   "source": [
    "I'm not sure what this final column represents, however it's useful to know that the first dataset contains all the data that we need to calculate returns."
   ]
  },
  {
   "cell_type": "markdown",
   "metadata": {},
   "source": [
    "# Construct DataFrame\n",
    "\n",
    "Now that we know what we have, it will be easy to construct a time series of the stocks and their returns. Let's return to the first dataset and see if we can construct a dataframe."
   ]
  },
  {
   "cell_type": "code",
   "execution_count": 15,
   "metadata": {},
   "outputs": [],
   "source": [
    "f = h5py.File('../../returns_sp500.h5', 'r')\n",
    "h = f['returns']"
   ]
  },
  {
   "cell_type": "code",
   "execution_count": 16,
   "metadata": {},
   "outputs": [
    {
     "data": {
      "text/plain": [
       "<KeysViewHDF5 ['axis0', 'axis1', 'block0_items', 'block0_values']>"
      ]
     },
     "execution_count": 16,
     "metadata": {},
     "output_type": "execute_result"
    }
   ],
   "source": [
    "h.keys()"
   ]
  },
  {
   "cell_type": "code",
   "execution_count": 17,
   "metadata": {},
   "outputs": [
    {
     "data": {
      "text/plain": [
       "array([b'A', b'AABA', b'AAL', ..., b'ZBRA', b'ZION', b'ZTS'], dtype='|S5')"
      ]
     },
     "execution_count": 17,
     "metadata": {},
     "output_type": "execute_result"
    }
   ],
   "source": [
    "tickers = np.array(h['axis0'])\n",
    "tickers"
   ]
  },
  {
   "cell_type": "code",
   "execution_count": 18,
   "metadata": {},
   "outputs": [
    {
     "data": {
      "text/plain": [
       "array([ 820540800000000000,  820627200000000000,  820713600000000000, ...,\n",
       "       1628035200000000000, 1628121600000000000, 1628208000000000000])"
      ]
     },
     "execution_count": 18,
     "metadata": {},
     "output_type": "execute_result"
    }
   ],
   "source": [
    "dates = np.array(h['axis1'])\n",
    "dates"
   ]
  },
  {
   "cell_type": "code",
   "execution_count": 19,
   "metadata": {},
   "outputs": [
    {
     "data": {
      "text/plain": [
       "'1996-01-02 01:00:00'"
      ]
     },
     "execution_count": 19,
     "metadata": {},
     "output_type": "execute_result"
    }
   ],
   "source": [
    "# Verify that it is in fact Unix time\n",
    "#\n",
    "# Floor division by nanoseconds because we don't need that much \n",
    "# precision to verify\n",
    "dt = datetime.fromtimestamp(dates[0] // 1000000000)\n",
    "s = dt.strftime('%Y-%m-%d %H:%M:%S')\n",
    "s"
   ]
  },
  {
   "cell_type": "code",
   "execution_count": 20,
   "metadata": {},
   "outputs": [
    {
     "data": {
      "text/plain": [
       "True"
      ]
     },
     "execution_count": 20,
     "metadata": {},
     "output_type": "execute_result"
    }
   ],
   "source": [
    "# I believe these are duplicates of the tickers\n",
    "tickers2 = np.array(h['block0_items'])\n",
    "all(tickers2 == tickers)"
   ]
  },
  {
   "cell_type": "code",
   "execution_count": 21,
   "metadata": {},
   "outputs": [
    {
     "data": {
      "text/html": [
       "<div>\n",
       "<style scoped>\n",
       "    .dataframe tbody tr th:only-of-type {\n",
       "        vertical-align: middle;\n",
       "    }\n",
       "\n",
       "    .dataframe tbody tr th {\n",
       "        vertical-align: top;\n",
       "    }\n",
       "\n",
       "    .dataframe thead th {\n",
       "        text-align: right;\n",
       "    }\n",
       "</style>\n",
       "<table border=\"1\" class=\"dataframe\">\n",
       "  <thead>\n",
       "    <tr style=\"text-align: right;\">\n",
       "      <th></th>\n",
       "      <th>b'A'</th>\n",
       "      <th>b'AABA'</th>\n",
       "      <th>b'AAL'</th>\n",
       "      <th>b'AAMRQ'</th>\n",
       "      <th>b'AAP'</th>\n",
       "      <th>b'AAPL'</th>\n",
       "      <th>b'ABBV'</th>\n",
       "      <th>b'ABC'</th>\n",
       "      <th>b'ABI'</th>\n",
       "      <th>b'ABKFQ'</th>\n",
       "      <th>...</th>\n",
       "      <th>b'XRX'</th>\n",
       "      <th>b'XTO'</th>\n",
       "      <th>b'XYL'</th>\n",
       "      <th>b'YNR'</th>\n",
       "      <th>b'YRCW'</th>\n",
       "      <th>b'YUM'</th>\n",
       "      <th>b'ZBH'</th>\n",
       "      <th>b'ZBRA'</th>\n",
       "      <th>b'ZION'</th>\n",
       "      <th>b'ZTS'</th>\n",
       "    </tr>\n",
       "  </thead>\n",
       "  <tbody>\n",
       "    <tr>\n",
       "      <th>820540800000000000</th>\n",
       "      <td>NaN</td>\n",
       "      <td>NaN</td>\n",
       "      <td>NaN</td>\n",
       "      <td>NaN</td>\n",
       "      <td>NaN</td>\n",
       "      <td>0.007843</td>\n",
       "      <td>NaN</td>\n",
       "      <td>NaN</td>\n",
       "      <td>NaN</td>\n",
       "      <td>NaN</td>\n",
       "      <td>...</td>\n",
       "      <td>-0.003650</td>\n",
       "      <td>NaN</td>\n",
       "      <td>NaN</td>\n",
       "      <td>NaN</td>\n",
       "      <td>NaN</td>\n",
       "      <td>NaN</td>\n",
       "      <td>NaN</td>\n",
       "      <td>NaN</td>\n",
       "      <td>NaN</td>\n",
       "      <td>NaN</td>\n",
       "    </tr>\n",
       "    <tr>\n",
       "      <th>820627200000000000</th>\n",
       "      <td>NaN</td>\n",
       "      <td>NaN</td>\n",
       "      <td>NaN</td>\n",
       "      <td>NaN</td>\n",
       "      <td>NaN</td>\n",
       "      <td>0.000000</td>\n",
       "      <td>NaN</td>\n",
       "      <td>NaN</td>\n",
       "      <td>NaN</td>\n",
       "      <td>NaN</td>\n",
       "      <td>...</td>\n",
       "      <td>-0.000915</td>\n",
       "      <td>NaN</td>\n",
       "      <td>NaN</td>\n",
       "      <td>NaN</td>\n",
       "      <td>NaN</td>\n",
       "      <td>NaN</td>\n",
       "      <td>NaN</td>\n",
       "      <td>NaN</td>\n",
       "      <td>NaN</td>\n",
       "      <td>NaN</td>\n",
       "    </tr>\n",
       "    <tr>\n",
       "      <th>820713600000000000</th>\n",
       "      <td>NaN</td>\n",
       "      <td>NaN</td>\n",
       "      <td>NaN</td>\n",
       "      <td>NaN</td>\n",
       "      <td>NaN</td>\n",
       "      <td>-0.017508</td>\n",
       "      <td>NaN</td>\n",
       "      <td>NaN</td>\n",
       "      <td>NaN</td>\n",
       "      <td>NaN</td>\n",
       "      <td>...</td>\n",
       "      <td>-0.021082</td>\n",
       "      <td>NaN</td>\n",
       "      <td>NaN</td>\n",
       "      <td>NaN</td>\n",
       "      <td>NaN</td>\n",
       "      <td>NaN</td>\n",
       "      <td>NaN</td>\n",
       "      <td>NaN</td>\n",
       "      <td>NaN</td>\n",
       "      <td>NaN</td>\n",
       "    </tr>\n",
       "    <tr>\n",
       "      <th>820800000000000000</th>\n",
       "      <td>NaN</td>\n",
       "      <td>NaN</td>\n",
       "      <td>NaN</td>\n",
       "      <td>NaN</td>\n",
       "      <td>NaN</td>\n",
       "      <td>0.085150</td>\n",
       "      <td>NaN</td>\n",
       "      <td>NaN</td>\n",
       "      <td>NaN</td>\n",
       "      <td>NaN</td>\n",
       "      <td>...</td>\n",
       "      <td>-0.011236</td>\n",
       "      <td>NaN</td>\n",
       "      <td>NaN</td>\n",
       "      <td>NaN</td>\n",
       "      <td>NaN</td>\n",
       "      <td>NaN</td>\n",
       "      <td>NaN</td>\n",
       "      <td>NaN</td>\n",
       "      <td>NaN</td>\n",
       "      <td>NaN</td>\n",
       "    </tr>\n",
       "    <tr>\n",
       "      <th>821059200000000000</th>\n",
       "      <td>NaN</td>\n",
       "      <td>NaN</td>\n",
       "      <td>NaN</td>\n",
       "      <td>NaN</td>\n",
       "      <td>NaN</td>\n",
       "      <td>0.010948</td>\n",
       "      <td>NaN</td>\n",
       "      <td>NaN</td>\n",
       "      <td>NaN</td>\n",
       "      <td>NaN</td>\n",
       "      <td>...</td>\n",
       "      <td>-0.001894</td>\n",
       "      <td>NaN</td>\n",
       "      <td>NaN</td>\n",
       "      <td>NaN</td>\n",
       "      <td>NaN</td>\n",
       "      <td>NaN</td>\n",
       "      <td>NaN</td>\n",
       "      <td>NaN</td>\n",
       "      <td>NaN</td>\n",
       "      <td>NaN</td>\n",
       "    </tr>\n",
       "    <tr>\n",
       "      <th>...</th>\n",
       "      <td>...</td>\n",
       "      <td>...</td>\n",
       "      <td>...</td>\n",
       "      <td>...</td>\n",
       "      <td>...</td>\n",
       "      <td>...</td>\n",
       "      <td>...</td>\n",
       "      <td>...</td>\n",
       "      <td>...</td>\n",
       "      <td>...</td>\n",
       "      <td>...</td>\n",
       "      <td>...</td>\n",
       "      <td>...</td>\n",
       "      <td>...</td>\n",
       "      <td>...</td>\n",
       "      <td>...</td>\n",
       "      <td>...</td>\n",
       "      <td>...</td>\n",
       "      <td>...</td>\n",
       "      <td>...</td>\n",
       "      <td>...</td>\n",
       "    </tr>\n",
       "    <tr>\n",
       "      <th>1627862400000000000</th>\n",
       "      <td>-0.001044</td>\n",
       "      <td>NaN</td>\n",
       "      <td>-0.015702</td>\n",
       "      <td>NaN</td>\n",
       "      <td>0.003065</td>\n",
       "      <td>-0.002331</td>\n",
       "      <td>-0.007309</td>\n",
       "      <td>0.004584</td>\n",
       "      <td>NaN</td>\n",
       "      <td>NaN</td>\n",
       "      <td>...</td>\n",
       "      <td>NaN</td>\n",
       "      <td>NaN</td>\n",
       "      <td>-0.001669</td>\n",
       "      <td>NaN</td>\n",
       "      <td>NaN</td>\n",
       "      <td>0.007611</td>\n",
       "      <td>-0.002509</td>\n",
       "      <td>-0.002733</td>\n",
       "      <td>-0.009971</td>\n",
       "      <td>-0.002911</td>\n",
       "    </tr>\n",
       "    <tr>\n",
       "      <th>1627948800000000000</th>\n",
       "      <td>0.005161</td>\n",
       "      <td>NaN</td>\n",
       "      <td>-0.005483</td>\n",
       "      <td>NaN</td>\n",
       "      <td>0.012646</td>\n",
       "      <td>0.012644</td>\n",
       "      <td>0.006929</td>\n",
       "      <td>0.007985</td>\n",
       "      <td>NaN</td>\n",
       "      <td>NaN</td>\n",
       "      <td>...</td>\n",
       "      <td>NaN</td>\n",
       "      <td>NaN</td>\n",
       "      <td>0.018227</td>\n",
       "      <td>NaN</td>\n",
       "      <td>NaN</td>\n",
       "      <td>0.007780</td>\n",
       "      <td>-0.057052</td>\n",
       "      <td>-0.007677</td>\n",
       "      <td>0.021499</td>\n",
       "      <td>0.009846</td>\n",
       "    </tr>\n",
       "    <tr>\n",
       "      <th>1628035200000000000</th>\n",
       "      <td>0.002665</td>\n",
       "      <td>NaN</td>\n",
       "      <td>-0.025063</td>\n",
       "      <td>NaN</td>\n",
       "      <td>-0.026602</td>\n",
       "      <td>-0.002782</td>\n",
       "      <td>-0.010065</td>\n",
       "      <td>0.014874</td>\n",
       "      <td>NaN</td>\n",
       "      <td>NaN</td>\n",
       "      <td>...</td>\n",
       "      <td>NaN</td>\n",
       "      <td>NaN</td>\n",
       "      <td>-0.009927</td>\n",
       "      <td>NaN</td>\n",
       "      <td>NaN</td>\n",
       "      <td>0.000750</td>\n",
       "      <td>-0.035652</td>\n",
       "      <td>0.024253</td>\n",
       "      <td>-0.009670</td>\n",
       "      <td>0.003381</td>\n",
       "    </tr>\n",
       "    <tr>\n",
       "      <th>1628121600000000000</th>\n",
       "      <td>0.004991</td>\n",
       "      <td>NaN</td>\n",
       "      <td>0.075064</td>\n",
       "      <td>NaN</td>\n",
       "      <td>-0.015882</td>\n",
       "      <td>0.000749</td>\n",
       "      <td>0.000348</td>\n",
       "      <td>-0.029152</td>\n",
       "      <td>NaN</td>\n",
       "      <td>NaN</td>\n",
       "      <td>...</td>\n",
       "      <td>NaN</td>\n",
       "      <td>NaN</td>\n",
       "      <td>0.006790</td>\n",
       "      <td>NaN</td>\n",
       "      <td>NaN</td>\n",
       "      <td>0.000899</td>\n",
       "      <td>0.013088</td>\n",
       "      <td>0.016464</td>\n",
       "      <td>0.017040</td>\n",
       "      <td>-0.004639</td>\n",
       "    </tr>\n",
       "    <tr>\n",
       "      <th>1628208000000000000</th>\n",
       "      <td>0.004257</td>\n",
       "      <td>NaN</td>\n",
       "      <td>0.005261</td>\n",
       "      <td>NaN</td>\n",
       "      <td>-0.003005</td>\n",
       "      <td>-0.004767</td>\n",
       "      <td>-0.005820</td>\n",
       "      <td>-0.010255</td>\n",
       "      <td>NaN</td>\n",
       "      <td>NaN</td>\n",
       "      <td>...</td>\n",
       "      <td>NaN</td>\n",
       "      <td>NaN</td>\n",
       "      <td>0.010038</td>\n",
       "      <td>NaN</td>\n",
       "      <td>NaN</td>\n",
       "      <td>0.002918</td>\n",
       "      <td>-0.007791</td>\n",
       "      <td>-0.012210</td>\n",
       "      <td>0.035203</td>\n",
       "      <td>-0.009615</td>\n",
       "    </tr>\n",
       "  </tbody>\n",
       "</table>\n",
       "<p>6451 rows × 1110 columns</p>\n",
       "</div>"
      ],
      "text/plain": [
       "                         b'A'  b'AABA'    b'AAL'  b'AAMRQ'    b'AAP'  \\\n",
       "820540800000000000        NaN      NaN       NaN       NaN       NaN   \n",
       "820627200000000000        NaN      NaN       NaN       NaN       NaN   \n",
       "820713600000000000        NaN      NaN       NaN       NaN       NaN   \n",
       "820800000000000000        NaN      NaN       NaN       NaN       NaN   \n",
       "821059200000000000        NaN      NaN       NaN       NaN       NaN   \n",
       "...                       ...      ...       ...       ...       ...   \n",
       "1627862400000000000 -0.001044      NaN -0.015702       NaN  0.003065   \n",
       "1627948800000000000  0.005161      NaN -0.005483       NaN  0.012646   \n",
       "1628035200000000000  0.002665      NaN -0.025063       NaN -0.026602   \n",
       "1628121600000000000  0.004991      NaN  0.075064       NaN -0.015882   \n",
       "1628208000000000000  0.004257      NaN  0.005261       NaN -0.003005   \n",
       "\n",
       "                      b'AAPL'   b'ABBV'    b'ABC'  b'ABI'  b'ABKFQ'  ...  \\\n",
       "820540800000000000   0.007843       NaN       NaN     NaN       NaN  ...   \n",
       "820627200000000000   0.000000       NaN       NaN     NaN       NaN  ...   \n",
       "820713600000000000  -0.017508       NaN       NaN     NaN       NaN  ...   \n",
       "820800000000000000   0.085150       NaN       NaN     NaN       NaN  ...   \n",
       "821059200000000000   0.010948       NaN       NaN     NaN       NaN  ...   \n",
       "...                       ...       ...       ...     ...       ...  ...   \n",
       "1627862400000000000 -0.002331 -0.007309  0.004584     NaN       NaN  ...   \n",
       "1627948800000000000  0.012644  0.006929  0.007985     NaN       NaN  ...   \n",
       "1628035200000000000 -0.002782 -0.010065  0.014874     NaN       NaN  ...   \n",
       "1628121600000000000  0.000749  0.000348 -0.029152     NaN       NaN  ...   \n",
       "1628208000000000000 -0.004767 -0.005820 -0.010255     NaN       NaN  ...   \n",
       "\n",
       "                       b'XRX'  b'XTO'    b'XYL'  b'YNR'  b'YRCW'    b'YUM'  \\\n",
       "820540800000000000  -0.003650     NaN       NaN     NaN      NaN       NaN   \n",
       "820627200000000000  -0.000915     NaN       NaN     NaN      NaN       NaN   \n",
       "820713600000000000  -0.021082     NaN       NaN     NaN      NaN       NaN   \n",
       "820800000000000000  -0.011236     NaN       NaN     NaN      NaN       NaN   \n",
       "821059200000000000  -0.001894     NaN       NaN     NaN      NaN       NaN   \n",
       "...                       ...     ...       ...     ...      ...       ...   \n",
       "1627862400000000000       NaN     NaN -0.001669     NaN      NaN  0.007611   \n",
       "1627948800000000000       NaN     NaN  0.018227     NaN      NaN  0.007780   \n",
       "1628035200000000000       NaN     NaN -0.009927     NaN      NaN  0.000750   \n",
       "1628121600000000000       NaN     NaN  0.006790     NaN      NaN  0.000899   \n",
       "1628208000000000000       NaN     NaN  0.010038     NaN      NaN  0.002918   \n",
       "\n",
       "                       b'ZBH'   b'ZBRA'   b'ZION'    b'ZTS'  \n",
       "820540800000000000        NaN       NaN       NaN       NaN  \n",
       "820627200000000000        NaN       NaN       NaN       NaN  \n",
       "820713600000000000        NaN       NaN       NaN       NaN  \n",
       "820800000000000000        NaN       NaN       NaN       NaN  \n",
       "821059200000000000        NaN       NaN       NaN       NaN  \n",
       "...                       ...       ...       ...       ...  \n",
       "1627862400000000000 -0.002509 -0.002733 -0.009971 -0.002911  \n",
       "1627948800000000000 -0.057052 -0.007677  0.021499  0.009846  \n",
       "1628035200000000000 -0.035652  0.024253 -0.009670  0.003381  \n",
       "1628121600000000000  0.013088  0.016464  0.017040 -0.004639  \n",
       "1628208000000000000 -0.007791 -0.012210  0.035203 -0.009615  \n",
       "\n",
       "[6451 rows x 1110 columns]"
      ]
     },
     "execution_count": 21,
     "metadata": {},
     "output_type": "execute_result"
    }
   ],
   "source": [
    "rets = pd.DataFrame(np.array(h['block0_values']), columns = tickers, index=dates)\n",
    "rets"
   ]
  },
  {
   "cell_type": "code",
   "execution_count": 22,
   "metadata": {},
   "outputs": [
    {
     "data": {
      "text/html": [
       "<div>\n",
       "<style scoped>\n",
       "    .dataframe tbody tr th:only-of-type {\n",
       "        vertical-align: middle;\n",
       "    }\n",
       "\n",
       "    .dataframe tbody tr th {\n",
       "        vertical-align: top;\n",
       "    }\n",
       "\n",
       "    .dataframe thead th {\n",
       "        text-align: right;\n",
       "    }\n",
       "</style>\n",
       "<table border=\"1\" class=\"dataframe\">\n",
       "  <thead>\n",
       "    <tr style=\"text-align: right;\">\n",
       "      <th></th>\n",
       "      <th>A</th>\n",
       "      <th>AABA</th>\n",
       "      <th>AAL</th>\n",
       "      <th>AAMRQ</th>\n",
       "      <th>AAP</th>\n",
       "      <th>AAPL</th>\n",
       "      <th>ABBV</th>\n",
       "      <th>ABC</th>\n",
       "      <th>ABI</th>\n",
       "      <th>ABKFQ</th>\n",
       "      <th>...</th>\n",
       "      <th>XRX</th>\n",
       "      <th>XTO</th>\n",
       "      <th>XYL</th>\n",
       "      <th>YNR</th>\n",
       "      <th>YRCW</th>\n",
       "      <th>YUM</th>\n",
       "      <th>ZBH</th>\n",
       "      <th>ZBRA</th>\n",
       "      <th>ZION</th>\n",
       "      <th>ZTS</th>\n",
       "    </tr>\n",
       "  </thead>\n",
       "  <tbody>\n",
       "    <tr>\n",
       "      <th>820540800000000000</th>\n",
       "      <td>NaN</td>\n",
       "      <td>NaN</td>\n",
       "      <td>NaN</td>\n",
       "      <td>NaN</td>\n",
       "      <td>NaN</td>\n",
       "      <td>0.007843</td>\n",
       "      <td>NaN</td>\n",
       "      <td>NaN</td>\n",
       "      <td>NaN</td>\n",
       "      <td>NaN</td>\n",
       "      <td>...</td>\n",
       "      <td>-0.003650</td>\n",
       "      <td>NaN</td>\n",
       "      <td>NaN</td>\n",
       "      <td>NaN</td>\n",
       "      <td>NaN</td>\n",
       "      <td>NaN</td>\n",
       "      <td>NaN</td>\n",
       "      <td>NaN</td>\n",
       "      <td>NaN</td>\n",
       "      <td>NaN</td>\n",
       "    </tr>\n",
       "    <tr>\n",
       "      <th>820627200000000000</th>\n",
       "      <td>NaN</td>\n",
       "      <td>NaN</td>\n",
       "      <td>NaN</td>\n",
       "      <td>NaN</td>\n",
       "      <td>NaN</td>\n",
       "      <td>0.000000</td>\n",
       "      <td>NaN</td>\n",
       "      <td>NaN</td>\n",
       "      <td>NaN</td>\n",
       "      <td>NaN</td>\n",
       "      <td>...</td>\n",
       "      <td>-0.000915</td>\n",
       "      <td>NaN</td>\n",
       "      <td>NaN</td>\n",
       "      <td>NaN</td>\n",
       "      <td>NaN</td>\n",
       "      <td>NaN</td>\n",
       "      <td>NaN</td>\n",
       "      <td>NaN</td>\n",
       "      <td>NaN</td>\n",
       "      <td>NaN</td>\n",
       "    </tr>\n",
       "    <tr>\n",
       "      <th>820713600000000000</th>\n",
       "      <td>NaN</td>\n",
       "      <td>NaN</td>\n",
       "      <td>NaN</td>\n",
       "      <td>NaN</td>\n",
       "      <td>NaN</td>\n",
       "      <td>-0.017508</td>\n",
       "      <td>NaN</td>\n",
       "      <td>NaN</td>\n",
       "      <td>NaN</td>\n",
       "      <td>NaN</td>\n",
       "      <td>...</td>\n",
       "      <td>-0.021082</td>\n",
       "      <td>NaN</td>\n",
       "      <td>NaN</td>\n",
       "      <td>NaN</td>\n",
       "      <td>NaN</td>\n",
       "      <td>NaN</td>\n",
       "      <td>NaN</td>\n",
       "      <td>NaN</td>\n",
       "      <td>NaN</td>\n",
       "      <td>NaN</td>\n",
       "    </tr>\n",
       "    <tr>\n",
       "      <th>820800000000000000</th>\n",
       "      <td>NaN</td>\n",
       "      <td>NaN</td>\n",
       "      <td>NaN</td>\n",
       "      <td>NaN</td>\n",
       "      <td>NaN</td>\n",
       "      <td>0.085150</td>\n",
       "      <td>NaN</td>\n",
       "      <td>NaN</td>\n",
       "      <td>NaN</td>\n",
       "      <td>NaN</td>\n",
       "      <td>...</td>\n",
       "      <td>-0.011236</td>\n",
       "      <td>NaN</td>\n",
       "      <td>NaN</td>\n",
       "      <td>NaN</td>\n",
       "      <td>NaN</td>\n",
       "      <td>NaN</td>\n",
       "      <td>NaN</td>\n",
       "      <td>NaN</td>\n",
       "      <td>NaN</td>\n",
       "      <td>NaN</td>\n",
       "    </tr>\n",
       "    <tr>\n",
       "      <th>821059200000000000</th>\n",
       "      <td>NaN</td>\n",
       "      <td>NaN</td>\n",
       "      <td>NaN</td>\n",
       "      <td>NaN</td>\n",
       "      <td>NaN</td>\n",
       "      <td>0.010948</td>\n",
       "      <td>NaN</td>\n",
       "      <td>NaN</td>\n",
       "      <td>NaN</td>\n",
       "      <td>NaN</td>\n",
       "      <td>...</td>\n",
       "      <td>-0.001894</td>\n",
       "      <td>NaN</td>\n",
       "      <td>NaN</td>\n",
       "      <td>NaN</td>\n",
       "      <td>NaN</td>\n",
       "      <td>NaN</td>\n",
       "      <td>NaN</td>\n",
       "      <td>NaN</td>\n",
       "      <td>NaN</td>\n",
       "      <td>NaN</td>\n",
       "    </tr>\n",
       "    <tr>\n",
       "      <th>...</th>\n",
       "      <td>...</td>\n",
       "      <td>...</td>\n",
       "      <td>...</td>\n",
       "      <td>...</td>\n",
       "      <td>...</td>\n",
       "      <td>...</td>\n",
       "      <td>...</td>\n",
       "      <td>...</td>\n",
       "      <td>...</td>\n",
       "      <td>...</td>\n",
       "      <td>...</td>\n",
       "      <td>...</td>\n",
       "      <td>...</td>\n",
       "      <td>...</td>\n",
       "      <td>...</td>\n",
       "      <td>...</td>\n",
       "      <td>...</td>\n",
       "      <td>...</td>\n",
       "      <td>...</td>\n",
       "      <td>...</td>\n",
       "      <td>...</td>\n",
       "    </tr>\n",
       "    <tr>\n",
       "      <th>1627862400000000000</th>\n",
       "      <td>-0.001044</td>\n",
       "      <td>NaN</td>\n",
       "      <td>-0.015702</td>\n",
       "      <td>NaN</td>\n",
       "      <td>0.003065</td>\n",
       "      <td>-0.002331</td>\n",
       "      <td>-0.007309</td>\n",
       "      <td>0.004584</td>\n",
       "      <td>NaN</td>\n",
       "      <td>NaN</td>\n",
       "      <td>...</td>\n",
       "      <td>NaN</td>\n",
       "      <td>NaN</td>\n",
       "      <td>-0.001669</td>\n",
       "      <td>NaN</td>\n",
       "      <td>NaN</td>\n",
       "      <td>0.007611</td>\n",
       "      <td>-0.002509</td>\n",
       "      <td>-0.002733</td>\n",
       "      <td>-0.009971</td>\n",
       "      <td>-0.002911</td>\n",
       "    </tr>\n",
       "    <tr>\n",
       "      <th>1627948800000000000</th>\n",
       "      <td>0.005161</td>\n",
       "      <td>NaN</td>\n",
       "      <td>-0.005483</td>\n",
       "      <td>NaN</td>\n",
       "      <td>0.012646</td>\n",
       "      <td>0.012644</td>\n",
       "      <td>0.006929</td>\n",
       "      <td>0.007985</td>\n",
       "      <td>NaN</td>\n",
       "      <td>NaN</td>\n",
       "      <td>...</td>\n",
       "      <td>NaN</td>\n",
       "      <td>NaN</td>\n",
       "      <td>0.018227</td>\n",
       "      <td>NaN</td>\n",
       "      <td>NaN</td>\n",
       "      <td>0.007780</td>\n",
       "      <td>-0.057052</td>\n",
       "      <td>-0.007677</td>\n",
       "      <td>0.021499</td>\n",
       "      <td>0.009846</td>\n",
       "    </tr>\n",
       "    <tr>\n",
       "      <th>1628035200000000000</th>\n",
       "      <td>0.002665</td>\n",
       "      <td>NaN</td>\n",
       "      <td>-0.025063</td>\n",
       "      <td>NaN</td>\n",
       "      <td>-0.026602</td>\n",
       "      <td>-0.002782</td>\n",
       "      <td>-0.010065</td>\n",
       "      <td>0.014874</td>\n",
       "      <td>NaN</td>\n",
       "      <td>NaN</td>\n",
       "      <td>...</td>\n",
       "      <td>NaN</td>\n",
       "      <td>NaN</td>\n",
       "      <td>-0.009927</td>\n",
       "      <td>NaN</td>\n",
       "      <td>NaN</td>\n",
       "      <td>0.000750</td>\n",
       "      <td>-0.035652</td>\n",
       "      <td>0.024253</td>\n",
       "      <td>-0.009670</td>\n",
       "      <td>0.003381</td>\n",
       "    </tr>\n",
       "    <tr>\n",
       "      <th>1628121600000000000</th>\n",
       "      <td>0.004991</td>\n",
       "      <td>NaN</td>\n",
       "      <td>0.075064</td>\n",
       "      <td>NaN</td>\n",
       "      <td>-0.015882</td>\n",
       "      <td>0.000749</td>\n",
       "      <td>0.000348</td>\n",
       "      <td>-0.029152</td>\n",
       "      <td>NaN</td>\n",
       "      <td>NaN</td>\n",
       "      <td>...</td>\n",
       "      <td>NaN</td>\n",
       "      <td>NaN</td>\n",
       "      <td>0.006790</td>\n",
       "      <td>NaN</td>\n",
       "      <td>NaN</td>\n",
       "      <td>0.000899</td>\n",
       "      <td>0.013088</td>\n",
       "      <td>0.016464</td>\n",
       "      <td>0.017040</td>\n",
       "      <td>-0.004639</td>\n",
       "    </tr>\n",
       "    <tr>\n",
       "      <th>1628208000000000000</th>\n",
       "      <td>0.004257</td>\n",
       "      <td>NaN</td>\n",
       "      <td>0.005261</td>\n",
       "      <td>NaN</td>\n",
       "      <td>-0.003005</td>\n",
       "      <td>-0.004767</td>\n",
       "      <td>-0.005820</td>\n",
       "      <td>-0.010255</td>\n",
       "      <td>NaN</td>\n",
       "      <td>NaN</td>\n",
       "      <td>...</td>\n",
       "      <td>NaN</td>\n",
       "      <td>NaN</td>\n",
       "      <td>0.010038</td>\n",
       "      <td>NaN</td>\n",
       "      <td>NaN</td>\n",
       "      <td>0.002918</td>\n",
       "      <td>-0.007791</td>\n",
       "      <td>-0.012210</td>\n",
       "      <td>0.035203</td>\n",
       "      <td>-0.009615</td>\n",
       "    </tr>\n",
       "  </tbody>\n",
       "</table>\n",
       "<p>6451 rows × 1110 columns</p>\n",
       "</div>"
      ],
      "text/plain": [
       "                            A  AABA       AAL  AAMRQ       AAP      AAPL  \\\n",
       "820540800000000000        NaN   NaN       NaN    NaN       NaN  0.007843   \n",
       "820627200000000000        NaN   NaN       NaN    NaN       NaN  0.000000   \n",
       "820713600000000000        NaN   NaN       NaN    NaN       NaN -0.017508   \n",
       "820800000000000000        NaN   NaN       NaN    NaN       NaN  0.085150   \n",
       "821059200000000000        NaN   NaN       NaN    NaN       NaN  0.010948   \n",
       "...                       ...   ...       ...    ...       ...       ...   \n",
       "1627862400000000000 -0.001044   NaN -0.015702    NaN  0.003065 -0.002331   \n",
       "1627948800000000000  0.005161   NaN -0.005483    NaN  0.012646  0.012644   \n",
       "1628035200000000000  0.002665   NaN -0.025063    NaN -0.026602 -0.002782   \n",
       "1628121600000000000  0.004991   NaN  0.075064    NaN -0.015882  0.000749   \n",
       "1628208000000000000  0.004257   NaN  0.005261    NaN -0.003005 -0.004767   \n",
       "\n",
       "                         ABBV       ABC  ABI  ABKFQ  ...       XRX  XTO  \\\n",
       "820540800000000000        NaN       NaN  NaN    NaN  ... -0.003650  NaN   \n",
       "820627200000000000        NaN       NaN  NaN    NaN  ... -0.000915  NaN   \n",
       "820713600000000000        NaN       NaN  NaN    NaN  ... -0.021082  NaN   \n",
       "820800000000000000        NaN       NaN  NaN    NaN  ... -0.011236  NaN   \n",
       "821059200000000000        NaN       NaN  NaN    NaN  ... -0.001894  NaN   \n",
       "...                       ...       ...  ...    ...  ...       ...  ...   \n",
       "1627862400000000000 -0.007309  0.004584  NaN    NaN  ...       NaN  NaN   \n",
       "1627948800000000000  0.006929  0.007985  NaN    NaN  ...       NaN  NaN   \n",
       "1628035200000000000 -0.010065  0.014874  NaN    NaN  ...       NaN  NaN   \n",
       "1628121600000000000  0.000348 -0.029152  NaN    NaN  ...       NaN  NaN   \n",
       "1628208000000000000 -0.005820 -0.010255  NaN    NaN  ...       NaN  NaN   \n",
       "\n",
       "                          XYL  YNR  YRCW       YUM       ZBH      ZBRA  \\\n",
       "820540800000000000        NaN  NaN   NaN       NaN       NaN       NaN   \n",
       "820627200000000000        NaN  NaN   NaN       NaN       NaN       NaN   \n",
       "820713600000000000        NaN  NaN   NaN       NaN       NaN       NaN   \n",
       "820800000000000000        NaN  NaN   NaN       NaN       NaN       NaN   \n",
       "821059200000000000        NaN  NaN   NaN       NaN       NaN       NaN   \n",
       "...                       ...  ...   ...       ...       ...       ...   \n",
       "1627862400000000000 -0.001669  NaN   NaN  0.007611 -0.002509 -0.002733   \n",
       "1627948800000000000  0.018227  NaN   NaN  0.007780 -0.057052 -0.007677   \n",
       "1628035200000000000 -0.009927  NaN   NaN  0.000750 -0.035652  0.024253   \n",
       "1628121600000000000  0.006790  NaN   NaN  0.000899  0.013088  0.016464   \n",
       "1628208000000000000  0.010038  NaN   NaN  0.002918 -0.007791 -0.012210   \n",
       "\n",
       "                         ZION       ZTS  \n",
       "820540800000000000        NaN       NaN  \n",
       "820627200000000000        NaN       NaN  \n",
       "820713600000000000        NaN       NaN  \n",
       "820800000000000000        NaN       NaN  \n",
       "821059200000000000        NaN       NaN  \n",
       "...                       ...       ...  \n",
       "1627862400000000000 -0.009971 -0.002911  \n",
       "1627948800000000000  0.021499  0.009846  \n",
       "1628035200000000000 -0.009670  0.003381  \n",
       "1628121600000000000  0.017040 -0.004639  \n",
       "1628208000000000000  0.035203 -0.009615  \n",
       "\n",
       "[6451 rows x 1110 columns]"
      ]
     },
     "execution_count": 22,
     "metadata": {},
     "output_type": "execute_result"
    }
   ],
   "source": [
    "rets.columns = [x.decode(\"utf-8\") for x in tickers]\n",
    "rets"
   ]
  },
  {
   "cell_type": "code",
   "execution_count": 40,
   "metadata": {},
   "outputs": [
    {
     "data": {
      "image/png": "[encoded data removed]",
      "text/plain": [
       "<Figure size 576x432 with 1 Axes>"
      ]
     },
     "metadata": {
      "needs_background": "light"
     },
     "output_type": "display_data"
    }
   ],
   "source": [
    "# Check for outliers\n",
    "temp = rets[rets >1].dropna(axis=1, how='all').dropna(axis=0, how='all')\n",
    "\n",
    "plt.figure(figsize = (8,6))\n",
    "for comps in temp.columns:\n",
    "    plt.scatter(temp.index, temp[comps])\n",
    "plt.show()"
   ]
  },
  {
   "cell_type": "code",
   "execution_count": 36,
   "metadata": {},
   "outputs": [
    {
     "data": {
      "text/html": [
       "<div>\n",
       "<style scoped>\n",
       "    .dataframe tbody tr th:only-of-type {\n",
       "        vertical-align: middle;\n",
       "    }\n",
       "\n",
       "    .dataframe tbody tr th {\n",
       "        vertical-align: top;\n",
       "    }\n",
       "\n",
       "    .dataframe thead th {\n",
       "        text-align: right;\n",
       "    }\n",
       "</style>\n",
       "<table border=\"1\" class=\"dataframe\">\n",
       "  <thead>\n",
       "    <tr style=\"text-align: right;\">\n",
       "      <th></th>\n",
       "      <th>A</th>\n",
       "      <th>AABA</th>\n",
       "      <th>AAL</th>\n",
       "      <th>AAMRQ</th>\n",
       "      <th>AAP</th>\n",
       "      <th>AAPL</th>\n",
       "      <th>ABBV</th>\n",
       "      <th>ABC</th>\n",
       "      <th>ABI</th>\n",
       "      <th>ABKFQ</th>\n",
       "      <th>...</th>\n",
       "      <th>XRX</th>\n",
       "      <th>XTO</th>\n",
       "      <th>XYL</th>\n",
       "      <th>YNR</th>\n",
       "      <th>YRCW</th>\n",
       "      <th>YUM</th>\n",
       "      <th>ZBH</th>\n",
       "      <th>ZBRA</th>\n",
       "      <th>ZION</th>\n",
       "      <th>ZTS</th>\n",
       "    </tr>\n",
       "  </thead>\n",
       "  <tbody>\n",
       "    <tr>\n",
       "      <th>1996-01-02 01:00:00</th>\n",
       "      <td>NaN</td>\n",
       "      <td>NaN</td>\n",
       "      <td>NaN</td>\n",
       "      <td>NaN</td>\n",
       "      <td>NaN</td>\n",
       "      <td>0.007843</td>\n",
       "      <td>NaN</td>\n",
       "      <td>NaN</td>\n",
       "      <td>NaN</td>\n",
       "      <td>NaN</td>\n",
       "      <td>...</td>\n",
       "      <td>-0.003650</td>\n",
       "      <td>NaN</td>\n",
       "      <td>NaN</td>\n",
       "      <td>NaN</td>\n",
       "      <td>NaN</td>\n",
       "      <td>NaN</td>\n",
       "      <td>NaN</td>\n",
       "      <td>NaN</td>\n",
       "      <td>NaN</td>\n",
       "      <td>NaN</td>\n",
       "    </tr>\n",
       "    <tr>\n",
       "      <th>1996-01-03 01:00:00</th>\n",
       "      <td>NaN</td>\n",
       "      <td>NaN</td>\n",
       "      <td>NaN</td>\n",
       "      <td>NaN</td>\n",
       "      <td>NaN</td>\n",
       "      <td>0.000000</td>\n",
       "      <td>NaN</td>\n",
       "      <td>NaN</td>\n",
       "      <td>NaN</td>\n",
       "      <td>NaN</td>\n",
       "      <td>...</td>\n",
       "      <td>-0.000915</td>\n",
       "      <td>NaN</td>\n",
       "      <td>NaN</td>\n",
       "      <td>NaN</td>\n",
       "      <td>NaN</td>\n",
       "      <td>NaN</td>\n",
       "      <td>NaN</td>\n",
       "      <td>NaN</td>\n",
       "      <td>NaN</td>\n",
       "      <td>NaN</td>\n",
       "    </tr>\n",
       "    <tr>\n",
       "      <th>1996-01-04 01:00:00</th>\n",
       "      <td>NaN</td>\n",
       "      <td>NaN</td>\n",
       "      <td>NaN</td>\n",
       "      <td>NaN</td>\n",
       "      <td>NaN</td>\n",
       "      <td>-0.017508</td>\n",
       "      <td>NaN</td>\n",
       "      <td>NaN</td>\n",
       "      <td>NaN</td>\n",
       "      <td>NaN</td>\n",
       "      <td>...</td>\n",
       "      <td>-0.021082</td>\n",
       "      <td>NaN</td>\n",
       "      <td>NaN</td>\n",
       "      <td>NaN</td>\n",
       "      <td>NaN</td>\n",
       "      <td>NaN</td>\n",
       "      <td>NaN</td>\n",
       "      <td>NaN</td>\n",
       "      <td>NaN</td>\n",
       "      <td>NaN</td>\n",
       "    </tr>\n",
       "    <tr>\n",
       "      <th>1996-01-05 01:00:00</th>\n",
       "      <td>NaN</td>\n",
       "      <td>NaN</td>\n",
       "      <td>NaN</td>\n",
       "      <td>NaN</td>\n",
       "      <td>NaN</td>\n",
       "      <td>0.085150</td>\n",
       "      <td>NaN</td>\n",
       "      <td>NaN</td>\n",
       "      <td>NaN</td>\n",
       "      <td>NaN</td>\n",
       "      <td>...</td>\n",
       "      <td>-0.011236</td>\n",
       "      <td>NaN</td>\n",
       "      <td>NaN</td>\n",
       "      <td>NaN</td>\n",
       "      <td>NaN</td>\n",
       "      <td>NaN</td>\n",
       "      <td>NaN</td>\n",
       "      <td>NaN</td>\n",
       "      <td>NaN</td>\n",
       "      <td>NaN</td>\n",
       "    </tr>\n",
       "    <tr>\n",
       "      <th>1996-01-08 01:00:00</th>\n",
       "      <td>NaN</td>\n",
       "      <td>NaN</td>\n",
       "      <td>NaN</td>\n",
       "      <td>NaN</td>\n",
       "      <td>NaN</td>\n",
       "      <td>0.010948</td>\n",
       "      <td>NaN</td>\n",
       "      <td>NaN</td>\n",
       "      <td>NaN</td>\n",
       "      <td>NaN</td>\n",
       "      <td>...</td>\n",
       "      <td>-0.001894</td>\n",
       "      <td>NaN</td>\n",
       "      <td>NaN</td>\n",
       "      <td>NaN</td>\n",
       "      <td>NaN</td>\n",
       "      <td>NaN</td>\n",
       "      <td>NaN</td>\n",
       "      <td>NaN</td>\n",
       "      <td>NaN</td>\n",
       "      <td>NaN</td>\n",
       "    </tr>\n",
       "    <tr>\n",
       "      <th>...</th>\n",
       "      <td>...</td>\n",
       "      <td>...</td>\n",
       "      <td>...</td>\n",
       "      <td>...</td>\n",
       "      <td>...</td>\n",
       "      <td>...</td>\n",
       "      <td>...</td>\n",
       "      <td>...</td>\n",
       "      <td>...</td>\n",
       "      <td>...</td>\n",
       "      <td>...</td>\n",
       "      <td>...</td>\n",
       "      <td>...</td>\n",
       "      <td>...</td>\n",
       "      <td>...</td>\n",
       "      <td>...</td>\n",
       "      <td>...</td>\n",
       "      <td>...</td>\n",
       "      <td>...</td>\n",
       "      <td>...</td>\n",
       "      <td>...</td>\n",
       "    </tr>\n",
       "    <tr>\n",
       "      <th>2021-08-02 02:00:00</th>\n",
       "      <td>-0.001044</td>\n",
       "      <td>NaN</td>\n",
       "      <td>-0.015702</td>\n",
       "      <td>NaN</td>\n",
       "      <td>0.003065</td>\n",
       "      <td>-0.002331</td>\n",
       "      <td>-0.007309</td>\n",
       "      <td>0.004584</td>\n",
       "      <td>NaN</td>\n",
       "      <td>NaN</td>\n",
       "      <td>...</td>\n",
       "      <td>NaN</td>\n",
       "      <td>NaN</td>\n",
       "      <td>-0.001669</td>\n",
       "      <td>NaN</td>\n",
       "      <td>NaN</td>\n",
       "      <td>0.007611</td>\n",
       "      <td>-0.002509</td>\n",
       "      <td>-0.002733</td>\n",
       "      <td>-0.009971</td>\n",
       "      <td>-0.002911</td>\n",
       "    </tr>\n",
       "    <tr>\n",
       "      <th>2021-08-03 02:00:00</th>\n",
       "      <td>0.005161</td>\n",
       "      <td>NaN</td>\n",
       "      <td>-0.005483</td>\n",
       "      <td>NaN</td>\n",
       "      <td>0.012646</td>\n",
       "      <td>0.012644</td>\n",
       "      <td>0.006929</td>\n",
       "      <td>0.007985</td>\n",
       "      <td>NaN</td>\n",
       "      <td>NaN</td>\n",
       "      <td>...</td>\n",
       "      <td>NaN</td>\n",
       "      <td>NaN</td>\n",
       "      <td>0.018227</td>\n",
       "      <td>NaN</td>\n",
       "      <td>NaN</td>\n",
       "      <td>0.007780</td>\n",
       "      <td>-0.057052</td>\n",
       "      <td>-0.007677</td>\n",
       "      <td>0.021499</td>\n",
       "      <td>0.009846</td>\n",
       "    </tr>\n",
       "    <tr>\n",
       "      <th>2021-08-04 02:00:00</th>\n",
       "      <td>0.002665</td>\n",
       "      <td>NaN</td>\n",
       "      <td>-0.025063</td>\n",
       "      <td>NaN</td>\n",
       "      <td>-0.026602</td>\n",
       "      <td>-0.002782</td>\n",
       "      <td>-0.010065</td>\n",
       "      <td>0.014874</td>\n",
       "      <td>NaN</td>\n",
       "      <td>NaN</td>\n",
       "      <td>...</td>\n",
       "      <td>NaN</td>\n",
       "      <td>NaN</td>\n",
       "      <td>-0.009927</td>\n",
       "      <td>NaN</td>\n",
       "      <td>NaN</td>\n",
       "      <td>0.000750</td>\n",
       "      <td>-0.035652</td>\n",
       "      <td>0.024253</td>\n",
       "      <td>-0.009670</td>\n",
       "      <td>0.003381</td>\n",
       "    </tr>\n",
       "    <tr>\n",
       "      <th>2021-08-05 02:00:00</th>\n",
       "      <td>0.004991</td>\n",
       "      <td>NaN</td>\n",
       "      <td>0.075064</td>\n",
       "      <td>NaN</td>\n",
       "      <td>-0.015882</td>\n",
       "      <td>0.000749</td>\n",
       "      <td>0.000348</td>\n",
       "      <td>-0.029152</td>\n",
       "      <td>NaN</td>\n",
       "      <td>NaN</td>\n",
       "      <td>...</td>\n",
       "      <td>NaN</td>\n",
       "      <td>NaN</td>\n",
       "      <td>0.006790</td>\n",
       "      <td>NaN</td>\n",
       "      <td>NaN</td>\n",
       "      <td>0.000899</td>\n",
       "      <td>0.013088</td>\n",
       "      <td>0.016464</td>\n",
       "      <td>0.017040</td>\n",
       "      <td>-0.004639</td>\n",
       "    </tr>\n",
       "    <tr>\n",
       "      <th>2021-08-06 02:00:00</th>\n",
       "      <td>0.004257</td>\n",
       "      <td>NaN</td>\n",
       "      <td>0.005261</td>\n",
       "      <td>NaN</td>\n",
       "      <td>-0.003005</td>\n",
       "      <td>-0.004767</td>\n",
       "      <td>-0.005820</td>\n",
       "      <td>-0.010255</td>\n",
       "      <td>NaN</td>\n",
       "      <td>NaN</td>\n",
       "      <td>...</td>\n",
       "      <td>NaN</td>\n",
       "      <td>NaN</td>\n",
       "      <td>0.010038</td>\n",
       "      <td>NaN</td>\n",
       "      <td>NaN</td>\n",
       "      <td>0.002918</td>\n",
       "      <td>-0.007791</td>\n",
       "      <td>-0.012210</td>\n",
       "      <td>0.035203</td>\n",
       "      <td>-0.009615</td>\n",
       "    </tr>\n",
       "  </tbody>\n",
       "</table>\n",
       "<p>6451 rows × 1110 columns</p>\n",
       "</div>"
      ],
      "text/plain": [
       "                            A  AABA       AAL  AAMRQ       AAP      AAPL  \\\n",
       "1996-01-02 01:00:00       NaN   NaN       NaN    NaN       NaN  0.007843   \n",
       "1996-01-03 01:00:00       NaN   NaN       NaN    NaN       NaN  0.000000   \n",
       "1996-01-04 01:00:00       NaN   NaN       NaN    NaN       NaN -0.017508   \n",
       "1996-01-05 01:00:00       NaN   NaN       NaN    NaN       NaN  0.085150   \n",
       "1996-01-08 01:00:00       NaN   NaN       NaN    NaN       NaN  0.010948   \n",
       "...                       ...   ...       ...    ...       ...       ...   \n",
       "2021-08-02 02:00:00 -0.001044   NaN -0.015702    NaN  0.003065 -0.002331   \n",
       "2021-08-03 02:00:00  0.005161   NaN -0.005483    NaN  0.012646  0.012644   \n",
       "2021-08-04 02:00:00  0.002665   NaN -0.025063    NaN -0.026602 -0.002782   \n",
       "2021-08-05 02:00:00  0.004991   NaN  0.075064    NaN -0.015882  0.000749   \n",
       "2021-08-06 02:00:00  0.004257   NaN  0.005261    NaN -0.003005 -0.004767   \n",
       "\n",
       "                         ABBV       ABC  ABI  ABKFQ  ...       XRX  XTO  \\\n",
       "1996-01-02 01:00:00       NaN       NaN  NaN    NaN  ... -0.003650  NaN   \n",
       "1996-01-03 01:00:00       NaN       NaN  NaN    NaN  ... -0.000915  NaN   \n",
       "1996-01-04 01:00:00       NaN       NaN  NaN    NaN  ... -0.021082  NaN   \n",
       "1996-01-05 01:00:00       NaN       NaN  NaN    NaN  ... -0.011236  NaN   \n",
       "1996-01-08 01:00:00       NaN       NaN  NaN    NaN  ... -0.001894  NaN   \n",
       "...                       ...       ...  ...    ...  ...       ...  ...   \n",
       "2021-08-02 02:00:00 -0.007309  0.004584  NaN    NaN  ...       NaN  NaN   \n",
       "2021-08-03 02:00:00  0.006929  0.007985  NaN    NaN  ...       NaN  NaN   \n",
       "2021-08-04 02:00:00 -0.010065  0.014874  NaN    NaN  ...       NaN  NaN   \n",
       "2021-08-05 02:00:00  0.000348 -0.029152  NaN    NaN  ...       NaN  NaN   \n",
       "2021-08-06 02:00:00 -0.005820 -0.010255  NaN    NaN  ...       NaN  NaN   \n",
       "\n",
       "                          XYL  YNR  YRCW       YUM       ZBH      ZBRA  \\\n",
       "1996-01-02 01:00:00       NaN  NaN   NaN       NaN       NaN       NaN   \n",
       "1996-01-03 01:00:00       NaN  NaN   NaN       NaN       NaN       NaN   \n",
       "1996-01-04 01:00:00       NaN  NaN   NaN       NaN       NaN       NaN   \n",
       "1996-01-05 01:00:00       NaN  NaN   NaN       NaN       NaN       NaN   \n",
       "1996-01-08 01:00:00       NaN  NaN   NaN       NaN       NaN       NaN   \n",
       "...                       ...  ...   ...       ...       ...       ...   \n",
       "2021-08-02 02:00:00 -0.001669  NaN   NaN  0.007611 -0.002509 -0.002733   \n",
       "2021-08-03 02:00:00  0.018227  NaN   NaN  0.007780 -0.057052 -0.007677   \n",
       "2021-08-04 02:00:00 -0.009927  NaN   NaN  0.000750 -0.035652  0.024253   \n",
       "2021-08-05 02:00:00  0.006790  NaN   NaN  0.000899  0.013088  0.016464   \n",
       "2021-08-06 02:00:00  0.010038  NaN   NaN  0.002918 -0.007791 -0.012210   \n",
       "\n",
       "                         ZION       ZTS  \n",
       "1996-01-02 01:00:00       NaN       NaN  \n",
       "1996-01-03 01:00:00       NaN       NaN  \n",
       "1996-01-04 01:00:00       NaN       NaN  \n",
       "1996-01-05 01:00:00       NaN       NaN  \n",
       "1996-01-08 01:00:00       NaN       NaN  \n",
       "...                       ...       ...  \n",
       "2021-08-02 02:00:00 -0.009971 -0.002911  \n",
       "2021-08-03 02:00:00  0.021499  0.009846  \n",
       "2021-08-04 02:00:00 -0.009670  0.003381  \n",
       "2021-08-05 02:00:00  0.017040 -0.004639  \n",
       "2021-08-06 02:00:00  0.035203 -0.009615  \n",
       "\n",
       "[6451 rows x 1110 columns]"
      ]
     },
     "execution_count": 36,
     "metadata": {},
     "output_type": "execute_result"
    }
   ],
   "source": [
    "rets.index = pd.to_datetime([datetime.fromtimestamp(x // 1000000000).strftime('%Y-%m-%d %H:%M:%S') for x in dates])\n",
    "rets"
   ]
  },
  {
   "cell_type": "markdown",
   "metadata": {},
   "source": [
    "# Sanity Check\n",
    "\n",
    "Let's verify that the dates are indexed correctly and do a sanity check to ensure the returns are also aligned correctly. "
   ]
  },
  {
   "cell_type": "code",
   "execution_count": 37,
   "metadata": {},
   "outputs": [
    {
     "data": {
      "text/plain": [
       "1996-01-02 01:00:00    0.007843\n",
       "1996-01-03 01:00:00    0.000000\n",
       "1996-01-04 01:00:00   -0.017508\n",
       "1996-01-05 01:00:00    0.085150\n",
       "1996-01-08 01:00:00    0.010948\n",
       "Name: AAPL, dtype: float64"
      ]
     },
     "execution_count": 37,
     "metadata": {},
     "output_type": "execute_result"
    }
   ],
   "source": [
    "sample = rets.loc[:,'AAPL']\n",
    "sample.head()"
   ]
  },
  {
   "cell_type": "code",
   "execution_count": 38,
   "metadata": {},
   "outputs": [
    {
     "data": {
      "text/html": [
       "<div>\n",
       "<style scoped>\n",
       "    .dataframe tbody tr th:only-of-type {\n",
       "        vertical-align: middle;\n",
       "    }\n",
       "\n",
       "    .dataframe tbody tr th {\n",
       "        vertical-align: top;\n",
       "    }\n",
       "\n",
       "    .dataframe thead th {\n",
       "        text-align: right;\n",
       "    }\n",
       "</style>\n",
       "<table border=\"1\" class=\"dataframe\">\n",
       "  <thead>\n",
       "    <tr style=\"text-align: right;\">\n",
       "      <th></th>\n",
       "      <th>Open</th>\n",
       "      <th>High</th>\n",
       "      <th>Low</th>\n",
       "      <th>Close</th>\n",
       "      <th>Volume</th>\n",
       "      <th>Dividends</th>\n",
       "      <th>Stock Splits</th>\n",
       "    </tr>\n",
       "    <tr>\n",
       "      <th>Date</th>\n",
       "      <th></th>\n",
       "      <th></th>\n",
       "      <th></th>\n",
       "      <th></th>\n",
       "      <th></th>\n",
       "      <th></th>\n",
       "      <th></th>\n",
       "    </tr>\n",
       "  </thead>\n",
       "  <tbody>\n",
       "    <tr>\n",
       "      <th>1980-12-12</th>\n",
       "      <td>0.100600</td>\n",
       "      <td>0.101037</td>\n",
       "      <td>0.100600</td>\n",
       "      <td>0.100600</td>\n",
       "      <td>469033600</td>\n",
       "      <td>0.00</td>\n",
       "      <td>0.0</td>\n",
       "    </tr>\n",
       "    <tr>\n",
       "      <th>1980-12-15</th>\n",
       "      <td>0.095789</td>\n",
       "      <td>0.095789</td>\n",
       "      <td>0.095352</td>\n",
       "      <td>0.095352</td>\n",
       "      <td>175884800</td>\n",
       "      <td>0.00</td>\n",
       "      <td>0.0</td>\n",
       "    </tr>\n",
       "    <tr>\n",
       "      <th>1980-12-16</th>\n",
       "      <td>0.088790</td>\n",
       "      <td>0.088790</td>\n",
       "      <td>0.088353</td>\n",
       "      <td>0.088353</td>\n",
       "      <td>105728000</td>\n",
       "      <td>0.00</td>\n",
       "      <td>0.0</td>\n",
       "    </tr>\n",
       "    <tr>\n",
       "      <th>1980-12-17</th>\n",
       "      <td>0.090540</td>\n",
       "      <td>0.090977</td>\n",
       "      <td>0.090540</td>\n",
       "      <td>0.090540</td>\n",
       "      <td>86441600</td>\n",
       "      <td>0.00</td>\n",
       "      <td>0.0</td>\n",
       "    </tr>\n",
       "    <tr>\n",
       "      <th>1980-12-18</th>\n",
       "      <td>0.093165</td>\n",
       "      <td>0.093602</td>\n",
       "      <td>0.093165</td>\n",
       "      <td>0.093165</td>\n",
       "      <td>73449600</td>\n",
       "      <td>0.00</td>\n",
       "      <td>0.0</td>\n",
       "    </tr>\n",
       "    <tr>\n",
       "      <th>...</th>\n",
       "      <td>...</td>\n",
       "      <td>...</td>\n",
       "      <td>...</td>\n",
       "      <td>...</td>\n",
       "      <td>...</td>\n",
       "      <td>...</td>\n",
       "      <td>...</td>\n",
       "    </tr>\n",
       "    <tr>\n",
       "      <th>2021-08-03</th>\n",
       "      <td>145.591857</td>\n",
       "      <td>147.818517</td>\n",
       "      <td>144.962795</td>\n",
       "      <td>147.139542</td>\n",
       "      <td>64786600</td>\n",
       "      <td>0.00</td>\n",
       "      <td>0.0</td>\n",
       "    </tr>\n",
       "    <tr>\n",
       "      <th>2021-08-04</th>\n",
       "      <td>147.049692</td>\n",
       "      <td>147.568903</td>\n",
       "      <td>146.061168</td>\n",
       "      <td>146.730164</td>\n",
       "      <td>56368300</td>\n",
       "      <td>0.00</td>\n",
       "      <td>0.0</td>\n",
       "    </tr>\n",
       "    <tr>\n",
       "      <th>2021-08-05</th>\n",
       "      <td>146.760114</td>\n",
       "      <td>147.618828</td>\n",
       "      <td>145.951328</td>\n",
       "      <td>146.839996</td>\n",
       "      <td>46397700</td>\n",
       "      <td>0.00</td>\n",
       "      <td>0.0</td>\n",
       "    </tr>\n",
       "    <tr>\n",
       "      <th>2021-08-06</th>\n",
       "      <td>146.350006</td>\n",
       "      <td>147.110001</td>\n",
       "      <td>145.630005</td>\n",
       "      <td>146.139999</td>\n",
       "      <td>54067400</td>\n",
       "      <td>0.22</td>\n",
       "      <td>0.0</td>\n",
       "    </tr>\n",
       "    <tr>\n",
       "      <th>2021-08-09</th>\n",
       "      <td>146.199997</td>\n",
       "      <td>146.699997</td>\n",
       "      <td>145.520004</td>\n",
       "      <td>146.089996</td>\n",
       "      <td>48853100</td>\n",
       "      <td>0.00</td>\n",
       "      <td>0.0</td>\n",
       "    </tr>\n",
       "  </tbody>\n",
       "</table>\n",
       "<p>10251 rows × 7 columns</p>\n",
       "</div>"
      ],
      "text/plain": [
       "                  Open        High         Low       Close     Volume  \\\n",
       "Date                                                                    \n",
       "1980-12-12    0.100600    0.101037    0.100600    0.100600  469033600   \n",
       "1980-12-15    0.095789    0.095789    0.095352    0.095352  175884800   \n",
       "1980-12-16    0.088790    0.088790    0.088353    0.088353  105728000   \n",
       "1980-12-17    0.090540    0.090977    0.090540    0.090540   86441600   \n",
       "1980-12-18    0.093165    0.093602    0.093165    0.093165   73449600   \n",
       "...                ...         ...         ...         ...        ...   \n",
       "2021-08-03  145.591857  147.818517  144.962795  147.139542   64786600   \n",
       "2021-08-04  147.049692  147.568903  146.061168  146.730164   56368300   \n",
       "2021-08-05  146.760114  147.618828  145.951328  146.839996   46397700   \n",
       "2021-08-06  146.350006  147.110001  145.630005  146.139999   54067400   \n",
       "2021-08-09  146.199997  146.699997  145.520004  146.089996   48853100   \n",
       "\n",
       "            Dividends  Stock Splits  \n",
       "Date                                 \n",
       "1980-12-12       0.00           0.0  \n",
       "1980-12-15       0.00           0.0  \n",
       "1980-12-16       0.00           0.0  \n",
       "1980-12-17       0.00           0.0  \n",
       "1980-12-18       0.00           0.0  \n",
       "...               ...           ...  \n",
       "2021-08-03       0.00           0.0  \n",
       "2021-08-04       0.00           0.0  \n",
       "2021-08-05       0.00           0.0  \n",
       "2021-08-06       0.22           0.0  \n",
       "2021-08-09       0.00           0.0  \n",
       "\n",
       "[10251 rows x 7 columns]"
      ]
     },
     "execution_count": 38,
     "metadata": {},
     "output_type": "execute_result"
    }
   ],
   "source": [
    "sanity_check = yf.Ticker('AAPL').history(period=\"max\")\n",
    "sanity_check"
   ]
  },
  {
   "cell_type": "code",
   "execution_count": 39,
   "metadata": {},
   "outputs": [
    {
     "data": {
      "text/plain": [
       "Date\n",
       "1996-01-02         NaN\n",
       "1996-01-03    0.000000\n",
       "1996-01-04   -0.017508\n",
       "1996-01-05    0.085150\n",
       "1996-01-08    0.010948\n",
       "                ...   \n",
       "2021-08-03    0.012644\n",
       "2021-08-04   -0.002782\n",
       "2021-08-05    0.000749\n",
       "2021-08-06   -0.004767\n",
       "2021-08-09   -0.000342\n",
       "Name: Close, Length: 6446, dtype: float64"
      ]
     },
     "execution_count": 39,
     "metadata": {},
     "output_type": "execute_result"
    }
   ],
   "source": [
    "sanity_check = sanity_check.loc['1996-01-02':,'Close'].pct_change()\n",
    "sanity_check"
   ]
  },
  {
   "cell_type": "code",
   "execution_count": 40,
   "metadata": {},
   "outputs": [
    {
     "data": {
      "text/plain": [
       "1996-01-02 01:00:00    0.007843\n",
       "1996-01-03 01:00:00    0.000000\n",
       "1996-01-04 01:00:00   -0.017508\n",
       "1996-01-05 01:00:00    0.085150\n",
       "1996-01-08 01:00:00    0.010948\n",
       "                         ...   \n",
       "2021-08-02 02:00:00   -0.002331\n",
       "2021-08-03 02:00:00    0.012644\n",
       "2021-08-04 02:00:00   -0.002782\n",
       "2021-08-05 02:00:00    0.000749\n",
       "2021-08-06 02:00:00   -0.004767\n",
       "Name: AAPL, Length: 6451, dtype: float64"
      ]
     },
     "execution_count": 40,
     "metadata": {},
     "output_type": "execute_result"
    }
   ],
   "source": [
    "sample"
   ]
  },
  {
   "cell_type": "markdown",
   "metadata": {},
   "source": [
    "Looks good!"
   ]
  },
  {
   "cell_type": "markdown",
   "metadata": {},
   "source": [
    "# Export the Data\n",
    "\n",
    "It is important to point out that the times in the df index are not correct, since these returns are calculated based on EOD close. At this point, I believe it is safe to export to a .csv now, but first I will fix this index:"
   ]
  },
  {
   "cell_type": "code",
   "execution_count": 41,
   "metadata": {},
   "outputs": [
    {
     "data": {
      "text/html": [
       "<div>\n",
       "<style scoped>\n",
       "    .dataframe tbody tr th:only-of-type {\n",
       "        vertical-align: middle;\n",
       "    }\n",
       "\n",
       "    .dataframe tbody tr th {\n",
       "        vertical-align: top;\n",
       "    }\n",
       "\n",
       "    .dataframe thead th {\n",
       "        text-align: right;\n",
       "    }\n",
       "</style>\n",
       "<table border=\"1\" class=\"dataframe\">\n",
       "  <thead>\n",
       "    <tr style=\"text-align: right;\">\n",
       "      <th></th>\n",
       "      <th>A</th>\n",
       "      <th>AABA</th>\n",
       "      <th>AAL</th>\n",
       "      <th>AAMRQ</th>\n",
       "      <th>AAP</th>\n",
       "      <th>AAPL</th>\n",
       "      <th>ABBV</th>\n",
       "      <th>ABC</th>\n",
       "      <th>ABI</th>\n",
       "      <th>ABKFQ</th>\n",
       "      <th>...</th>\n",
       "      <th>XRX</th>\n",
       "      <th>XTO</th>\n",
       "      <th>XYL</th>\n",
       "      <th>YNR</th>\n",
       "      <th>YRCW</th>\n",
       "      <th>YUM</th>\n",
       "      <th>ZBH</th>\n",
       "      <th>ZBRA</th>\n",
       "      <th>ZION</th>\n",
       "      <th>ZTS</th>\n",
       "    </tr>\n",
       "  </thead>\n",
       "  <tbody>\n",
       "    <tr>\n",
       "      <th>1996-01-02</th>\n",
       "      <td>NaN</td>\n",
       "      <td>NaN</td>\n",
       "      <td>NaN</td>\n",
       "      <td>NaN</td>\n",
       "      <td>NaN</td>\n",
       "      <td>0.007843</td>\n",
       "      <td>NaN</td>\n",
       "      <td>NaN</td>\n",
       "      <td>NaN</td>\n",
       "      <td>NaN</td>\n",
       "      <td>...</td>\n",
       "      <td>-0.003650</td>\n",
       "      <td>NaN</td>\n",
       "      <td>NaN</td>\n",
       "      <td>NaN</td>\n",
       "      <td>NaN</td>\n",
       "      <td>NaN</td>\n",
       "      <td>NaN</td>\n",
       "      <td>NaN</td>\n",
       "      <td>NaN</td>\n",
       "      <td>NaN</td>\n",
       "    </tr>\n",
       "    <tr>\n",
       "      <th>1996-01-03</th>\n",
       "      <td>NaN</td>\n",
       "      <td>NaN</td>\n",
       "      <td>NaN</td>\n",
       "      <td>NaN</td>\n",
       "      <td>NaN</td>\n",
       "      <td>0.000000</td>\n",
       "      <td>NaN</td>\n",
       "      <td>NaN</td>\n",
       "      <td>NaN</td>\n",
       "      <td>NaN</td>\n",
       "      <td>...</td>\n",
       "      <td>-0.000915</td>\n",
       "      <td>NaN</td>\n",
       "      <td>NaN</td>\n",
       "      <td>NaN</td>\n",
       "      <td>NaN</td>\n",
       "      <td>NaN</td>\n",
       "      <td>NaN</td>\n",
       "      <td>NaN</td>\n",
       "      <td>NaN</td>\n",
       "      <td>NaN</td>\n",
       "    </tr>\n",
       "    <tr>\n",
       "      <th>1996-01-04</th>\n",
       "      <td>NaN</td>\n",
       "      <td>NaN</td>\n",
       "      <td>NaN</td>\n",
       "      <td>NaN</td>\n",
       "      <td>NaN</td>\n",
       "      <td>-0.017508</td>\n",
       "      <td>NaN</td>\n",
       "      <td>NaN</td>\n",
       "      <td>NaN</td>\n",
       "      <td>NaN</td>\n",
       "      <td>...</td>\n",
       "      <td>-0.021082</td>\n",
       "      <td>NaN</td>\n",
       "      <td>NaN</td>\n",
       "      <td>NaN</td>\n",
       "      <td>NaN</td>\n",
       "      <td>NaN</td>\n",
       "      <td>NaN</td>\n",
       "      <td>NaN</td>\n",
       "      <td>NaN</td>\n",
       "      <td>NaN</td>\n",
       "    </tr>\n",
       "    <tr>\n",
       "      <th>1996-01-05</th>\n",
       "      <td>NaN</td>\n",
       "      <td>NaN</td>\n",
       "      <td>NaN</td>\n",
       "      <td>NaN</td>\n",
       "      <td>NaN</td>\n",
       "      <td>0.085150</td>\n",
       "      <td>NaN</td>\n",
       "      <td>NaN</td>\n",
       "      <td>NaN</td>\n",
       "      <td>NaN</td>\n",
       "      <td>...</td>\n",
       "      <td>-0.011236</td>\n",
       "      <td>NaN</td>\n",
       "      <td>NaN</td>\n",
       "      <td>NaN</td>\n",
       "      <td>NaN</td>\n",
       "      <td>NaN</td>\n",
       "      <td>NaN</td>\n",
       "      <td>NaN</td>\n",
       "      <td>NaN</td>\n",
       "      <td>NaN</td>\n",
       "    </tr>\n",
       "    <tr>\n",
       "      <th>1996-01-08</th>\n",
       "      <td>NaN</td>\n",
       "      <td>NaN</td>\n",
       "      <td>NaN</td>\n",
       "      <td>NaN</td>\n",
       "      <td>NaN</td>\n",
       "      <td>0.010948</td>\n",
       "      <td>NaN</td>\n",
       "      <td>NaN</td>\n",
       "      <td>NaN</td>\n",
       "      <td>NaN</td>\n",
       "      <td>...</td>\n",
       "      <td>-0.001894</td>\n",
       "      <td>NaN</td>\n",
       "      <td>NaN</td>\n",
       "      <td>NaN</td>\n",
       "      <td>NaN</td>\n",
       "      <td>NaN</td>\n",
       "      <td>NaN</td>\n",
       "      <td>NaN</td>\n",
       "      <td>NaN</td>\n",
       "      <td>NaN</td>\n",
       "    </tr>\n",
       "    <tr>\n",
       "      <th>...</th>\n",
       "      <td>...</td>\n",
       "      <td>...</td>\n",
       "      <td>...</td>\n",
       "      <td>...</td>\n",
       "      <td>...</td>\n",
       "      <td>...</td>\n",
       "      <td>...</td>\n",
       "      <td>...</td>\n",
       "      <td>...</td>\n",
       "      <td>...</td>\n",
       "      <td>...</td>\n",
       "      <td>...</td>\n",
       "      <td>...</td>\n",
       "      <td>...</td>\n",
       "      <td>...</td>\n",
       "      <td>...</td>\n",
       "      <td>...</td>\n",
       "      <td>...</td>\n",
       "      <td>...</td>\n",
       "      <td>...</td>\n",
       "      <td>...</td>\n",
       "    </tr>\n",
       "    <tr>\n",
       "      <th>2021-08-02</th>\n",
       "      <td>-0.001044</td>\n",
       "      <td>NaN</td>\n",
       "      <td>-0.015702</td>\n",
       "      <td>NaN</td>\n",
       "      <td>0.003065</td>\n",
       "      <td>-0.002331</td>\n",
       "      <td>-0.007309</td>\n",
       "      <td>0.004584</td>\n",
       "      <td>NaN</td>\n",
       "      <td>NaN</td>\n",
       "      <td>...</td>\n",
       "      <td>NaN</td>\n",
       "      <td>NaN</td>\n",
       "      <td>-0.001669</td>\n",
       "      <td>NaN</td>\n",
       "      <td>NaN</td>\n",
       "      <td>0.007611</td>\n",
       "      <td>-0.002509</td>\n",
       "      <td>-0.002733</td>\n",
       "      <td>-0.009971</td>\n",
       "      <td>-0.002911</td>\n",
       "    </tr>\n",
       "    <tr>\n",
       "      <th>2021-08-03</th>\n",
       "      <td>0.005161</td>\n",
       "      <td>NaN</td>\n",
       "      <td>-0.005483</td>\n",
       "      <td>NaN</td>\n",
       "      <td>0.012646</td>\n",
       "      <td>0.012644</td>\n",
       "      <td>0.006929</td>\n",
       "      <td>0.007985</td>\n",
       "      <td>NaN</td>\n",
       "      <td>NaN</td>\n",
       "      <td>...</td>\n",
       "      <td>NaN</td>\n",
       "      <td>NaN</td>\n",
       "      <td>0.018227</td>\n",
       "      <td>NaN</td>\n",
       "      <td>NaN</td>\n",
       "      <td>0.007780</td>\n",
       "      <td>-0.057052</td>\n",
       "      <td>-0.007677</td>\n",
       "      <td>0.021499</td>\n",
       "      <td>0.009846</td>\n",
       "    </tr>\n",
       "    <tr>\n",
       "      <th>2021-08-04</th>\n",
       "      <td>0.002665</td>\n",
       "      <td>NaN</td>\n",
       "      <td>-0.025063</td>\n",
       "      <td>NaN</td>\n",
       "      <td>-0.026602</td>\n",
       "      <td>-0.002782</td>\n",
       "      <td>-0.010065</td>\n",
       "      <td>0.014874</td>\n",
       "      <td>NaN</td>\n",
       "      <td>NaN</td>\n",
       "      <td>...</td>\n",
       "      <td>NaN</td>\n",
       "      <td>NaN</td>\n",
       "      <td>-0.009927</td>\n",
       "      <td>NaN</td>\n",
       "      <td>NaN</td>\n",
       "      <td>0.000750</td>\n",
       "      <td>-0.035652</td>\n",
       "      <td>0.024253</td>\n",
       "      <td>-0.009670</td>\n",
       "      <td>0.003381</td>\n",
       "    </tr>\n",
       "    <tr>\n",
       "      <th>2021-08-05</th>\n",
       "      <td>0.004991</td>\n",
       "      <td>NaN</td>\n",
       "      <td>0.075064</td>\n",
       "      <td>NaN</td>\n",
       "      <td>-0.015882</td>\n",
       "      <td>0.000749</td>\n",
       "      <td>0.000348</td>\n",
       "      <td>-0.029152</td>\n",
       "      <td>NaN</td>\n",
       "      <td>NaN</td>\n",
       "      <td>...</td>\n",
       "      <td>NaN</td>\n",
       "      <td>NaN</td>\n",
       "      <td>0.006790</td>\n",
       "      <td>NaN</td>\n",
       "      <td>NaN</td>\n",
       "      <td>0.000899</td>\n",
       "      <td>0.013088</td>\n",
       "      <td>0.016464</td>\n",
       "      <td>0.017040</td>\n",
       "      <td>-0.004639</td>\n",
       "    </tr>\n",
       "    <tr>\n",
       "      <th>2021-08-06</th>\n",
       "      <td>0.004257</td>\n",
       "      <td>NaN</td>\n",
       "      <td>0.005261</td>\n",
       "      <td>NaN</td>\n",
       "      <td>-0.003005</td>\n",
       "      <td>-0.004767</td>\n",
       "      <td>-0.005820</td>\n",
       "      <td>-0.010255</td>\n",
       "      <td>NaN</td>\n",
       "      <td>NaN</td>\n",
       "      <td>...</td>\n",
       "      <td>NaN</td>\n",
       "      <td>NaN</td>\n",
       "      <td>0.010038</td>\n",
       "      <td>NaN</td>\n",
       "      <td>NaN</td>\n",
       "      <td>0.002918</td>\n",
       "      <td>-0.007791</td>\n",
       "      <td>-0.012210</td>\n",
       "      <td>0.035203</td>\n",
       "      <td>-0.009615</td>\n",
       "    </tr>\n",
       "  </tbody>\n",
       "</table>\n",
       "<p>6451 rows × 1110 columns</p>\n",
       "</div>"
      ],
      "text/plain": [
       "                   A  AABA       AAL  AAMRQ       AAP      AAPL      ABBV  \\\n",
       "1996-01-02       NaN   NaN       NaN    NaN       NaN  0.007843       NaN   \n",
       "1996-01-03       NaN   NaN       NaN    NaN       NaN  0.000000       NaN   \n",
       "1996-01-04       NaN   NaN       NaN    NaN       NaN -0.017508       NaN   \n",
       "1996-01-05       NaN   NaN       NaN    NaN       NaN  0.085150       NaN   \n",
       "1996-01-08       NaN   NaN       NaN    NaN       NaN  0.010948       NaN   \n",
       "...              ...   ...       ...    ...       ...       ...       ...   \n",
       "2021-08-02 -0.001044   NaN -0.015702    NaN  0.003065 -0.002331 -0.007309   \n",
       "2021-08-03  0.005161   NaN -0.005483    NaN  0.012646  0.012644  0.006929   \n",
       "2021-08-04  0.002665   NaN -0.025063    NaN -0.026602 -0.002782 -0.010065   \n",
       "2021-08-05  0.004991   NaN  0.075064    NaN -0.015882  0.000749  0.000348   \n",
       "2021-08-06  0.004257   NaN  0.005261    NaN -0.003005 -0.004767 -0.005820   \n",
       "\n",
       "                 ABC  ABI  ABKFQ  ...       XRX  XTO       XYL  YNR  YRCW  \\\n",
       "1996-01-02       NaN  NaN    NaN  ... -0.003650  NaN       NaN  NaN   NaN   \n",
       "1996-01-03       NaN  NaN    NaN  ... -0.000915  NaN       NaN  NaN   NaN   \n",
       "1996-01-04       NaN  NaN    NaN  ... -0.021082  NaN       NaN  NaN   NaN   \n",
       "1996-01-05       NaN  NaN    NaN  ... -0.011236  NaN       NaN  NaN   NaN   \n",
       "1996-01-08       NaN  NaN    NaN  ... -0.001894  NaN       NaN  NaN   NaN   \n",
       "...              ...  ...    ...  ...       ...  ...       ...  ...   ...   \n",
       "2021-08-02  0.004584  NaN    NaN  ...       NaN  NaN -0.001669  NaN   NaN   \n",
       "2021-08-03  0.007985  NaN    NaN  ...       NaN  NaN  0.018227  NaN   NaN   \n",
       "2021-08-04  0.014874  NaN    NaN  ...       NaN  NaN -0.009927  NaN   NaN   \n",
       "2021-08-05 -0.029152  NaN    NaN  ...       NaN  NaN  0.006790  NaN   NaN   \n",
       "2021-08-06 -0.010255  NaN    NaN  ...       NaN  NaN  0.010038  NaN   NaN   \n",
       "\n",
       "                 YUM       ZBH      ZBRA      ZION       ZTS  \n",
       "1996-01-02       NaN       NaN       NaN       NaN       NaN  \n",
       "1996-01-03       NaN       NaN       NaN       NaN       NaN  \n",
       "1996-01-04       NaN       NaN       NaN       NaN       NaN  \n",
       "1996-01-05       NaN       NaN       NaN       NaN       NaN  \n",
       "1996-01-08       NaN       NaN       NaN       NaN       NaN  \n",
       "...              ...       ...       ...       ...       ...  \n",
       "2021-08-02  0.007611 -0.002509 -0.002733 -0.009971 -0.002911  \n",
       "2021-08-03  0.007780 -0.057052 -0.007677  0.021499  0.009846  \n",
       "2021-08-04  0.000750 -0.035652  0.024253 -0.009670  0.003381  \n",
       "2021-08-05  0.000899  0.013088  0.016464  0.017040 -0.004639  \n",
       "2021-08-06  0.002918 -0.007791 -0.012210  0.035203 -0.009615  \n",
       "\n",
       "[6451 rows x 1110 columns]"
      ]
     },
     "execution_count": 41,
     "metadata": {},
     "output_type": "execute_result"
    }
   ],
   "source": [
    "rets.index = pd.to_datetime([datetime.fromtimestamp(x // 1000000000).strftime('%Y-%m-%d') for x in dates])\n",
    "rets"
   ]
  },
  {
   "cell_type": "code",
   "execution_count": 42,
   "metadata": {},
   "outputs": [],
   "source": [
    "# File too large for github!\n",
    "#rets.to_csv('1-returns.csv')"
   ]
  },
  {
   "cell_type": "code",
   "execution_count": 44,
   "metadata": {},
   "outputs": [],
   "source": [
    "rets.to_hdf('1-rets.h5','df',complevel=1,complib='bzip2')"
   ]
  },
  {
   "cell_type": "code",
   "execution_count": null,
   "metadata": {},
   "outputs": [],
   "source": []
  }
 ],
 "metadata": {
  "kernelspec": {
   "display_name": "Python 3",
   "language": "python",
   "name": "python3"
  },
  "language_info": {
   "codemirror_mode": {
    "name": "ipython",
    "version": 3
   },
   "file_extension": ".py",
   "mimetype": "text/x-python",
   "name": "python",
   "nbconvert_exporter": "python",
   "pygments_lexer": "ipython3",
   "version": "3.7.4"
  }
 },
 "nbformat": 4,
 "nbformat_minor": 2
}
