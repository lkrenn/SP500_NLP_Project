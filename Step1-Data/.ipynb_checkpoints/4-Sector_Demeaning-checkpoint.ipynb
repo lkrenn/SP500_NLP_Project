{
 "cells": [
  {
   "cell_type": "markdown",
   "metadata": {},
   "source": [
    "# Sector Demeaning\n",
    "\n",
    "In this notebook, I will be using the Item 1-Business Descriptions to cluster stocks. "
   ]
  },
  {
   "cell_type": "code",
   "execution_count": 18,
   "metadata": {},
   "outputs": [
    {
     "name": "stderr",
     "output_type": "stream",
     "text": [
      "[nltk_data] Downloading package stopwords to\n",
      "[nltk_data]     /Users/lucaskrenn/nltk_data...\n",
      "[nltk_data]   Package stopwords is already up-to-date!\n"
     ]
    }
   ],
   "source": [
    "import numpy as np\n",
    "import pandas as pd\n",
    "import pickle \n",
    "\n",
    "import nltk\n",
    "nltk.download('stopwords')\n",
    "from nltk.corpus import stopwords\n",
    "\n",
    "from string import punctuation\n",
    "from os import listdir\n",
    "from collections import Counter"
   ]
  },
  {
   "cell_type": "code",
   "execution_count": 11,
   "metadata": {},
   "outputs": [],
   "source": [
    "data = pd.read_pickle('8-link_dict.pickle')"
   ]
  },
  {
   "cell_type": "code",
   "execution_count": 16,
   "metadata": {},
   "outputs": [
    {
     "data": {
      "text/plain": [
       "'ITEM 1. BUSINESS Overview  American Airlines Group Inc. (AAG), a Delaware corporation, is a holding company and its principal, wholly-owned subsidiaries are American Airlines, Inc. (American), Envoy Aviation Group Inc. (Envoy), PSA Airlines, Inc. (PSA) and Piedmont Airlines, Inc. (Piedmont). AAG was formed in 1982 under the name AMR Corporation (AMR) as the parent company of American, which was founded in 1934.  AAG’s and American’s principal executive offices are  located at 1 Skyview Drive, Fort Worth, Texas 76155 and  their  telephone number  is 817-963- 1234.  Airline Operations Together with our wholly-owned regional airline subsidiaries and third-party regional carriers operating as American Eagle, our primary business activity  is the operation of a major network air carrier, providing scheduled air transportation for passengers and cargo through our hubs in Charlotte, Chicago, Dallas/Fort Worth,  Los Angeles, Miami,  New York,  Philadelphia,  Phoenix  and Washington,  D.C.  and  partner  gateways,  including  in  London, Madrid, Seattle/Tacoma, Sydney and Tokyo (among others).  Approximately 95 million passengers boarded our  flights  in 2020, a decrease  from approximately 215 million passengers  in 2019. During 2020, we experienced an unprecedented decline in the demand for air travel due to the impact of coronavirus (COVID-19). COVID-19 has been declared a global health pandemic by the World Health Organization and has surfaced in nearly all regions of the world, which has driven the implementation of significant, government-imposed measures to prevent or reduce its spread, including travel restrictions, testing regimes, closing of borders, “stay at home” orders and business closures. While the length and severity of the reduction in demand due to the COVID-19 pandemic is uncertain, our business, operations and financial condition in 2020 was severely impacted.  As  of December  31,  2020, we  operated  855 mainline  aircraft  supported  by  our  regional  airline  subsidiaries  and  third-party  regional  carriers, which operated an additional 544 regional aircraft. See Part I, Item 2. Properties for further discussion on our mainline and regional aircraft and “Regional” below for further discussion on our regional operations.  American is a founding member of the  oneworld  Alliance, which brings together a global network of 13 world-class member airlines and their affiliates, working together to provide a superior and seamless travel experience. See below for further discussion on the oneworld Alliance and other agreements with domestic and international airlines.  See Part  II,  Item 7. Management’s Discussion and Analysis of Financial Condition and Results of Operations – “2020  Financial Overview,”  “AAG’s Results  of  Operations”  and “American’s  Results  of  Operations”   for  further  discussion  of  AAG’s  and  American’s  operating  results  and  operating performance. Also,  see  Note  14  to AAG’s  Consolidated  Financial  Statements  in  Part  II,  Item  8A  and  Note  12  to American’s  Consolidated  Financial Statements in Part II, Item 8B for information regarding operating segments and see Note 1(l) to each of AAG’s and American’s Consolidated Financial Statements in Part II, Items 8A and 8B, respectively, for passenger revenue by geographic region.  Regional Our regional carriers provide scheduled air  transportation under  the brand name “American Eagle.” The American Eagle carriers  include our wholly-  owned regional carriers Envoy, PSA and Piedmont, as well as third-party regional carriers including Republic Airways Inc. (Republic), SkyWest Airlines, Inc.  (SkyWest),  and  Mesa Airlines,  Inc.  (Mesa).  In  addition,  Compass Airlines,  LLC  operated  regional  jet  aircraft  for  us  during  2020;  however,  this arrangement ended in April 2020. Our regional carriers are an integral component of our operating network. We rely heavily on regional carriers to drive feeder traffic to our hubs from low-density markets that are not economical for us to serve with larger, mainline aircraft. In addition, regional carriers offer complementary service in many of our mainline markets. All American Eagle carriers use logos, service marks, aircraft paint schemes and uniforms similar to  those of our mainline operations.  In 2020, approximately 30 million passengers boarded our  regional  carriers’  planes, approximately 48% of whom connected to or from our mainline flights, a decrease from approximately 59 million passengers in 2019, due to the effects of the COVID-19 pandemic.  ®  7    Table of Contents  Substantially all of our regional carrier arrangements are in the form of capacity purchase agreements. The capacity purchase agreements provide that all  revenues,  including passenger,  in-flight, ancillary, mail and  freight  revenues, go  to us. We control marketing, scheduling,  ticketing, pricing and seat inventories. In return, we agree to pay predetermined fees to these airl'"
      ]
     },
     "execution_count": 16,
     "metadata": {},
     "output_type": "execute_result"
    }
   ],
   "source": [
    "sample = data['0000006201']['Item1'][49]\n",
    "sample[:5000]"
   ]
  },
  {
   "cell_type": "markdown",
   "metadata": {},
   "source": [
    "We can borrow a similar idea to the cosine distances to assign each entry to a vector"
   ]
  },
  {
   "cell_type": "code",
   "execution_count": 40,
   "metadata": {},
   "outputs": [],
   "source": [
    "tokens = sample.split()\n",
    "# remove punctuation from each token\n",
    "table = str.maketrans('', '', punctuation)\n",
    "tokens = [w.translate(table) for w in tokens]\n",
    "# remove remaining tokens that are not alphabetic\n",
    "tokens = [word for word in tokens if word.isalpha()]\n",
    "# filter out stop words\n",
    "stop_words = set(stopwords.words('english'))\n",
    "tokens = [w for w in tokens if not w in stop_words]\n",
    "# filter out short tokens\n",
    "tokens1 = [word for word in tokens if len(word) > 1]"
   ]
  },
  {
   "cell_type": "code",
   "execution_count": 41,
   "metadata": {},
   "outputs": [
    {
     "data": {
      "text/plain": [
       "['ITEM',\n",
       " 'BUSINESS',\n",
       " 'Overview',\n",
       " 'American',\n",
       " 'Airlines',\n",
       " 'Group',\n",
       " 'Inc',\n",
       " 'AAG',\n",
       " 'Delaware',\n",
       " 'corporation',\n",
       " 'holding',\n",
       " 'company',\n",
       " 'principal',\n",
       " 'whollyowned',\n",
       " 'subsidiaries',\n",
       " 'American',\n",
       " 'Airlines',\n",
       " 'Inc',\n",
       " 'American',\n",
       " 'Envoy']"
      ]
     },
     "execution_count": 41,
     "metadata": {},
     "output_type": "execute_result"
    }
   ],
   "source": [
    "tokens1[:20]"
   ]
  },
  {
   "cell_type": "code",
   "execution_count": 42,
   "metadata": {},
   "outputs": [
    {
     "data": {
      "text/plain": [
       "'ITEM 1. BUSINESS  Overview      American Homes 4 Rent (“AH4R”) is an internally managed Maryland real estate investment trust (“REIT”) formed on October 19, 2012. American Homes 4 Rent, L.P., a Delaware limited partnership formed on October 22, 2012, and its consolidated subsidiaries (collectively, the “Operating Partnership,” our “operating partnership” or the “OP”) is the entity through which the Company conducts substantially all of our business and owns, directly or through subsidiaries, substantially all of our assets. References to the “Company,” “we,” “our,” and “us” mean collectively, AH4R, the Operating Partnership and those entities/subsidiaries owned or controlled by AH4R and/or the Operating Partnership. We are focused on acquiring, developing, renovating, leasing and operating single-family homes as rental properties. We commenced operations in November 2012.      AH4R is the general partner of, and as of December 31, 2020 owned approximately 85.9% of the common partnership interest in, the Operating Partnership. The remaining 14.1% of the common partnership interest was owned by limited partners. As the sole general partner of the Operating Partnership, AH4R has exclusive control of the Operating Partnership’s day-to-day management. The Company’s management operates AH4R and the Operating Partnership as one business, and the management of AH4R consists of the same members as the management of the Operating Partnership. AH4R’s primary function is acting as the general partner of the Operating Partnership. The only material asset of AH4R is its partnership interest in the Operating Partnership. As a result, AH4R generally does not conduct business itself, other than acting as the sole general partner of the Operating Partnership, issuing equity from time to time and guaranteeing certain debt of the Operating Partnership. AH4R itself is not directly obligated under any indebtedness, but guarantees some of the debt of the Operating Partnership. The Operating Partnership owns substantially all of the assets of the Company, including the Company’s ownership interests in its joint ventures, either directly or through its subsidiaries, conducts the operations of the Company’s business and is structured as a limited partnership with no publicly traded equity. One difference between the Company and the Operating Partnership is $25.7 million of asset-backed securitization certificates issued by the Operating Partnership and purchased by AH4R. The asset-backed securitization certificates are recorded as an asset-backed securitization certificates receivable by the Company and as an amount due from affiliates by the Operating Partnership. AH4R contributes all net proceeds from its various equity offerings to the Operating Partnership. In return for those contributions, AH4R receives Operating Partnership units (“OP units”) equal to the number of shares it has issued in the equity offering. Based on the terms of the Agreement of Limited Partnership of the Operating Partnership, as amended, OP units can be exchanged for shares on a one-for-one basis. Except for net proceeds from equity issuances by AH4R, the Operating Partnership generates the capital required by the Company’s business through the Operating Partnership’s operations, by the Operating Partnership’s incurrence of indebtedness or through the issuance of OP units.      As of December 31, 2020, the Company held 53,584 single-family properties in selected sub-markets of metropolitan statistical areas (“MSAs”) within 22 states, including 711 properties classified as held for sale, and 51,271, or 97.0%, of our total properties (excluding properties held for sale) were occupied. We have an integrated operating platform that consists of 1,447 personnel dedicated to property management, acquisitions, development, marketing, leasing, financial and administrative functions.      We believe we have become a leader in the single-family home rental industry by aggregating a geographically diversified portfolio of high-quality single-family homes and developing “American Homes 4 Rent” into a nationally recognized brand that is well-known for quality, value and tenant satisfaction and is well respected in our communities. Our investments may be made directly or through investment vehicles with third-party investors. We began adding newly constructed “built-for-rental” single-family properties to our portfolio in 2017 through our internal “AMH Development Program” and through acquisitions from third-party developers via our “National Builder Program.” Our objective is to generate attractive, risk-adjusted returns for our shareholders through dividends and capital appreciation.      We believe that we have been organized and operate in conformity with the requirements for qualification and taxation as a REIT under U.S. federal income tax laws for each of our taxable years commencing with our taxable year ended December 31, 2012, through the current taxable year '"
      ]
     },
     "execution_count": 42,
     "metadata": {},
     "output_type": "execute_result"
    }
   ],
   "source": [
    "sample2 = data['0001562401']['Item1'][49]\n",
    "sample2[:5000]"
   ]
  },
  {
   "cell_type": "code",
   "execution_count": 58,
   "metadata": {},
   "outputs": [],
   "source": [
    "tokens = sample2.split()\n",
    "# remove punctuation from each token\n",
    "table = str.maketrans('', '', punctuation)\n",
    "tokens = [w.translate(table) for w in tokens]\n",
    "# remove remaining tokens that are not alphabetic\n",
    "tokens = [word for word in tokens if word.isalpha()]\n",
    "# filter out stop words\n",
    "stop_words = set(stopwords.words('english'))\n",
    "tokens = [w for w in tokens if not w in stop_words]\n",
    "# filter out short tokens\n",
    "tokens2 = [word for word in tokens if len(word) > 1]"
   ]
  },
  {
   "cell_type": "code",
   "execution_count": 55,
   "metadata": {},
   "outputs": [],
   "source": [
    "allwords = list(set(tokens1) | set(tokens2))"
   ]
  },
  {
   "cell_type": "code",
   "execution_count": 56,
   "metadata": {},
   "outputs": [
    {
     "ename": "AttributeError",
     "evalue": "'list' object has no attribute 'isin'",
     "output_type": "error",
     "traceback": [
      "\u001b[0;31m---------------------------------------------------------------------------\u001b[0m",
      "\u001b[0;31mAttributeError\u001b[0m                            Traceback (most recent call last)",
      "\u001b[0;32m<ipython-input-56-caf5f456966f>\u001b[0m in \u001b[0;36m<module>\u001b[0;34m\u001b[0m\n\u001b[0;32m----> 1\u001b[0;31m \u001b[0mallwords\u001b[0m\u001b[0;34m.\u001b[0m\u001b[0misin\u001b[0m\u001b[0;34m(\u001b[0m\u001b[0mtokens1\u001b[0m\u001b[0;34m)\u001b[0m\u001b[0;34m\u001b[0m\u001b[0;34m\u001b[0m\u001b[0m\n\u001b[0m",
      "\u001b[0;31mAttributeError\u001b[0m: 'list' object has no attribute 'isin'"
     ]
    }
   ],
   "source": [
    "allwords.isin(tokens1)"
   ]
  },
  {
   "cell_type": "code",
   "execution_count": 57,
   "metadata": {},
   "outputs": [
    {
     "data": {
      "text/plain": [
       "2899"
      ]
     },
     "execution_count": 57,
     "metadata": {},
     "output_type": "execute_result"
    }
   ],
   "source": [
    "res = pd.Series(allwords).isin(pd.Series(tokens1))\n",
    "len(res)"
   ]
  },
  {
   "cell_type": "code",
   "execution_count": 59,
   "metadata": {},
   "outputs": [
    {
     "data": {
      "text/plain": [
       "2225"
      ]
     },
     "execution_count": 59,
     "metadata": {},
     "output_type": "execute_result"
    }
   ],
   "source": [
    "res.sum()"
   ]
  },
  {
   "cell_type": "code",
   "execution_count": 62,
   "metadata": {},
   "outputs": [],
   "source": [
    "# Stack all of the resumts\n",
    "res = pd.concat([data[x] for x in data.keys()])"
   ]
  },
  {
   "cell_type": "code",
   "execution_count": 66,
   "metadata": {},
   "outputs": [],
   "source": [
    "results = set()"
   ]
  },
  {
   "cell_type": "code",
   "execution_count": 74,
   "metadata": {},
   "outputs": [],
   "source": [
    "allwords = res['Item1'].fillna('').str.lower().str.split().apply(results.update)"
   ]
  },
  {
   "cell_type": "code",
   "execution_count": 75,
   "metadata": {},
   "outputs": [
    {
     "data": {
      "text/plain": [
       "8052"
      ]
     },
     "execution_count": 75,
     "metadata": {},
     "output_type": "execute_result"
    }
   ],
   "source": [
    "len(allwords)"
   ]
  },
  {
   "cell_type": "code",
   "execution_count": 100,
   "metadata": {},
   "outputs": [
    {
     "data": {
      "text/plain": [
       "[]"
      ]
     },
     "execution_count": 100,
     "metadata": {},
     "output_type": "execute_result"
    }
   ],
   "source": [
    "[x for x in allwords if x != None]"
   ]
  },
  {
   "cell_type": "code",
   "execution_count": 101,
   "metadata": {},
   "outputs": [
    {
     "data": {
      "text/plain": [
       "49     ITEM 1. BUSINESS Overview  American Airlines G...\n",
       "150    ITEM 1. BUSINESS Overview  American Airlines G...\n",
       "225    ITEM 1. BUSINESS Overview  American Airlines G...\n",
       "315    ITEM 1. BUSINESS Overview  American Airlines G...\n",
       "412    ITEM 1.  BUSINESS Overview American Airlines G...\n",
       "                             ...                        \n",
       "428                                                  NaN\n",
       "572                                                  NaN\n",
       "683                                                  NaN\n",
       "783                                                  NaN\n",
       "927                                                  NaN\n",
       "Name: Item1, Length: 8052, dtype: object"
      ]
     },
     "execution_count": 101,
     "metadata": {},
     "output_type": "execute_result"
    }
   ],
   "source": [
    "res['Item1']"
   ]
  },
  {
   "cell_type": "code",
   "execution_count": 102,
   "metadata": {},
   "outputs": [
    {
     "data": {
      "text/plain": [
       "49     None\n",
       "150    None\n",
       "225    None\n",
       "315    None\n",
       "412    None\n",
       "       ... \n",
       "428    None\n",
       "572    None\n",
       "683    None\n",
       "783    None\n",
       "927    None\n",
       "Name: Item1, Length: 8052, dtype: object"
      ]
     },
     "execution_count": 102,
     "metadata": {},
     "output_type": "execute_result"
    }
   ],
   "source": [
    "results = Counter()\n",
    "res['Item1'].fillna(' ').str.split().apply(results.update)"
   ]
  },
  {
   "cell_type": "code",
   "execution_count": 104,
   "metadata": {},
   "outputs": [],
   "source": [
    "allwords = list(results.keys())"
   ]
  },
  {
   "cell_type": "code",
   "execution_count": 105,
   "metadata": {},
   "outputs": [
    {
     "data": {
      "text/plain": [
       "['ITEM',\n",
       " '1.',\n",
       " 'BUSINESS',\n",
       " 'Overview',\n",
       " 'American',\n",
       " 'Airlines',\n",
       " 'Group',\n",
       " 'Inc.',\n",
       " '(AAG),',\n",
       " 'a',\n",
       " 'Delaware',\n",
       " 'corporation,',\n",
       " 'is',\n",
       " 'holding',\n",
       " 'company',\n",
       " 'and',\n",
       " 'its',\n",
       " 'principal,',\n",
       " 'wholly-owned',\n",
       " 'subsidiaries']"
      ]
     },
     "execution_count": 105,
     "metadata": {},
     "output_type": "execute_result"
    }
   ],
   "source": [
    "allwords[:20]"
   ]
  },
  {
   "cell_type": "code",
   "execution_count": 112,
   "metadata": {},
   "outputs": [
    {
     "data": {
      "text/plain": [
       "5254"
      ]
     },
     "execution_count": 112,
     "metadata": {},
     "output_type": "execute_result"
    }
   ],
   "source": [
    "[len(x) for x in res['Item1'].dropna()].count(0)"
   ]
  },
  {
   "cell_type": "code",
   "execution_count": null,
   "metadata": {},
   "outputs": [],
   "source": []
  }
 ],
 "metadata": {
  "kernelspec": {
   "display_name": "Python 3",
   "language": "python",
   "name": "python3"
  },
  "language_info": {
   "codemirror_mode": {
    "name": "ipython",
    "version": 3
   },
   "file_extension": ".py",
   "mimetype": "text/x-python",
   "name": "python",
   "nbconvert_exporter": "python",
   "pygments_lexer": "ipython3",
   "version": "3.7.4"
  }
 },
 "nbformat": 4,
 "nbformat_minor": 2
}
