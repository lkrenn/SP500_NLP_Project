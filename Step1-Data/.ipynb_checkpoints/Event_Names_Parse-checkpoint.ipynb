{
 "cells": [
  {
   "cell_type": "markdown",
   "metadata": {},
   "source": [
    "# Sector De-Meaning\n",
    "\n",
    "In this notebook, we will be clustering companies based on the entries in their Item 1 - Business sections of each 10-K document. "
   ]
  },
  {
   "cell_type": "code",
   "execution_count": 181,
   "metadata": {},
   "outputs": [
    {
     "name": "stdout",
     "output_type": "stream",
     "text": [
      "Requirement already satisfied: selenium in /Users/lucaskrenn/opt/anaconda3/lib/python3.7/site-packages (3.141.0)\r\n",
      "Requirement already satisfied: urllib3 in /Users/lucaskrenn/opt/anaconda3/lib/python3.7/site-packages (from selenium) (1.24.2)\r\n"
     ]
    }
   ],
   "source": [
    "!pip install selenium"
   ]
  },
  {
   "cell_type": "code",
   "execution_count": 182,
   "metadata": {},
   "outputs": [
    {
     "name": "stdout",
     "output_type": "stream",
     "text": [
      "Collecting requests_html\n",
      "  Downloading https://files.pythonhosted.org/packages/24/bc/a4380f09bab3a776182578ce6b2771e57259d0d4dbce178205779abdc347/requests_html-0.10.0-py3-none-any.whl\n",
      "Collecting parse (from requests_html)\n",
      "  Downloading https://files.pythonhosted.org/packages/89/a1/82ce536be577ba09d4dcee45db58423a180873ad38a2d014d26ab7b7cb8a/parse-1.19.0.tar.gz\n",
      "Collecting fake-useragent (from requests_html)\n",
      "  Downloading https://files.pythonhosted.org/packages/d1/79/af647635d6968e2deb57a208d309f6069d31cb138066d7e821e575112a80/fake-useragent-0.1.11.tar.gz\n",
      "Collecting w3lib (from requests_html)\n",
      "  Downloading https://files.pythonhosted.org/packages/a3/59/b6b14521090e7f42669cafdb84b0ab89301a42f1f1a82fcf5856661ea3a7/w3lib-1.22.0-py2.py3-none-any.whl\n",
      "Requirement already satisfied: bs4 in /Users/lucaskrenn/opt/anaconda3/lib/python3.7/site-packages (from requests_html) (0.0.1)\n",
      "Requirement already satisfied: requests in /Users/lucaskrenn/opt/anaconda3/lib/python3.7/site-packages (from requests_html) (2.22.0)\n",
      "Collecting pyppeteer>=0.0.14 (from requests_html)\n",
      "\u001b[?25l  Downloading https://files.pythonhosted.org/packages/ba/68/9b4a31277ec342730bf31ffe0f9dbf2d02411ba32438b142f3a111816804/pyppeteer-0.2.6-py3-none-any.whl (83kB)\n",
      "\u001b[K     |████████████████████████████████| 92kB 1.8MB/s eta 0:00:01\n",
      "\u001b[?25hCollecting pyquery (from requests_html)\n",
      "  Downloading https://files.pythonhosted.org/packages/58/0b/85d15e21f660a8ea68b1e0286168938857391f4ec9f6d204d91c9e013826/pyquery-1.4.3-py3-none-any.whl\n",
      "Requirement already satisfied: six>=1.4.1 in /Users/lucaskrenn/opt/anaconda3/lib/python3.7/site-packages (from w3lib->requests_html) (1.12.0)\n",
      "Requirement already satisfied: beautifulsoup4 in /Users/lucaskrenn/opt/anaconda3/lib/python3.7/site-packages (from bs4->requests_html) (4.8.0)\n",
      "Requirement already satisfied: idna<2.9,>=2.5 in /Users/lucaskrenn/opt/anaconda3/lib/python3.7/site-packages (from requests->requests_html) (2.8)\n",
      "Requirement already satisfied: urllib3!=1.25.0,!=1.25.1,<1.26,>=1.21.1 in /Users/lucaskrenn/opt/anaconda3/lib/python3.7/site-packages (from requests->requests_html) (1.24.2)\n",
      "Requirement already satisfied: certifi>=2017.4.17 in /Users/lucaskrenn/opt/anaconda3/lib/python3.7/site-packages (from requests->requests_html) (2021.5.30)\n",
      "Requirement already satisfied: chardet<3.1.0,>=3.0.2 in /Users/lucaskrenn/opt/anaconda3/lib/python3.7/site-packages (from requests->requests_html) (3.0.4)\n",
      "Collecting websockets<10.0,>=9.1 (from pyppeteer>=0.0.14->requests_html)\n",
      "\u001b[?25l  Downloading https://files.pythonhosted.org/packages/58/09/7dcd264c9db98d09799936e801ba4c2ddfd1eac8f3eb05e14b3091bd72e8/websockets-9.1-cp37-cp37m-macosx_10_9_x86_64.whl (88kB)\n",
      "\u001b[K     |████████████████████████████████| 92kB 1.7MB/s eta 0:00:01\n",
      "\u001b[?25hRequirement already satisfied: appdirs<2.0.0,>=1.4.3 in /Users/lucaskrenn/opt/anaconda3/lib/python3.7/site-packages (from pyppeteer>=0.0.14->requests_html) (1.4.4)\n",
      "Collecting importlib-metadata>=1.4 (from pyppeteer>=0.0.14->requests_html)\n",
      "  Downloading https://files.pythonhosted.org/packages/71/c2/cb1855f0b2a0ae9ccc9b69f150a7aebd4a8d815bd951e74621c4154c52a8/importlib_metadata-4.8.1-py3-none-any.whl\n",
      "Collecting pyee<9.0.0,>=8.1.0 (from pyppeteer>=0.0.14->requests_html)\n",
      "  Downloading https://files.pythonhosted.org/packages/56/37/29d137df23ed1d88d8dcee8a6b8e789d1162042f194b5ccd0a48f503429b/pyee-8.2.2-py2.py3-none-any.whl\n",
      "Requirement already satisfied: tqdm<5.0.0,>=4.42.1 in /Users/lucaskrenn/opt/anaconda3/lib/python3.7/site-packages (from pyppeteer>=0.0.14->requests_html) (4.62.1)\n",
      "Collecting cssselect>0.7.9 (from pyquery->requests_html)\n",
      "  Downloading https://files.pythonhosted.org/packages/3b/d4/3b5c17f00cce85b9a1e6f91096e1cc8e8ede2e1be8e96b87ce1ed09e92c5/cssselect-1.1.0-py2.py3-none-any.whl\n",
      "Requirement already satisfied: lxml>=2.1 in /Users/lucaskrenn/opt/anaconda3/lib/python3.7/site-packages (from pyquery->requests_html) (4.6.3)\n",
      "Requirement already satisfied: soupsieve>=1.2 in /Users/lucaskrenn/opt/anaconda3/lib/python3.7/site-packages (from beautifulsoup4->bs4->requests_html) (1.9.3)\n",
      "Requirement already satisfied: typing-extensions>=3.6.4; python_version < \"3.8\" in /Users/lucaskrenn/opt/anaconda3/lib/python3.7/site-packages (from importlib-metadata>=1.4->pyppeteer>=0.0.14->requests_html) (3.7.4.3)\n",
      "Requirement already satisfied: zipp>=0.5 in /Users/lucaskrenn/opt/anaconda3/lib/python3.7/site-packages (from importlib-metadata>=1.4->pyppeteer>=0.0.14->requests_html) (0.6.0)\n",
      "Requirement already satisfied: more-itertools in /Users/lucaskrenn/opt/anaconda3/lib/python3.7/site-packages (from zipp>=0.5->importlib-metadata>=1.4->pyppeteer>=0.0.14->requests_html) (5.0.0)\n",
      "Building wheels for collected packages: parse, fake-useragent\n",
      "  Building wheel for parse (setup.py) ... \u001b[?25ldone\n",
      "\u001b[?25h  Created wheel for parse: filename=parse-1.19.0-cp37-none-any.whl size=24582 sha256=75f1808cdafe0522a79766d91eb3e7459c1b7ec11c782f186c98115995e56522\n",
      "  Stored in directory: /Users/lucaskrenn/Library/Caches/pip/wheels/c0/39/ea/e2fd678bd130953f5438470b8dfa529f00787e9b8b92b27467\n",
      "  Building wheel for fake-useragent (setup.py) ... \u001b[?25ldone\n",
      "\u001b[?25h  Created wheel for fake-useragent: filename=fake_useragent-0.1.11-cp37-none-any.whl size=13485 sha256=2c27cfad89f0e1d053dbb5697676e0dc7fd47d6656c48458901437905616d61a\n",
      "  Stored in directory: /Users/lucaskrenn/Library/Caches/pip/wheels/5e/63/09/d1dc15179f175357d3f5c00cbffbac37f9e8690d80545143ff\n",
      "Successfully built parse fake-useragent\n",
      "\u001b[31mERROR: huggingface-hub 0.0.15 has requirement packaging>=20.9, but you'll have packaging 19.2 which is incompatible.\u001b[0m\n",
      "\u001b[31mERROR: pyppeteer 0.2.6 has requirement urllib3<2.0.0,>=1.25.8, but you'll have urllib3 1.24.2 which is incompatible.\u001b[0m\n",
      "Installing collected packages: parse, fake-useragent, w3lib, websockets, importlib-metadata, pyee, pyppeteer, cssselect, pyquery, requests-html\n",
      "  Found existing installation: websockets 8.1\n",
      "    Uninstalling websockets-8.1:\n",
      "      Successfully uninstalled websockets-8.1\n",
      "  Found existing installation: importlib-metadata 0.23\n",
      "    Uninstalling importlib-metadata-0.23:\n",
      "      Successfully uninstalled importlib-metadata-0.23\n",
      "Successfully installed cssselect-1.1.0 fake-useragent-0.1.11 importlib-metadata-4.8.1 parse-1.19.0 pyee-8.2.2 pyppeteer-0.2.6 pyquery-1.4.3 requests-html-0.10.0 w3lib-1.22.0 websockets-9.1\n"
     ]
    }
   ],
   "source": [
    "!pip install requests_html"
   ]
  },
  {
   "cell_type": "code",
   "execution_count": 2,
   "metadata": {},
   "outputs": [],
   "source": [
    "# Delete unused packages once idea is fully realized\n",
    "import numpy as np\n",
    "import pdfkit\n",
    "#import fpdf\n",
    "import pandas as pd\n",
    "import os\n",
    "import pickle\n",
    "import time\n",
    "import json\n",
    "import requests\n",
    "import re\n",
    "import urllib\n",
    "from bs4 import BeautifulSoup\n",
    "\n",
    "from pdf2image import convert_from_path, convert_from_bytes\n",
    "from pytesseract import pytesseract\n",
    "import layoutparser as lp\n",
    "import matplotlib.pyplot as plt\n",
    "import cv2 \n",
    "\n",
    "from datetime import datetime\n",
    "\n",
    "#import pytesseract\n",
    "from PIL import ImageEnhance, ImageFilter, Image\n",
    "\n",
    "import lxml.html\n",
    "\n"
   ]
  },
  {
   "cell_type": "code",
   "execution_count": 10,
   "metadata": {},
   "outputs": [],
   "source": [
    "from selenium import webdriver\n",
    "from selenium.webdriver.common.by import By\n",
    "from selenium.webdriver.common.keys import Keys\n",
    "from selenium.webdriver.support.ui import Select\n",
    "from selenium.webdriver.support.ui import WebDriverWait\n",
    "from selenium.common.exceptions import TimeoutException\n",
    "from selenium.webdriver.support import expected_conditions as EC\n",
    "from selenium.common.exceptions import NoSuchElementException\n",
    "from selenium.common.exceptions import NoAlertPresentException\n",
    "import sys\n",
    "\n",
    "import unittest, time, re"
   ]
  },
  {
   "cell_type": "code",
   "execution_count": 16,
   "metadata": {},
   "outputs": [],
   "source": [
    "driver = webdriver.Safari()\n",
    "driver.implicitly_wait(30)\n",
    "verificationErrors = []\n",
    "accept_next_alert = True"
   ]
  },
  {
   "cell_type": "code",
   "execution_count": 17,
   "metadata": {},
   "outputs": [],
   "source": [
    "driver.get(url)"
   ]
  },
  {
   "cell_type": "code",
   "execution_count": 18,
   "metadata": {},
   "outputs": [
    {
     "data": {
      "text/plain": [
       "[]"
      ]
     },
     "execution_count": 18,
     "metadata": {},
     "output_type": "execute_result"
    }
   ],
   "source": [
    "driver.find_elements()"
   ]
  },
  {
   "cell_type": "code",
   "execution_count": 20,
   "metadata": {},
   "outputs": [
    {
     "ename": "AttributeError",
     "evalue": "'WebDriver' object has no attribute 'findElements'",
     "output_type": "error",
     "traceback": [
      "\u001b[0;31m---------------------------------------------------------------------------\u001b[0m",
      "\u001b[0;31mAttributeError\u001b[0m                            Traceback (most recent call last)",
      "\u001b[0;32m<ipython-input-20-92bc77a3d348>\u001b[0m in \u001b[0;36m<module>\u001b[0;34m\u001b[0m\n\u001b[0;32m----> 1\u001b[0;31m \u001b[0mdriver\u001b[0m\u001b[0;34m.\u001b[0m\u001b[0mfindElements\u001b[0m\u001b[0;34m(\u001b[0m\u001b[0mBy\u001b[0m\u001b[0;34m.\u001b[0m\u001b[0mtagName\u001b[0m\u001b[0;34m(\u001b[0m\u001b[0;34m\"div\"\u001b[0m\u001b[0;34m)\u001b[0m\u001b[0;34m)\u001b[0m\u001b[0;34m\u001b[0m\u001b[0;34m\u001b[0m\u001b[0m\n\u001b[0m",
      "\u001b[0;31mAttributeError\u001b[0m: 'WebDriver' object has no attribute 'findElements'"
     ]
    }
   ],
   "source": [
    "driver.findElements(By.tagName(\"div\"))"
   ]
  },
  {
   "cell_type": "code",
   "execution_count": 29,
   "metadata": {},
   "outputs": [
    {
     "ename": "NoSuchElementException",
     "evalue": "Message: \n",
     "output_type": "error",
     "traceback": [
      "\u001b[0;31m---------------------------------------------------------------------------\u001b[0m",
      "\u001b[0;31mNoSuchElementException\u001b[0m                    Traceback (most recent call last)",
      "\u001b[0;32m<ipython-input-29-1e2e01dddea9>\u001b[0m in \u001b[0;36m<module>\u001b[0;34m\u001b[0m\n\u001b[1;32m      6\u001b[0m \u001b[0mdriver\u001b[0m\u001b[0;34m.\u001b[0m\u001b[0mget\u001b[0m\u001b[0;34m(\u001b[0m\u001b[0murl\u001b[0m\u001b[0;34m)\u001b[0m\u001b[0;34m\u001b[0m\u001b[0;34m\u001b[0m\u001b[0m\n\u001b[1;32m      7\u001b[0m \u001b[0mtime\u001b[0m\u001b[0;34m.\u001b[0m\u001b[0msleep\u001b[0m\u001b[0;34m(\u001b[0m\u001b[0;36m60\u001b[0m\u001b[0;34m)\u001b[0m  \u001b[0;31m# Allow 2 seconds for the web page to open\u001b[0m\u001b[0;34m\u001b[0m\u001b[0;34m\u001b[0m\u001b[0m\n\u001b[0;32m----> 8\u001b[0;31m \u001b[0mdriver\u001b[0m\u001b[0;34m.\u001b[0m\u001b[0mfind_element_by_xpath\u001b[0m\u001b[0;34m(\u001b[0m\u001b[0;34m'//*[@id=\"uc-btn-accept-banner\"]'\u001b[0m\u001b[0;34m)\u001b[0m\u001b[0;34m.\u001b[0m\u001b[0mclick\u001b[0m\u001b[0;34m(\u001b[0m\u001b[0;34m)\u001b[0m\u001b[0;34m\u001b[0m\u001b[0;34m\u001b[0m\u001b[0m\n\u001b[0m\u001b[1;32m      9\u001b[0m \u001b[0mscroll_pause_time\u001b[0m \u001b[0;34m=\u001b[0m \u001b[0;36m20\u001b[0m \u001b[0;31m# You can set your own pause time. My laptop is a bit slow so I use 1 sec\u001b[0m\u001b[0;34m\u001b[0m\u001b[0;34m\u001b[0m\u001b[0m\n\u001b[1;32m     10\u001b[0m \u001b[0mscreen_height\u001b[0m \u001b[0;34m=\u001b[0m \u001b[0mdriver\u001b[0m\u001b[0;34m.\u001b[0m\u001b[0mexecute_script\u001b[0m\u001b[0;34m(\u001b[0m\u001b[0;34m\"return window.screen.height;\"\u001b[0m\u001b[0;34m)\u001b[0m   \u001b[0;31m# get the screen height of the web\u001b[0m\u001b[0;34m\u001b[0m\u001b[0;34m\u001b[0m\u001b[0m\n",
      "\u001b[0;32m~/opt/anaconda3/lib/python3.7/site-packages/selenium/webdriver/remote/webdriver.py\u001b[0m in \u001b[0;36mfind_element_by_xpath\u001b[0;34m(self, xpath)\u001b[0m\n\u001b[1;32m    392\u001b[0m             \u001b[0melement\u001b[0m \u001b[0;34m=\u001b[0m \u001b[0mdriver\u001b[0m\u001b[0;34m.\u001b[0m\u001b[0mfind_element_by_xpath\u001b[0m\u001b[0;34m(\u001b[0m\u001b[0;34m'//div/td[1]'\u001b[0m\u001b[0;34m)\u001b[0m\u001b[0;34m\u001b[0m\u001b[0;34m\u001b[0m\u001b[0m\n\u001b[1;32m    393\u001b[0m         \"\"\"\n\u001b[0;32m--> 394\u001b[0;31m         \u001b[0;32mreturn\u001b[0m \u001b[0mself\u001b[0m\u001b[0;34m.\u001b[0m\u001b[0mfind_element\u001b[0m\u001b[0;34m(\u001b[0m\u001b[0mby\u001b[0m\u001b[0;34m=\u001b[0m\u001b[0mBy\u001b[0m\u001b[0;34m.\u001b[0m\u001b[0mXPATH\u001b[0m\u001b[0;34m,\u001b[0m \u001b[0mvalue\u001b[0m\u001b[0;34m=\u001b[0m\u001b[0mxpath\u001b[0m\u001b[0;34m)\u001b[0m\u001b[0;34m\u001b[0m\u001b[0;34m\u001b[0m\u001b[0m\n\u001b[0m\u001b[1;32m    395\u001b[0m \u001b[0;34m\u001b[0m\u001b[0m\n\u001b[1;32m    396\u001b[0m     \u001b[0;32mdef\u001b[0m \u001b[0mfind_elements_by_xpath\u001b[0m\u001b[0;34m(\u001b[0m\u001b[0mself\u001b[0m\u001b[0;34m,\u001b[0m \u001b[0mxpath\u001b[0m\u001b[0;34m)\u001b[0m\u001b[0;34m:\u001b[0m\u001b[0;34m\u001b[0m\u001b[0;34m\u001b[0m\u001b[0m\n",
      "\u001b[0;32m~/opt/anaconda3/lib/python3.7/site-packages/selenium/webdriver/remote/webdriver.py\u001b[0m in \u001b[0;36mfind_element\u001b[0;34m(self, by, value)\u001b[0m\n\u001b[1;32m    976\u001b[0m         return self.execute(Command.FIND_ELEMENT, {\n\u001b[1;32m    977\u001b[0m             \u001b[0;34m'using'\u001b[0m\u001b[0;34m:\u001b[0m \u001b[0mby\u001b[0m\u001b[0;34m,\u001b[0m\u001b[0;34m\u001b[0m\u001b[0;34m\u001b[0m\u001b[0m\n\u001b[0;32m--> 978\u001b[0;31m             'value': value})['value']\n\u001b[0m\u001b[1;32m    979\u001b[0m \u001b[0;34m\u001b[0m\u001b[0m\n\u001b[1;32m    980\u001b[0m     \u001b[0;32mdef\u001b[0m \u001b[0mfind_elements\u001b[0m\u001b[0;34m(\u001b[0m\u001b[0mself\u001b[0m\u001b[0;34m,\u001b[0m \u001b[0mby\u001b[0m\u001b[0;34m=\u001b[0m\u001b[0mBy\u001b[0m\u001b[0;34m.\u001b[0m\u001b[0mID\u001b[0m\u001b[0;34m,\u001b[0m \u001b[0mvalue\u001b[0m\u001b[0;34m=\u001b[0m\u001b[0;32mNone\u001b[0m\u001b[0;34m)\u001b[0m\u001b[0;34m:\u001b[0m\u001b[0;34m\u001b[0m\u001b[0;34m\u001b[0m\u001b[0m\n",
      "\u001b[0;32m~/opt/anaconda3/lib/python3.7/site-packages/selenium/webdriver/remote/webdriver.py\u001b[0m in \u001b[0;36mexecute\u001b[0;34m(self, driver_command, params)\u001b[0m\n\u001b[1;32m    319\u001b[0m         \u001b[0mresponse\u001b[0m \u001b[0;34m=\u001b[0m \u001b[0mself\u001b[0m\u001b[0;34m.\u001b[0m\u001b[0mcommand_executor\u001b[0m\u001b[0;34m.\u001b[0m\u001b[0mexecute\u001b[0m\u001b[0;34m(\u001b[0m\u001b[0mdriver_command\u001b[0m\u001b[0;34m,\u001b[0m \u001b[0mparams\u001b[0m\u001b[0;34m)\u001b[0m\u001b[0;34m\u001b[0m\u001b[0;34m\u001b[0m\u001b[0m\n\u001b[1;32m    320\u001b[0m         \u001b[0;32mif\u001b[0m \u001b[0mresponse\u001b[0m\u001b[0;34m:\u001b[0m\u001b[0;34m\u001b[0m\u001b[0;34m\u001b[0m\u001b[0m\n\u001b[0;32m--> 321\u001b[0;31m             \u001b[0mself\u001b[0m\u001b[0;34m.\u001b[0m\u001b[0merror_handler\u001b[0m\u001b[0;34m.\u001b[0m\u001b[0mcheck_response\u001b[0m\u001b[0;34m(\u001b[0m\u001b[0mresponse\u001b[0m\u001b[0;34m)\u001b[0m\u001b[0;34m\u001b[0m\u001b[0;34m\u001b[0m\u001b[0m\n\u001b[0m\u001b[1;32m    322\u001b[0m             response['value'] = self._unwrap_value(\n\u001b[1;32m    323\u001b[0m                 response.get('value', None))\n",
      "\u001b[0;32m~/opt/anaconda3/lib/python3.7/site-packages/selenium/webdriver/remote/errorhandler.py\u001b[0m in \u001b[0;36mcheck_response\u001b[0;34m(self, response)\u001b[0m\n\u001b[1;32m    240\u001b[0m                 \u001b[0malert_text\u001b[0m \u001b[0;34m=\u001b[0m \u001b[0mvalue\u001b[0m\u001b[0;34m[\u001b[0m\u001b[0;34m'alert'\u001b[0m\u001b[0;34m]\u001b[0m\u001b[0;34m.\u001b[0m\u001b[0mget\u001b[0m\u001b[0;34m(\u001b[0m\u001b[0;34m'text'\u001b[0m\u001b[0;34m)\u001b[0m\u001b[0;34m\u001b[0m\u001b[0;34m\u001b[0m\u001b[0m\n\u001b[1;32m    241\u001b[0m             \u001b[0;32mraise\u001b[0m \u001b[0mexception_class\u001b[0m\u001b[0;34m(\u001b[0m\u001b[0mmessage\u001b[0m\u001b[0;34m,\u001b[0m \u001b[0mscreen\u001b[0m\u001b[0;34m,\u001b[0m \u001b[0mstacktrace\u001b[0m\u001b[0;34m,\u001b[0m \u001b[0malert_text\u001b[0m\u001b[0;34m)\u001b[0m\u001b[0;34m\u001b[0m\u001b[0;34m\u001b[0m\u001b[0m\n\u001b[0;32m--> 242\u001b[0;31m         \u001b[0;32mraise\u001b[0m \u001b[0mexception_class\u001b[0m\u001b[0;34m(\u001b[0m\u001b[0mmessage\u001b[0m\u001b[0;34m,\u001b[0m \u001b[0mscreen\u001b[0m\u001b[0;34m,\u001b[0m \u001b[0mstacktrace\u001b[0m\u001b[0;34m)\u001b[0m\u001b[0;34m\u001b[0m\u001b[0;34m\u001b[0m\u001b[0m\n\u001b[0m\u001b[1;32m    243\u001b[0m \u001b[0;34m\u001b[0m\u001b[0m\n\u001b[1;32m    244\u001b[0m     \u001b[0;32mdef\u001b[0m \u001b[0m_value_or_default\u001b[0m\u001b[0;34m(\u001b[0m\u001b[0mself\u001b[0m\u001b[0;34m,\u001b[0m \u001b[0mobj\u001b[0m\u001b[0;34m,\u001b[0m \u001b[0mkey\u001b[0m\u001b[0;34m,\u001b[0m \u001b[0mdefault\u001b[0m\u001b[0;34m)\u001b[0m\u001b[0;34m:\u001b[0m\u001b[0;34m\u001b[0m\u001b[0;34m\u001b[0m\u001b[0m\n",
      "\u001b[0;31mNoSuchElementException\u001b[0m: Message: \n"
     ]
    }
   ],
   "source": [
    "import time\n",
    "from selenium import webdriver\n",
    "\n",
    "# Web scrapper for infinite scrolling page \n",
    "driver = webdriver.Safari()\n",
    "driver.get(url)\n",
    "time.sleep(60)  # Allow 2 seconds for the web page to open\n",
    "driver.find_element_by_xpath('//*[@id=\"uc-btn-accept-banner\"]').click()\n",
    "scroll_pause_time = 20 # You can set your own pause time. My laptop is a bit slow so I use 1 sec\n",
    "screen_height = driver.execute_script(\"return window.screen.height;\")   # get the screen height of the web\n",
    "i = 1\n",
    "\n",
    "while True:\n",
    "    # scroll one screen height each time\n",
    "    driver.execute_script(\"window.scrollTo(0, {screen_height}*{i});\".format(screen_height=screen_height, i=i))  \n",
    "    i += 1\n",
    "    time.sleep(scroll_pause_time)\n",
    "    # update scroll height each time after scrolled, as the scroll height can change after we scrolled the page\n",
    "    scroll_height = driver.execute_script(\"return document.body.scrollHeight;\")  \n",
    "    # Break the loop when the height we need to scroll to is larger than the total scroll height\n",
    "    if (screen_height) * i > scroll_height:\n",
    "        break"
   ]
  },
  {
   "cell_type": "code",
   "execution_count": null,
   "metadata": {},
   "outputs": [],
   "source": [
    "print(\"done\")"
   ]
  },
  {
   "cell_type": "code",
   "execution_count": 198,
   "metadata": {},
   "outputs": [],
   "source": [
    "url = \"https://aidatasciencetradingfall.pathable.co/people#/?limit=15&searchByComparators[0]=%24eq&searchByDisjunctives[0]=false&searchByEncoding[0]&searchByFieldKeys[0]=membership.isVisible&searchByFields[0]=membership.isVisible&searchBySpecial[0]&searchByValues[0]=true&skip=311&sortByFields[0]=lastName&sortByFields[1]=title&sortByFields[2]=lastName&sortByOrders[0]=1&sortByOrders[1]=1&sortByOrders[2]=1&uid=BS8cwJQ26L3fED7Tq\""
   ]
  },
  {
   "cell_type": "code",
   "execution_count": 165,
   "metadata": {},
   "outputs": [],
   "source": [
    "driver = webdriver.Safari()\n",
    "driver.get(url)"
   ]
  },
  {
   "cell_type": "code",
   "execution_count": 130,
   "metadata": {},
   "outputs": [],
   "source": [
    "driver.find_element_by_id(\"cookie-accept-button\").click()"
   ]
  },
  {
   "cell_type": "code",
   "execution_count": 161,
   "metadata": {},
   "outputs": [],
   "source": [
    "elementName = driver.find_elements_by_class_name(\"flexcard_details\")"
   ]
  },
  {
   "cell_type": "code",
   "execution_count": 138,
   "metadata": {},
   "outputs": [
    {
     "data": {
      "text/plain": [
       "900"
      ]
     },
     "execution_count": 138,
     "metadata": {},
     "output_type": "execute_result"
    }
   ],
   "source": [
    "len(elementName)"
   ]
  },
  {
   "cell_type": "code",
   "execution_count": 140,
   "metadata": {},
   "outputs": [
    {
     "data": {
      "text/plain": [
       "900"
      ]
     },
     "execution_count": 140,
     "metadata": {},
     "output_type": "execute_result"
    }
   ],
   "source": [
    "len(set(elementName))"
   ]
  },
  {
   "cell_type": "code",
   "execution_count": 142,
   "metadata": {},
   "outputs": [
    {
     "data": {
      "text/plain": [
       "'Eric Davidson'"
      ]
     },
     "execution_count": 142,
     "metadata": {},
     "output_type": "execute_result"
    }
   ],
   "source": [
    "elementName[-1].find_element_by_class_name(\"flexcard_name\").text"
   ]
  },
  {
   "cell_type": "code",
   "execution_count": 76,
   "metadata": {},
   "outputs": [
    {
     "data": {
      "text/plain": [
       "'AnalyticsTrader'"
      ]
     },
     "execution_count": 76,
     "metadata": {},
     "output_type": "execute_result"
    }
   ],
   "source": [
    "elementName[0].find_element_by_class_name(\"flexcard_name\").text\n",
    "elementName[0].find_element_by_class_name(\"flexcard_company\").text\n",
    "elementName[0].find_element_by_class_name(\"flexcard_position\").text\n",
    "elementName[0].find_element_by_class_name(\"flexcard_role\").text"
   ]
  },
  {
   "cell_type": "code",
   "execution_count": 162,
   "metadata": {},
   "outputs": [],
   "source": [
    "names = [elementName[i].find_element_by_class_name(\"flexcard_name\").text for i in range(len(elementName))]"
   ]
  },
  {
   "cell_type": "code",
   "execution_count": 163,
   "metadata": {},
   "outputs": [
    {
     "data": {
      "text/plain": [
       "'⭐️Ram Dittakavi'"
      ]
     },
     "execution_count": 163,
     "metadata": {},
     "output_type": "execute_result"
    }
   ],
   "source": [
    "sorted(names)[-1]"
   ]
  },
  {
   "cell_type": "code",
   "execution_count": 144,
   "metadata": {},
   "outputs": [
    {
     "data": {
      "text/plain": [
       "False"
      ]
     },
     "execution_count": 144,
     "metadata": {},
     "output_type": "execute_result"
    }
   ],
   "source": [
    "'Michael Muhlbach' in names"
   ]
  },
  {
   "cell_type": "code",
   "execution_count": 48,
   "metadata": {},
   "outputs": [],
   "source": [
    "scroll_pause_time = 1 # You can set your own pause time. My laptop is a bit slow so I use 1 sec\n",
    "screen_height = driver.execute_script(\"return window.screen.height;\")   # get the screen height of the web\n",
    "i = 1"
   ]
  },
  {
   "cell_type": "code",
   "execution_count": 50,
   "metadata": {},
   "outputs": [
    {
     "name": "stdout",
     "output_type": "stream",
     "text": [
      "1050\n"
     ]
    }
   ],
   "source": [
    "print(screen_height)"
   ]
  },
  {
   "cell_type": "code",
   "execution_count": 45,
   "metadata": {},
   "outputs": [],
   "source": [
    "# scroll one screen height each time\n",
    "driver.execute_script(\"window.scrollTo(0, {screen_height}*{i});\".format(screen_height=screen_height, i=i))  \n",
    "i += 1\n",
    "time.sleep(scroll_pause_time)\n",
    "# update scroll height each time after scrolled, as the scroll height can change after we scrolled the page\n",
    "scroll_height = driver.execute_script(\"return document.body.scrollHeight;\")  \n",
    "# Break the loop when the height we nee"
   ]
  },
  {
   "cell_type": "code",
   "execution_count": 53,
   "metadata": {},
   "outputs": [],
   "source": [
    "driver.execute_script(\"window.scrollTo(0, {screen_height}*{i});\".format(screen_height=screen_height, i=3))  "
   ]
  },
  {
   "cell_type": "code",
   "execution_count": 79,
   "metadata": {},
   "outputs": [
    {
     "ename": "NoSuchElementException",
     "evalue": "Message: \n",
     "output_type": "error",
     "traceback": [
      "\u001b[0;31m---------------------------------------------------------------------------\u001b[0m",
      "\u001b[0;31mNoSuchElementException\u001b[0m                    Traceback (most recent call last)",
      "\u001b[0;32m<ipython-input-79-9cb4204ec83a>\u001b[0m in \u001b[0;36m<module>\u001b[0;34m\u001b[0m\n\u001b[0;32m----> 1\u001b[0;31m \u001b[0mdriver\u001b[0m\u001b[0;34m.\u001b[0m\u001b[0mfind_element_by_id\u001b[0m\u001b[0;34m(\u001b[0m\u001b[0;34m\"ant-notification-notice-close\"\u001b[0m\u001b[0;34m)\u001b[0m\u001b[0;34m.\u001b[0m\u001b[0mclick\u001b[0m\u001b[0;34m(\u001b[0m\u001b[0;34m)\u001b[0m\u001b[0;34m\u001b[0m\u001b[0;34m\u001b[0m\u001b[0m\n\u001b[0m",
      "\u001b[0;32m~/opt/anaconda3/lib/python3.7/site-packages/selenium/webdriver/remote/webdriver.py\u001b[0m in \u001b[0;36mfind_element_by_id\u001b[0;34m(self, id_)\u001b[0m\n\u001b[1;32m    358\u001b[0m             \u001b[0melement\u001b[0m \u001b[0;34m=\u001b[0m \u001b[0mdriver\u001b[0m\u001b[0;34m.\u001b[0m\u001b[0mfind_element_by_id\u001b[0m\u001b[0;34m(\u001b[0m\u001b[0;34m'foo'\u001b[0m\u001b[0;34m)\u001b[0m\u001b[0;34m\u001b[0m\u001b[0;34m\u001b[0m\u001b[0m\n\u001b[1;32m    359\u001b[0m         \"\"\"\n\u001b[0;32m--> 360\u001b[0;31m         \u001b[0;32mreturn\u001b[0m \u001b[0mself\u001b[0m\u001b[0;34m.\u001b[0m\u001b[0mfind_element\u001b[0m\u001b[0;34m(\u001b[0m\u001b[0mby\u001b[0m\u001b[0;34m=\u001b[0m\u001b[0mBy\u001b[0m\u001b[0;34m.\u001b[0m\u001b[0mID\u001b[0m\u001b[0;34m,\u001b[0m \u001b[0mvalue\u001b[0m\u001b[0;34m=\u001b[0m\u001b[0mid_\u001b[0m\u001b[0;34m)\u001b[0m\u001b[0;34m\u001b[0m\u001b[0;34m\u001b[0m\u001b[0m\n\u001b[0m\u001b[1;32m    361\u001b[0m \u001b[0;34m\u001b[0m\u001b[0m\n\u001b[1;32m    362\u001b[0m     \u001b[0;32mdef\u001b[0m \u001b[0mfind_elements_by_id\u001b[0m\u001b[0;34m(\u001b[0m\u001b[0mself\u001b[0m\u001b[0;34m,\u001b[0m \u001b[0mid_\u001b[0m\u001b[0;34m)\u001b[0m\u001b[0;34m:\u001b[0m\u001b[0;34m\u001b[0m\u001b[0;34m\u001b[0m\u001b[0m\n",
      "\u001b[0;32m~/opt/anaconda3/lib/python3.7/site-packages/selenium/webdriver/remote/webdriver.py\u001b[0m in \u001b[0;36mfind_element\u001b[0;34m(self, by, value)\u001b[0m\n\u001b[1;32m    976\u001b[0m         return self.execute(Command.FIND_ELEMENT, {\n\u001b[1;32m    977\u001b[0m             \u001b[0;34m'using'\u001b[0m\u001b[0;34m:\u001b[0m \u001b[0mby\u001b[0m\u001b[0;34m,\u001b[0m\u001b[0;34m\u001b[0m\u001b[0;34m\u001b[0m\u001b[0m\n\u001b[0;32m--> 978\u001b[0;31m             'value': value})['value']\n\u001b[0m\u001b[1;32m    979\u001b[0m \u001b[0;34m\u001b[0m\u001b[0m\n\u001b[1;32m    980\u001b[0m     \u001b[0;32mdef\u001b[0m \u001b[0mfind_elements\u001b[0m\u001b[0;34m(\u001b[0m\u001b[0mself\u001b[0m\u001b[0;34m,\u001b[0m \u001b[0mby\u001b[0m\u001b[0;34m=\u001b[0m\u001b[0mBy\u001b[0m\u001b[0;34m.\u001b[0m\u001b[0mID\u001b[0m\u001b[0;34m,\u001b[0m \u001b[0mvalue\u001b[0m\u001b[0;34m=\u001b[0m\u001b[0;32mNone\u001b[0m\u001b[0;34m)\u001b[0m\u001b[0;34m:\u001b[0m\u001b[0;34m\u001b[0m\u001b[0;34m\u001b[0m\u001b[0m\n",
      "\u001b[0;32m~/opt/anaconda3/lib/python3.7/site-packages/selenium/webdriver/remote/webdriver.py\u001b[0m in \u001b[0;36mexecute\u001b[0;34m(self, driver_command, params)\u001b[0m\n\u001b[1;32m    319\u001b[0m         \u001b[0mresponse\u001b[0m \u001b[0;34m=\u001b[0m \u001b[0mself\u001b[0m\u001b[0;34m.\u001b[0m\u001b[0mcommand_executor\u001b[0m\u001b[0;34m.\u001b[0m\u001b[0mexecute\u001b[0m\u001b[0;34m(\u001b[0m\u001b[0mdriver_command\u001b[0m\u001b[0;34m,\u001b[0m \u001b[0mparams\u001b[0m\u001b[0;34m)\u001b[0m\u001b[0;34m\u001b[0m\u001b[0;34m\u001b[0m\u001b[0m\n\u001b[1;32m    320\u001b[0m         \u001b[0;32mif\u001b[0m \u001b[0mresponse\u001b[0m\u001b[0;34m:\u001b[0m\u001b[0;34m\u001b[0m\u001b[0;34m\u001b[0m\u001b[0m\n\u001b[0;32m--> 321\u001b[0;31m             \u001b[0mself\u001b[0m\u001b[0;34m.\u001b[0m\u001b[0merror_handler\u001b[0m\u001b[0;34m.\u001b[0m\u001b[0mcheck_response\u001b[0m\u001b[0;34m(\u001b[0m\u001b[0mresponse\u001b[0m\u001b[0;34m)\u001b[0m\u001b[0;34m\u001b[0m\u001b[0;34m\u001b[0m\u001b[0m\n\u001b[0m\u001b[1;32m    322\u001b[0m             response['value'] = self._unwrap_value(\n\u001b[1;32m    323\u001b[0m                 response.get('value', None))\n",
      "\u001b[0;32m~/opt/anaconda3/lib/python3.7/site-packages/selenium/webdriver/remote/errorhandler.py\u001b[0m in \u001b[0;36mcheck_response\u001b[0;34m(self, response)\u001b[0m\n\u001b[1;32m    240\u001b[0m                 \u001b[0malert_text\u001b[0m \u001b[0;34m=\u001b[0m \u001b[0mvalue\u001b[0m\u001b[0;34m[\u001b[0m\u001b[0;34m'alert'\u001b[0m\u001b[0;34m]\u001b[0m\u001b[0;34m.\u001b[0m\u001b[0mget\u001b[0m\u001b[0;34m(\u001b[0m\u001b[0;34m'text'\u001b[0m\u001b[0;34m)\u001b[0m\u001b[0;34m\u001b[0m\u001b[0;34m\u001b[0m\u001b[0m\n\u001b[1;32m    241\u001b[0m             \u001b[0;32mraise\u001b[0m \u001b[0mexception_class\u001b[0m\u001b[0;34m(\u001b[0m\u001b[0mmessage\u001b[0m\u001b[0;34m,\u001b[0m \u001b[0mscreen\u001b[0m\u001b[0;34m,\u001b[0m \u001b[0mstacktrace\u001b[0m\u001b[0;34m,\u001b[0m \u001b[0malert_text\u001b[0m\u001b[0;34m)\u001b[0m\u001b[0;34m\u001b[0m\u001b[0;34m\u001b[0m\u001b[0m\n\u001b[0;32m--> 242\u001b[0;31m         \u001b[0;32mraise\u001b[0m \u001b[0mexception_class\u001b[0m\u001b[0;34m(\u001b[0m\u001b[0mmessage\u001b[0m\u001b[0;34m,\u001b[0m \u001b[0mscreen\u001b[0m\u001b[0;34m,\u001b[0m \u001b[0mstacktrace\u001b[0m\u001b[0;34m)\u001b[0m\u001b[0;34m\u001b[0m\u001b[0;34m\u001b[0m\u001b[0m\n\u001b[0m\u001b[1;32m    243\u001b[0m \u001b[0;34m\u001b[0m\u001b[0m\n\u001b[1;32m    244\u001b[0m     \u001b[0;32mdef\u001b[0m \u001b[0m_value_or_default\u001b[0m\u001b[0;34m(\u001b[0m\u001b[0mself\u001b[0m\u001b[0;34m,\u001b[0m \u001b[0mobj\u001b[0m\u001b[0;34m,\u001b[0m \u001b[0mkey\u001b[0m\u001b[0;34m,\u001b[0m \u001b[0mdefault\u001b[0m\u001b[0;34m)\u001b[0m\u001b[0;34m:\u001b[0m\u001b[0;34m\u001b[0m\u001b[0;34m\u001b[0m\u001b[0m\n",
      "\u001b[0;31mNoSuchElementException\u001b[0m: Message: \n"
     ]
    }
   ],
   "source": [
    "driver.find_element_by_id(\"ant-notification-notice-close\").click()"
   ]
  },
  {
   "cell_type": "code",
   "execution_count": 83,
   "metadata": {},
   "outputs": [],
   "source": [
    "driver.execute_script(\"window.scrollTo(0, {screen_height}*{i});\"\n",
    "                      .format(screen_height=screen_height, i=i))"
   ]
  },
  {
   "cell_type": "code",
   "execution_count": 87,
   "metadata": {},
   "outputs": [
    {
     "ename": "NoSuchElementException",
     "evalue": "Message: \n",
     "output_type": "error",
     "traceback": [
      "\u001b[0;31m---------------------------------------------------------------------------\u001b[0m",
      "\u001b[0;31mNoSuchElementException\u001b[0m                    Traceback (most recent call last)",
      "\u001b[0;32m<ipython-input-87-649713dd46da>\u001b[0m in \u001b[0;36m<module>\u001b[0;34m\u001b[0m\n\u001b[0;32m----> 1\u001b[0;31m \u001b[0mdriver\u001b[0m\u001b[0;34m.\u001b[0m\u001b[0mfind_element_by_id\u001b[0m\u001b[0;34m(\u001b[0m\u001b[0;34m\"INSERT_A_INPUT_BOX\"\u001b[0m\u001b[0;34m)\u001b[0m\u001b[0;34m.\u001b[0m\u001b[0msendKeys\u001b[0m\u001b[0;34m(\u001b[0m\u001b[0mKeys\u001b[0m\u001b[0;34m.\u001b[0m\u001b[0mPAGE_DOWN\u001b[0m\u001b[0;34m)\u001b[0m\u001b[0;34m;\u001b[0m\u001b[0;34m\u001b[0m\u001b[0;34m\u001b[0m\u001b[0m\n\u001b[0m",
      "\u001b[0;32m~/opt/anaconda3/lib/python3.7/site-packages/selenium/webdriver/remote/webdriver.py\u001b[0m in \u001b[0;36mfind_element_by_id\u001b[0;34m(self, id_)\u001b[0m\n\u001b[1;32m    358\u001b[0m             \u001b[0melement\u001b[0m \u001b[0;34m=\u001b[0m \u001b[0mdriver\u001b[0m\u001b[0;34m.\u001b[0m\u001b[0mfind_element_by_id\u001b[0m\u001b[0;34m(\u001b[0m\u001b[0;34m'foo'\u001b[0m\u001b[0;34m)\u001b[0m\u001b[0;34m\u001b[0m\u001b[0;34m\u001b[0m\u001b[0m\n\u001b[1;32m    359\u001b[0m         \"\"\"\n\u001b[0;32m--> 360\u001b[0;31m         \u001b[0;32mreturn\u001b[0m \u001b[0mself\u001b[0m\u001b[0;34m.\u001b[0m\u001b[0mfind_element\u001b[0m\u001b[0;34m(\u001b[0m\u001b[0mby\u001b[0m\u001b[0;34m=\u001b[0m\u001b[0mBy\u001b[0m\u001b[0;34m.\u001b[0m\u001b[0mID\u001b[0m\u001b[0;34m,\u001b[0m \u001b[0mvalue\u001b[0m\u001b[0;34m=\u001b[0m\u001b[0mid_\u001b[0m\u001b[0;34m)\u001b[0m\u001b[0;34m\u001b[0m\u001b[0;34m\u001b[0m\u001b[0m\n\u001b[0m\u001b[1;32m    361\u001b[0m \u001b[0;34m\u001b[0m\u001b[0m\n\u001b[1;32m    362\u001b[0m     \u001b[0;32mdef\u001b[0m \u001b[0mfind_elements_by_id\u001b[0m\u001b[0;34m(\u001b[0m\u001b[0mself\u001b[0m\u001b[0;34m,\u001b[0m \u001b[0mid_\u001b[0m\u001b[0;34m)\u001b[0m\u001b[0;34m:\u001b[0m\u001b[0;34m\u001b[0m\u001b[0;34m\u001b[0m\u001b[0m\n",
      "\u001b[0;32m~/opt/anaconda3/lib/python3.7/site-packages/selenium/webdriver/remote/webdriver.py\u001b[0m in \u001b[0;36mfind_element\u001b[0;34m(self, by, value)\u001b[0m\n\u001b[1;32m    976\u001b[0m         return self.execute(Command.FIND_ELEMENT, {\n\u001b[1;32m    977\u001b[0m             \u001b[0;34m'using'\u001b[0m\u001b[0;34m:\u001b[0m \u001b[0mby\u001b[0m\u001b[0;34m,\u001b[0m\u001b[0;34m\u001b[0m\u001b[0;34m\u001b[0m\u001b[0m\n\u001b[0;32m--> 978\u001b[0;31m             'value': value})['value']\n\u001b[0m\u001b[1;32m    979\u001b[0m \u001b[0;34m\u001b[0m\u001b[0m\n\u001b[1;32m    980\u001b[0m     \u001b[0;32mdef\u001b[0m \u001b[0mfind_elements\u001b[0m\u001b[0;34m(\u001b[0m\u001b[0mself\u001b[0m\u001b[0;34m,\u001b[0m \u001b[0mby\u001b[0m\u001b[0;34m=\u001b[0m\u001b[0mBy\u001b[0m\u001b[0;34m.\u001b[0m\u001b[0mID\u001b[0m\u001b[0;34m,\u001b[0m \u001b[0mvalue\u001b[0m\u001b[0;34m=\u001b[0m\u001b[0;32mNone\u001b[0m\u001b[0;34m)\u001b[0m\u001b[0;34m:\u001b[0m\u001b[0;34m\u001b[0m\u001b[0;34m\u001b[0m\u001b[0m\n",
      "\u001b[0;32m~/opt/anaconda3/lib/python3.7/site-packages/selenium/webdriver/remote/webdriver.py\u001b[0m in \u001b[0;36mexecute\u001b[0;34m(self, driver_command, params)\u001b[0m\n\u001b[1;32m    319\u001b[0m         \u001b[0mresponse\u001b[0m \u001b[0;34m=\u001b[0m \u001b[0mself\u001b[0m\u001b[0;34m.\u001b[0m\u001b[0mcommand_executor\u001b[0m\u001b[0;34m.\u001b[0m\u001b[0mexecute\u001b[0m\u001b[0;34m(\u001b[0m\u001b[0mdriver_command\u001b[0m\u001b[0;34m,\u001b[0m \u001b[0mparams\u001b[0m\u001b[0;34m)\u001b[0m\u001b[0;34m\u001b[0m\u001b[0;34m\u001b[0m\u001b[0m\n\u001b[1;32m    320\u001b[0m         \u001b[0;32mif\u001b[0m \u001b[0mresponse\u001b[0m\u001b[0;34m:\u001b[0m\u001b[0;34m\u001b[0m\u001b[0;34m\u001b[0m\u001b[0m\n\u001b[0;32m--> 321\u001b[0;31m             \u001b[0mself\u001b[0m\u001b[0;34m.\u001b[0m\u001b[0merror_handler\u001b[0m\u001b[0;34m.\u001b[0m\u001b[0mcheck_response\u001b[0m\u001b[0;34m(\u001b[0m\u001b[0mresponse\u001b[0m\u001b[0;34m)\u001b[0m\u001b[0;34m\u001b[0m\u001b[0;34m\u001b[0m\u001b[0m\n\u001b[0m\u001b[1;32m    322\u001b[0m             response['value'] = self._unwrap_value(\n\u001b[1;32m    323\u001b[0m                 response.get('value', None))\n",
      "\u001b[0;32m~/opt/anaconda3/lib/python3.7/site-packages/selenium/webdriver/remote/errorhandler.py\u001b[0m in \u001b[0;36mcheck_response\u001b[0;34m(self, response)\u001b[0m\n\u001b[1;32m    240\u001b[0m                 \u001b[0malert_text\u001b[0m \u001b[0;34m=\u001b[0m \u001b[0mvalue\u001b[0m\u001b[0;34m[\u001b[0m\u001b[0;34m'alert'\u001b[0m\u001b[0;34m]\u001b[0m\u001b[0;34m.\u001b[0m\u001b[0mget\u001b[0m\u001b[0;34m(\u001b[0m\u001b[0;34m'text'\u001b[0m\u001b[0;34m)\u001b[0m\u001b[0;34m\u001b[0m\u001b[0;34m\u001b[0m\u001b[0m\n\u001b[1;32m    241\u001b[0m             \u001b[0;32mraise\u001b[0m \u001b[0mexception_class\u001b[0m\u001b[0;34m(\u001b[0m\u001b[0mmessage\u001b[0m\u001b[0;34m,\u001b[0m \u001b[0mscreen\u001b[0m\u001b[0;34m,\u001b[0m \u001b[0mstacktrace\u001b[0m\u001b[0;34m,\u001b[0m \u001b[0malert_text\u001b[0m\u001b[0;34m)\u001b[0m\u001b[0;34m\u001b[0m\u001b[0;34m\u001b[0m\u001b[0m\n\u001b[0;32m--> 242\u001b[0;31m         \u001b[0;32mraise\u001b[0m \u001b[0mexception_class\u001b[0m\u001b[0;34m(\u001b[0m\u001b[0mmessage\u001b[0m\u001b[0;34m,\u001b[0m \u001b[0mscreen\u001b[0m\u001b[0;34m,\u001b[0m \u001b[0mstacktrace\u001b[0m\u001b[0;34m)\u001b[0m\u001b[0;34m\u001b[0m\u001b[0;34m\u001b[0m\u001b[0m\n\u001b[0m\u001b[1;32m    243\u001b[0m \u001b[0;34m\u001b[0m\u001b[0m\n\u001b[1;32m    244\u001b[0m     \u001b[0;32mdef\u001b[0m \u001b[0m_value_or_default\u001b[0m\u001b[0;34m(\u001b[0m\u001b[0mself\u001b[0m\u001b[0;34m,\u001b[0m \u001b[0mobj\u001b[0m\u001b[0;34m,\u001b[0m \u001b[0mkey\u001b[0m\u001b[0;34m,\u001b[0m \u001b[0mdefault\u001b[0m\u001b[0;34m)\u001b[0m\u001b[0;34m:\u001b[0m\u001b[0;34m\u001b[0m\u001b[0;34m\u001b[0m\u001b[0m\n",
      "\u001b[0;31mNoSuchElementException\u001b[0m: Message: \n"
     ]
    }
   ],
   "source": [
    "driver.find_element_by_id(\"INSERT_A_INPUT_BOX\").sendKeys(Keys.PAGE_DOWN);"
   ]
  },
  {
   "cell_type": "code",
   "execution_count": 166,
   "metadata": {},
   "outputs": [],
   "source": [
    "url = \"https://aidatasciencetradingfall.pathable.co/people#/?limit=20&searchByComparators[0]=%24eq&searchByDisjunctives[0]=false&searchByEncoding[0]&searchByFieldKeys[0]=membership.isVisible&searchByFields[0]=membership.isVisible&searchBySpecial[0]&searchByValues[0]=true&skip=136&sortByFields[0]=lastName&sortByFields[1]=title&sortByFields[2]=lastName&sortByOrders[0]=1&sortByOrders[1]=1&sortByOrders[2]=1&uid=BS8cwJQ26L3fED7Tq\""
   ]
  },
  {
   "cell_type": "code",
   "execution_count": 167,
   "metadata": {},
   "outputs": [],
   "source": [
    "# Used for the requests\n",
    "heads = {#'Host': 'www.sec.gov', \n",
    "         #'Connection': 'close',\n",
    "         #'Accept': 'application/json',#, text/javascript, */*; q=0.01', \n",
    "         'X-Requested-With': 'XMLHttpRequest',\n",
    "         'User-Agent': 'Mozilla/5.0 (Windows NT 10.0; Win64; x64) AppleWebKit/537.36 (KHTML, like Gecko) Chrome/80.0.3987.163 Safari/537.36',\n",
    "         }"
   ]
  },
  {
   "cell_type": "code",
   "execution_count": 178,
   "metadata": {},
   "outputs": [],
   "source": [
    "response = requests.get(url, headers=heads, timeout=(27, 27))"
   ]
  },
  {
   "cell_type": "code",
   "execution_count": 179,
   "metadata": {},
   "outputs": [
    {
     "data": {
      "text/plain": [
       "'<!DOCTYPE html>\\n<html>\\n<head>\\n  <link rel=\"stylesheet\" type=\"text/css\" class=\"__meteor-css__\" href=\"https://d1nr3bu1jcutjl.cloudfront.net/95f48d9140cda50bf82bddeaf9a779a4e4968d39.css?meteor_css_resource=true&amp;_g_app_v_=1036\" integrity=\"sha512-0kkWvRFaT5ayLDHqjnNkuKA1UxCrv8DCd1qVbETHcjG5if4c49q/2b9baHRfI6yQLOT8TUNNILHoaO9O2GTqzA==\" crossorigin=\"anonymous\">\\n<meta name=\"fragment\" content=\"!\">\\n<meta charset=\"utf-8\">\\n  <meta http-equiv=\"x-ua-compatible\" content=\"ie=edge\">\\n  <meta name=\"viewport\" content=\"width=device-width, height=device-height, viewport-fit=cover, initial-scale=1, maximum-scale=1, minimum-scale=1, user-scalable=no\">\\n  <meta name=\"mobile-web-app-capable\" content=\"yes\">\\n  <meta name=\"apple-mobile-web-app-capable\" content=\"yes\">\\n  <meta name=\"fragment\" content=\"!\">\\n  <link rel=\"manifest\" href=\"/pwa.json\">\\n\\n      <link rel=\"stylesheet\" type=\"text/css\" data-ssr=\"true\" href=\"https://dgjq7ns68i0j4.cloudfront.net/page-styles/2W3bKAFeo4K7Lx2zA/i3MHAzBXus9QENmQJ.css\" crossorigin=\"anonymous\">\\n      <script type=\"application/javascript\" src=\"https://dgjq7ns68i0j4.cloudfront.net/page-styles/2W3bKAFeo4K7Lx2zA/i3MHAzBXus9QENmQJ.js\"></script>\\n    <title>AI and Data Science in Trading 2021</title>\\n<meta property=\"og:title\" content=\"AI and Data Science in Trading 2021\">\\n<meta property=\"twitter:title\" content=\"AI and Data Science in Trading 2021\">\\n<meta property=\"description\" content=\"AI and Data Science in Trading 2021\">\\n<meta property=\"og:description\" content=\"AI and Data Science in Trading 2021\">\\n<meta property=\"og:image:alt\" content=\"AI and Data Science in Trading 2021\">\\n<meta property=\"twitter:description\" content=\"AI and Data Science in Trading 2021\">\\n<meta property=\"twitter:image:alt\" content=\"AI and Data Science in Trading 2021\">\\n<meta property=\"og:image\" content=\"https://cdn.filestackcontent.com/G79pjaNvTqi1Wq0XxgXw\">\\n<meta property=\"og:image:secure_url\" content=\"https://cdn.filestackcontent.com/G79pjaNvTqi1Wq0XxgXw\">\\n<meta property=\"twitter:image\" content=\"https://cdn.filestackcontent.com/G79pjaNvTqi1Wq0XxgXw\">\\n<meta name=\"twitter:card\" content=\"summary_large_image\">\\n<meta property=\"twitter:url\" content=\"https://aidatasciencetradingfall.pathable.co/people\">\\n<meta property=\"og:url\" content=\"https://aidatasciencetradingfall.pathable.co/people\">\\n<meta name=\"apple-mobile-web-app-title\" content=\"AI and Data Science in Trading 2021\">\\n<meta name=\"apple-mobile-web-app-status-bar-style\" content=\"default\">\\n<meta name=\"theme-color\" content=\"#22406b\">\\n<link rel=\"apple-touch-startup-image\" href=\"https://cdn.filestackcontent.com/G79pjaNvTqi1Wq0XxgXw\">\\n<link rel=\"apple-touch-icon\" href=\"https://cdn.filestackcontent.com/G79pjaNvTqi1Wq0XxgXw\">\\n<script src=\"https://d1nr3bu1jcutjl.cloudfront.net/initial-data.js?communityId=2W3bKAFeo4K7Lx2zA&siteId=m8Sepbs57EsAepEBF&version=12342&appVersion=1036\"></script>\\n\\n</head>\\n<body><div id=\"app\" style=\"display: none;\"></div>\\n    <script>(function(w,d,s){w._uptime_rum={};w._uptime_rum.uuid=\\'BVWA-5B681338A4FBCAA9\\';w._uptime_rum.url=\\'https://rum.uptime.com/rum/record-data\\';s=document.createElement(\\'script\\');s.async=1;s.src=\\'https://rum.uptime.com/static/rum/compiled/rum.js\\';d.getElementsByTagName(\\'head\\')[0].appendChild(s);})(window,document);</script>\\n    <script>var ENABLED_FEATURES = [\"MEETINGS\",\"MEETINGS_MESSAGES\",\"MEETINGS_IAV\",\"TRADE_SHOW\",\"ORGANIZATIONS\",\"FACILITIES\",\"ADVANCED_STYLES\",\"ADVANCED_PERMISSIONS\",\"NOTES\",\"SURVEYS\",\"MEETINGS_PRIVATE\",\"MEETINGS_VIDEO_UPLOAD\",\"LEAD_RETRIEVAL\",\"WANT_TO_MEET\",\"ORGANIZATION_MESSAGES\"];</script>\\n    <div id=\"static-app\" class=\"skeleton-animation\">\\n<style type=\"text/css\">\\n  .skeleton-animation{  position: fixed;left:0;top:0;background:white;overflow:hidden;width:100vw;height:100vh}\\n  @media (min-width: 1001px) {\\n    .small-screen-animation {\\n      display: none;\\n    }\\n    .skeleton-animation_header,.skeleton-animation_hero{display:flex;overflow:hidden;align-items:center;flex-direction:column;justify-content:center}.skeleton-animation_text{width:100%;height:10px;margin:0;border-radius:2px;background:#eee}.skeleton-animation_block,.skeleton-animation_header,.skeleton-animation_hero,.skeleton-shine{position:relative}.skeleton-animation_block:after,.skeleton-animation_header:after,.skeleton-animation_hero:after,.skeleton-shine:after{position:absolute;background-image:linear-gradient(90deg,transparent 0,#fff 50px,transparent 100px);z-index:10;top:0;left:-100px;width:100px;height:100%;content:\" \";opacity:.25}.skeleton-animation_header{flex-flow:row nowrap;justify-content:flex-end;height:60px;padding:0 30px;background-color:#999}.skeleton-animation_header .skeleton-animation_text{width:105px;margin-left:30px;background-color:#7a7a7a}.skeleton-animation_header .skeleton-animation_text.m-logo{margin-right:auto;justify-self:flex-start}.skeleton-animation_hero{height:300px;background-color:#ddd}.skeleton-animation_hero .skeleton-animation_text{width:200px;background-color:#b0b0b0}.skeleton-animation_hero .skeleton-animation_text.m-small{width:140px}.skeleton-animation_hero .skeleton-animation_text.m-large{width:400px}.skeleton-animation_hero .skeleton-animation_text+.skeleton-animation_text{margin-top:18px}.skeleton-animation_logos{display:flex;flex-flow:row nowrap;justify-content:space-between;width:1200px;margin:0 auto;padding:80px 0 20px}.skeleton-animation_logo{width:180px;height:30px;background-color:#d7d7d7;border-radius:3px}.skeleton-animation_list{display:flex;flex-flow:row nowrap;justify-content:space-between;width:1200px;margin:0 auto;padding:60px 0}.skeleton-animation_list-item{overflow:hidden;width:28%;text-align:center}.skeleton-animation_list-item .skeleton-animation_text{width:80%;margin:0 auto}.skeleton-animation_list-item .skeleton-animation_text.m-small{width:65%}.skeleton-animation_list-item .skeleton-animation_text+.skeleton-animation_text{margin-top:18px}.skeleton-animation_block{width:100%;height:180px;background-color:#d7d7d7;border-radius:3px;margin-bottom:32px}.skeleton-animation_header,.skeleton-animation_hero,.skeleton-animation_piece{transform:translate3d(0,2000px,0)}.skeleton-animation_header .skeleton-animation_text,.skeleton-animation_hero .skeleton-animation_text,.skeleton-animation_piece .skeleton-animation_text{transform:translate3d(0,500px,0);opacity:0}.skeleton-animation_header:after,.skeleton-animation_hero:after,.skeleton-shine-block:after{animation:skeletonShine 2.4s 5.4s infinite ease-out}.skeleton-animation_piece .skeleton-animation_block:after,.skeleton-shine-icon:after{animation:skeletonShine 2.4s 5.4s infinite ease-out}.skeleton-animation_header{animation:skeletonSlideBlocksIn .8s 0s 1 forwards}.skeleton-animation_header .skeleton-animation_text{animation:skeletonSlideTextIn .5s .5s 1 forwards,skeletonFadeTextIn .4s .8s 1 forwards}.skeleton-animation_hero{animation:skeletonSlideBlocksIn .8s 1.1s 1 forwards,shineBg 2.4s 5.4s infinite ease-out}.skeleton-animation_hero .skeleton-animation_text{animation:skeletonSlideTextIn .5s 1.6s 1 forwards,skeletonFadeTextIn .4s 1.9s 1 forwards}.skeleton-animation_hero .skeleton-animation_text+.skeleton-animation_text{animation:skeletonSlideTextIn .5s 1.7s 1 forwards,skeletonFadeTextIn .4s 2s 1 forwards}.skeleton-animation_piece{animation:skeletonSlideBlocksIn .8s 1 forwards}.skeleton-animation_piece .skeleton-animation_block:after{opacity:.5}.skeleton-animation_piece.one{animation-delay:1.6s}.skeleton-animation_piece.one .skeleton-animation_text{animation:skeletonSlideTextIn .5s 1.6s 1 forwards,skeletonFadeTextIn .4s 1.9s 1 forwards}.skeleton-animation_piece.one .skeleton-animation_text+.skeleton-animation_text{animation:skeletonSlideTextIn .5s 1.7s 1 forwards,skeletonFadeTextIn .4s 2s 1 forwards}.skeleton-animation_piece.two{animation-delay:2s}.skeleton-animation_piece.two .skeleton-animation_text{animation:skeletonSlideTextIn .5s 2.2s 1 forwards,skeletonFadeTextIn .4s 2.5s 1 forwards}.skeleton-animation_piece.two .skeleton-animation_text+.skeleton-animation_text{animation:skeletonSlideTextIn .5s 2.3s 1 forwards,skeletonFadeTextIn .4s 2.6s 1 forwards}.skeleton-animation_piece.three{animation-delay:2.4s}.skeleton-animation_piece.three .skeleton-animation_text{animation:skeletonSlideTextIn .5s 2.8s 1 forwards,skeletonFadeTextIn .4s 3.1s 1 forwards}.skeleton-animation_piece.three .skeleton-animation_text+.skeleton-animation_text{animation:skeletonSlideTextIn .5s 2.9s 1 forwards,skeletonFadeTextIn .4s 3.2s 1 forwards}.skeleton-animation_piece.four{animation-delay:2.8s}.skeleton-animation_piece.four .skeleton-animation_text{animation:skeletonSlideTextIn .5s 3.4s 1 forwards,skeletonFadeTextIn .4s 3.7s 1 forwards}.skeleton-animation_piece.four .skeleton-animation_text+.skeleton-animation_text{animation:skeletonSlideTextIn .5s 3.5s 1 forwards,skeletonFadeTextIn .4s 3.8s 1 forwards}.skeleton-animation_piece.five{animation-delay:3.2s}.skeleton-animation_piece.five .skeleton-animation_text{animation:skeletonSlideTextIn .5s 4s 1 forwards,skeletonFadeTextIn .4s 4.3s 1 forwards}.skeleton-animation_piece.five .skeleton-animation_text+.skeleton-animation_text{animation:skeletonSlideTextIn .5s 4.1s 1 forwards,skeletonFadeTextIn .4s 4.4s 1 forwards}.skeleton-animation_piece.six{animation-delay:3.6s}.skeleton-animation_piece.six .skeleton-animation_text{animation:skeletonSlideTextIn .5s 4.2s 1 forwards,skeletonFadeTextIn .4s 4.5s 1 forwards}.skeleton-animation_piece.six .skeleton-animation_text+.skeleton-animation_text{animation:skeletonSlideTextIn .5s 4.3s 1 forwards,skeletonFadeTextIn .4s 4.6s 1 forwards}.skeleton-animation_piece.seven{animation-delay:4s}.skeleton-animation_piece.seven .skeleton-animation_text{animation:skeletonSlideTextIn .5s 4.4s 1 forwards,skeletonFadeTextIn .4s 4.7s 1 forwards}.skeleton-animation_piece.seven .skeleton-animation_text+.skeleton-animation_text{animation:skeletonSlideTextIn .5s 4.5s 1 forwards,skeletonFadeTextIn .4s 4.8s 1 forwards}.skeleton-animation_piece.eight{animation-delay:4.4s}.skeleton-animation_piece.eight .skeleton-animation_text{animation:skeletonSlideTextIn .5s 4.6s 1 forwards,skeletonFadeTextIn .4s 4.9s 1 forwards}.skeleton-animation_piece.eight .skeleton-animation_text+.skeleton-animation_text{animation:skeletonSlideTextIn .5s 4.7s 1 forwards,skeletonFadeTextIn .4s 5s 1 forwards}@keyframes skeletonSlideBlocksIn{from{animation-timing-function:cubic-bezier(.215,.61,.355,1)}90%,to{animation-timing-function:ease-out}from{transform:translate3d(0,2000px,0)}90%{transform:translate3d(0,-6px,0)}to{transform:translate3d(0,0,0)}}@keyframes skeletonSlideTextIn{from,to{animation-timing-function:ease-in-out}from{transform:translate3d(0,500px,0)}to{transform:translate3d(0,0,0)}}@keyframes skeletonFadeTextIn{from,to{animation-timing-function:ease-in-out}from{opacity:0}to{opacity:1}}@keyframes skeletonShine{from{left:-100px}50%,to{left:100%}}\\n  }\\n  \\n  @media (max-width: 1000px) {\\n    .large-screen-animation {\\n      display: none;\\n    }\\n    .skeleton-animation_button,.skeleton-animation_header,.skeleton-animation_hero{display:flex;align-items:center;justify-content:center;flex-direction:column;overflow:hidden}.skeleton-animation_text{height:10px;width:100%;border-radius:2px;background:#eee;margin:0}.skeleton-animation_button .skeleton-animation_icon,.skeleton-animation_header,.skeleton-animation_hero,.skeleton-shine{position:relative}.skeleton-animation_button .skeleton-animation_icon:after,.skeleton-animation_header:after,.skeleton-animation_hero:after,.skeleton-shine:after{content:\\' \\';background-image:linear-gradient(90deg,transparent 0,#fff 50px,transparent 100px);position:absolute;left:-100px;top:0;height:100%;width:100px;z-index:10;opacity:.25}.skeleton-animation_header{height:60px;background-color:#999}.skeleton-animation_header .skeleton-animation_text{width:105px;background-color:#7a7a7a}.skeleton-animation_hero{height:186px;background-color:#ddd}.skeleton-animation_hero .skeleton-animation_text{width:220px;background-color:#b0b0b0}.skeleton-animation_hero .skeleton-animation_text+.skeleton-animation_text{width:155px;margin-top:18px}.skeleton-animation_button{height:140px;width:50%;float:left}.skeleton-animation_button .skeleton-animation_icon{width:78px;height:61px;margin-bottom:16px;background:#d7d7d7;overflow:hidden}.skeleton-animation_button .skeleton-animation_text{width:110px}.skeleton-animation_button .skeleton-animation_text+.skeleton-animation_text{width:40px;margin-top:10px}.skeleton-animation_button,.skeleton-animation_header,.skeleton-animation_hero{transform:translate3d(0,2000px,0)}.skeleton-animation_button .skeleton-animation_text,.skeleton-animation_header .skeleton-animation_text,.skeleton-animation_hero .skeleton-animation_text{opacity:0;transform:translate3d(0,500px,0)}.skeleton-animation_header:after,.skeleton-animation_hero:after,.skeleton-shine-block:after{animation:skeletonShine 2.4s 5.4s infinite ease-out}.skeleton-animation_button .skeleton-animation_icon:after,.skeleton-shine-icon:after{animation:skeletonShine 2.4s 5.4s infinite ease-out}.skeleton-animation_header{animation:skeletonSlideBlocksIn .8s 0s 1 forwards}.skeleton-animation_header .skeleton-animation_text{animation:skeletonSlideTextIn .5s .5s 1 forwards,skeletonFadeTextIn .4s .8s 1 forwards}.skeleton-animation_hero{animation:skeletonSlideBlocksIn .8s 1.1s 1 forwards,shineBg 2.4s 5.4s infinite ease-out}.skeleton-animation_hero .skeleton-animation_text{animation:skeletonSlideTextIn .5s 1.6s 1 forwards,skeletonFadeTextIn .4s 1.9s 1 forwards}.skeleton-animation_hero .skeleton-animation_text+.skeleton-animation_text{animation:skeletonSlideTextIn .5s 1.7s 1 forwards,skeletonFadeTextIn .4s 2s 1 forwards}.skeleton-animation_button{animation:skeletonSlideBlocksIn .8s 1 forwards}.skeleton-animation_button .skeleton-animation_icon:after{opacity:.5}.skeleton-animation_button.one{animation-delay:1.6s}.skeleton-animation_button.one .skeleton-animation_text{animation:skeletonSlideTextIn .5s 1.6s 1 forwards,skeletonFadeTextIn .4s 1.9s 1 forwards}.skeleton-animation_button.one .skeleton-animation_text+.skeleton-animation_text{animation:skeletonSlideTextIn .5s 1.7s 1 forwards,skeletonFadeTextIn .4s 2s 1 forwards}.skeleton-animation_button.two{animation-delay:2s}.skeleton-animation_button.two .skeleton-animation_text{animation:skeletonSlideTextIn .5s 2.2s 1 forwards,skeletonFadeTextIn .4s 2.5s 1 forwards}.skeleton-animation_button.two .skeleton-animation_text+.skeleton-animation_text{animation:skeletonSlideTextIn .5s 2.3s 1 forwards,skeletonFadeTextIn .4s 2.6s 1 forwards}.skeleton-animation_button.three{animation-delay:2.4s}.skeleton-animation_button.three .skeleton-animation_text{animation:skeletonSlideTextIn .5s 2.8s 1 forwards,skeletonFadeTextIn .4s 3.1s 1 forwards}.skeleton-animation_button.three .skeleton-animation_text+.skeleton-animation_text{animation:skeletonSlideTextIn .5s 2.9s 1 forwards,skeletonFadeTextIn .4s 3.2s 1 forwards}.skeleton-animation_button.four{animation-delay:2.8s}.skeleton-animation_button.four .skeleton-animation_text{animation:skeletonSlideTextIn .5s 3.4s 1 forwards,skeletonFadeTextIn .4s 3.7s 1 forwards}.skeleton-animation_button.four .skeleton-animation_text+.skeleton-animation_text{animation:skeletonSlideTextIn .5s 3.5s 1 forwards,skeletonFadeTextIn .4s 3.8s 1 forwards}.skeleton-animation_button.five{animation-delay:3.2s}.skeleton-animation_button.five .skeleton-animation_text{animation:skeletonSlideTextIn .5s 4s 1 forwards,skeletonFadeTextIn .4s 4.3s 1 forwards}.skeleton-animation_button.five .skeleton-animation_text+.skeleton-animation_text{animation:skeletonSlideTextIn .5s 4.1s 1 forwards,skeletonFadeTextIn .4s 4.4s 1 forwards}.skeleton-animation_button.six{animation-delay:3.6s}.skeleton-animation_button.six .skeleton-animation_text{animation:skeletonSlideTextIn .5s 4.2s 1 forwards,skeletonFadeTextIn .4s 4.5s 1 forwards}.skeleton-animation_button.six .skeleton-animation_text+.skeleton-animation_text{animation:skeletonSlideTextIn .5s 4.3s 1 forwards,skeletonFadeTextIn .4s 4.6s 1 forwards}@keyframes skeletonSlideBlocksIn{from{animation-timing-function:cubic-bezier(.215,.61,.355,1)}90%,to{animation-timing-function:ease-out}from{transform:translate3d(0,2000px,0)}90%{transform:translate3d(0,-6px,0)}to{transform:translate3d(0,0,0)}}@keyframes skeletonSlideTextIn{from,to{animation-timing-function:ease-in-out}from{transform:translate3d(0,500px,0)}to{transform:translate3d(0,0,0)}}@keyframes skeletonFadeTextIn{from,to{animation-timing-function:ease-in-out}from{opacity:0}to{opacity:1}}@keyframes skeletonShine{from{left:-100px}50%,to{left:100%}}\\n  }\\n</style>\\n\\n<div class=\"large-screen-animation\">\\n  <div class=\"skeleton-animation_header\">\\n    <p class=\"skeleton-animation_text m-logo\"></p>\\n    <p class=\"skeleton-animation_text\"></p>\\n    <p class=\"skeleton-animation_text\"></p>\\n    <p class=\"skeleton-animation_text\"></p>\\n    <p class=\"skeleton-animation_text\"></p>\\n    <p class=\"skeleton-animation_text\"></p>\\n  </div>\\n  <div class=\"skeleton-animation_hero\">\\n    <p class=\"skeleton-animation_text m-large\"></p>\\n    <p class=\"skeleton-animation_text\"></p>\\n    <p class=\"skeleton-animation_text m-small\"></p>\\n  </div>\\n\\n  <div class=\"skeleton-animation_list\">\\n    <div class=\"skeleton-animation_list-item skeleton-animation_piece one\">\\n      <div class=\"skeleton-animation_block\"></div>\\n      <p class=\"skeleton-animation_text m-small\"></p>\\n      <p class=\"skeleton-animation_text\"></p>\\n      <p class=\"skeleton-animation_text m-small\"></p>\\n    </div>\\n\\n    <div class=\"skeleton-animation_list-item skeleton-animation_piece two\">\\n      <div class=\"skeleton-animation_block\"></div>\\n      <p class=\"skeleton-animation_text m-small\"></p>\\n      <p class=\"skeleton-animation_text\"></p>\\n      <p class=\"skeleton-animation_text m-small\"></p>\\n    </div>\\n\\n    <div class=\"skeleton-animation_list-item skeleton-animation_piece three\">\\n      <div class=\"skeleton-animation_block\"></div>\\n      <p class=\"skeleton-animation_text m-small\"></p>\\n      <p class=\"skeleton-animation_text\"></p>\\n      <p class=\"skeleton-animation_text m-small\"></p>\\n    </div>\\n\\n  </div>\\n</div>\\n\\n<div class=\"small-screen-animation\">\\n  <div class=\"skeleton-animation_header\">\\n    <p class=\"skeleton-animation_text\"></p>\\n  </div>\\n  <div class=\"skeleton-animation_hero\">\\n    <p class=\"skeleton-animation_text\"></p>\\n    <p class=\"skeleton-animation_text\"></p>\\n  </div>\\n  <div class=\"skeleton-animation_button one\">\\n    <i class=\"skeleton-animation_icon\"></i>\\n    <p class=\"skeleton-animation_text\"></p>\\n    <p class=\"skeleton-animation_text\"></p>\\n  </div>\\n  <div class=\"skeleton-animation_button two\">\\n    <i class=\"skeleton-animation_icon\"></i>\\n    <p class=\"skeleton-animation_text\"></p>\\n    <p class=\"skeleton-animation_text\"></p>\\n  </div>\\n  <div class=\"skeleton-animation_button three\">\\n    <i class=\"skeleton-animation_icon\"></i>\\n    <p class=\"skeleton-animation_text\"></p>\\n    <p class=\"skeleton-animation_text\"></p>\\n  </div>\\n  <div class=\"skeleton-animation_button four\">\\n    <i class=\"skeleton-animation_icon\"></i>\\n    <p class=\"skeleton-animation_text\"></p>\\n    <p class=\"skeleton-animation_text\"></p>\\n  </div>\\n  <div class=\"skeleton-animation_button five\">\\n    <i class=\"skeleton-animation_icon\"></i>\\n    <p class=\"skeleton-animation_text\"></p>\\n    <p class=\"skeleton-animation_text\"></p>\\n  </div>\\n  <div class=\"skeleton-animation_button six\">\\n    <i class=\"skeleton-animation_icon\"></i>\\n    <p class=\"skeleton-animation_text\"></p>\\n    <p class=\"skeleton-animation_text\"></p>\\n  </div>\\n</div>\\n  </div>\\n    \\n\\t\\n<style type=\"text/css\">\\n.cookie-check {\\n\\tdisplay: flex;\\n    position: absolute;\\n    top: 0;\\n    left: 0;\\n    right: 0;\\n    bottom: 0;\\n    justify-content: center;\\n    align-items: center;\\n}\\n.cookie-check a {\\n\\ttext-decoration: underline;\\n}\\n</style>\\n\\n\\t <script>\\n    window.addEventListener(\\'load\\', function(){\\n\\t\\tif(!navigator.cookieEnabled){\\n\\t\\t\\tdocument.getElementById(\\'cookie-check\\').style.display = \\'flex\\';\\n\\t\\t\\tdocument.getElementById(\\'static-app\\').style.display = \\'none\\';\\n\\t\\t}\\n    });\\n</script>\\n\\t<div id=\"cookie-check\" class=\"cookie-check\" style=\"display: none\">\\n \\tPlease enable the cookies and &nbsp;<a href=\"javascript:location.reload()\">reload</a>&nbsp; the website\\n    </div>\\n\\n    <div id=\"app\" style=\"display: none;\"></div>\\n    \\n  <script type=\"text/javascript\">__meteor_runtime_config__ = JSON.parse(decodeURIComponent(\"%7B%22meteorRelease%22%3A%22METEOR%402.3.5%22%2C%22gitCommitHash%22%3A%229c456d2f5b30944c431e71125d2b9545c5621873%22%2C%22meteorEnv%22%3A%7B%22NODE_ENV%22%3A%22production%22%2C%22TEST_METADATA%22%3A%22%7B%7D%22%7D%2C%22PUBLIC_SETTINGS%22%3A%7B%22packages%22%3A%7B%22logs%22%3A%7B%22env%22%3A%22app%22%2C%22enableClientLogging%22%3Afalse%7D%7D%2C%22wallsIoPartnerId%22%3A%22XcLuMaTe9dso%22%2C%22performanceSettings%22%3A%7B%22forceAgendaTileView%22%3Atrue%7D%2C%22isApp%22%3Atrue%2C%22clusterName%22%3A%22us1%22%2C%22aggressiveServerCaching%22%3Atrue%2C%22aggressiveClientCaching%22%3Afalse%2C%22appHost%22%3A%22pathable.co%22%2C%22adminHost%22%3A%22admin.pathable.co%22%2C%22forceSSL%22%3Atrue%2C%22filepickerKey%22%3A%22ARv6lIAZ0QNi4ldM9AEXwz%22%2C%22filestackWorkflows%22%3A%7B%22autoplay%22%3A%22dd8f5e6d-e762-4e3f-91a7-0b97c59077c8%22%2C%22vod%22%3A%2253996989-7a45-4015-9e93-8ea1bf5e907b%22%7D%2C%22googleMapsKey%22%3A%22AIzaSyD4Oxu5oA_t-Fv5niTZYrzhCtmbo04Cxn8%22%2C%22environment%22%3A%22production%22%2C%22logging%22%3A%7B%22disableAll%22%3Afalse%2C%22styleCache%22%3Afalse%2C%22ssr%22%3Afalse%2C%22importer%22%3Atrue%2C%22restApi%22%3Atrue%2C%22searchCache%22%3Atrue%7D%2C%22jobsAppUrl%22%3A%22https%3A%2F%2Fjobs.pathable.co%22%2C%22supervisorUrl%22%3A%22https%3A%2F%2Fsupervisor.pathable.co%22%2C%22apiHost%22%3A%22api.pathable.co%22%2C%22hypervisorApiHost%22%3A%22api.pathable.co%22%2C%22pathableZoomClientURL%22%3A%22https%3A%2F%2Fapi.pathable.co%2Fz%22%2C%22disconnectTimeSec%22%3A300%2C%22secureZoomURLs%22%3Atrue%2C%22offline%22%3A%7B%22pollingInterval%22%3A300000%7D%2C%22analyticsSettings%22%3A%7B%22GoogleAnalytics%22%3A%7B%22trackingId%22%3A%22UA-121890172-1%22%2C%22fallbackEnabled%22%3Atrue%2C%22fallbackTrackingId%22%3A%22UA-182669479-2%22%7D%2C%22GoogleTagManager%22%3A%7B%22tagId%22%3A%22GTM-WSL5KFV%22%7D%7D%2C%22reloader%22%3A%7B%22refresh%22%3A%22instantly%22%7D%2C%22publishComposite%22%3A%7B%22unblock%22%3Atrue%7D%2C%22zendesk%22%3A%7B%22widgetId%22%3A%22e6d6b1eb-d8dd-4016-85e9-4d61670b5a40%22%7D%7D%2C%22ROOT_URL%22%3A%22https%3A%2F%2Fwww.pathable.co%22%2C%22ROOT_URL_PATH_PREFIX%22%3A%22%22%2C%22reactFastRefreshEnabled%22%3Atrue%2C%22kadira%22%3A%7B%22appId%22%3A%22WLYzMhaASX7a3mEt4%22%2C%22endpoint%22%3A%22https%3A%2F%2Fapm-engine.meteor.com%22%2C%22clientEngineSyncDelay%22%3A10000%2C%22enableErrorTracking%22%3Atrue%7D%2C%22autoupdate%22%3A%7B%22versions%22%3A%7B%22web.browser%22%3A%7B%22version%22%3A%2214%22%2C%22versionRefreshable%22%3A%2214%22%2C%22versionNonRefreshable%22%3A%2214%22%2C%22versionReplaceable%22%3A%2214%22%7D%2C%22web.browser.legacy%22%3A%7B%22version%22%3A%2214%22%2C%22versionRefreshable%22%3A%2214%22%2C%22versionNonRefreshable%22%3A%2214%22%2C%22versionReplaceable%22%3A%2214%22%7D%2C%22web.cordova%22%3A%7B%22version%22%3A%2214%22%2C%22versionRefreshable%22%3A%2214%22%2C%22versionNonRefreshable%22%3A%2214%22%2C%22versionReplaceable%22%3A%2214%22%7D%7D%2C%22autoupdateVersion%22%3Anull%2C%22autoupdateVersionRefreshable%22%3Anull%2C%22autoupdateVersionCordova%22%3Anull%2C%22appId%22%3A%2210skyjz1cfx6r71ipyxld%22%7D%2C%22appId%22%3A%2210skyjz1cfx6r71ipyxld%22%2C%22accountsConfigCalled%22%3Atrue%2C%22isModern%22%3Atrue%7D\"))</script>\\n\\n  <script type=\"text/javascript\" src=\"https://d1nr3bu1jcutjl.cloudfront.net/5aeee9a7e56e326e45693a6366c1b9c2ea25546f.js?meteor_js_resource=true&amp;_g_app_v_=1036\" integrity=\"sha512-10oIpGD7etD7nt7dWlFRayppC3E+K8Ho3YQvbXLlSNe8gdMhD7GUJ7PVaR9GNpSt9JgWunhBZlV7NiiH/EV1ZQ==\" crossorigin=\"anonymous\"></script>\\n  <script>\\nsetTimeout(function() {\\n  if (!window.hasOwnProperty(\"cordova\")) {\\n    if (\\n      typeof Package === \"undefined\" ||\\n      !Package.webapp ||\\n      !Package.webapp.WebApp ||\\n      !Package.webapp.WebApp._isCssLoaded()\\n    ) {\\n      console.log(\"Meteor not found, reloading...\");\\n      window.location.reload();\\n    }\\n  }\\n}, 5000);\\n</script>\\n\\n\\n</body>\\n</html>'"
      ]
     },
     "execution_count": 179,
     "metadata": {},
     "output_type": "execute_result"
    }
   ],
   "source": [
    "response.text"
   ]
  },
  {
   "cell_type": "code",
   "execution_count": 188,
   "metadata": {},
   "outputs": [],
   "source": [
    "from requests_html import AsyncHTMLSession\n",
    "s = AsyncHTMLSession()\n",
    "response = s.get(url)\n",
    "#response.html.render()\n",
    "\n",
    "#print(response)\n",
    "# prints out the content of the fully loaded page\n",
    "# response can be parsed with for example bs4"
   ]
  },
  {
   "cell_type": "code",
   "execution_count": 194,
   "metadata": {},
   "outputs": [
    {
     "ename": "AttributeError",
     "evalue": "'_asyncio.Future' object has no attribute 'html'",
     "output_type": "error",
     "traceback": [
      "\u001b[0;31m---------------------------------------------------------------------------\u001b[0m",
      "\u001b[0;31mAttributeError\u001b[0m                            Traceback (most recent call last)",
      "\u001b[0;32m<ipython-input-194-e7c46c9533a0>\u001b[0m in \u001b[0;36m<module>\u001b[0;34m\u001b[0m\n\u001b[0;32m----> 1\u001b[0;31m \u001b[0mresponse\u001b[0m\u001b[0;34m.\u001b[0m\u001b[0mhtml\u001b[0m\u001b[0;34m\u001b[0m\u001b[0;34m\u001b[0m\u001b[0m\n\u001b[0m",
      "\u001b[0;31mAttributeError\u001b[0m: '_asyncio.Future' object has no attribute 'html'"
     ]
    }
   ],
   "source": [
    "response.html"
   ]
  },
  {
   "cell_type": "code",
   "execution_count": 195,
   "metadata": {},
   "outputs": [
    {
     "name": "stderr",
     "output_type": "stream",
     "text": [
      "/Users/lucaskrenn/opt/anaconda3/lib/python3.7/site-packages/selenium/webdriver/phantomjs/webdriver.py:49: UserWarning: Selenium support for PhantomJS has been deprecated, please use headless versions of Chrome or Firefox instead\n",
      "  warnings.warn('Selenium support for PhantomJS has been deprecated, please use headless '\n"
     ]
    },
    {
     "ename": "WebDriverException",
     "evalue": "Message: 'phantomjs' executable needs to be in PATH. \n",
     "output_type": "error",
     "traceback": [
      "\u001b[0;31m---------------------------------------------------------------------------\u001b[0m",
      "\u001b[0;31mFileNotFoundError\u001b[0m                         Traceback (most recent call last)",
      "\u001b[0;32m~/opt/anaconda3/lib/python3.7/site-packages/selenium/webdriver/common/service.py\u001b[0m in \u001b[0;36mstart\u001b[0;34m(self)\u001b[0m\n\u001b[1;32m     75\u001b[0m                                             \u001b[0mstderr\u001b[0m\u001b[0;34m=\u001b[0m\u001b[0mself\u001b[0m\u001b[0;34m.\u001b[0m\u001b[0mlog_file\u001b[0m\u001b[0;34m,\u001b[0m\u001b[0;34m\u001b[0m\u001b[0;34m\u001b[0m\u001b[0m\n\u001b[0;32m---> 76\u001b[0;31m                                             stdin=PIPE)\n\u001b[0m\u001b[1;32m     77\u001b[0m         \u001b[0;32mexcept\u001b[0m \u001b[0mTypeError\u001b[0m\u001b[0;34m:\u001b[0m\u001b[0;34m\u001b[0m\u001b[0;34m\u001b[0m\u001b[0m\n",
      "\u001b[0;32m~/opt/anaconda3/lib/python3.7/subprocess.py\u001b[0m in \u001b[0;36m__init__\u001b[0;34m(self, args, bufsize, executable, stdin, stdout, stderr, preexec_fn, close_fds, shell, cwd, env, universal_newlines, startupinfo, creationflags, restore_signals, start_new_session, pass_fds, encoding, errors, text)\u001b[0m\n\u001b[1;32m    774\u001b[0m                                 \u001b[0merrread\u001b[0m\u001b[0;34m,\u001b[0m \u001b[0merrwrite\u001b[0m\u001b[0;34m,\u001b[0m\u001b[0;34m\u001b[0m\u001b[0;34m\u001b[0m\u001b[0m\n\u001b[0;32m--> 775\u001b[0;31m                                 restore_signals, start_new_session)\n\u001b[0m\u001b[1;32m    776\u001b[0m         \u001b[0;32mexcept\u001b[0m\u001b[0;34m:\u001b[0m\u001b[0;34m\u001b[0m\u001b[0;34m\u001b[0m\u001b[0m\n",
      "\u001b[0;32m~/opt/anaconda3/lib/python3.7/subprocess.py\u001b[0m in \u001b[0;36m_execute_child\u001b[0;34m(self, args, executable, preexec_fn, close_fds, pass_fds, cwd, env, startupinfo, creationflags, shell, p2cread, p2cwrite, c2pread, c2pwrite, errread, errwrite, restore_signals, start_new_session)\u001b[0m\n\u001b[1;32m   1521\u001b[0m                             \u001b[0merr_msg\u001b[0m \u001b[0;34m+=\u001b[0m \u001b[0;34m': '\u001b[0m \u001b[0;34m+\u001b[0m \u001b[0mrepr\u001b[0m\u001b[0;34m(\u001b[0m\u001b[0merr_filename\u001b[0m\u001b[0;34m)\u001b[0m\u001b[0;34m\u001b[0m\u001b[0;34m\u001b[0m\u001b[0m\n\u001b[0;32m-> 1522\u001b[0;31m                     \u001b[0;32mraise\u001b[0m \u001b[0mchild_exception_type\u001b[0m\u001b[0;34m(\u001b[0m\u001b[0merrno_num\u001b[0m\u001b[0;34m,\u001b[0m \u001b[0merr_msg\u001b[0m\u001b[0;34m,\u001b[0m \u001b[0merr_filename\u001b[0m\u001b[0;34m)\u001b[0m\u001b[0;34m\u001b[0m\u001b[0;34m\u001b[0m\u001b[0m\n\u001b[0m\u001b[1;32m   1523\u001b[0m                 \u001b[0;32mraise\u001b[0m \u001b[0mchild_exception_type\u001b[0m\u001b[0;34m(\u001b[0m\u001b[0merr_msg\u001b[0m\u001b[0;34m)\u001b[0m\u001b[0;34m\u001b[0m\u001b[0;34m\u001b[0m\u001b[0m\n",
      "\u001b[0;31mFileNotFoundError\u001b[0m: [Errno 2] No such file or directory: 'phantomjs': 'phantomjs'",
      "\nDuring handling of the above exception, another exception occurred:\n",
      "\u001b[0;31mWebDriverException\u001b[0m                        Traceback (most recent call last)",
      "\u001b[0;32m<ipython-input-195-9966ed894ec2>\u001b[0m in \u001b[0;36m<module>\u001b[0;34m\u001b[0m\n\u001b[1;32m      3\u001b[0m \u001b[0;34m\u001b[0m\u001b[0m\n\u001b[1;32m      4\u001b[0m \u001b[0murl\u001b[0m \u001b[0;34m=\u001b[0m \u001b[0;34m\"http://legendas.tv/busca/walking%20dead%20s03e02\"\u001b[0m\u001b[0;34m\u001b[0m\u001b[0;34m\u001b[0m\u001b[0m\n\u001b[0;32m----> 5\u001b[0;31m \u001b[0mbrowser\u001b[0m \u001b[0;34m=\u001b[0m \u001b[0mwebdriver\u001b[0m\u001b[0;34m.\u001b[0m\u001b[0mPhantomJS\u001b[0m\u001b[0;34m(\u001b[0m\u001b[0;34m)\u001b[0m\u001b[0;34m\u001b[0m\u001b[0;34m\u001b[0m\u001b[0m\n\u001b[0m\u001b[1;32m      6\u001b[0m \u001b[0mbrowser\u001b[0m\u001b[0;34m.\u001b[0m\u001b[0mget\u001b[0m\u001b[0;34m(\u001b[0m\u001b[0murl\u001b[0m\u001b[0;34m)\u001b[0m\u001b[0;34m\u001b[0m\u001b[0;34m\u001b[0m\u001b[0m\n\u001b[1;32m      7\u001b[0m \u001b[0mhtml\u001b[0m \u001b[0;34m=\u001b[0m \u001b[0mbrowser\u001b[0m\u001b[0;34m.\u001b[0m\u001b[0mpage_source\u001b[0m\u001b[0;34m\u001b[0m\u001b[0;34m\u001b[0m\u001b[0m\n",
      "\u001b[0;32m~/opt/anaconda3/lib/python3.7/site-packages/selenium/webdriver/phantomjs/webdriver.py\u001b[0m in \u001b[0;36m__init__\u001b[0;34m(self, executable_path, port, desired_capabilities, service_args, service_log_path)\u001b[0m\n\u001b[1;32m     54\u001b[0m             \u001b[0mservice_args\u001b[0m\u001b[0;34m=\u001b[0m\u001b[0mservice_args\u001b[0m\u001b[0;34m,\u001b[0m\u001b[0;34m\u001b[0m\u001b[0;34m\u001b[0m\u001b[0m\n\u001b[1;32m     55\u001b[0m             log_path=service_log_path)\n\u001b[0;32m---> 56\u001b[0;31m         \u001b[0mself\u001b[0m\u001b[0;34m.\u001b[0m\u001b[0mservice\u001b[0m\u001b[0;34m.\u001b[0m\u001b[0mstart\u001b[0m\u001b[0;34m(\u001b[0m\u001b[0;34m)\u001b[0m\u001b[0;34m\u001b[0m\u001b[0;34m\u001b[0m\u001b[0m\n\u001b[0m\u001b[1;32m     57\u001b[0m \u001b[0;34m\u001b[0m\u001b[0m\n\u001b[1;32m     58\u001b[0m         \u001b[0;32mtry\u001b[0m\u001b[0;34m:\u001b[0m\u001b[0;34m\u001b[0m\u001b[0;34m\u001b[0m\u001b[0m\n",
      "\u001b[0;32m~/opt/anaconda3/lib/python3.7/site-packages/selenium/webdriver/common/service.py\u001b[0m in \u001b[0;36mstart\u001b[0;34m(self)\u001b[0m\n\u001b[1;32m     81\u001b[0m                 raise WebDriverException(\n\u001b[1;32m     82\u001b[0m                     \"'%s' executable needs to be in PATH. %s\" % (\n\u001b[0;32m---> 83\u001b[0;31m                         os.path.basename(self.path), self.start_error_message)\n\u001b[0m\u001b[1;32m     84\u001b[0m                 )\n\u001b[1;32m     85\u001b[0m             \u001b[0;32melif\u001b[0m \u001b[0merr\u001b[0m\u001b[0;34m.\u001b[0m\u001b[0merrno\u001b[0m \u001b[0;34m==\u001b[0m \u001b[0merrno\u001b[0m\u001b[0;34m.\u001b[0m\u001b[0mEACCES\u001b[0m\u001b[0;34m:\u001b[0m\u001b[0;34m\u001b[0m\u001b[0;34m\u001b[0m\u001b[0m\n",
      "\u001b[0;31mWebDriverException\u001b[0m: Message: 'phantomjs' executable needs to be in PATH. \n"
     ]
    }
   ],
   "source": [
    "from bs4 import BeautifulSoup\n",
    "from selenium import webdriver\n",
    "\n",
    "url = \"http://legendas.tv/busca/walking%20dead%20s03e02\"\n",
    "browser = webdriver.PhantomJS()\n",
    "browser.get(url)\n",
    "html = browser.page_source\n",
    "soup = BeautifulSoup(html, 'lxml')\n",
    "a = soup.find('section', 'wrapper')"
   ]
  },
  {
   "cell_type": "code",
   "execution_count": 199,
   "metadata": {},
   "outputs": [],
   "source": [
    "import urllib.request\n",
    "try:\n",
    "    with urllib.request.urlopen(url) as response:\n",
    "\n",
    "        html = response.read().decode('utf-8')#use whatever encoding as per the webpage\n",
    "except urllib.request.HTTPError as e:\n",
    "    if e.code==404:\n",
    "        print(f\"{url} is not found\")\n",
    "    elif e.code==503:\n",
    "        print(f'{url} base webservices are not available')\n",
    "        ## can add authentication here \n",
    "    else:\n",
    "        print('http error',e)"
   ]
  },
  {
   "cell_type": "code",
   "execution_count": 200,
   "metadata": {},
   "outputs": [
    {
     "data": {
      "text/plain": [
       "'<!DOCTYPE html>\\n<html>\\n<head>\\n  <link rel=\"stylesheet\" type=\"text/css\" class=\"__meteor-css__\" href=\"https://d1nr3bu1jcutjl.cloudfront.net/95f48d9140cda50bf82bddeaf9a779a4e4968d39.css?meteor_css_resource=true&amp;_g_app_v_=1036\" integrity=\"sha512-0kkWvRFaT5ayLDHqjnNkuKA1UxCrv8DCd1qVbETHcjG5if4c49q/2b9baHRfI6yQLOT8TUNNILHoaO9O2GTqzA==\" crossorigin=\"anonymous\">\\n<meta name=\"fragment\" content=\"!\">\\n<meta charset=\"utf-8\">\\n  <meta http-equiv=\"x-ua-compatible\" content=\"ie=edge\">\\n  <meta name=\"viewport\" content=\"width=device-width, height=device-height, viewport-fit=cover, initial-scale=1, maximum-scale=1, minimum-scale=1, user-scalable=no\">\\n  <meta name=\"mobile-web-app-capable\" content=\"yes\">\\n  <meta name=\"apple-mobile-web-app-capable\" content=\"yes\">\\n  <meta name=\"fragment\" content=\"!\">\\n  <link rel=\"manifest\" href=\"/pwa.json\">\\n\\n      <link rel=\"stylesheet\" type=\"text/css\" data-ssr=\"true\" href=\"https://dgjq7ns68i0j4.cloudfront.net/page-styles/2W3bKAFeo4K7Lx2zA/i3MHAzBXus9QENmQJ.css\" crossorigin=\"anonymous\">\\n      <script type=\"application/javascript\" src=\"https://dgjq7ns68i0j4.cloudfront.net/page-styles/2W3bKAFeo4K7Lx2zA/i3MHAzBXus9QENmQJ.js\"></script>\\n    <title>AI and Data Science in Trading 2021</title>\\n<meta property=\"og:title\" content=\"AI and Data Science in Trading 2021\">\\n<meta property=\"twitter:title\" content=\"AI and Data Science in Trading 2021\">\\n<meta property=\"description\" content=\"AI and Data Science in Trading 2021\">\\n<meta property=\"og:description\" content=\"AI and Data Science in Trading 2021\">\\n<meta property=\"og:image:alt\" content=\"AI and Data Science in Trading 2021\">\\n<meta property=\"twitter:description\" content=\"AI and Data Science in Trading 2021\">\\n<meta property=\"twitter:image:alt\" content=\"AI and Data Science in Trading 2021\">\\n<meta property=\"og:image\" content=\"https://cdn.filestackcontent.com/G79pjaNvTqi1Wq0XxgXw\">\\n<meta property=\"og:image:secure_url\" content=\"https://cdn.filestackcontent.com/G79pjaNvTqi1Wq0XxgXw\">\\n<meta property=\"twitter:image\" content=\"https://cdn.filestackcontent.com/G79pjaNvTqi1Wq0XxgXw\">\\n<meta name=\"twitter:card\" content=\"summary_large_image\">\\n<meta property=\"twitter:url\" content=\"https://aidatasciencetradingfall.pathable.co/people\">\\n<meta property=\"og:url\" content=\"https://aidatasciencetradingfall.pathable.co/people\">\\n<meta name=\"apple-mobile-web-app-title\" content=\"AI and Data Science in Trading 2021\">\\n<meta name=\"apple-mobile-web-app-status-bar-style\" content=\"default\">\\n<meta name=\"theme-color\" content=\"#22406b\">\\n<link rel=\"apple-touch-startup-image\" href=\"https://cdn.filestackcontent.com/G79pjaNvTqi1Wq0XxgXw\">\\n<link rel=\"apple-touch-icon\" href=\"https://cdn.filestackcontent.com/G79pjaNvTqi1Wq0XxgXw\">\\n<script src=\"https://d1nr3bu1jcutjl.cloudfront.net/initial-data.js?communityId=2W3bKAFeo4K7Lx2zA&siteId=m8Sepbs57EsAepEBF&version=12345&appVersion=1036\"></script>\\n\\n</head>\\n<body><div id=\"app\" style=\"display: none;\"></div>\\n    <script>(function(w,d,s){w._uptime_rum={};w._uptime_rum.uuid=\\'BVWA-5B681338A4FBCAA9\\';w._uptime_rum.url=\\'https://rum.uptime.com/rum/record-data\\';s=document.createElement(\\'script\\');s.async=1;s.src=\\'https://rum.uptime.com/static/rum/compiled/rum.js\\';d.getElementsByTagName(\\'head\\')[0].appendChild(s);})(window,document);</script>\\n    <script>var ENABLED_FEATURES = [\"MEETINGS\",\"MEETINGS_MESSAGES\",\"MEETINGS_IAV\",\"TRADE_SHOW\",\"ORGANIZATIONS\",\"FACILITIES\",\"ADVANCED_STYLES\",\"ADVANCED_PERMISSIONS\",\"NOTES\",\"SURVEYS\",\"MEETINGS_PRIVATE\",\"MEETINGS_VIDEO_UPLOAD\",\"LEAD_RETRIEVAL\",\"WANT_TO_MEET\",\"ORGANIZATION_MESSAGES\"];</script>\\n    <div id=\"static-app\" class=\"skeleton-animation\">\\n<style type=\"text/css\">\\n  .skeleton-animation{  position: fixed;left:0;top:0;background:white;overflow:hidden;width:100vw;height:100vh}\\n  @media (min-width: 1001px) {\\n    .small-screen-animation {\\n      display: none;\\n    }\\n    .skeleton-animation_header,.skeleton-animation_hero{display:flex;overflow:hidden;align-items:center;flex-direction:column;justify-content:center}.skeleton-animation_text{width:100%;height:10px;margin:0;border-radius:2px;background:#eee}.skeleton-animation_block,.skeleton-animation_header,.skeleton-animation_hero,.skeleton-shine{position:relative}.skeleton-animation_block:after,.skeleton-animation_header:after,.skeleton-animation_hero:after,.skeleton-shine:after{position:absolute;background-image:linear-gradient(90deg,transparent 0,#fff 50px,transparent 100px);z-index:10;top:0;left:-100px;width:100px;height:100%;content:\" \";opacity:.25}.skeleton-animation_header{flex-flow:row nowrap;justify-content:flex-end;height:60px;padding:0 30px;background-color:#999}.skeleton-animation_header .skeleton-animation_text{width:105px;margin-left:30px;background-color:#7a7a7a}.skeleton-animation_header .skeleton-animation_text.m-logo{margin-right:auto;justify-self:flex-start}.skeleton-animation_hero{height:300px;background-color:#ddd}.skeleton-animation_hero .skeleton-animation_text{width:200px;background-color:#b0b0b0}.skeleton-animation_hero .skeleton-animation_text.m-small{width:140px}.skeleton-animation_hero .skeleton-animation_text.m-large{width:400px}.skeleton-animation_hero .skeleton-animation_text+.skeleton-animation_text{margin-top:18px}.skeleton-animation_logos{display:flex;flex-flow:row nowrap;justify-content:space-between;width:1200px;margin:0 auto;padding:80px 0 20px}.skeleton-animation_logo{width:180px;height:30px;background-color:#d7d7d7;border-radius:3px}.skeleton-animation_list{display:flex;flex-flow:row nowrap;justify-content:space-between;width:1200px;margin:0 auto;padding:60px 0}.skeleton-animation_list-item{overflow:hidden;width:28%;text-align:center}.skeleton-animation_list-item .skeleton-animation_text{width:80%;margin:0 auto}.skeleton-animation_list-item .skeleton-animation_text.m-small{width:65%}.skeleton-animation_list-item .skeleton-animation_text+.skeleton-animation_text{margin-top:18px}.skeleton-animation_block{width:100%;height:180px;background-color:#d7d7d7;border-radius:3px;margin-bottom:32px}.skeleton-animation_header,.skeleton-animation_hero,.skeleton-animation_piece{transform:translate3d(0,2000px,0)}.skeleton-animation_header .skeleton-animation_text,.skeleton-animation_hero .skeleton-animation_text,.skeleton-animation_piece .skeleton-animation_text{transform:translate3d(0,500px,0);opacity:0}.skeleton-animation_header:after,.skeleton-animation_hero:after,.skeleton-shine-block:after{animation:skeletonShine 2.4s 5.4s infinite ease-out}.skeleton-animation_piece .skeleton-animation_block:after,.skeleton-shine-icon:after{animation:skeletonShine 2.4s 5.4s infinite ease-out}.skeleton-animation_header{animation:skeletonSlideBlocksIn .8s 0s 1 forwards}.skeleton-animation_header .skeleton-animation_text{animation:skeletonSlideTextIn .5s .5s 1 forwards,skeletonFadeTextIn .4s .8s 1 forwards}.skeleton-animation_hero{animation:skeletonSlideBlocksIn .8s 1.1s 1 forwards,shineBg 2.4s 5.4s infinite ease-out}.skeleton-animation_hero .skeleton-animation_text{animation:skeletonSlideTextIn .5s 1.6s 1 forwards,skeletonFadeTextIn .4s 1.9s 1 forwards}.skeleton-animation_hero .skeleton-animation_text+.skeleton-animation_text{animation:skeletonSlideTextIn .5s 1.7s 1 forwards,skeletonFadeTextIn .4s 2s 1 forwards}.skeleton-animation_piece{animation:skeletonSlideBlocksIn .8s 1 forwards}.skeleton-animation_piece .skeleton-animation_block:after{opacity:.5}.skeleton-animation_piece.one{animation-delay:1.6s}.skeleton-animation_piece.one .skeleton-animation_text{animation:skeletonSlideTextIn .5s 1.6s 1 forwards,skeletonFadeTextIn .4s 1.9s 1 forwards}.skeleton-animation_piece.one .skeleton-animation_text+.skeleton-animation_text{animation:skeletonSlideTextIn .5s 1.7s 1 forwards,skeletonFadeTextIn .4s 2s 1 forwards}.skeleton-animation_piece.two{animation-delay:2s}.skeleton-animation_piece.two .skeleton-animation_text{animation:skeletonSlideTextIn .5s 2.2s 1 forwards,skeletonFadeTextIn .4s 2.5s 1 forwards}.skeleton-animation_piece.two .skeleton-animation_text+.skeleton-animation_text{animation:skeletonSlideTextIn .5s 2.3s 1 forwards,skeletonFadeTextIn .4s 2.6s 1 forwards}.skeleton-animation_piece.three{animation-delay:2.4s}.skeleton-animation_piece.three .skeleton-animation_text{animation:skeletonSlideTextIn .5s 2.8s 1 forwards,skeletonFadeTextIn .4s 3.1s 1 forwards}.skeleton-animation_piece.three .skeleton-animation_text+.skeleton-animation_text{animation:skeletonSlideTextIn .5s 2.9s 1 forwards,skeletonFadeTextIn .4s 3.2s 1 forwards}.skeleton-animation_piece.four{animation-delay:2.8s}.skeleton-animation_piece.four .skeleton-animation_text{animation:skeletonSlideTextIn .5s 3.4s 1 forwards,skeletonFadeTextIn .4s 3.7s 1 forwards}.skeleton-animation_piece.four .skeleton-animation_text+.skeleton-animation_text{animation:skeletonSlideTextIn .5s 3.5s 1 forwards,skeletonFadeTextIn .4s 3.8s 1 forwards}.skeleton-animation_piece.five{animation-delay:3.2s}.skeleton-animation_piece.five .skeleton-animation_text{animation:skeletonSlideTextIn .5s 4s 1 forwards,skeletonFadeTextIn .4s 4.3s 1 forwards}.skeleton-animation_piece.five .skeleton-animation_text+.skeleton-animation_text{animation:skeletonSlideTextIn .5s 4.1s 1 forwards,skeletonFadeTextIn .4s 4.4s 1 forwards}.skeleton-animation_piece.six{animation-delay:3.6s}.skeleton-animation_piece.six .skeleton-animation_text{animation:skeletonSlideTextIn .5s 4.2s 1 forwards,skeletonFadeTextIn .4s 4.5s 1 forwards}.skeleton-animation_piece.six .skeleton-animation_text+.skeleton-animation_text{animation:skeletonSlideTextIn .5s 4.3s 1 forwards,skeletonFadeTextIn .4s 4.6s 1 forwards}.skeleton-animation_piece.seven{animation-delay:4s}.skeleton-animation_piece.seven .skeleton-animation_text{animation:skeletonSlideTextIn .5s 4.4s 1 forwards,skeletonFadeTextIn .4s 4.7s 1 forwards}.skeleton-animation_piece.seven .skeleton-animation_text+.skeleton-animation_text{animation:skeletonSlideTextIn .5s 4.5s 1 forwards,skeletonFadeTextIn .4s 4.8s 1 forwards}.skeleton-animation_piece.eight{animation-delay:4.4s}.skeleton-animation_piece.eight .skeleton-animation_text{animation:skeletonSlideTextIn .5s 4.6s 1 forwards,skeletonFadeTextIn .4s 4.9s 1 forwards}.skeleton-animation_piece.eight .skeleton-animation_text+.skeleton-animation_text{animation:skeletonSlideTextIn .5s 4.7s 1 forwards,skeletonFadeTextIn .4s 5s 1 forwards}@keyframes skeletonSlideBlocksIn{from{animation-timing-function:cubic-bezier(.215,.61,.355,1)}90%,to{animation-timing-function:ease-out}from{transform:translate3d(0,2000px,0)}90%{transform:translate3d(0,-6px,0)}to{transform:translate3d(0,0,0)}}@keyframes skeletonSlideTextIn{from,to{animation-timing-function:ease-in-out}from{transform:translate3d(0,500px,0)}to{transform:translate3d(0,0,0)}}@keyframes skeletonFadeTextIn{from,to{animation-timing-function:ease-in-out}from{opacity:0}to{opacity:1}}@keyframes skeletonShine{from{left:-100px}50%,to{left:100%}}\\n  }\\n  \\n  @media (max-width: 1000px) {\\n    .large-screen-animation {\\n      display: none;\\n    }\\n    .skeleton-animation_button,.skeleton-animation_header,.skeleton-animation_hero{display:flex;align-items:center;justify-content:center;flex-direction:column;overflow:hidden}.skeleton-animation_text{height:10px;width:100%;border-radius:2px;background:#eee;margin:0}.skeleton-animation_button .skeleton-animation_icon,.skeleton-animation_header,.skeleton-animation_hero,.skeleton-shine{position:relative}.skeleton-animation_button .skeleton-animation_icon:after,.skeleton-animation_header:after,.skeleton-animation_hero:after,.skeleton-shine:after{content:\\' \\';background-image:linear-gradient(90deg,transparent 0,#fff 50px,transparent 100px);position:absolute;left:-100px;top:0;height:100%;width:100px;z-index:10;opacity:.25}.skeleton-animation_header{height:60px;background-color:#999}.skeleton-animation_header .skeleton-animation_text{width:105px;background-color:#7a7a7a}.skeleton-animation_hero{height:186px;background-color:#ddd}.skeleton-animation_hero .skeleton-animation_text{width:220px;background-color:#b0b0b0}.skeleton-animation_hero .skeleton-animation_text+.skeleton-animation_text{width:155px;margin-top:18px}.skeleton-animation_button{height:140px;width:50%;float:left}.skeleton-animation_button .skeleton-animation_icon{width:78px;height:61px;margin-bottom:16px;background:#d7d7d7;overflow:hidden}.skeleton-animation_button .skeleton-animation_text{width:110px}.skeleton-animation_button .skeleton-animation_text+.skeleton-animation_text{width:40px;margin-top:10px}.skeleton-animation_button,.skeleton-animation_header,.skeleton-animation_hero{transform:translate3d(0,2000px,0)}.skeleton-animation_button .skeleton-animation_text,.skeleton-animation_header .skeleton-animation_text,.skeleton-animation_hero .skeleton-animation_text{opacity:0;transform:translate3d(0,500px,0)}.skeleton-animation_header:after,.skeleton-animation_hero:after,.skeleton-shine-block:after{animation:skeletonShine 2.4s 5.4s infinite ease-out}.skeleton-animation_button .skeleton-animation_icon:after,.skeleton-shine-icon:after{animation:skeletonShine 2.4s 5.4s infinite ease-out}.skeleton-animation_header{animation:skeletonSlideBlocksIn .8s 0s 1 forwards}.skeleton-animation_header .skeleton-animation_text{animation:skeletonSlideTextIn .5s .5s 1 forwards,skeletonFadeTextIn .4s .8s 1 forwards}.skeleton-animation_hero{animation:skeletonSlideBlocksIn .8s 1.1s 1 forwards,shineBg 2.4s 5.4s infinite ease-out}.skeleton-animation_hero .skeleton-animation_text{animation:skeletonSlideTextIn .5s 1.6s 1 forwards,skeletonFadeTextIn .4s 1.9s 1 forwards}.skeleton-animation_hero .skeleton-animation_text+.skeleton-animation_text{animation:skeletonSlideTextIn .5s 1.7s 1 forwards,skeletonFadeTextIn .4s 2s 1 forwards}.skeleton-animation_button{animation:skeletonSlideBlocksIn .8s 1 forwards}.skeleton-animation_button .skeleton-animation_icon:after{opacity:.5}.skeleton-animation_button.one{animation-delay:1.6s}.skeleton-animation_button.one .skeleton-animation_text{animation:skeletonSlideTextIn .5s 1.6s 1 forwards,skeletonFadeTextIn .4s 1.9s 1 forwards}.skeleton-animation_button.one .skeleton-animation_text+.skeleton-animation_text{animation:skeletonSlideTextIn .5s 1.7s 1 forwards,skeletonFadeTextIn .4s 2s 1 forwards}.skeleton-animation_button.two{animation-delay:2s}.skeleton-animation_button.two .skeleton-animation_text{animation:skeletonSlideTextIn .5s 2.2s 1 forwards,skeletonFadeTextIn .4s 2.5s 1 forwards}.skeleton-animation_button.two .skeleton-animation_text+.skeleton-animation_text{animation:skeletonSlideTextIn .5s 2.3s 1 forwards,skeletonFadeTextIn .4s 2.6s 1 forwards}.skeleton-animation_button.three{animation-delay:2.4s}.skeleton-animation_button.three .skeleton-animation_text{animation:skeletonSlideTextIn .5s 2.8s 1 forwards,skeletonFadeTextIn .4s 3.1s 1 forwards}.skeleton-animation_button.three .skeleton-animation_text+.skeleton-animation_text{animation:skeletonSlideTextIn .5s 2.9s 1 forwards,skeletonFadeTextIn .4s 3.2s 1 forwards}.skeleton-animation_button.four{animation-delay:2.8s}.skeleton-animation_button.four .skeleton-animation_text{animation:skeletonSlideTextIn .5s 3.4s 1 forwards,skeletonFadeTextIn .4s 3.7s 1 forwards}.skeleton-animation_button.four .skeleton-animation_text+.skeleton-animation_text{animation:skeletonSlideTextIn .5s 3.5s 1 forwards,skeletonFadeTextIn .4s 3.8s 1 forwards}.skeleton-animation_button.five{animation-delay:3.2s}.skeleton-animation_button.five .skeleton-animation_text{animation:skeletonSlideTextIn .5s 4s 1 forwards,skeletonFadeTextIn .4s 4.3s 1 forwards}.skeleton-animation_button.five .skeleton-animation_text+.skeleton-animation_text{animation:skeletonSlideTextIn .5s 4.1s 1 forwards,skeletonFadeTextIn .4s 4.4s 1 forwards}.skeleton-animation_button.six{animation-delay:3.6s}.skeleton-animation_button.six .skeleton-animation_text{animation:skeletonSlideTextIn .5s 4.2s 1 forwards,skeletonFadeTextIn .4s 4.5s 1 forwards}.skeleton-animation_button.six .skeleton-animation_text+.skeleton-animation_text{animation:skeletonSlideTextIn .5s 4.3s 1 forwards,skeletonFadeTextIn .4s 4.6s 1 forwards}@keyframes skeletonSlideBlocksIn{from{animation-timing-function:cubic-bezier(.215,.61,.355,1)}90%,to{animation-timing-function:ease-out}from{transform:translate3d(0,2000px,0)}90%{transform:translate3d(0,-6px,0)}to{transform:translate3d(0,0,0)}}@keyframes skeletonSlideTextIn{from,to{animation-timing-function:ease-in-out}from{transform:translate3d(0,500px,0)}to{transform:translate3d(0,0,0)}}@keyframes skeletonFadeTextIn{from,to{animation-timing-function:ease-in-out}from{opacity:0}to{opacity:1}}@keyframes skeletonShine{from{left:-100px}50%,to{left:100%}}\\n  }\\n</style>\\n\\n<div class=\"large-screen-animation\">\\n  <div class=\"skeleton-animation_header\">\\n    <p class=\"skeleton-animation_text m-logo\"></p>\\n    <p class=\"skeleton-animation_text\"></p>\\n    <p class=\"skeleton-animation_text\"></p>\\n    <p class=\"skeleton-animation_text\"></p>\\n    <p class=\"skeleton-animation_text\"></p>\\n    <p class=\"skeleton-animation_text\"></p>\\n  </div>\\n  <div class=\"skeleton-animation_hero\">\\n    <p class=\"skeleton-animation_text m-large\"></p>\\n    <p class=\"skeleton-animation_text\"></p>\\n    <p class=\"skeleton-animation_text m-small\"></p>\\n  </div>\\n\\n  <div class=\"skeleton-animation_list\">\\n    <div class=\"skeleton-animation_list-item skeleton-animation_piece one\">\\n      <div class=\"skeleton-animation_block\"></div>\\n      <p class=\"skeleton-animation_text m-small\"></p>\\n      <p class=\"skeleton-animation_text\"></p>\\n      <p class=\"skeleton-animation_text m-small\"></p>\\n    </div>\\n\\n    <div class=\"skeleton-animation_list-item skeleton-animation_piece two\">\\n      <div class=\"skeleton-animation_block\"></div>\\n      <p class=\"skeleton-animation_text m-small\"></p>\\n      <p class=\"skeleton-animation_text\"></p>\\n      <p class=\"skeleton-animation_text m-small\"></p>\\n    </div>\\n\\n    <div class=\"skeleton-animation_list-item skeleton-animation_piece three\">\\n      <div class=\"skeleton-animation_block\"></div>\\n      <p class=\"skeleton-animation_text m-small\"></p>\\n      <p class=\"skeleton-animation_text\"></p>\\n      <p class=\"skeleton-animation_text m-small\"></p>\\n    </div>\\n\\n  </div>\\n</div>\\n\\n<div class=\"small-screen-animation\">\\n  <div class=\"skeleton-animation_header\">\\n    <p class=\"skeleton-animation_text\"></p>\\n  </div>\\n  <div class=\"skeleton-animation_hero\">\\n    <p class=\"skeleton-animation_text\"></p>\\n    <p class=\"skeleton-animation_text\"></p>\\n  </div>\\n  <div class=\"skeleton-animation_button one\">\\n    <i class=\"skeleton-animation_icon\"></i>\\n    <p class=\"skeleton-animation_text\"></p>\\n    <p class=\"skeleton-animation_text\"></p>\\n  </div>\\n  <div class=\"skeleton-animation_button two\">\\n    <i class=\"skeleton-animation_icon\"></i>\\n    <p class=\"skeleton-animation_text\"></p>\\n    <p class=\"skeleton-animation_text\"></p>\\n  </div>\\n  <div class=\"skeleton-animation_button three\">\\n    <i class=\"skeleton-animation_icon\"></i>\\n    <p class=\"skeleton-animation_text\"></p>\\n    <p class=\"skeleton-animation_text\"></p>\\n  </div>\\n  <div class=\"skeleton-animation_button four\">\\n    <i class=\"skeleton-animation_icon\"></i>\\n    <p class=\"skeleton-animation_text\"></p>\\n    <p class=\"skeleton-animation_text\"></p>\\n  </div>\\n  <div class=\"skeleton-animation_button five\">\\n    <i class=\"skeleton-animation_icon\"></i>\\n    <p class=\"skeleton-animation_text\"></p>\\n    <p class=\"skeleton-animation_text\"></p>\\n  </div>\\n  <div class=\"skeleton-animation_button six\">\\n    <i class=\"skeleton-animation_icon\"></i>\\n    <p class=\"skeleton-animation_text\"></p>\\n    <p class=\"skeleton-animation_text\"></p>\\n  </div>\\n</div>\\n  </div>\\n    \\n\\t\\n<style type=\"text/css\">\\n.cookie-check {\\n\\tdisplay: flex;\\n    position: absolute;\\n    top: 0;\\n    left: 0;\\n    right: 0;\\n    bottom: 0;\\n    justify-content: center;\\n    align-items: center;\\n}\\n.cookie-check a {\\n\\ttext-decoration: underline;\\n}\\n</style>\\n\\n\\t <script>\\n    window.addEventListener(\\'load\\', function(){\\n\\t\\tif(!navigator.cookieEnabled){\\n\\t\\t\\tdocument.getElementById(\\'cookie-check\\').style.display = \\'flex\\';\\n\\t\\t\\tdocument.getElementById(\\'static-app\\').style.display = \\'none\\';\\n\\t\\t}\\n    });\\n</script>\\n\\t<div id=\"cookie-check\" class=\"cookie-check\" style=\"display: none\">\\n \\tPlease enable the cookies and &nbsp;<a href=\"javascript:location.reload()\">reload</a>&nbsp; the website\\n    </div>\\n\\n    <div id=\"app\" style=\"display: none;\"></div>\\n    \\n  <script type=\"text/javascript\">__meteor_runtime_config__ = JSON.parse(decodeURIComponent(\"%7B%22meteorRelease%22%3A%22METEOR%402.3.5%22%2C%22gitCommitHash%22%3A%229c456d2f5b30944c431e71125d2b9545c5621873%22%2C%22meteorEnv%22%3A%7B%22NODE_ENV%22%3A%22production%22%2C%22TEST_METADATA%22%3A%22%7B%7D%22%7D%2C%22PUBLIC_SETTINGS%22%3A%7B%22packages%22%3A%7B%22logs%22%3A%7B%22env%22%3A%22app%22%2C%22enableClientLogging%22%3Afalse%7D%7D%2C%22wallsIoPartnerId%22%3A%22XcLuMaTe9dso%22%2C%22performanceSettings%22%3A%7B%22forceAgendaTileView%22%3Atrue%7D%2C%22isApp%22%3Atrue%2C%22clusterName%22%3A%22us1%22%2C%22aggressiveServerCaching%22%3Atrue%2C%22aggressiveClientCaching%22%3Afalse%2C%22appHost%22%3A%22pathable.co%22%2C%22adminHost%22%3A%22admin.pathable.co%22%2C%22forceSSL%22%3Atrue%2C%22filepickerKey%22%3A%22ARv6lIAZ0QNi4ldM9AEXwz%22%2C%22filestackWorkflows%22%3A%7B%22autoplay%22%3A%22dd8f5e6d-e762-4e3f-91a7-0b97c59077c8%22%2C%22vod%22%3A%2253996989-7a45-4015-9e93-8ea1bf5e907b%22%7D%2C%22googleMapsKey%22%3A%22AIzaSyD4Oxu5oA_t-Fv5niTZYrzhCtmbo04Cxn8%22%2C%22environment%22%3A%22production%22%2C%22logging%22%3A%7B%22disableAll%22%3Afalse%2C%22styleCache%22%3Afalse%2C%22ssr%22%3Afalse%2C%22importer%22%3Atrue%2C%22restApi%22%3Atrue%2C%22searchCache%22%3Atrue%7D%2C%22jobsAppUrl%22%3A%22https%3A%2F%2Fjobs.pathable.co%22%2C%22supervisorUrl%22%3A%22https%3A%2F%2Fsupervisor.pathable.co%22%2C%22apiHost%22%3A%22api.pathable.co%22%2C%22hypervisorApiHost%22%3A%22api.pathable.co%22%2C%22pathableZoomClientURL%22%3A%22https%3A%2F%2Fapi.pathable.co%2Fz%22%2C%22disconnectTimeSec%22%3A300%2C%22secureZoomURLs%22%3Atrue%2C%22offline%22%3A%7B%22pollingInterval%22%3A300000%7D%2C%22analyticsSettings%22%3A%7B%22GoogleAnalytics%22%3A%7B%22trackingId%22%3A%22UA-121890172-1%22%2C%22fallbackEnabled%22%3Atrue%2C%22fallbackTrackingId%22%3A%22UA-182669479-2%22%7D%2C%22GoogleTagManager%22%3A%7B%22tagId%22%3A%22GTM-WSL5KFV%22%7D%7D%2C%22reloader%22%3A%7B%22refresh%22%3A%22instantly%22%7D%2C%22publishComposite%22%3A%7B%22unblock%22%3Atrue%7D%2C%22zendesk%22%3A%7B%22widgetId%22%3A%22e6d6b1eb-d8dd-4016-85e9-4d61670b5a40%22%7D%7D%2C%22ROOT_URL%22%3A%22https%3A%2F%2Fwww.pathable.co%22%2C%22ROOT_URL_PATH_PREFIX%22%3A%22%22%2C%22reactFastRefreshEnabled%22%3Atrue%2C%22kadira%22%3A%7B%22appId%22%3A%22WLYzMhaASX7a3mEt4%22%2C%22endpoint%22%3A%22https%3A%2F%2Fapm-engine.meteor.com%22%2C%22clientEngineSyncDelay%22%3A10000%2C%22enableErrorTracking%22%3Atrue%7D%2C%22autoupdate%22%3A%7B%22versions%22%3A%7B%22web.browser%22%3A%7B%22version%22%3A%2214%22%2C%22versionRefreshable%22%3A%2214%22%2C%22versionNonRefreshable%22%3A%2214%22%2C%22versionReplaceable%22%3A%2214%22%7D%2C%22web.browser.legacy%22%3A%7B%22version%22%3A%2214%22%2C%22versionRefreshable%22%3A%2214%22%2C%22versionNonRefreshable%22%3A%2214%22%2C%22versionReplaceable%22%3A%2214%22%7D%2C%22web.cordova%22%3A%7B%22version%22%3A%2214%22%2C%22versionRefreshable%22%3A%2214%22%2C%22versionNonRefreshable%22%3A%2214%22%2C%22versionReplaceable%22%3A%2214%22%7D%7D%2C%22autoupdateVersion%22%3Anull%2C%22autoupdateVersionRefreshable%22%3Anull%2C%22autoupdateVersionCordova%22%3Anull%2C%22appId%22%3A%2210skyjz1cfx6r71ipyxld%22%7D%2C%22appId%22%3A%2210skyjz1cfx6r71ipyxld%22%2C%22accountsConfigCalled%22%3Atrue%2C%22isModern%22%3Afalse%7D\"))</script>\\n\\n  <script type=\"text/javascript\" src=\"https://d1nr3bu1jcutjl.cloudfront.net/8ee29860d4ec86651307252d400ea294944458bc.js?meteor_js_resource=true&amp;_g_app_v_=1036\" integrity=\"sha512-eQEPQuMfzOYlIWAXgdlgARVKr8DhIMpUmkqvbCC9wu918s8P7DgdjOYeLBl5ROhwHIsAXpXNW19xP5jloUXYcw==\" crossorigin=\"anonymous\"></script>\\n  <script>\\nsetTimeout(function() {\\n  if (!window.hasOwnProperty(\"cordova\")) {\\n    if (\\n      typeof Package === \"undefined\" ||\\n      !Package.webapp ||\\n      !Package.webapp.WebApp ||\\n      !Package.webapp.WebApp._isCssLoaded()\\n    ) {\\n      console.log(\"Meteor not found, reloading...\");\\n      window.location.reload();\\n    }\\n  }\\n}, 5000);\\n</script>\\n\\n\\n</body>\\n</html>'"
      ]
     },
     "execution_count": 200,
     "metadata": {},
     "output_type": "execute_result"
    }
   ],
   "source": [
    "html"
   ]
  },
  {
   "cell_type": "markdown",
   "metadata": {},
   "source": [
    "# New Version"
   ]
  },
  {
   "cell_type": "code",
   "execution_count": 278,
   "metadata": {},
   "outputs": [],
   "source": [
    "alpha = 'QWERTYUIOPASDFGHJKLZXCVBNM'\n",
    "letters = [x for x in alpha]\n",
    "len(letters)\n",
    "letter = 'E'"
   ]
  },
  {
   "cell_type": "code",
   "execution_count": 279,
   "metadata": {},
   "outputs": [],
   "source": [
    "url = \"\"\"https://aidatasciencetradingfall.pathable.co/people#/?limit=2500&searchByComparators[0]=\n",
    "&searchByComparators[1]=%24eq&searchByDisjunctives[0]=false&searchByDisjunctives[1]=false\n",
    "&searchByEncoding[0]&searchByEncoding[1]&searchByFieldKeys[0]=firstName&searchByFieldKeys[1]=membership.isVisible\n",
    "&searchByFields[0]=firstName&searchByFields[1]=membership.isVisible&searchBySpecial[0]\n",
    "&searchBySpecial[1]&searchByTypes[0]=String&searchByValues[0]=\"\"\"+letter+\"\"\"&searchByValues[1]=true\n",
    "&sortByFields[0]=lastName&sortByFields[1]=title&sortByFields[2]=lastName&sortByOrders[0]=1\n",
    "&sortByOrders[1]=1&sortByOrders[2]=1&uid=BS8cwJQ26L3fED7Tq\"\"\""
   ]
  },
  {
   "cell_type": "code",
   "execution_count": 255,
   "metadata": {},
   "outputs": [],
   "source": [
    "url = \"\"\"https://aidatasciencetradingfall.pathable.co/people#/?limit=1000&searchByComparators[0]=\n",
    "&searchByComparators[1]=%24eq&searchByDisjunctives[0]=false\n",
    "&searchByDisjunctives[1]=false&searchByEncoding[0]&searchByEncoding[1]\n",
    "&searchByFieldKeys[0]=companyName&searchByFieldKeys[1]=membership.isVisible\n",
    "&searchByFields[0]=companyName&searchByFields[1]=membership.isVisible\n",
    "&searchBySpecial[0]&searchBySpecial[1]&searchByTypes[0]=String&searchByValues[0]=A\n",
    "&searchByValues[1]=true&sortByFields[0]=lastName&sortByFields[1]=title\n",
    "&sortByFields[2]=lastName&sortByOrders[0]=1\n",
    "&sortByOrders[1]=1&sortByOrders[2]=1&uid=BS8cwJQ26L3fED7Tq\"\"\""
   ]
  },
  {
   "cell_type": "code",
   "execution_count": 270,
   "metadata": {},
   "outputs": [],
   "source": [
    "url = \"\"\"https://aidatasciencetradingfall.pathable.co/people#/?limit=20\n",
    "&searchByComparators[0]=&searchByComparators[1]=&searchByComparators[2]=%24eq\n",
    "&searchByDisjunctives[0]=false&searchByDisjunctives[1]=false&searchByDisjunctives[2]=false\n",
    "&searchByEncoding[0]&searchByEncoding[1]&searchByEncoding[2]&searchByFieldKeys[0]=companyName\n",
    "&searchByFieldKeys[1]=firstName&searchByFieldKeys[2]=membership.isVisible\n",
    "&searchByFields[0]=companyName&searchByFields[1]=firstName&searchByFields[2]=membership.isVisible\n",
    "&searchBySpecial[0]&searchBySpecial[1]&searchBySpecial[2]&searchByTypes[0]=String&searchByTypes[1]=String\n",
    "&searchByValues[0]=Z&searchByValues[1]=Z&searchByValues[2]=true&sortByFields[0]=lastName\n",
    "&sortByFields[1]=title&sortByFields[2]=lastName&sortByOrders[0]=1&sortByOrders[1]=1\n",
    "&sortByOrders[2]=1&uid=BS8cwJQ26L3fED7Tq\"\"\""
   ]
  },
  {
   "cell_type": "code",
   "execution_count": 276,
   "metadata": {},
   "outputs": [],
   "source": [
    "url = \"\"\"https://aidatasciencetradingfall.pathable.co/people#/?limit=2500\n",
    "&searchByComparators[0]=%24eq&searchByDisjunctives[0]=false&searchByEncoding[0]\n",
    "&searchByFieldKeys[0]=membership.isVisible&searchByFields[0]=membership.isVisible\n",
    "&searchBySpecial[0]&searchByValues[0]=true&sortByFields[0]=lastName&sortByFields[1]=title\n",
    "&sortByFields[2]=lastName&sortByOrders[0]=1\n",
    "&sortByOrders[1]=1&sortByOrders[2]=1&uid=BS8cwJQ26L3fED7Tq\"\"\""
   ]
  },
  {
   "cell_type": "code",
   "execution_count": 280,
   "metadata": {},
   "outputs": [],
   "source": [
    "driver = webdriver.Safari()\n",
    "driver.get(url)"
   ]
  },
  {
   "cell_type": "code",
   "execution_count": 273,
   "metadata": {},
   "outputs": [
    {
     "ename": "InvalidSessionIdException",
     "evalue": "Message: \n",
     "output_type": "error",
     "traceback": [
      "\u001b[0;31m---------------------------------------------------------------------------\u001b[0m",
      "\u001b[0;31mInvalidSessionIdException\u001b[0m                 Traceback (most recent call last)",
      "\u001b[0;32m<ipython-input-273-88c6c5ef689c>\u001b[0m in \u001b[0;36m<module>\u001b[0;34m\u001b[0m\n\u001b[0;32m----> 1\u001b[0;31m \u001b[0mdriver\u001b[0m\u001b[0;34m.\u001b[0m\u001b[0mfind_element_by_id\u001b[0m\u001b[0;34m(\u001b[0m\u001b[0;34m\"cookie-accept-button\"\u001b[0m\u001b[0;34m)\u001b[0m\u001b[0;34m.\u001b[0m\u001b[0mclick\u001b[0m\u001b[0;34m(\u001b[0m\u001b[0;34m)\u001b[0m\u001b[0;34m\u001b[0m\u001b[0;34m\u001b[0m\u001b[0m\n\u001b[0m",
      "\u001b[0;32m~/opt/anaconda3/lib/python3.7/site-packages/selenium/webdriver/remote/webdriver.py\u001b[0m in \u001b[0;36mfind_element_by_id\u001b[0;34m(self, id_)\u001b[0m\n\u001b[1;32m    358\u001b[0m             \u001b[0melement\u001b[0m \u001b[0;34m=\u001b[0m \u001b[0mdriver\u001b[0m\u001b[0;34m.\u001b[0m\u001b[0mfind_element_by_id\u001b[0m\u001b[0;34m(\u001b[0m\u001b[0;34m'foo'\u001b[0m\u001b[0;34m)\u001b[0m\u001b[0;34m\u001b[0m\u001b[0;34m\u001b[0m\u001b[0m\n\u001b[1;32m    359\u001b[0m         \"\"\"\n\u001b[0;32m--> 360\u001b[0;31m         \u001b[0;32mreturn\u001b[0m \u001b[0mself\u001b[0m\u001b[0;34m.\u001b[0m\u001b[0mfind_element\u001b[0m\u001b[0;34m(\u001b[0m\u001b[0mby\u001b[0m\u001b[0;34m=\u001b[0m\u001b[0mBy\u001b[0m\u001b[0;34m.\u001b[0m\u001b[0mID\u001b[0m\u001b[0;34m,\u001b[0m \u001b[0mvalue\u001b[0m\u001b[0;34m=\u001b[0m\u001b[0mid_\u001b[0m\u001b[0;34m)\u001b[0m\u001b[0;34m\u001b[0m\u001b[0;34m\u001b[0m\u001b[0m\n\u001b[0m\u001b[1;32m    361\u001b[0m \u001b[0;34m\u001b[0m\u001b[0m\n\u001b[1;32m    362\u001b[0m     \u001b[0;32mdef\u001b[0m \u001b[0mfind_elements_by_id\u001b[0m\u001b[0;34m(\u001b[0m\u001b[0mself\u001b[0m\u001b[0;34m,\u001b[0m \u001b[0mid_\u001b[0m\u001b[0;34m)\u001b[0m\u001b[0;34m:\u001b[0m\u001b[0;34m\u001b[0m\u001b[0;34m\u001b[0m\u001b[0m\n",
      "\u001b[0;32m~/opt/anaconda3/lib/python3.7/site-packages/selenium/webdriver/remote/webdriver.py\u001b[0m in \u001b[0;36mfind_element\u001b[0;34m(self, by, value)\u001b[0m\n\u001b[1;32m    976\u001b[0m         return self.execute(Command.FIND_ELEMENT, {\n\u001b[1;32m    977\u001b[0m             \u001b[0;34m'using'\u001b[0m\u001b[0;34m:\u001b[0m \u001b[0mby\u001b[0m\u001b[0;34m,\u001b[0m\u001b[0;34m\u001b[0m\u001b[0;34m\u001b[0m\u001b[0m\n\u001b[0;32m--> 978\u001b[0;31m             'value': value})['value']\n\u001b[0m\u001b[1;32m    979\u001b[0m \u001b[0;34m\u001b[0m\u001b[0m\n\u001b[1;32m    980\u001b[0m     \u001b[0;32mdef\u001b[0m \u001b[0mfind_elements\u001b[0m\u001b[0;34m(\u001b[0m\u001b[0mself\u001b[0m\u001b[0;34m,\u001b[0m \u001b[0mby\u001b[0m\u001b[0;34m=\u001b[0m\u001b[0mBy\u001b[0m\u001b[0;34m.\u001b[0m\u001b[0mID\u001b[0m\u001b[0;34m,\u001b[0m \u001b[0mvalue\u001b[0m\u001b[0;34m=\u001b[0m\u001b[0;32mNone\u001b[0m\u001b[0;34m)\u001b[0m\u001b[0;34m:\u001b[0m\u001b[0;34m\u001b[0m\u001b[0;34m\u001b[0m\u001b[0m\n",
      "\u001b[0;32m~/opt/anaconda3/lib/python3.7/site-packages/selenium/webdriver/remote/webdriver.py\u001b[0m in \u001b[0;36mexecute\u001b[0;34m(self, driver_command, params)\u001b[0m\n\u001b[1;32m    319\u001b[0m         \u001b[0mresponse\u001b[0m \u001b[0;34m=\u001b[0m \u001b[0mself\u001b[0m\u001b[0;34m.\u001b[0m\u001b[0mcommand_executor\u001b[0m\u001b[0;34m.\u001b[0m\u001b[0mexecute\u001b[0m\u001b[0;34m(\u001b[0m\u001b[0mdriver_command\u001b[0m\u001b[0;34m,\u001b[0m \u001b[0mparams\u001b[0m\u001b[0;34m)\u001b[0m\u001b[0;34m\u001b[0m\u001b[0;34m\u001b[0m\u001b[0m\n\u001b[1;32m    320\u001b[0m         \u001b[0;32mif\u001b[0m \u001b[0mresponse\u001b[0m\u001b[0;34m:\u001b[0m\u001b[0;34m\u001b[0m\u001b[0;34m\u001b[0m\u001b[0m\n\u001b[0;32m--> 321\u001b[0;31m             \u001b[0mself\u001b[0m\u001b[0;34m.\u001b[0m\u001b[0merror_handler\u001b[0m\u001b[0;34m.\u001b[0m\u001b[0mcheck_response\u001b[0m\u001b[0;34m(\u001b[0m\u001b[0mresponse\u001b[0m\u001b[0;34m)\u001b[0m\u001b[0;34m\u001b[0m\u001b[0;34m\u001b[0m\u001b[0m\n\u001b[0m\u001b[1;32m    322\u001b[0m             response['value'] = self._unwrap_value(\n\u001b[1;32m    323\u001b[0m                 response.get('value', None))\n",
      "\u001b[0;32m~/opt/anaconda3/lib/python3.7/site-packages/selenium/webdriver/remote/errorhandler.py\u001b[0m in \u001b[0;36mcheck_response\u001b[0;34m(self, response)\u001b[0m\n\u001b[1;32m    240\u001b[0m                 \u001b[0malert_text\u001b[0m \u001b[0;34m=\u001b[0m \u001b[0mvalue\u001b[0m\u001b[0;34m[\u001b[0m\u001b[0;34m'alert'\u001b[0m\u001b[0;34m]\u001b[0m\u001b[0;34m.\u001b[0m\u001b[0mget\u001b[0m\u001b[0;34m(\u001b[0m\u001b[0;34m'text'\u001b[0m\u001b[0;34m)\u001b[0m\u001b[0;34m\u001b[0m\u001b[0;34m\u001b[0m\u001b[0m\n\u001b[1;32m    241\u001b[0m             \u001b[0;32mraise\u001b[0m \u001b[0mexception_class\u001b[0m\u001b[0;34m(\u001b[0m\u001b[0mmessage\u001b[0m\u001b[0;34m,\u001b[0m \u001b[0mscreen\u001b[0m\u001b[0;34m,\u001b[0m \u001b[0mstacktrace\u001b[0m\u001b[0;34m,\u001b[0m \u001b[0malert_text\u001b[0m\u001b[0;34m)\u001b[0m\u001b[0;34m\u001b[0m\u001b[0;34m\u001b[0m\u001b[0m\n\u001b[0;32m--> 242\u001b[0;31m         \u001b[0;32mraise\u001b[0m \u001b[0mexception_class\u001b[0m\u001b[0;34m(\u001b[0m\u001b[0mmessage\u001b[0m\u001b[0;34m,\u001b[0m \u001b[0mscreen\u001b[0m\u001b[0;34m,\u001b[0m \u001b[0mstacktrace\u001b[0m\u001b[0;34m)\u001b[0m\u001b[0;34m\u001b[0m\u001b[0;34m\u001b[0m\u001b[0m\n\u001b[0m\u001b[1;32m    243\u001b[0m \u001b[0;34m\u001b[0m\u001b[0m\n\u001b[1;32m    244\u001b[0m     \u001b[0;32mdef\u001b[0m \u001b[0m_value_or_default\u001b[0m\u001b[0;34m(\u001b[0m\u001b[0mself\u001b[0m\u001b[0;34m,\u001b[0m \u001b[0mobj\u001b[0m\u001b[0;34m,\u001b[0m \u001b[0mkey\u001b[0m\u001b[0;34m,\u001b[0m \u001b[0mdefault\u001b[0m\u001b[0;34m)\u001b[0m\u001b[0;34m:\u001b[0m\u001b[0;34m\u001b[0m\u001b[0;34m\u001b[0m\u001b[0m\n",
      "\u001b[0;31mInvalidSessionIdException\u001b[0m: Message: \n"
     ]
    }
   ],
   "source": [
    "driver.find_element_by_id(\"cookie-accept-button\").click()"
   ]
  },
  {
   "cell_type": "code",
   "execution_count": 281,
   "metadata": {},
   "outputs": [],
   "source": [
    "elementName = driver.find_elements_by_class_name(\"flexcard_details\")"
   ]
  },
  {
   "cell_type": "code",
   "execution_count": 284,
   "metadata": {},
   "outputs": [],
   "source": [
    "names = [elementName[i].find_element_by_class_name(\"flexcard_name\").text for i in range(len(elementName))]\n",
    "companies = [elementName[i].find_element_by_class_name(\"flexcard_company\").text for i in range(len(elementName))]\n",
    "position = [elementName[i].find_element_by_class_name(\"flexcard_position\").text for i in range(len(elementName))]\n",
    "role = [elementName[i].find_element_by_class_name(\"flexcard_name\").text for i in range(len(elementName))]"
   ]
  },
  {
   "cell_type": "code",
   "execution_count": 283,
   "metadata": {},
   "outputs": [
    {
     "data": {
      "text/plain": [
       "1123"
      ]
     },
     "execution_count": 283,
     "metadata": {},
     "output_type": "execute_result"
    }
   ],
   "source": [
    "len(names)"
   ]
  },
  {
   "cell_type": "code",
   "execution_count": 226,
   "metadata": {},
   "outputs": [
    {
     "data": {
      "text/plain": [
       "'Felicia Pathable Support'"
      ]
     },
     "execution_count": 226,
     "metadata": {},
     "output_type": "execute_result"
    }
   ],
   "source": [
    "names[-1]"
   ]
  },
  {
   "cell_type": "code",
   "execution_count": 290,
   "metadata": {},
   "outputs": [],
   "source": [
    "info = [[elementName[i].find_element_by_class_name(\"flexcard_name\").text,\n",
    "         elementName[i].find_element_by_class_name(\"flexcard_company\").text,\n",
    "         elementName[i].find_element_by_class_name(\"flexcard_position\").text] for i in range(len(elementName))]"
   ]
  },
  {
   "cell_type": "code",
   "execution_count": 291,
   "metadata": {},
   "outputs": [
    {
     "data": {
      "text/html": [
       "<div>\n",
       "<style scoped>\n",
       "    .dataframe tbody tr th:only-of-type {\n",
       "        vertical-align: middle;\n",
       "    }\n",
       "\n",
       "    .dataframe tbody tr th {\n",
       "        vertical-align: top;\n",
       "    }\n",
       "\n",
       "    .dataframe thead th {\n",
       "        text-align: right;\n",
       "    }\n",
       "</style>\n",
       "<table border=\"1\" class=\"dataframe\">\n",
       "  <thead>\n",
       "    <tr style=\"text-align: right;\">\n",
       "      <th></th>\n",
       "      <th>0</th>\n",
       "      <th>1</th>\n",
       "      <th>2</th>\n",
       "    </tr>\n",
       "  </thead>\n",
       "  <tbody>\n",
       "    <tr>\n",
       "      <th>0</th>\n",
       "      <td>Eric A</td>\n",
       "      <td>self</td>\n",
       "      <td>trader</td>\n",
       "    </tr>\n",
       "    <tr>\n",
       "      <th>1</th>\n",
       "      <td>Adel ABAAB</td>\n",
       "      <td>ESILV</td>\n",
       "      <td>Financial Engineering Student</td>\n",
       "    </tr>\n",
       "    <tr>\n",
       "      <th>2</th>\n",
       "      <td>Yousef Abbasi</td>\n",
       "      <td>Skymatics</td>\n",
       "      <td>Data Engineer/Data Scientist</td>\n",
       "    </tr>\n",
       "    <tr>\n",
       "      <th>3</th>\n",
       "      <td>pedram Abbasi</td>\n",
       "      <td>ihs markit</td>\n",
       "      <td>quant</td>\n",
       "    </tr>\n",
       "    <tr>\n",
       "      <th>4</th>\n",
       "      <td>Muhenned Abdulsahib</td>\n",
       "      <td>University of Arkansas</td>\n",
       "      <td>Graduate Student</td>\n",
       "    </tr>\n",
       "    <tr>\n",
       "      <th>...</th>\n",
       "      <td>...</td>\n",
       "      <td>...</td>\n",
       "      <td>...</td>\n",
       "    </tr>\n",
       "    <tr>\n",
       "      <th>1118</th>\n",
       "      <td>Luofeng Zhou</td>\n",
       "      <td>Columbia Business School</td>\n",
       "      <td>Research Staff Associate</td>\n",
       "    </tr>\n",
       "    <tr>\n",
       "      <th>1119</th>\n",
       "      <td>Pengxiang Zhou</td>\n",
       "      <td>Tsinghua University</td>\n",
       "      <td>Student</td>\n",
       "    </tr>\n",
       "    <tr>\n",
       "      <th>1120</th>\n",
       "      <td>Pengxiang Zhou</td>\n",
       "      <td>Tsinghua University</td>\n",
       "      <td>Student</td>\n",
       "    </tr>\n",
       "    <tr>\n",
       "      <th>1121</th>\n",
       "      <td>Stefan Zohren</td>\n",
       "      <td>Oxford-Man Institute</td>\n",
       "      <td>Research Fellow in ML in Finance</td>\n",
       "    </tr>\n",
       "    <tr>\n",
       "      <th>1122</th>\n",
       "      <td>Esteban Zuluaga, CQF</td>\n",
       "      <td>BTG Pactual</td>\n",
       "      <td>Associate Director</td>\n",
       "    </tr>\n",
       "  </tbody>\n",
       "</table>\n",
       "<p>1123 rows × 3 columns</p>\n",
       "</div>"
      ],
      "text/plain": [
       "                         0                         1  \\\n",
       "0                   Eric A                      self   \n",
       "1               Adel ABAAB                     ESILV   \n",
       "2            Yousef Abbasi                 Skymatics   \n",
       "3            pedram Abbasi                ihs markit   \n",
       "4      Muhenned Abdulsahib    University of Arkansas   \n",
       "...                    ...                       ...   \n",
       "1118          Luofeng Zhou  Columbia Business School   \n",
       "1119        Pengxiang Zhou       Tsinghua University   \n",
       "1120        Pengxiang Zhou       Tsinghua University   \n",
       "1121         Stefan Zohren      Oxford-Man Institute   \n",
       "1122  Esteban Zuluaga, CQF               BTG Pactual   \n",
       "\n",
       "                                     2  \n",
       "0                               trader  \n",
       "1        Financial Engineering Student  \n",
       "2         Data Engineer/Data Scientist  \n",
       "3                                quant  \n",
       "4                     Graduate Student  \n",
       "...                                ...  \n",
       "1118          Research Staff Associate  \n",
       "1119                           Student  \n",
       "1120                           Student  \n",
       "1121  Research Fellow in ML in Finance  \n",
       "1122                Associate Director  \n",
       "\n",
       "[1123 rows x 3 columns]"
      ]
     },
     "execution_count": 291,
     "metadata": {},
     "output_type": "execute_result"
    }
   ],
   "source": [
    "df = pd.DataFrame(info)\n",
    "df"
   ]
  },
  {
   "cell_type": "code",
   "execution_count": 333,
   "metadata": {},
   "outputs": [],
   "source": [
    "#infodict = {}\n",
    "driver = webdriver.Safari()\n",
    "for letter in letters[10:]:\n",
    "    url = \"https://aidatasciencetradingfall.pathable.co/people#/?limit=2500&searchByComparators[0]=&searchByComparators[1]=%24eq&searchByDisjunctives[0]=false&searchByDisjunctives[1]=false&searchByEncoding[0]&searchByEncoding[1]&searchByFieldKeys[0]=firstName&searchByFieldKeys[1]=membership.isVisible&searchByFields[0]=firstName&searchByFields[1]=membership.isVisible&searchBySpecial[0]&searchBySpecial[1]&searchByTypes[0]=String&searchByValues[0]=\"+letter+\"&searchByValues[1]=true&sortByFields[0]=lastName&sortByFields[1]=title&sortByFields[2]=lastName&sortByOrders[0]=1&sortByOrders[1]=1&sortByOrders[2]=1&uid=BS8cwJQ26L3fED7Tq\"\n",
    "    driver.get(url)\n",
    "    time.sleep(360)  # Allow 2 seconds for the web page to open\n",
    "    WebDriverWait(driver, delay).until(EC.presence_of_element_located((By.CLASS_NAME, 'flexcard_details')))\n",
    "    elementName = driver.find_elements_by_class_name(\"flexcard_details\")\n",
    "    info = [[elementName[i].find_element_by_class_name(\"flexcard_name\").text,\n",
    "             elementName[i].find_element_by_class_name(\"flexcard_company\").text,\n",
    "             elementName[i].find_element_by_class_name(\"flexcard_position\").text] for i in range(len(elementName))]\n",
    "    infodict[letter] = pd.DataFrame(info)\n",
    "pickle.dump(infodict, open( \"infodict.p\", \"wb\" ) )\n",
    "driver.quit()"
   ]
  },
  {
   "cell_type": "code",
   "execution_count": 316,
   "metadata": {},
   "outputs": [],
   "source": [
    "letter = \"B\"\n",
    "url = \"\"\"https://aidatasciencetradingfall.pathable.co/people#/?limit=2500&searchByComparators[0]=&searchByComparators[1]=%24eq&searchByDisjunctives[0]=false&searchByDisjunctives[1]=false&searchByEncoding[0]&searchByEncoding[1]&searchByFieldKeys[0]=firstName&searchByFieldKeys[1]=membership.isVisible&searchByFields[0]=firstName&searchByFields[1]=membership.isVisible&searchBySpecial[0]&searchBySpecial[1]&searchByTypes[0]=String&searchByValues[0]=\"\"\"+letter+\"\"\"&searchByValues[1]=true&sortByFields[0]=lastName&sortByFields[1]=title&sortByFields[2]=lastName&sortByOrders[0]=1&sortByOrders[1]=1&sortByOrders[2]=1&uid=BS8cwJQ26L3fED7Tq\"\"\""
   ]
  },
  {
   "cell_type": "code",
   "execution_count": 317,
   "metadata": {},
   "outputs": [],
   "source": [
    "driver = webdriver.Safari()\n",
    "driver.get(url)"
   ]
  },
  {
   "cell_type": "code",
   "execution_count": 322,
   "metadata": {},
   "outputs": [],
   "source": [
    "driver.quit()"
   ]
  },
  {
   "cell_type": "code",
   "execution_count": 332,
   "metadata": {},
   "outputs": [
    {
     "data": {
      "text/plain": [
       "10"
      ]
     },
     "execution_count": 332,
     "metadata": {},
     "output_type": "execute_result"
    }
   ],
   "source": [
    "len(infodict.keys())"
   ]
  },
  {
   "cell_type": "code",
   "execution_count": 334,
   "metadata": {},
   "outputs": [
    {
     "data": {
      "text/plain": [
       "dict_keys(['Q', 'W', 'E', 'R', 'T', 'Y', 'U', 'I', 'O', 'P', 'A', 'S', 'D', 'F', 'G', 'H', 'J', 'K', 'L', 'Z', 'X', 'C', 'V', 'B', 'N', 'M'])"
      ]
     },
     "execution_count": 334,
     "metadata": {},
     "output_type": "execute_result"
    }
   ],
   "source": [
    "infodict.keys()"
   ]
  },
  {
   "cell_type": "code",
   "execution_count": 338,
   "metadata": {},
   "outputs": [
    {
     "ename": "TypeError",
     "evalue": "cannot concatenate object of type '<class 'list'>'; only Series and DataFrame objs are valid",
     "output_type": "error",
     "traceback": [
      "\u001b[0;31m---------------------------------------------------------------------------\u001b[0m",
      "\u001b[0;31mTypeError\u001b[0m                                 Traceback (most recent call last)",
      "\u001b[0;32m<ipython-input-338-279424d4e9b3>\u001b[0m in \u001b[0;36m<module>\u001b[0;34m\u001b[0m\n\u001b[0;32m----> 1\u001b[0;31m \u001b[0mallnames\u001b[0m \u001b[0;34m=\u001b[0m \u001b[0mpd\u001b[0m\u001b[0;34m.\u001b[0m\u001b[0mconcat\u001b[0m\u001b[0;34m(\u001b[0m\u001b[0;34m[\u001b[0m\u001b[0;34m[\u001b[0m\u001b[0mpd\u001b[0m\u001b[0;34m.\u001b[0m\u001b[0mDataFrame\u001b[0m\u001b[0;34m(\u001b[0m\u001b[0minfodict\u001b[0m\u001b[0;34m[\u001b[0m\u001b[0mx\u001b[0m\u001b[0;34m]\u001b[0m\u001b[0;34m)\u001b[0m \u001b[0;32mfor\u001b[0m \u001b[0mx\u001b[0m \u001b[0;32min\u001b[0m \u001b[0minfodict\u001b[0m\u001b[0;34m.\u001b[0m\u001b[0mkeys\u001b[0m\u001b[0;34m(\u001b[0m\u001b[0;34m)\u001b[0m\u001b[0;34m]\u001b[0m\u001b[0;34m]\u001b[0m\u001b[0;34m)\u001b[0m\u001b[0;34m.\u001b[0m\u001b[0mdrop_duplicates\u001b[0m\u001b[0;34m(\u001b[0m\u001b[0;34m)\u001b[0m\u001b[0;34m.\u001b[0m\u001b[0mreset_index\u001b[0m\u001b[0;34m(\u001b[0m\u001b[0mdrop\u001b[0m\u001b[0;34m=\u001b[0m\u001b[0;32mTrue\u001b[0m\u001b[0;34m)\u001b[0m\u001b[0;34m\u001b[0m\u001b[0;34m\u001b[0m\u001b[0m\n\u001b[0m",
      "\u001b[0;32m~/opt/anaconda3/lib/python3.7/site-packages/pandas/core/reshape/concat.py\u001b[0m in \u001b[0;36mconcat\u001b[0;34m(objs, axis, join, ignore_index, keys, levels, names, verify_integrity, sort, copy)\u001b[0m\n\u001b[1;32m    293\u001b[0m         \u001b[0mverify_integrity\u001b[0m\u001b[0;34m=\u001b[0m\u001b[0mverify_integrity\u001b[0m\u001b[0;34m,\u001b[0m\u001b[0;34m\u001b[0m\u001b[0;34m\u001b[0m\u001b[0m\n\u001b[1;32m    294\u001b[0m         \u001b[0mcopy\u001b[0m\u001b[0;34m=\u001b[0m\u001b[0mcopy\u001b[0m\u001b[0;34m,\u001b[0m\u001b[0;34m\u001b[0m\u001b[0;34m\u001b[0m\u001b[0m\n\u001b[0;32m--> 295\u001b[0;31m         \u001b[0msort\u001b[0m\u001b[0;34m=\u001b[0m\u001b[0msort\u001b[0m\u001b[0;34m,\u001b[0m\u001b[0;34m\u001b[0m\u001b[0;34m\u001b[0m\u001b[0m\n\u001b[0m\u001b[1;32m    296\u001b[0m     )\n\u001b[1;32m    297\u001b[0m \u001b[0;34m\u001b[0m\u001b[0m\n",
      "\u001b[0;32m~/opt/anaconda3/lib/python3.7/site-packages/pandas/core/reshape/concat.py\u001b[0m in \u001b[0;36m__init__\u001b[0;34m(self, objs, axis, join, keys, levels, names, ignore_index, verify_integrity, copy, sort)\u001b[0m\n\u001b[1;32m    368\u001b[0m                     \u001b[0;34m\"only Series and DataFrame objs are valid\"\u001b[0m\u001b[0;34m\u001b[0m\u001b[0;34m\u001b[0m\u001b[0m\n\u001b[1;32m    369\u001b[0m                 )\n\u001b[0;32m--> 370\u001b[0;31m                 \u001b[0;32mraise\u001b[0m \u001b[0mTypeError\u001b[0m\u001b[0;34m(\u001b[0m\u001b[0mmsg\u001b[0m\u001b[0;34m)\u001b[0m\u001b[0;34m\u001b[0m\u001b[0;34m\u001b[0m\u001b[0m\n\u001b[0m\u001b[1;32m    371\u001b[0m \u001b[0;34m\u001b[0m\u001b[0m\n\u001b[1;32m    372\u001b[0m             \u001b[0;31m# consolidate\u001b[0m\u001b[0;34m\u001b[0m\u001b[0;34m\u001b[0m\u001b[0;34m\u001b[0m\u001b[0m\n",
      "\u001b[0;31mTypeError\u001b[0m: cannot concatenate object of type '<class 'list'>'; only Series and DataFrame objs are valid"
     ]
    }
   ],
   "source": [
    "allnames = pd.concat([[pd.DataFrame(infodict[x]) for x in infodict.keys()]]).drop_duplicates().reset_index(drop=True)"
   ]
  },
  {
   "cell_type": "code",
   "execution_count": 339,
   "metadata": {},
   "outputs": [],
   "source": [
    "dfs = [pd.DataFrame(infodict[x]) for x in infodict.keys()]"
   ]
  },
  {
   "cell_type": "code",
   "execution_count": 342,
   "metadata": {},
   "outputs": [],
   "source": [
    "nameslist = pd.concat(dfs).drop_duplicates()"
   ]
  },
  {
   "cell_type": "code",
   "execution_count": 344,
   "metadata": {},
   "outputs": [],
   "source": [
    "nameslist.columns = ['Name', 'Company', 'Role']"
   ]
  },
  {
   "cell_type": "code",
   "execution_count": 345,
   "metadata": {},
   "outputs": [],
   "source": [
    "nameslist.to_csv('nameslist.csv')"
   ]
  },
  {
   "cell_type": "code",
   "execution_count": null,
   "metadata": {},
   "outputs": [],
   "source": []
  }
 ],
 "metadata": {
  "kernelspec": {
   "display_name": "Python 3",
   "language": "python",
   "name": "python3"
  },
  "language_info": {
   "codemirror_mode": {
    "name": "ipython",
    "version": 3
   },
   "file_extension": ".py",
   "mimetype": "text/x-python",
   "name": "python",
   "nbconvert_exporter": "python",
   "pygments_lexer": "ipython3",
   "version": "3.7.4"
  }
 },
 "nbformat": 4,
 "nbformat_minor": 2
}
