{
 "cells": [
  {
   "cell_type": "markdown",
   "metadata": {},
   "source": [
    "# Bag-Of-Words Baseline Model\n",
    "\n",
    "In this notebook, we will be using a Bag-of-Words model as a baseline sentiment model.\n",
    "\n",
    "https://www.nber.org/system/files/working_papers/w25084/w25084.pdf"
   ]
  },
  {
   "cell_type": "code",
   "execution_count": 6,
   "metadata": {},
   "outputs": [],
   "source": [
    "import numpy as np\n",
    "import pandas as pd\n",
    "import os\n",
    "import pickle\n",
    "import string"
   ]
  },
  {
   "cell_type": "code",
   "execution_count": 7,
   "metadata": {},
   "outputs": [
    {
     "name": "stderr",
     "output_type": "stream",
     "text": [
      "[nltk_data] Downloading package stopwords to\n",
      "[nltk_data]     /Users/lucaskrenn/nltk_data...\n",
      "[nltk_data]   Package stopwords is already up-to-date!\n"
     ]
    }
   ],
   "source": [
    "import nltk\n",
    "nltk.download('stopwords')\n",
    "from nltk.corpus import stopwords"
   ]
  },
  {
   "cell_type": "code",
   "execution_count": 8,
   "metadata": {},
   "outputs": [],
   "source": [
    "from string import punctuation\n",
    "from os import listdir\n",
    "from collections import Counter\n",
    "#from keras.preprocessing.text import Tokenizer"
   ]
  },
  {
   "cell_type": "code",
   "execution_count": 9,
   "metadata": {},
   "outputs": [],
   "source": [
    "with open('../Step1-Data/6-link_dict.pickle', 'rb') as f:\n",
    "    parsed = pickle.load(f)"
   ]
  },
  {
   "cell_type": "code",
   "execution_count": 62,
   "metadata": {},
   "outputs": [
    {
     "data": {
      "text/plain": [
       "\"According to Gran , the company has no plans to move all production to Russia , although that is where the company is growing .@neutral\\nWith the new production plant the company would increase its capacity to meet the expected increase in demand and would improve the use of raw materials and therefore increase the production profitability .@positive\\nFor the last quarter of 2010 , Componenta 's net sales doubled to EUR131m from EUR76m for the same period a year earlier , while it moved to a zero \""
      ]
     },
     "execution_count": 62,
     "metadata": {},
     "output_type": "execute_result"
    }
   ],
   "source": [
    "f = open(\"1-Sentences_75Agree.txt\", 'r', encoding = \"ISO-8859-1\")\n",
    "training_string = f.read()\n",
    "training_string[:500]"
   ]
  },
  {
   "cell_type": "code",
   "execution_count": 70,
   "metadata": {},
   "outputs": [
    {
     "data": {
      "text/plain": [
       "['According to Gran , the company has no plans to move all production to Russia , although that is where the company is growing .@neutral',\n",
       " 'With the new production plant the company would increase its capacity to meet the expected increase in demand and would improve the use of raw materials and therefore increase the production profitability .@positive',\n",
       " \"For the last quarter of 2010 , Componenta 's net sales doubled to EUR131m from EUR76m for the same period a year earlier , while it moved to a zero pre-tax profit from a pre-tax loss of EUR7m .@positive\",\n",
       " 'In the third quarter of 2010 , net sales increased by 5.2 % to EUR 205.5 mn , and operating profit by 34.9 % to EUR 23.5 mn .@positive',\n",
       " 'Operating profit rose to EUR 13.1 mn from EUR 8.7 mn in the corresponding period in 2007 representing 7.7 % of net sales .@positive']"
      ]
     },
     "execution_count": 70,
     "metadata": {},
     "output_type": "execute_result"
    }
   ],
   "source": [
    "training = training_string.split('\\n')\n",
    "training[:5]"
   ]
  },
  {
   "cell_type": "code",
   "execution_count": 71,
   "metadata": {},
   "outputs": [
    {
     "data": {
      "text/plain": [
       "['According to Gran , the company has no plans to move all production to Russia , although that is where the company is growing',\n",
       " 'neutral']"
      ]
     },
     "execution_count": 71,
     "metadata": {},
     "output_type": "execute_result"
    }
   ],
   "source": [
    "training = [x.split(' .@') for x in training]\n",
    "training[0]"
   ]
  },
  {
   "cell_type": "code",
   "execution_count": 73,
   "metadata": {},
   "outputs": [
    {
     "data": {
      "text/html": [
       "<div>\n",
       "<style scoped>\n",
       "    .dataframe tbody tr th:only-of-type {\n",
       "        vertical-align: middle;\n",
       "    }\n",
       "\n",
       "    .dataframe tbody tr th {\n",
       "        vertical-align: top;\n",
       "    }\n",
       "\n",
       "    .dataframe thead th {\n",
       "        text-align: right;\n",
       "    }\n",
       "</style>\n",
       "<table border=\"1\" class=\"dataframe\">\n",
       "  <thead>\n",
       "    <tr style=\"text-align: right;\">\n",
       "      <th></th>\n",
       "      <th>sentence</th>\n",
       "      <th>sentiment</th>\n",
       "    </tr>\n",
       "  </thead>\n",
       "  <tbody>\n",
       "    <tr>\n",
       "      <th>0</th>\n",
       "      <td>According to Gran , the company has no plans t...</td>\n",
       "      <td>neutral</td>\n",
       "    </tr>\n",
       "    <tr>\n",
       "      <th>1</th>\n",
       "      <td>With the new production plant the company woul...</td>\n",
       "      <td>positive</td>\n",
       "    </tr>\n",
       "    <tr>\n",
       "      <th>2</th>\n",
       "      <td>For the last quarter of 2010 , Componenta 's n...</td>\n",
       "      <td>positive</td>\n",
       "    </tr>\n",
       "    <tr>\n",
       "      <th>3</th>\n",
       "      <td>In the third quarter of 2010 , net sales incre...</td>\n",
       "      <td>positive</td>\n",
       "    </tr>\n",
       "    <tr>\n",
       "      <th>4</th>\n",
       "      <td>Operating profit rose to EUR 13.1 mn from EUR ...</td>\n",
       "      <td>positive</td>\n",
       "    </tr>\n",
       "  </tbody>\n",
       "</table>\n",
       "</div>"
      ],
      "text/plain": [
       "                                            sentence sentiment\n",
       "0  According to Gran , the company has no plans t...   neutral\n",
       "1  With the new production plant the company woul...  positive\n",
       "2  For the last quarter of 2010 , Componenta 's n...  positive\n",
       "3  In the third quarter of 2010 , net sales incre...  positive\n",
       "4  Operating profit rose to EUR 13.1 mn from EUR ...  positive"
      ]
     },
     "execution_count": 73,
     "metadata": {},
     "output_type": "execute_result"
    }
   ],
   "source": [
    "train_df = pd.DataFrame(training, columns = ['sentence', 'sentiment'])\n",
    "train_df.head()"
   ]
  },
  {
   "cell_type": "code",
   "execution_count": 76,
   "metadata": {},
   "outputs": [
    {
     "data": {
      "text/html": [
       "<div>\n",
       "<style scoped>\n",
       "    .dataframe tbody tr th:only-of-type {\n",
       "        vertical-align: middle;\n",
       "    }\n",
       "\n",
       "    .dataframe tbody tr th {\n",
       "        vertical-align: top;\n",
       "    }\n",
       "\n",
       "    .dataframe thead th {\n",
       "        text-align: right;\n",
       "    }\n",
       "</style>\n",
       "<table border=\"1\" class=\"dataframe\">\n",
       "  <thead>\n",
       "    <tr style=\"text-align: right;\">\n",
       "      <th></th>\n",
       "      <th>sentence</th>\n",
       "      <th>sentiment</th>\n",
       "    </tr>\n",
       "  </thead>\n",
       "  <tbody>\n",
       "    <tr>\n",
       "      <th>1</th>\n",
       "      <td>With the new production plant the company woul...</td>\n",
       "      <td>positive</td>\n",
       "    </tr>\n",
       "    <tr>\n",
       "      <th>2</th>\n",
       "      <td>For the last quarter of 2010 , Componenta 's n...</td>\n",
       "      <td>positive</td>\n",
       "    </tr>\n",
       "    <tr>\n",
       "      <th>3</th>\n",
       "      <td>In the third quarter of 2010 , net sales incre...</td>\n",
       "      <td>positive</td>\n",
       "    </tr>\n",
       "    <tr>\n",
       "      <th>4</th>\n",
       "      <td>Operating profit rose to EUR 13.1 mn from EUR ...</td>\n",
       "      <td>positive</td>\n",
       "    </tr>\n",
       "    <tr>\n",
       "      <th>5</th>\n",
       "      <td>Operating profit totalled EUR 21.1 mn , up fro...</td>\n",
       "      <td>positive</td>\n",
       "    </tr>\n",
       "  </tbody>\n",
       "</table>\n",
       "</div>"
      ],
      "text/plain": [
       "                                            sentence sentiment\n",
       "1  With the new production plant the company woul...  positive\n",
       "2  For the last quarter of 2010 , Componenta 's n...  positive\n",
       "3  In the third quarter of 2010 , net sales incre...  positive\n",
       "4  Operating profit rose to EUR 13.1 mn from EUR ...  positive\n",
       "5  Operating profit totalled EUR 21.1 mn , up fro...  positive"
      ]
     },
     "execution_count": 76,
     "metadata": {},
     "output_type": "execute_result"
    }
   ],
   "source": [
    "positive = train_df[train_df['sentiment'] == 'positive']\n",
    "positive.head()"
   ]
  },
  {
   "cell_type": "code",
   "execution_count": 78,
   "metadata": {},
   "outputs": [
    {
     "data": {
      "text/plain": [
       "862"
      ]
     },
     "execution_count": 78,
     "metadata": {},
     "output_type": "execute_result"
    }
   ],
   "source": [
    "len(positive)"
   ]
  },
  {
   "cell_type": "code",
   "execution_count": 80,
   "metadata": {},
   "outputs": [
    {
     "data": {
      "text/html": [
       "<div>\n",
       "<style scoped>\n",
       "    .dataframe tbody tr th:only-of-type {\n",
       "        vertical-align: middle;\n",
       "    }\n",
       "\n",
       "    .dataframe tbody tr th {\n",
       "        vertical-align: top;\n",
       "    }\n",
       "\n",
       "    .dataframe thead th {\n",
       "        text-align: right;\n",
       "    }\n",
       "</style>\n",
       "<table border=\"1\" class=\"dataframe\">\n",
       "  <thead>\n",
       "    <tr style=\"text-align: right;\">\n",
       "      <th></th>\n",
       "      <th>sentence</th>\n",
       "      <th>sentiment</th>\n",
       "    </tr>\n",
       "  </thead>\n",
       "  <tbody>\n",
       "    <tr>\n",
       "      <th>393</th>\n",
       "      <td>Jan. 6 -- Ford is struggling in the face of sl...</td>\n",
       "      <td>negative</td>\n",
       "    </tr>\n",
       "    <tr>\n",
       "      <th>396</th>\n",
       "      <td>Pharmaceuticals group Orion Corp reported a fa...</td>\n",
       "      <td>negative</td>\n",
       "    </tr>\n",
       "    <tr>\n",
       "      <th>397</th>\n",
       "      <td>However , the growth margin slowed down due to...</td>\n",
       "      <td>negative</td>\n",
       "    </tr>\n",
       "    <tr>\n",
       "      <th>482</th>\n",
       "      <td>2009 3 February 2010 - Finland-based steel mak...</td>\n",
       "      <td>negative</td>\n",
       "    </tr>\n",
       "    <tr>\n",
       "      <th>484</th>\n",
       "      <td>Result before taxes decreased to nearly EUR 14...</td>\n",
       "      <td>negative</td>\n",
       "    </tr>\n",
       "  </tbody>\n",
       "</table>\n",
       "</div>"
      ],
      "text/plain": [
       "                                              sentence sentiment\n",
       "393  Jan. 6 -- Ford is struggling in the face of sl...  negative\n",
       "396  Pharmaceuticals group Orion Corp reported a fa...  negative\n",
       "397  However , the growth margin slowed down due to...  negative\n",
       "482  2009 3 February 2010 - Finland-based steel mak...  negative\n",
       "484  Result before taxes decreased to nearly EUR 14...  negative"
      ]
     },
     "execution_count": 80,
     "metadata": {},
     "output_type": "execute_result"
    }
   ],
   "source": [
    "negative = train_df[train_df['sentiment'] == 'negative']\n",
    "negative.head()"
   ]
  },
  {
   "cell_type": "code",
   "execution_count": 82,
   "metadata": {},
   "outputs": [
    {
     "data": {
      "text/plain": [
       "405"
      ]
     },
     "execution_count": 82,
     "metadata": {},
     "output_type": "execute_result"
    }
   ],
   "source": [
    "len(negative)"
   ]
  },
  {
   "cell_type": "markdown",
   "metadata": {},
   "source": [
    "# Tokenize the Training Data\n",
    "\n",
    "In this section, I will be borrowing heavily from the following bag-of-words model tutorial: \n",
    "\n",
    "https://machinelearningmastery.com/deep-learning-bag-of-words-model-sentiment-analysis/"
   ]
  },
  {
   "cell_type": "code",
   "execution_count": 114,
   "metadata": {},
   "outputs": [],
   "source": [
    "tokens = ' '.join(positive['sentence'].values).split()\n",
    "# remove punctuation from each token\n",
    "table = str.maketrans('', '', punctuation)\n",
    "tokens = [w.translate(table) for w in tokens]\n",
    "# remove remaining tokens that are not alphabetic\n",
    "tokens = [word for word in tokens if word.isalpha()]\n",
    "# filter out stop words\n",
    "stop_words = set(stopwords.words('english'))\n",
    "tokens = [w for w in tokens if not w in stop_words]\n",
    "# filter out short tokens\n",
    "tokens = [word for word in tokens if len(word) > 1]"
   ]
  },
  {
   "cell_type": "code",
   "execution_count": 119,
   "metadata": {},
   "outputs": [
    {
     "data": {
      "text/plain": [
       "['With',\n",
       " 'new',\n",
       " 'production',\n",
       " 'plant',\n",
       " 'company',\n",
       " 'would',\n",
       " 'increase',\n",
       " 'capacity',\n",
       " 'meet',\n",
       " 'expected']"
      ]
     },
     "execution_count": 119,
     "metadata": {},
     "output_type": "execute_result"
    }
   ],
   "source": [
    "tokens[:10]"
   ]
  },
  {
   "cell_type": "code",
   "execution_count": 116,
   "metadata": {},
   "outputs": [],
   "source": [
    "# define vocab\n",
    "vocab = Counter()"
   ]
  },
  {
   "cell_type": "code",
   "execution_count": 117,
   "metadata": {},
   "outputs": [],
   "source": [
    "vocab.update(tokens)"
   ]
  },
  {
   "cell_type": "code",
   "execution_count": 118,
   "metadata": {},
   "outputs": [
    {
     "name": "stdout",
     "output_type": "stream",
     "text": [
      "[('EUR', 356), ('mn', 239), ('profit', 170), ('The', 165), ('net', 158), ('sales', 146), ('said', 144), ('Finnish', 140), ('period', 136), ('million', 131), ('company', 130), ('year', 123), ('mln', 115), ('quarter', 103), ('rose', 85), ('increased', 81), ('compared', 68), ('loss', 67), ('operating', 64), ('corresponding', 64), ('Oyj', 59), ('percent', 58), ('increase', 57), ('share', 56), ('euro', 53), ('first', 52), ('Operating', 50), ('eur', 50), ('per', 42), ('market', 42), ('In', 41), ('Finland', 41), ('also', 39), ('operations', 38), ('HEL', 37), ('contract', 37), ('group', 37), ('new', 36), ('business', 35), ('services', 35), ('earlier', 34), ('grew', 32), ('today', 31), ('order', 30), ('third', 29), ('Group', 29), ('second', 29), ('last', 27), ('agreement', 26), ('yearonyear', 26)]\n"
     ]
    }
   ],
   "source": [
    "# print the top words in the vocab\n",
    "print(vocab.most_common(50))"
   ]
  },
  {
   "cell_type": "markdown",
   "metadata": {},
   "source": [
    "Let's try the sample given in the paper."
   ]
  },
  {
   "cell_type": "code",
   "execution_count": 230,
   "metadata": {},
   "outputs": [],
   "source": [
    "tokens = 'We expect demand to increase.'.split()\n",
    "# remove punctuation from each token\n",
    "table = str.maketrans('', '', punctuation)\n",
    "tokens = [w.translate(table) for w in tokens]\n",
    "# remove remaining tokens that are not alphabetic\n",
    "tokens = [word for word in tokens if word.isalpha()]\n",
    "# filter out stop words\n",
    "stop_words = set(stopwords.words('english'))\n",
    "#tokens = [w for w in tokens if not w in stop_words]\n",
    "# filter out short tokens\n",
    "tokens = [word for word in tokens if len(word) > 1]"
   ]
  },
  {
   "cell_type": "code",
   "execution_count": 231,
   "metadata": {},
   "outputs": [
    {
     "data": {
      "text/plain": [
       "['We', 'expect', 'demand', 'to', 'increase']"
      ]
     },
     "execution_count": 231,
     "metadata": {},
     "output_type": "execute_result"
    }
   ],
   "source": [
    "tokens[:5]"
   ]
  },
  {
   "cell_type": "code",
   "execution_count": 232,
   "metadata": {},
   "outputs": [
    {
     "data": {
      "text/plain": [
       "[('We', 1), ('expect', 1), ('demand', 1), ('to', 1), ('increase', 1)]"
      ]
     },
     "execution_count": 232,
     "metadata": {},
     "output_type": "execute_result"
    }
   ],
   "source": [
    "freqs1 = Counter()\n",
    "freqs1.update(tokens)\n",
    "freqs1.most_common()"
   ]
  },
  {
   "cell_type": "code",
   "execution_count": 233,
   "metadata": {},
   "outputs": [],
   "source": [
    "tokens = 'We expect worldwide demand to increase.'.split()\n",
    "# remove punctuation from each token\n",
    "table = str.maketrans('', '', punctuation)\n",
    "tokens = [w.translate(table) for w in tokens]\n",
    "# remove remaining tokens that are not alphabetic\n",
    "tokens = [word for word in tokens if word.isalpha()]\n",
    "# filter out stop words\n",
    "stop_words = set(stopwords.words('english'))\n",
    "#tokens = [w for w in tokens if not w in stop_words]\n",
    "# filter out short tokens\n",
    "tokens = [word for word in tokens if len(word) > 1]"
   ]
  },
  {
   "cell_type": "code",
   "execution_count": 234,
   "metadata": {},
   "outputs": [
    {
     "data": {
      "text/plain": [
       "[('We', 1),\n",
       " ('expect', 1),\n",
       " ('worldwide', 1),\n",
       " ('demand', 1),\n",
       " ('to', 1),\n",
       " ('increase', 1)]"
      ]
     },
     "execution_count": 234,
     "metadata": {},
     "output_type": "execute_result"
    }
   ],
   "source": [
    "freqs2 = Counter()\n",
    "freqs2.update(tokens)\n",
    "freqs2.most_common()"
   ]
  },
  {
   "cell_type": "code",
   "execution_count": 235,
   "metadata": {},
   "outputs": [],
   "source": [
    "all_words = set(freqs1.keys()) | set(freqs2.keys())"
   ]
  },
  {
   "cell_type": "code",
   "execution_count": 236,
   "metadata": {},
   "outputs": [
    {
     "data": {
      "text/html": [
       "<div>\n",
       "<style scoped>\n",
       "    .dataframe tbody tr th:only-of-type {\n",
       "        vertical-align: middle;\n",
       "    }\n",
       "\n",
       "    .dataframe tbody tr th {\n",
       "        vertical-align: top;\n",
       "    }\n",
       "\n",
       "    .dataframe thead th {\n",
       "        text-align: right;\n",
       "    }\n",
       "</style>\n",
       "<table border=\"1\" class=\"dataframe\">\n",
       "  <thead>\n",
       "    <tr style=\"text-align: right;\">\n",
       "      <th></th>\n",
       "      <th>words</th>\n",
       "    </tr>\n",
       "  </thead>\n",
       "  <tbody>\n",
       "    <tr>\n",
       "      <th>0</th>\n",
       "      <td>to</td>\n",
       "    </tr>\n",
       "    <tr>\n",
       "      <th>1</th>\n",
       "      <td>worldwide</td>\n",
       "    </tr>\n",
       "    <tr>\n",
       "      <th>2</th>\n",
       "      <td>demand</td>\n",
       "    </tr>\n",
       "    <tr>\n",
       "      <th>3</th>\n",
       "      <td>increase</td>\n",
       "    </tr>\n",
       "    <tr>\n",
       "      <th>4</th>\n",
       "      <td>expect</td>\n",
       "    </tr>\n",
       "  </tbody>\n",
       "</table>\n",
       "</div>"
      ],
      "text/plain": [
       "       words\n",
       "0         to\n",
       "1  worldwide\n",
       "2     demand\n",
       "3   increase\n",
       "4     expect"
      ]
     },
     "execution_count": 236,
     "metadata": {},
     "output_type": "execute_result"
    }
   ],
   "source": [
    "keep_track = pd.DataFrame(all_words, columns=['words'])\n",
    "keep_track.head()"
   ]
  },
  {
   "cell_type": "code",
   "execution_count": 237,
   "metadata": {},
   "outputs": [
    {
     "data": {
      "text/html": [
       "<div>\n",
       "<style scoped>\n",
       "    .dataframe tbody tr th:only-of-type {\n",
       "        vertical-align: middle;\n",
       "    }\n",
       "\n",
       "    .dataframe tbody tr th {\n",
       "        vertical-align: top;\n",
       "    }\n",
       "\n",
       "    .dataframe thead th {\n",
       "        text-align: right;\n",
       "    }\n",
       "</style>\n",
       "<table border=\"1\" class=\"dataframe\">\n",
       "  <thead>\n",
       "    <tr style=\"text-align: right;\">\n",
       "      <th></th>\n",
       "      <th>words</th>\n",
       "      <th>freqs1</th>\n",
       "    </tr>\n",
       "  </thead>\n",
       "  <tbody>\n",
       "    <tr>\n",
       "      <th>0</th>\n",
       "      <td>to</td>\n",
       "      <td>1</td>\n",
       "    </tr>\n",
       "    <tr>\n",
       "      <th>1</th>\n",
       "      <td>worldwide</td>\n",
       "      <td>0</td>\n",
       "    </tr>\n",
       "    <tr>\n",
       "      <th>2</th>\n",
       "      <td>demand</td>\n",
       "      <td>1</td>\n",
       "    </tr>\n",
       "    <tr>\n",
       "      <th>3</th>\n",
       "      <td>increase</td>\n",
       "      <td>1</td>\n",
       "    </tr>\n",
       "    <tr>\n",
       "      <th>4</th>\n",
       "      <td>expect</td>\n",
       "      <td>1</td>\n",
       "    </tr>\n",
       "  </tbody>\n",
       "</table>\n",
       "</div>"
      ],
      "text/plain": [
       "       words  freqs1\n",
       "0         to       1\n",
       "1  worldwide       0\n",
       "2     demand       1\n",
       "3   increase       1\n",
       "4     expect       1"
      ]
     },
     "execution_count": 237,
     "metadata": {},
     "output_type": "execute_result"
    }
   ],
   "source": [
    "keep_track['freqs1'] = [freqs1[x] for x in keep_track['words']]\n",
    "keep_track.head()"
   ]
  },
  {
   "cell_type": "code",
   "execution_count": 238,
   "metadata": {},
   "outputs": [
    {
     "data": {
      "text/html": [
       "<div>\n",
       "<style scoped>\n",
       "    .dataframe tbody tr th:only-of-type {\n",
       "        vertical-align: middle;\n",
       "    }\n",
       "\n",
       "    .dataframe tbody tr th {\n",
       "        vertical-align: top;\n",
       "    }\n",
       "\n",
       "    .dataframe thead th {\n",
       "        text-align: right;\n",
       "    }\n",
       "</style>\n",
       "<table border=\"1\" class=\"dataframe\">\n",
       "  <thead>\n",
       "    <tr style=\"text-align: right;\">\n",
       "      <th></th>\n",
       "      <th>words</th>\n",
       "      <th>freqs1</th>\n",
       "      <th>freqs2</th>\n",
       "    </tr>\n",
       "  </thead>\n",
       "  <tbody>\n",
       "    <tr>\n",
       "      <th>0</th>\n",
       "      <td>to</td>\n",
       "      <td>1</td>\n",
       "      <td>1</td>\n",
       "    </tr>\n",
       "    <tr>\n",
       "      <th>1</th>\n",
       "      <td>worldwide</td>\n",
       "      <td>0</td>\n",
       "      <td>1</td>\n",
       "    </tr>\n",
       "    <tr>\n",
       "      <th>2</th>\n",
       "      <td>demand</td>\n",
       "      <td>1</td>\n",
       "      <td>1</td>\n",
       "    </tr>\n",
       "    <tr>\n",
       "      <th>3</th>\n",
       "      <td>increase</td>\n",
       "      <td>1</td>\n",
       "      <td>1</td>\n",
       "    </tr>\n",
       "    <tr>\n",
       "      <th>4</th>\n",
       "      <td>expect</td>\n",
       "      <td>1</td>\n",
       "      <td>1</td>\n",
       "    </tr>\n",
       "  </tbody>\n",
       "</table>\n",
       "</div>"
      ],
      "text/plain": [
       "       words  freqs1  freqs2\n",
       "0         to       1       1\n",
       "1  worldwide       0       1\n",
       "2     demand       1       1\n",
       "3   increase       1       1\n",
       "4     expect       1       1"
      ]
     },
     "execution_count": 238,
     "metadata": {},
     "output_type": "execute_result"
    }
   ],
   "source": [
    "keep_track['freqs2'] = [freqs2[x] for x in keep_track['words']]\n",
    "keep_track.head()"
   ]
  },
  {
   "cell_type": "code",
   "execution_count": 239,
   "metadata": {},
   "outputs": [],
   "source": [
    "numerator = np.dot(keep_track['freqs1'].values,keep_track['freqs2'].values)"
   ]
  },
  {
   "cell_type": "code",
   "execution_count": 240,
   "metadata": {},
   "outputs": [],
   "source": [
    "def euclidean(a):\n",
    "    return np.sqrt(sum([x**2 for x in a]))"
   ]
  },
  {
   "cell_type": "code",
   "execution_count": 241,
   "metadata": {},
   "outputs": [
    {
     "data": {
      "text/plain": [
       "2.23606797749979"
      ]
     },
     "execution_count": 241,
     "metadata": {},
     "output_type": "execute_result"
    }
   ],
   "source": [
    "e1 = euclidean(keep_track['freqs1'].values)\n",
    "e1"
   ]
  },
  {
   "cell_type": "code",
   "execution_count": 242,
   "metadata": {},
   "outputs": [
    {
     "data": {
      "text/plain": [
       "2.449489742783178"
      ]
     },
     "execution_count": 242,
     "metadata": {},
     "output_type": "execute_result"
    }
   ],
   "source": [
    "e2 = euclidean(keep_track['freqs2'].values)\n",
    "e2"
   ]
  },
  {
   "cell_type": "code",
   "execution_count": 243,
   "metadata": {},
   "outputs": [
    {
     "data": {
      "text/plain": [
       "0.9128709291752769"
      ]
     },
     "execution_count": 243,
     "metadata": {},
     "output_type": "execute_result"
    }
   ],
   "source": [
    "numerator / (e1*e2)"
   ]
  },
  {
   "cell_type": "markdown",
   "metadata": {},
   "source": [
    "Sanity Check:"
   ]
  },
  {
   "cell_type": "code",
   "execution_count": 230,
   "metadata": {},
   "outputs": [],
   "source": [
    "tokens = 'We expect demand to increase.'.split()\n",
    "# remove punctuation from each token\n",
    "table = str.maketrans('', '', punctuation)\n",
    "tokens = [w.translate(table) for w in tokens]\n",
    "# remove remaining tokens that are not alphabetic\n",
    "tokens = [word for word in tokens if word.isalpha()]\n",
    "# filter out stop words\n",
    "stop_words = set(stopwords.words('english'))\n",
    "#tokens = [w for w in tokens if not w in stop_words]\n",
    "# filter out short tokens\n",
    "tokens = [word for word in tokens if len(word) > 1]"
   ]
  },
  {
   "cell_type": "code",
   "execution_count": 231,
   "metadata": {},
   "outputs": [
    {
     "data": {
      "text/plain": [
       "['We', 'expect', 'demand', 'to', 'increase']"
      ]
     },
     "execution_count": 231,
     "metadata": {},
     "output_type": "execute_result"
    }
   ],
   "source": [
    "tokens[:5]"
   ]
  },
  {
   "cell_type": "code",
   "execution_count": 232,
   "metadata": {},
   "outputs": [
    {
     "data": {
      "text/plain": [
       "[('We', 1), ('expect', 1), ('demand', 1), ('to', 1), ('increase', 1)]"
      ]
     },
     "execution_count": 232,
     "metadata": {},
     "output_type": "execute_result"
    }
   ],
   "source": [
    "freqs1 = Counter()\n",
    "freqs1.update(tokens)\n",
    "freqs1.most_common()"
   ]
  },
  {
   "cell_type": "code",
   "execution_count": 244,
   "metadata": {},
   "outputs": [],
   "source": [
    "tokens = 'We expect weakness in sales.'.split()\n",
    "# remove punctuation from each token\n",
    "table = str.maketrans('', '', punctuation)\n",
    "tokens = [w.translate(table) for w in tokens]\n",
    "# remove remaining tokens that are not alphabetic\n",
    "tokens = [word for word in tokens if word.isalpha()]\n",
    "# filter out stop words\n",
    "stop_words = set(stopwords.words('english'))\n",
    "#tokens = [w for w in tokens if not w in stop_words]\n",
    "# filter out short tokens\n",
    "tokens = [word for word in tokens if len(word) > 1]"
   ]
  },
  {
   "cell_type": "code",
   "execution_count": 245,
   "metadata": {},
   "outputs": [
    {
     "data": {
      "text/plain": [
       "[('We', 1), ('expect', 1), ('weakness', 1), ('in', 1), ('sales', 1)]"
      ]
     },
     "execution_count": 245,
     "metadata": {},
     "output_type": "execute_result"
    }
   ],
   "source": [
    "freqs2 = Counter()\n",
    "freqs2.update(tokens)\n",
    "freqs2.most_common()"
   ]
  },
  {
   "cell_type": "code",
   "execution_count": 246,
   "metadata": {},
   "outputs": [],
   "source": [
    "all_words = set(freqs1.keys()) | set(freqs2.keys())"
   ]
  },
  {
   "cell_type": "code",
   "execution_count": 247,
   "metadata": {},
   "outputs": [
    {
     "data": {
      "text/html": [
       "<div>\n",
       "<style scoped>\n",
       "    .dataframe tbody tr th:only-of-type {\n",
       "        vertical-align: middle;\n",
       "    }\n",
       "\n",
       "    .dataframe tbody tr th {\n",
       "        vertical-align: top;\n",
       "    }\n",
       "\n",
       "    .dataframe thead th {\n",
       "        text-align: right;\n",
       "    }\n",
       "</style>\n",
       "<table border=\"1\" class=\"dataframe\">\n",
       "  <thead>\n",
       "    <tr style=\"text-align: right;\">\n",
       "      <th></th>\n",
       "      <th>words</th>\n",
       "    </tr>\n",
       "  </thead>\n",
       "  <tbody>\n",
       "    <tr>\n",
       "      <th>0</th>\n",
       "      <td>to</td>\n",
       "    </tr>\n",
       "    <tr>\n",
       "      <th>1</th>\n",
       "      <td>demand</td>\n",
       "    </tr>\n",
       "    <tr>\n",
       "      <th>2</th>\n",
       "      <td>sales</td>\n",
       "    </tr>\n",
       "    <tr>\n",
       "      <th>3</th>\n",
       "      <td>in</td>\n",
       "    </tr>\n",
       "    <tr>\n",
       "      <th>4</th>\n",
       "      <td>increase</td>\n",
       "    </tr>\n",
       "  </tbody>\n",
       "</table>\n",
       "</div>"
      ],
      "text/plain": [
       "      words\n",
       "0        to\n",
       "1    demand\n",
       "2     sales\n",
       "3        in\n",
       "4  increase"
      ]
     },
     "execution_count": 247,
     "metadata": {},
     "output_type": "execute_result"
    }
   ],
   "source": [
    "keep_track = pd.DataFrame(all_words, columns=['words'])\n",
    "keep_track.head()"
   ]
  },
  {
   "cell_type": "code",
   "execution_count": 248,
   "metadata": {},
   "outputs": [
    {
     "data": {
      "text/html": [
       "<div>\n",
       "<style scoped>\n",
       "    .dataframe tbody tr th:only-of-type {\n",
       "        vertical-align: middle;\n",
       "    }\n",
       "\n",
       "    .dataframe tbody tr th {\n",
       "        vertical-align: top;\n",
       "    }\n",
       "\n",
       "    .dataframe thead th {\n",
       "        text-align: right;\n",
       "    }\n",
       "</style>\n",
       "<table border=\"1\" class=\"dataframe\">\n",
       "  <thead>\n",
       "    <tr style=\"text-align: right;\">\n",
       "      <th></th>\n",
       "      <th>words</th>\n",
       "      <th>freqs1</th>\n",
       "    </tr>\n",
       "  </thead>\n",
       "  <tbody>\n",
       "    <tr>\n",
       "      <th>0</th>\n",
       "      <td>to</td>\n",
       "      <td>1</td>\n",
       "    </tr>\n",
       "    <tr>\n",
       "      <th>1</th>\n",
       "      <td>demand</td>\n",
       "      <td>1</td>\n",
       "    </tr>\n",
       "    <tr>\n",
       "      <th>2</th>\n",
       "      <td>sales</td>\n",
       "      <td>0</td>\n",
       "    </tr>\n",
       "    <tr>\n",
       "      <th>3</th>\n",
       "      <td>in</td>\n",
       "      <td>0</td>\n",
       "    </tr>\n",
       "    <tr>\n",
       "      <th>4</th>\n",
       "      <td>increase</td>\n",
       "      <td>1</td>\n",
       "    </tr>\n",
       "  </tbody>\n",
       "</table>\n",
       "</div>"
      ],
      "text/plain": [
       "      words  freqs1\n",
       "0        to       1\n",
       "1    demand       1\n",
       "2     sales       0\n",
       "3        in       0\n",
       "4  increase       1"
      ]
     },
     "execution_count": 248,
     "metadata": {},
     "output_type": "execute_result"
    }
   ],
   "source": [
    "keep_track['freqs1'] = [freqs1[x] for x in keep_track['words']]\n",
    "keep_track.head()"
   ]
  },
  {
   "cell_type": "code",
   "execution_count": 249,
   "metadata": {},
   "outputs": [
    {
     "data": {
      "text/html": [
       "<div>\n",
       "<style scoped>\n",
       "    .dataframe tbody tr th:only-of-type {\n",
       "        vertical-align: middle;\n",
       "    }\n",
       "\n",
       "    .dataframe tbody tr th {\n",
       "        vertical-align: top;\n",
       "    }\n",
       "\n",
       "    .dataframe thead th {\n",
       "        text-align: right;\n",
       "    }\n",
       "</style>\n",
       "<table border=\"1\" class=\"dataframe\">\n",
       "  <thead>\n",
       "    <tr style=\"text-align: right;\">\n",
       "      <th></th>\n",
       "      <th>words</th>\n",
       "      <th>freqs1</th>\n",
       "      <th>freqs2</th>\n",
       "    </tr>\n",
       "  </thead>\n",
       "  <tbody>\n",
       "    <tr>\n",
       "      <th>0</th>\n",
       "      <td>to</td>\n",
       "      <td>1</td>\n",
       "      <td>0</td>\n",
       "    </tr>\n",
       "    <tr>\n",
       "      <th>1</th>\n",
       "      <td>demand</td>\n",
       "      <td>1</td>\n",
       "      <td>0</td>\n",
       "    </tr>\n",
       "    <tr>\n",
       "      <th>2</th>\n",
       "      <td>sales</td>\n",
       "      <td>0</td>\n",
       "      <td>1</td>\n",
       "    </tr>\n",
       "    <tr>\n",
       "      <th>3</th>\n",
       "      <td>in</td>\n",
       "      <td>0</td>\n",
       "      <td>1</td>\n",
       "    </tr>\n",
       "    <tr>\n",
       "      <th>4</th>\n",
       "      <td>increase</td>\n",
       "      <td>1</td>\n",
       "      <td>0</td>\n",
       "    </tr>\n",
       "  </tbody>\n",
       "</table>\n",
       "</div>"
      ],
      "text/plain": [
       "      words  freqs1  freqs2\n",
       "0        to       1       0\n",
       "1    demand       1       0\n",
       "2     sales       0       1\n",
       "3        in       0       1\n",
       "4  increase       1       0"
      ]
     },
     "execution_count": 249,
     "metadata": {},
     "output_type": "execute_result"
    }
   ],
   "source": [
    "keep_track['freqs2'] = [freqs2[x] for x in keep_track['words']]\n",
    "keep_track.head()"
   ]
  },
  {
   "cell_type": "code",
   "execution_count": 250,
   "metadata": {},
   "outputs": [],
   "source": [
    "numerator = np.dot(keep_track['freqs1'].values,keep_track['freqs2'].values)"
   ]
  },
  {
   "cell_type": "code",
   "execution_count": 251,
   "metadata": {},
   "outputs": [],
   "source": [
    "def euclidean(a):\n",
    "    return np.sqrt(sum([x**2 for x in a]))"
   ]
  },
  {
   "cell_type": "code",
   "execution_count": 252,
   "metadata": {},
   "outputs": [
    {
     "data": {
      "text/plain": [
       "2.23606797749979"
      ]
     },
     "execution_count": 252,
     "metadata": {},
     "output_type": "execute_result"
    }
   ],
   "source": [
    "e1 = euclidean(keep_track['freqs1'].values)\n",
    "e1"
   ]
  },
  {
   "cell_type": "code",
   "execution_count": 253,
   "metadata": {},
   "outputs": [
    {
     "data": {
      "text/plain": [
       "2.23606797749979"
      ]
     },
     "execution_count": 253,
     "metadata": {},
     "output_type": "execute_result"
    }
   ],
   "source": [
    "e2 = euclidean(keep_track['freqs2'].values)\n",
    "e2"
   ]
  },
  {
   "cell_type": "code",
   "execution_count": 254,
   "metadata": {},
   "outputs": [
    {
     "data": {
      "text/plain": [
       "0.3999999999999999"
      ]
     },
     "execution_count": 254,
     "metadata": {},
     "output_type": "execute_result"
    }
   ],
   "source": [
    "numerator / (e1*e2)"
   ]
  },
  {
   "cell_type": "markdown",
   "metadata": {},
   "source": [
    "Ok, now let's look at some real documents:"
   ]
  },
  {
   "cell_type": "code",
   "execution_count": 260,
   "metadata": {},
   "outputs": [
    {
     "data": {
      "text/html": [
       "<div>\n",
       "<style scoped>\n",
       "    .dataframe tbody tr th:only-of-type {\n",
       "        vertical-align: middle;\n",
       "    }\n",
       "\n",
       "    .dataframe tbody tr th {\n",
       "        vertical-align: top;\n",
       "    }\n",
       "\n",
       "    .dataframe thead th {\n",
       "        text-align: right;\n",
       "    }\n",
       "</style>\n",
       "<table border=\"1\" class=\"dataframe\">\n",
       "  <thead>\n",
       "    <tr style=\"text-align: right;\">\n",
       "      <th></th>\n",
       "      <th>accessionNumber</th>\n",
       "      <th>filingDate</th>\n",
       "      <th>reportDate</th>\n",
       "      <th>acceptanceDateTime</th>\n",
       "      <th>act</th>\n",
       "      <th>form</th>\n",
       "      <th>fileNumber</th>\n",
       "      <th>filmNumber</th>\n",
       "      <th>items</th>\n",
       "      <th>size</th>\n",
       "      <th>isXBRL</th>\n",
       "      <th>isInlineXBRL</th>\n",
       "      <th>primaryDocument</th>\n",
       "      <th>primaryDocDescription</th>\n",
       "      <th>Link</th>\n",
       "      <th>Loc7</th>\n",
       "      <th>Loc8</th>\n",
       "      <th>Item7</th>\n",
       "    </tr>\n",
       "  </thead>\n",
       "  <tbody>\n",
       "    <tr>\n",
       "      <th>49</th>\n",
       "      <td>0000006201-21-000014</td>\n",
       "      <td>2021-02-17</td>\n",
       "      <td>2020-12-31</td>\n",
       "      <td>2021-02-17T17:17:57.000Z</td>\n",
       "      <td>34</td>\n",
       "      <td>10-K</td>\n",
       "      <td>001-08400</td>\n",
       "      <td>21646186</td>\n",
       "      <td></td>\n",
       "      <td>43925703</td>\n",
       "      <td>1</td>\n",
       "      <td>1</td>\n",
       "      <td>aal-20201231.htm</td>\n",
       "      <td>10-K 2020 02.17.21</td>\n",
       "      <td>https://www.sec.gov/Archives/edgar/data/6201/0...</td>\n",
       "      <td>[[(158292, 158310), Item 7. Management], [(167...</td>\n",
       "      <td>[[(502641, 502662), ITEM 8A. CONSOLIDATED]]</td>\n",
       "      <td>ITEM 7.  MANAGEMENT’S DISCUSSION AND ANALYSIS ...</td>\n",
       "    </tr>\n",
       "    <tr>\n",
       "      <th>150</th>\n",
       "      <td>0000006201-20-000023</td>\n",
       "      <td>2020-02-19</td>\n",
       "      <td>2019-12-31</td>\n",
       "      <td>2020-02-19T07:31:30.000Z</td>\n",
       "      <td>34</td>\n",
       "      <td>10-K</td>\n",
       "      <td>001-08400</td>\n",
       "      <td>20627428</td>\n",
       "      <td></td>\n",
       "      <td>30851334</td>\n",
       "      <td>1</td>\n",
       "      <td>1</td>\n",
       "      <td>a10k123119.htm</td>\n",
       "      <td>10-K 2019 02.19.20</td>\n",
       "      <td>https://www.sec.gov/Archives/edgar/data/6201/0...</td>\n",
       "      <td>[[(153128, 153146), Item 7. Management], [(156...</td>\n",
       "      <td>[[(414897, 414918), ITEM 8A. CONSOLIDATED]]</td>\n",
       "      <td>ITEM 7.  MANAGEMENT’S DISCUSSION AND ANALYSIS ...</td>\n",
       "    </tr>\n",
       "    <tr>\n",
       "      <th>225</th>\n",
       "      <td>0000006201-19-000009</td>\n",
       "      <td>2019-02-25</td>\n",
       "      <td>2018-12-31</td>\n",
       "      <td>2019-02-25T07:31:34.000Z</td>\n",
       "      <td>34</td>\n",
       "      <td>10-K</td>\n",
       "      <td>001-08400</td>\n",
       "      <td>19628071</td>\n",
       "      <td></td>\n",
       "      <td>30572408</td>\n",
       "      <td>1</td>\n",
       "      <td>0</td>\n",
       "      <td>a10k123118.htm</td>\n",
       "      <td>10-K 2018 02.25.19</td>\n",
       "      <td>https://www.sec.gov/Archives/edgar/data/6201/0...</td>\n",
       "      <td>[[(9505, 9523), Item 7. Management], [(12796, ...</td>\n",
       "      <td>[[(300867, 300888), ITEM 8A. CONSOLIDATED]]</td>\n",
       "      <td>ITEM 7.  MANAGEMENT’S DISCUSSION AND ANALYSIS ...</td>\n",
       "    </tr>\n",
       "    <tr>\n",
       "      <th>315</th>\n",
       "      <td>0000006201-18-000009</td>\n",
       "      <td>2018-02-21</td>\n",
       "      <td>2017-12-31</td>\n",
       "      <td>2018-02-21T08:02:40.000Z</td>\n",
       "      <td>34</td>\n",
       "      <td>10-K</td>\n",
       "      <td>001-08400</td>\n",
       "      <td>18627088</td>\n",
       "      <td></td>\n",
       "      <td>27914491</td>\n",
       "      <td>1</td>\n",
       "      <td>0</td>\n",
       "      <td>a10k123117.htm</td>\n",
       "      <td>10-K</td>\n",
       "      <td>https://www.sec.gov/Archives/edgar/data/6201/0...</td>\n",
       "      <td>[[(9554, 9572), Item 7. Management], [(13606, ...</td>\n",
       "      <td>[[(293380, 293401), ITEM 8A. CONSOLIDATED]]</td>\n",
       "      <td>ITEM 7.  MANAGEMENT’S DISCUSSION AND ANALYSIS ...</td>\n",
       "    </tr>\n",
       "    <tr>\n",
       "      <th>412</th>\n",
       "      <td>0001193125-17-051216</td>\n",
       "      <td>2017-02-22</td>\n",
       "      <td>2016-12-31</td>\n",
       "      <td>2017-02-22T08:01:43.000Z</td>\n",
       "      <td>34</td>\n",
       "      <td>10-K</td>\n",
       "      <td>001-08400</td>\n",
       "      <td>17627073</td>\n",
       "      <td></td>\n",
       "      <td>24888480</td>\n",
       "      <td>1</td>\n",
       "      <td>0</td>\n",
       "      <td>d286458d10k.htm</td>\n",
       "      <td>FORM 10-K</td>\n",
       "      <td>https://www.sec.gov/Archives/edgar/data/6201/0...</td>\n",
       "      <td>[[(9935, 9953), Item 7. Management], [(14047, ...</td>\n",
       "      <td>[[(297249, 297270), ITEM 8A. CONSOLIDATED]]</td>\n",
       "      <td>ITEM 7.  MANAGEMENT’S DISCUSSION AND ANALYSIS ...</td>\n",
       "    </tr>\n",
       "    <tr>\n",
       "      <th>538</th>\n",
       "      <td>0001193125-16-474605</td>\n",
       "      <td>2016-02-24</td>\n",
       "      <td>2015-12-31</td>\n",
       "      <td>2016-02-24T08:04:10.000Z</td>\n",
       "      <td>34</td>\n",
       "      <td>10-K</td>\n",
       "      <td>001-08400</td>\n",
       "      <td>161450518</td>\n",
       "      <td></td>\n",
       "      <td>26170400</td>\n",
       "      <td>1</td>\n",
       "      <td>0</td>\n",
       "      <td>d78287d10k.htm</td>\n",
       "      <td>FORM 10-K</td>\n",
       "      <td>https://www.sec.gov/Archives/edgar/data/6201/0...</td>\n",
       "      <td>[[(17027, 17045), Item 7. Management], [(21453...</td>\n",
       "      <td>[[(398001, 398022), ITEM 8A. CONSOLIDATED]]</td>\n",
       "      <td>ITEM 7.  MANAGEMENT’S DISCUSSION AND ANALYSIS ...</td>\n",
       "    </tr>\n",
       "    <tr>\n",
       "      <th>651</th>\n",
       "      <td>0001193125-15-061145</td>\n",
       "      <td>2015-02-25</td>\n",
       "      <td>2014-12-31</td>\n",
       "      <td>2015-02-25T08:02:34.000Z</td>\n",
       "      <td>34</td>\n",
       "      <td>10-K</td>\n",
       "      <td>001-08400</td>\n",
       "      <td>15645918</td>\n",
       "      <td></td>\n",
       "      <td>39524925</td>\n",
       "      <td>1</td>\n",
       "      <td>0</td>\n",
       "      <td>d829913d10k.htm</td>\n",
       "      <td>FORM 10-K</td>\n",
       "      <td>https://www.sec.gov/Archives/edgar/data/6201/0...</td>\n",
       "      <td>[[(16174, 16192), Item 7. Management], [(23008...</td>\n",
       "      <td>[[(452689, 452710), ITEM 8A. CONSOLIDATED]]</td>\n",
       "      <td></td>\n",
       "    </tr>\n",
       "    <tr>\n",
       "      <th>750</th>\n",
       "      <td>0000006201-14-000004</td>\n",
       "      <td>2014-02-28</td>\n",
       "      <td>2013-12-31</td>\n",
       "      <td>2014-02-28T07:52:16.000Z</td>\n",
       "      <td>34</td>\n",
       "      <td>10-K</td>\n",
       "      <td>001-08400</td>\n",
       "      <td>14651496</td>\n",
       "      <td></td>\n",
       "      <td>47888955</td>\n",
       "      <td>1</td>\n",
       "      <td>0</td>\n",
       "      <td>aagaa10k-20131231.htm</td>\n",
       "      <td>10-K</td>\n",
       "      <td>https://www.sec.gov/Archives/edgar/data/6201/0...</td>\n",
       "      <td>[[(15590, 15608), Item 7. Management], [(23363...</td>\n",
       "      <td>[]</td>\n",
       "      <td>ITEM 7. MANAGEMENT'S DISCUSSION AND ANALYSIS O...</td>\n",
       "    </tr>\n",
       "  </tbody>\n",
       "</table>\n",
       "</div>"
      ],
      "text/plain": [
       "          accessionNumber  filingDate  reportDate        acceptanceDateTime  \\\n",
       "49   0000006201-21-000014  2021-02-17  2020-12-31  2021-02-17T17:17:57.000Z   \n",
       "150  0000006201-20-000023  2020-02-19  2019-12-31  2020-02-19T07:31:30.000Z   \n",
       "225  0000006201-19-000009  2019-02-25  2018-12-31  2019-02-25T07:31:34.000Z   \n",
       "315  0000006201-18-000009  2018-02-21  2017-12-31  2018-02-21T08:02:40.000Z   \n",
       "412  0001193125-17-051216  2017-02-22  2016-12-31  2017-02-22T08:01:43.000Z   \n",
       "538  0001193125-16-474605  2016-02-24  2015-12-31  2016-02-24T08:04:10.000Z   \n",
       "651  0001193125-15-061145  2015-02-25  2014-12-31  2015-02-25T08:02:34.000Z   \n",
       "750  0000006201-14-000004  2014-02-28  2013-12-31  2014-02-28T07:52:16.000Z   \n",
       "\n",
       "    act  form fileNumber filmNumber items      size  isXBRL  isInlineXBRL  \\\n",
       "49   34  10-K  001-08400   21646186        43925703       1             1   \n",
       "150  34  10-K  001-08400   20627428        30851334       1             1   \n",
       "225  34  10-K  001-08400   19628071        30572408       1             0   \n",
       "315  34  10-K  001-08400   18627088        27914491       1             0   \n",
       "412  34  10-K  001-08400   17627073        24888480       1             0   \n",
       "538  34  10-K  001-08400  161450518        26170400       1             0   \n",
       "651  34  10-K  001-08400   15645918        39524925       1             0   \n",
       "750  34  10-K  001-08400   14651496        47888955       1             0   \n",
       "\n",
       "           primaryDocument primaryDocDescription  \\\n",
       "49        aal-20201231.htm    10-K 2020 02.17.21   \n",
       "150         a10k123119.htm    10-K 2019 02.19.20   \n",
       "225         a10k123118.htm    10-K 2018 02.25.19   \n",
       "315         a10k123117.htm                  10-K   \n",
       "412        d286458d10k.htm             FORM 10-K   \n",
       "538         d78287d10k.htm             FORM 10-K   \n",
       "651        d829913d10k.htm             FORM 10-K   \n",
       "750  aagaa10k-20131231.htm                  10-K   \n",
       "\n",
       "                                                  Link  \\\n",
       "49   https://www.sec.gov/Archives/edgar/data/6201/0...   \n",
       "150  https://www.sec.gov/Archives/edgar/data/6201/0...   \n",
       "225  https://www.sec.gov/Archives/edgar/data/6201/0...   \n",
       "315  https://www.sec.gov/Archives/edgar/data/6201/0...   \n",
       "412  https://www.sec.gov/Archives/edgar/data/6201/0...   \n",
       "538  https://www.sec.gov/Archives/edgar/data/6201/0...   \n",
       "651  https://www.sec.gov/Archives/edgar/data/6201/0...   \n",
       "750  https://www.sec.gov/Archives/edgar/data/6201/0...   \n",
       "\n",
       "                                                  Loc7  \\\n",
       "49   [[(158292, 158310), Item 7. Management], [(167...   \n",
       "150  [[(153128, 153146), Item 7. Management], [(156...   \n",
       "225  [[(9505, 9523), Item 7. Management], [(12796, ...   \n",
       "315  [[(9554, 9572), Item 7. Management], [(13606, ...   \n",
       "412  [[(9935, 9953), Item 7. Management], [(14047, ...   \n",
       "538  [[(17027, 17045), Item 7. Management], [(21453...   \n",
       "651  [[(16174, 16192), Item 7. Management], [(23008...   \n",
       "750  [[(15590, 15608), Item 7. Management], [(23363...   \n",
       "\n",
       "                                            Loc8  \\\n",
       "49   [[(502641, 502662), ITEM 8A. CONSOLIDATED]]   \n",
       "150  [[(414897, 414918), ITEM 8A. CONSOLIDATED]]   \n",
       "225  [[(300867, 300888), ITEM 8A. CONSOLIDATED]]   \n",
       "315  [[(293380, 293401), ITEM 8A. CONSOLIDATED]]   \n",
       "412  [[(297249, 297270), ITEM 8A. CONSOLIDATED]]   \n",
       "538  [[(398001, 398022), ITEM 8A. CONSOLIDATED]]   \n",
       "651  [[(452689, 452710), ITEM 8A. CONSOLIDATED]]   \n",
       "750                                           []   \n",
       "\n",
       "                                                 Item7  \n",
       "49   ITEM 7.  MANAGEMENT’S DISCUSSION AND ANALYSIS ...  \n",
       "150  ITEM 7.  MANAGEMENT’S DISCUSSION AND ANALYSIS ...  \n",
       "225  ITEM 7.  MANAGEMENT’S DISCUSSION AND ANALYSIS ...  \n",
       "315  ITEM 7.  MANAGEMENT’S DISCUSSION AND ANALYSIS ...  \n",
       "412  ITEM 7.  MANAGEMENT’S DISCUSSION AND ANALYSIS ...  \n",
       "538  ITEM 7.  MANAGEMENT’S DISCUSSION AND ANALYSIS ...  \n",
       "651                                                     \n",
       "750  ITEM 7. MANAGEMENT'S DISCUSSION AND ANALYSIS O...  "
      ]
     },
     "execution_count": 260,
     "metadata": {},
     "output_type": "execute_result"
    }
   ],
   "source": [
    "parsed['0000006201']"
   ]
  },
  {
   "cell_type": "markdown",
   "metadata": {},
   "source": [
    "They appear to be in order..."
   ]
  },
  {
   "cell_type": "code",
   "execution_count": 266,
   "metadata": {},
   "outputs": [
    {
     "data": {
      "text/plain": [
       "'ITEM 7.  MANAGEMENT’S DISCUSSION AND ANALYSIS OF FINANCIAL CONDITION AND RESULTS OF OPERATIONS  2020 Financial Overview Impact of Coronavirus (COVID-19)  COVID-19 has been declared a global health pan'"
      ]
     },
     "execution_count": 266,
     "metadata": {},
     "output_type": "execute_result"
    }
   ],
   "source": [
    "# 2021\n",
    "sample1 = parsed['0000006201']['Item7'].values[0]\n",
    "sample1[:200]"
   ]
  },
  {
   "cell_type": "code",
   "execution_count": 267,
   "metadata": {},
   "outputs": [],
   "source": [
    "tokens = sample1.split()\n",
    "# remove punctuation from each token\n",
    "table = str.maketrans('', '', punctuation)\n",
    "tokens = [w.translate(table) for w in tokens]\n",
    "# remove remaining tokens that are not alphabetic\n",
    "tokens = [word for word in tokens if word.isalpha()]\n",
    "# filter out stop words\n",
    "stop_words = set(stopwords.words('english'))\n",
    "tokens = [w for w in tokens if not w in stop_words]\n",
    "# filter out short tokens\n",
    "tokens = [word for word in tokens if len(word) > 1]"
   ]
  },
  {
   "cell_type": "code",
   "execution_count": 268,
   "metadata": {},
   "outputs": [
    {
     "data": {
      "text/plain": [
       "['ITEM', 'DISCUSSION', 'AND', 'ANALYSIS', 'OF']"
      ]
     },
     "execution_count": 268,
     "metadata": {},
     "output_type": "execute_result"
    }
   ],
   "source": [
    "tokens[:5]"
   ]
  },
  {
   "cell_type": "code",
   "execution_count": 269,
   "metadata": {},
   "outputs": [
    {
     "data": {
      "text/plain": [
       "[('billion', 111),\n",
       " ('million', 105),\n",
       " ('aircraft', 91),\n",
       " ('net', 74),\n",
       " ('cash', 66)]"
      ]
     },
     "execution_count": 269,
     "metadata": {},
     "output_type": "execute_result"
    }
   ],
   "source": [
    "freqs1 = Counter()\n",
    "freqs1.update(tokens)\n",
    "freqs1.most_common(5)"
   ]
  },
  {
   "cell_type": "code",
   "execution_count": 271,
   "metadata": {},
   "outputs": [
    {
     "data": {
      "text/plain": [
       "'ITEM 7.  MANAGEMENT’S DISCUSSION AND ANALYSIS OF FINANCIAL CONDITION AND RESULTS OF OPERATIONS  Background Together with  our wholly-owned  regional  airline  subsidiaries  and  third-party  regional '"
      ]
     },
     "execution_count": 271,
     "metadata": {},
     "output_type": "execute_result"
    }
   ],
   "source": [
    "# 2020\n",
    "sample2 = parsed['0000006201']['Item7'].values[1]\n",
    "sample2[:200]"
   ]
  },
  {
   "cell_type": "code",
   "execution_count": 272,
   "metadata": {},
   "outputs": [],
   "source": [
    "tokens = sample2.split()\n",
    "# remove punctuation from each token\n",
    "table = str.maketrans('', '', punctuation)\n",
    "tokens = [w.translate(table) for w in tokens]\n",
    "# remove remaining tokens that are not alphabetic\n",
    "tokens = [word for word in tokens if word.isalpha()]\n",
    "# filter out stop words\n",
    "stop_words = set(stopwords.words('english'))\n",
    "tokens = [w for w in tokens if not w in stop_words]\n",
    "# filter out short tokens\n",
    "tokens = [word for word in tokens if len(word) > 1]"
   ]
  },
  {
   "cell_type": "code",
   "execution_count": 274,
   "metadata": {},
   "outputs": [
    {
     "data": {
      "text/plain": [
       "[('aircraft', 87), ('million', 85), ('billion', 76), ('net', 61), ('fuel', 55)]"
      ]
     },
     "execution_count": 274,
     "metadata": {},
     "output_type": "execute_result"
    }
   ],
   "source": [
    "freqs2 = Counter()\n",
    "freqs2.update(tokens)\n",
    "freqs2.most_common(5)"
   ]
  },
  {
   "cell_type": "code",
   "execution_count": 275,
   "metadata": {},
   "outputs": [],
   "source": [
    "all_words = set(freqs1.keys()) | set(freqs2.keys())"
   ]
  },
  {
   "cell_type": "code",
   "execution_count": 276,
   "metadata": {},
   "outputs": [
    {
     "data": {
      "text/html": [
       "<div>\n",
       "<style scoped>\n",
       "    .dataframe tbody tr th:only-of-type {\n",
       "        vertical-align: middle;\n",
       "    }\n",
       "\n",
       "    .dataframe tbody tr th {\n",
       "        vertical-align: top;\n",
       "    }\n",
       "\n",
       "    .dataframe thead th {\n",
       "        text-align: right;\n",
       "    }\n",
       "</style>\n",
       "<table border=\"1\" class=\"dataframe\">\n",
       "  <thead>\n",
       "    <tr style=\"text-align: right;\">\n",
       "      <th></th>\n",
       "      <th>words</th>\n",
       "    </tr>\n",
       "  </thead>\n",
       "  <tbody>\n",
       "    <tr>\n",
       "      <th>0</th>\n",
       "      <td>indefinite</td>\n",
       "    </tr>\n",
       "    <tr>\n",
       "      <th>1</th>\n",
       "      <td>delivery</td>\n",
       "    </tr>\n",
       "    <tr>\n",
       "      <th>2</th>\n",
       "      <td>utilization</td>\n",
       "    </tr>\n",
       "    <tr>\n",
       "      <th>3</th>\n",
       "      <td>exist</td>\n",
       "    </tr>\n",
       "    <tr>\n",
       "      <th>4</th>\n",
       "      <td>training</td>\n",
       "    </tr>\n",
       "  </tbody>\n",
       "</table>\n",
       "</div>"
      ],
      "text/plain": [
       "         words\n",
       "0   indefinite\n",
       "1     delivery\n",
       "2  utilization\n",
       "3        exist\n",
       "4     training"
      ]
     },
     "execution_count": 276,
     "metadata": {},
     "output_type": "execute_result"
    }
   ],
   "source": [
    "keep_track = pd.DataFrame(all_words, columns=['words'])\n",
    "keep_track.head()"
   ]
  },
  {
   "cell_type": "code",
   "execution_count": 277,
   "metadata": {},
   "outputs": [
    {
     "data": {
      "text/html": [
       "<div>\n",
       "<style scoped>\n",
       "    .dataframe tbody tr th:only-of-type {\n",
       "        vertical-align: middle;\n",
       "    }\n",
       "\n",
       "    .dataframe tbody tr th {\n",
       "        vertical-align: top;\n",
       "    }\n",
       "\n",
       "    .dataframe thead th {\n",
       "        text-align: right;\n",
       "    }\n",
       "</style>\n",
       "<table border=\"1\" class=\"dataframe\">\n",
       "  <thead>\n",
       "    <tr style=\"text-align: right;\">\n",
       "      <th></th>\n",
       "      <th>words</th>\n",
       "      <th>freqs1</th>\n",
       "    </tr>\n",
       "  </thead>\n",
       "  <tbody>\n",
       "    <tr>\n",
       "      <th>0</th>\n",
       "      <td>indefinite</td>\n",
       "      <td>2</td>\n",
       "    </tr>\n",
       "    <tr>\n",
       "      <th>1</th>\n",
       "      <td>delivery</td>\n",
       "      <td>6</td>\n",
       "    </tr>\n",
       "    <tr>\n",
       "      <th>2</th>\n",
       "      <td>utilization</td>\n",
       "      <td>0</td>\n",
       "    </tr>\n",
       "    <tr>\n",
       "      <th>3</th>\n",
       "      <td>exist</td>\n",
       "      <td>2</td>\n",
       "    </tr>\n",
       "    <tr>\n",
       "      <th>4</th>\n",
       "      <td>training</td>\n",
       "      <td>1</td>\n",
       "    </tr>\n",
       "  </tbody>\n",
       "</table>\n",
       "</div>"
      ],
      "text/plain": [
       "         words  freqs1\n",
       "0   indefinite       2\n",
       "1     delivery       6\n",
       "2  utilization       0\n",
       "3        exist       2\n",
       "4     training       1"
      ]
     },
     "execution_count": 277,
     "metadata": {},
     "output_type": "execute_result"
    }
   ],
   "source": [
    "keep_track['freqs1'] = [freqs1[x] for x in keep_track['words']]\n",
    "keep_track.head()"
   ]
  },
  {
   "cell_type": "code",
   "execution_count": 278,
   "metadata": {},
   "outputs": [
    {
     "data": {
      "text/html": [
       "<div>\n",
       "<style scoped>\n",
       "    .dataframe tbody tr th:only-of-type {\n",
       "        vertical-align: middle;\n",
       "    }\n",
       "\n",
       "    .dataframe tbody tr th {\n",
       "        vertical-align: top;\n",
       "    }\n",
       "\n",
       "    .dataframe thead th {\n",
       "        text-align: right;\n",
       "    }\n",
       "</style>\n",
       "<table border=\"1\" class=\"dataframe\">\n",
       "  <thead>\n",
       "    <tr style=\"text-align: right;\">\n",
       "      <th></th>\n",
       "      <th>words</th>\n",
       "      <th>freqs1</th>\n",
       "      <th>freqs2</th>\n",
       "    </tr>\n",
       "  </thead>\n",
       "  <tbody>\n",
       "    <tr>\n",
       "      <th>0</th>\n",
       "      <td>indefinite</td>\n",
       "      <td>2</td>\n",
       "      <td>1</td>\n",
       "    </tr>\n",
       "    <tr>\n",
       "      <th>1</th>\n",
       "      <td>delivery</td>\n",
       "      <td>6</td>\n",
       "      <td>7</td>\n",
       "    </tr>\n",
       "    <tr>\n",
       "      <th>2</th>\n",
       "      <td>utilization</td>\n",
       "      <td>0</td>\n",
       "      <td>2</td>\n",
       "    </tr>\n",
       "    <tr>\n",
       "      <th>3</th>\n",
       "      <td>exist</td>\n",
       "      <td>2</td>\n",
       "      <td>1</td>\n",
       "    </tr>\n",
       "    <tr>\n",
       "      <th>4</th>\n",
       "      <td>training</td>\n",
       "      <td>1</td>\n",
       "      <td>0</td>\n",
       "    </tr>\n",
       "  </tbody>\n",
       "</table>\n",
       "</div>"
      ],
      "text/plain": [
       "         words  freqs1  freqs2\n",
       "0   indefinite       2       1\n",
       "1     delivery       6       7\n",
       "2  utilization       0       2\n",
       "3        exist       2       1\n",
       "4     training       1       0"
      ]
     },
     "execution_count": 278,
     "metadata": {},
     "output_type": "execute_result"
    }
   ],
   "source": [
    "keep_track['freqs2'] = [freqs2[x] for x in keep_track['words']]\n",
    "keep_track.head()"
   ]
  },
  {
   "cell_type": "code",
   "execution_count": 279,
   "metadata": {},
   "outputs": [],
   "source": [
    "numerator = np.dot(keep_track['freqs1'].values,keep_track['freqs2'].values)"
   ]
  },
  {
   "cell_type": "code",
   "execution_count": 280,
   "metadata": {},
   "outputs": [],
   "source": [
    "def euclidean(a):\n",
    "    return np.sqrt(sum([x**2 for x in a]))"
   ]
  },
  {
   "cell_type": "code",
   "execution_count": 281,
   "metadata": {},
   "outputs": [
    {
     "data": {
      "text/plain": [
       "407.40152184300933"
      ]
     },
     "execution_count": 281,
     "metadata": {},
     "output_type": "execute_result"
    }
   ],
   "source": [
    "e1 = euclidean(keep_track['freqs1'].values)\n",
    "e1"
   ]
  },
  {
   "cell_type": "code",
   "execution_count": 282,
   "metadata": {},
   "outputs": [
    {
     "data": {
      "text/plain": [
       "340.4966960192125"
      ]
     },
     "execution_count": 282,
     "metadata": {},
     "output_type": "execute_result"
    }
   ],
   "source": [
    "e2 = euclidean(keep_track['freqs2'].values)\n",
    "e2"
   ]
  },
  {
   "cell_type": "code",
   "execution_count": 283,
   "metadata": {},
   "outputs": [
    {
     "data": {
      "text/plain": [
       "0.9253247090256499"
      ]
     },
     "execution_count": 283,
     "metadata": {},
     "output_type": "execute_result"
    }
   ],
   "source": [
    "numerator / (e1*e2)"
   ]
  },
  {
   "cell_type": "markdown",
   "metadata": {},
   "source": [
    "Finally, let's see 2020 versus 2019. Hopefully there will be a large difference in scores!"
   ]
  },
  {
   "cell_type": "code",
   "execution_count": 303,
   "metadata": {},
   "outputs": [
    {
     "data": {
      "text/plain": [
       "'ITEM 7.  MANAGEMENT’S DISCUSSION AND ANALYSIS OF FINANCIAL CONDITION AND RESULTS OF OPERATIONS  Background Together with  our wholly-owned  regional  airline  subsidiaries  and  third-party  regional '"
      ]
     },
     "execution_count": 303,
     "metadata": {},
     "output_type": "execute_result"
    }
   ],
   "source": [
    "# 2020\n",
    "sample1 = parsed['0000006201']['Item7'].values[1]\n",
    "sample1[:200]"
   ]
  },
  {
   "cell_type": "code",
   "execution_count": 304,
   "metadata": {},
   "outputs": [],
   "source": [
    "tokens = sample1.split()\n",
    "# remove punctuation from each token\n",
    "table = str.maketrans('', '', punctuation)\n",
    "tokens = [w.translate(table) for w in tokens]\n",
    "# remove remaining tokens that are not alphabetic\n",
    "tokens = [word for word in tokens if word.isalpha()]\n",
    "# filter out stop words\n",
    "stop_words = set(stopwords.words('english'))\n",
    "tokens = [w for w in tokens if not w in stop_words]\n",
    "# filter out short tokens\n",
    "tokens = [word for word in tokens if len(word) > 1]"
   ]
  },
  {
   "cell_type": "code",
   "execution_count": 305,
   "metadata": {},
   "outputs": [
    {
     "data": {
      "text/plain": [
       "['ITEM', 'DISCUSSION', 'AND', 'ANALYSIS', 'OF']"
      ]
     },
     "execution_count": 305,
     "metadata": {},
     "output_type": "execute_result"
    }
   ],
   "source": [
    "tokens[:5]"
   ]
  },
  {
   "cell_type": "code",
   "execution_count": 306,
   "metadata": {},
   "outputs": [
    {
     "data": {
      "text/plain": [
       "[('aircraft', 87), ('million', 85), ('billion', 76), ('net', 61), ('fuel', 55)]"
      ]
     },
     "execution_count": 306,
     "metadata": {},
     "output_type": "execute_result"
    }
   ],
   "source": [
    "freqs1 = Counter()\n",
    "freqs1.update(tokens)\n",
    "freqs1.most_common(5)"
   ]
  },
  {
   "cell_type": "code",
   "execution_count": 307,
   "metadata": {},
   "outputs": [
    {
     "data": {
      "text/plain": [
       "'ITEM 7.  MANAGEMENT’S DISCUSSION AND ANALYSIS OF FINANCIAL CONDITION AND RESULTS OF OPERATIONS  Background Together with our wholly-owned regional airline subsidiaries and third-party regional carrier'"
      ]
     },
     "execution_count": 307,
     "metadata": {},
     "output_type": "execute_result"
    }
   ],
   "source": [
    "# 2019\n",
    "sample2 = parsed['0000006201']['Item7'].values[2]\n",
    "sample2[:200]"
   ]
  },
  {
   "cell_type": "code",
   "execution_count": 308,
   "metadata": {},
   "outputs": [],
   "source": [
    "tokens = sample2.split()\n",
    "# remove punctuation from each token\n",
    "table = str.maketrans('', '', punctuation)\n",
    "tokens = [w.translate(table) for w in tokens]\n",
    "# remove remaining tokens that are not alphabetic\n",
    "tokens = [word for word in tokens if word.isalpha()]\n",
    "# filter out stop words\n",
    "stop_words = set(stopwords.words('english'))\n",
    "tokens = [w for w in tokens if not w in stop_words]\n",
    "# filter out short tokens\n",
    "tokens = [word for word in tokens if len(word) > 1]"
   ]
  },
  {
   "cell_type": "code",
   "execution_count": 309,
   "metadata": {},
   "outputs": [
    {
     "data": {
      "text/plain": [
       "[('billion', 155),\n",
       " ('income', 130),\n",
       " ('net', 129),\n",
       " ('million', 127),\n",
       " ('aircraft', 114)]"
      ]
     },
     "execution_count": 309,
     "metadata": {},
     "output_type": "execute_result"
    }
   ],
   "source": [
    "freqs2 = Counter()\n",
    "freqs2.update(tokens)\n",
    "freqs2.most_common(5)"
   ]
  },
  {
   "cell_type": "code",
   "execution_count": 310,
   "metadata": {},
   "outputs": [],
   "source": [
    "all_words = set(freqs1.keys()) | set(freqs2.keys())"
   ]
  },
  {
   "cell_type": "code",
   "execution_count": 311,
   "metadata": {},
   "outputs": [
    {
     "data": {
      "text/html": [
       "<div>\n",
       "<style scoped>\n",
       "    .dataframe tbody tr th:only-of-type {\n",
       "        vertical-align: middle;\n",
       "    }\n",
       "\n",
       "    .dataframe tbody tr th {\n",
       "        vertical-align: top;\n",
       "    }\n",
       "\n",
       "    .dataframe thead th {\n",
       "        text-align: right;\n",
       "    }\n",
       "</style>\n",
       "<table border=\"1\" class=\"dataframe\">\n",
       "  <thead>\n",
       "    <tr style=\"text-align: right;\">\n",
       "      <th></th>\n",
       "      <th>words</th>\n",
       "    </tr>\n",
       "  </thead>\n",
       "  <tbody>\n",
       "    <tr>\n",
       "      <th>0</th>\n",
       "      <td>indefinite</td>\n",
       "    </tr>\n",
       "    <tr>\n",
       "      <th>1</th>\n",
       "      <td>delivery</td>\n",
       "    </tr>\n",
       "    <tr>\n",
       "      <th>2</th>\n",
       "      <td>utilization</td>\n",
       "    </tr>\n",
       "    <tr>\n",
       "      <th>3</th>\n",
       "      <td>exist</td>\n",
       "    </tr>\n",
       "    <tr>\n",
       "      <th>4</th>\n",
       "      <td>training</td>\n",
       "    </tr>\n",
       "  </tbody>\n",
       "</table>\n",
       "</div>"
      ],
      "text/plain": [
       "         words\n",
       "0   indefinite\n",
       "1     delivery\n",
       "2  utilization\n",
       "3        exist\n",
       "4     training"
      ]
     },
     "execution_count": 311,
     "metadata": {},
     "output_type": "execute_result"
    }
   ],
   "source": [
    "keep_track = pd.DataFrame(all_words, columns=['words'])\n",
    "keep_track.head()"
   ]
  },
  {
   "cell_type": "code",
   "execution_count": 312,
   "metadata": {},
   "outputs": [
    {
     "data": {
      "text/html": [
       "<div>\n",
       "<style scoped>\n",
       "    .dataframe tbody tr th:only-of-type {\n",
       "        vertical-align: middle;\n",
       "    }\n",
       "\n",
       "    .dataframe tbody tr th {\n",
       "        vertical-align: top;\n",
       "    }\n",
       "\n",
       "    .dataframe thead th {\n",
       "        text-align: right;\n",
       "    }\n",
       "</style>\n",
       "<table border=\"1\" class=\"dataframe\">\n",
       "  <thead>\n",
       "    <tr style=\"text-align: right;\">\n",
       "      <th></th>\n",
       "      <th>words</th>\n",
       "      <th>freqs1</th>\n",
       "    </tr>\n",
       "  </thead>\n",
       "  <tbody>\n",
       "    <tr>\n",
       "      <th>0</th>\n",
       "      <td>indefinite</td>\n",
       "      <td>1</td>\n",
       "    </tr>\n",
       "    <tr>\n",
       "      <th>1</th>\n",
       "      <td>delivery</td>\n",
       "      <td>7</td>\n",
       "    </tr>\n",
       "    <tr>\n",
       "      <th>2</th>\n",
       "      <td>utilization</td>\n",
       "      <td>2</td>\n",
       "    </tr>\n",
       "    <tr>\n",
       "      <th>3</th>\n",
       "      <td>exist</td>\n",
       "      <td>1</td>\n",
       "    </tr>\n",
       "    <tr>\n",
       "      <th>4</th>\n",
       "      <td>training</td>\n",
       "      <td>0</td>\n",
       "    </tr>\n",
       "  </tbody>\n",
       "</table>\n",
       "</div>"
      ],
      "text/plain": [
       "         words  freqs1\n",
       "0   indefinite       1\n",
       "1     delivery       7\n",
       "2  utilization       2\n",
       "3        exist       1\n",
       "4     training       0"
      ]
     },
     "execution_count": 312,
     "metadata": {},
     "output_type": "execute_result"
    }
   ],
   "source": [
    "keep_track['freqs1'] = [freqs1[x] for x in keep_track['words']]\n",
    "keep_track.head()"
   ]
  },
  {
   "cell_type": "code",
   "execution_count": 313,
   "metadata": {},
   "outputs": [
    {
     "data": {
      "text/html": [
       "<div>\n",
       "<style scoped>\n",
       "    .dataframe tbody tr th:only-of-type {\n",
       "        vertical-align: middle;\n",
       "    }\n",
       "\n",
       "    .dataframe tbody tr th {\n",
       "        vertical-align: top;\n",
       "    }\n",
       "\n",
       "    .dataframe thead th {\n",
       "        text-align: right;\n",
       "    }\n",
       "</style>\n",
       "<table border=\"1\" class=\"dataframe\">\n",
       "  <thead>\n",
       "    <tr style=\"text-align: right;\">\n",
       "      <th></th>\n",
       "      <th>words</th>\n",
       "      <th>freqs1</th>\n",
       "      <th>freqs2</th>\n",
       "    </tr>\n",
       "  </thead>\n",
       "  <tbody>\n",
       "    <tr>\n",
       "      <th>0</th>\n",
       "      <td>indefinite</td>\n",
       "      <td>1</td>\n",
       "      <td>0</td>\n",
       "    </tr>\n",
       "    <tr>\n",
       "      <th>1</th>\n",
       "      <td>delivery</td>\n",
       "      <td>7</td>\n",
       "      <td>7</td>\n",
       "    </tr>\n",
       "    <tr>\n",
       "      <th>2</th>\n",
       "      <td>utilization</td>\n",
       "      <td>2</td>\n",
       "      <td>0</td>\n",
       "    </tr>\n",
       "    <tr>\n",
       "      <th>3</th>\n",
       "      <td>exist</td>\n",
       "      <td>1</td>\n",
       "      <td>0</td>\n",
       "    </tr>\n",
       "    <tr>\n",
       "      <th>4</th>\n",
       "      <td>training</td>\n",
       "      <td>0</td>\n",
       "      <td>2</td>\n",
       "    </tr>\n",
       "  </tbody>\n",
       "</table>\n",
       "</div>"
      ],
      "text/plain": [
       "         words  freqs1  freqs2\n",
       "0   indefinite       1       0\n",
       "1     delivery       7       7\n",
       "2  utilization       2       0\n",
       "3        exist       1       0\n",
       "4     training       0       2"
      ]
     },
     "execution_count": 313,
     "metadata": {},
     "output_type": "execute_result"
    }
   ],
   "source": [
    "keep_track['freqs2'] = [freqs2[x] for x in keep_track['words']]\n",
    "keep_track.head()"
   ]
  },
  {
   "cell_type": "code",
   "execution_count": 314,
   "metadata": {},
   "outputs": [],
   "source": [
    "numerator = np.dot(keep_track['freqs1'].values,keep_track['freqs2'].values)"
   ]
  },
  {
   "cell_type": "code",
   "execution_count": 11,
   "metadata": {},
   "outputs": [],
   "source": [
    "def euclidean(a):\n",
    "    return np.sqrt(sum([x**2 for x in a]))"
   ]
  },
  {
   "cell_type": "code",
   "execution_count": 316,
   "metadata": {},
   "outputs": [
    {
     "data": {
      "text/plain": [
       "340.4966960192125"
      ]
     },
     "execution_count": 316,
     "metadata": {},
     "output_type": "execute_result"
    }
   ],
   "source": [
    "e1 = euclidean(keep_track['freqs1'].values)\n",
    "e1"
   ]
  },
  {
   "cell_type": "code",
   "execution_count": 317,
   "metadata": {},
   "outputs": [
    {
     "data": {
      "text/plain": [
       "542.7504030399241"
      ]
     },
     "execution_count": 317,
     "metadata": {},
     "output_type": "execute_result"
    }
   ],
   "source": [
    "e2 = euclidean(keep_track['freqs2'].values)\n",
    "e2"
   ]
  },
  {
   "cell_type": "code",
   "execution_count": 318,
   "metadata": {},
   "outputs": [
    {
     "data": {
      "text/plain": [
       "0.9353549029323915"
      ]
     },
     "execution_count": 318,
     "metadata": {},
     "output_type": "execute_result"
    }
   ],
   "source": [
    "numerator / (e1*e2)"
   ]
  },
  {
   "cell_type": "code",
   "execution_count": 319,
   "metadata": {},
   "outputs": [
    {
     "data": {
      "text/plain": [
       "78241"
      ]
     },
     "execution_count": 319,
     "metadata": {},
     "output_type": "execute_result"
    }
   ],
   "source": [
    "len(sample1)"
   ]
  },
  {
   "cell_type": "code",
   "execution_count": 320,
   "metadata": {},
   "outputs": [
    {
     "data": {
      "text/plain": [
       "113339"
      ]
     },
     "execution_count": 320,
     "metadata": {},
     "output_type": "execute_result"
    }
   ],
   "source": [
    "len(sample2)"
   ]
  },
  {
   "cell_type": "markdown",
   "metadata": {},
   "source": [
    "Well, less dissimilar than 2020-2021, I suppose the timing was well before covid. However, I expected one of the two numbers to be a little lower. No matter, let us continue:"
   ]
  },
  {
   "cell_type": "markdown",
   "metadata": {},
   "source": [
    "# One Company Cosine Similarity"
   ]
  },
  {
   "cell_type": "code",
   "execution_count": 324,
   "metadata": {},
   "outputs": [
    {
     "name": "stderr",
     "output_type": "stream",
     "text": [
      "/Users/lucaskrenn/opt/anaconda3/lib/python3.7/site-packages/ipykernel_launcher.py:49: RuntimeWarning: invalid value encountered in true_divide\n"
     ]
    }
   ],
   "source": [
    "scores = []\n",
    "for i in range(len(parsed['0000006201']['Item7'].values)-1):\n",
    "    ##\n",
    "    sample1 = parsed['0000006201']['Item7'].values[i]\n",
    "    tokens = sample1.split()\n",
    "    # remove punctuation from each token\n",
    "    table = str.maketrans('', '', punctuation)\n",
    "    tokens = [w.translate(table) for w in tokens]\n",
    "    # remove remaining tokens that are not alphabetic\n",
    "    tokens = [word for word in tokens if word.isalpha()]\n",
    "    # filter out stop words\n",
    "    stop_words = set(stopwords.words('english'))\n",
    "    tokens = [w for w in tokens if not w in stop_words]\n",
    "    # filter out short tokens\n",
    "    tokens = [word for word in tokens if len(word) > 1]\n",
    "\n",
    "    freqs1 = Counter()\n",
    "    freqs1.update(tokens)\n",
    "\n",
    "    ##\n",
    "    sample2 = parsed['0000006201']['Item7'].values[i+1]\n",
    "    tokens = sample2.split()\n",
    "    # remove punctuation from each token\n",
    "    table = str.maketrans('', '', punctuation)\n",
    "    tokens = [w.translate(table) for w in tokens]\n",
    "    # remove remaining tokens that are not alphabetic\n",
    "    tokens = [word for word in tokens if word.isalpha()]\n",
    "    # filter out stop words\n",
    "    stop_words = set(stopwords.words('english'))\n",
    "    tokens = [w for w in tokens if not w in stop_words]\n",
    "    # filter out short tokens\n",
    "    tokens = [word for word in tokens if len(word) > 1]\n",
    "\n",
    "    freqs2 = Counter()\n",
    "    freqs2.update(tokens)\n",
    "\n",
    "    all_words = set(freqs1.keys()) | set(freqs2.keys())\n",
    "\n",
    "    keep_track = pd.DataFrame(all_words, columns=['words'])\n",
    "    keep_track['freqs1'] = [freqs1[x] for x in keep_track['words']]\n",
    "    keep_track['freqs2'] = [freqs2[x] for x in keep_track['words']]\n",
    "\n",
    "    numerator = np.dot(keep_track['freqs1'].values,keep_track['freqs2'].values)\n",
    "\n",
    "    e1 = euclidean(keep_track['freqs1'].values)\n",
    "\n",
    "    e2 = euclidean(keep_track['freqs2'].values)\n",
    "\n",
    "    cos_sim = numerator / (e1*e2)\n",
    "    scores.append(cos_sim)\n",
    "scores.append(np.nan)"
   ]
  },
  {
   "cell_type": "code",
   "execution_count": 325,
   "metadata": {},
   "outputs": [
    {
     "data": {
      "text/plain": [
       "[0.9253247090256499,\n",
       " 0.9353549029323915,\n",
       " 0.9699103723997726,\n",
       " 0.9596219119325394,\n",
       " 0.9180383864701249,\n",
       " nan,\n",
       " nan,\n",
       " nan]"
      ]
     },
     "execution_count": 325,
     "metadata": {},
     "output_type": "execute_result"
    }
   ],
   "source": [
    "scores"
   ]
  },
  {
   "cell_type": "code",
   "execution_count": 326,
   "metadata": {},
   "outputs": [],
   "source": [
    "parsed['0000006201']['Cos_Sim'] = scores"
   ]
  },
  {
   "cell_type": "markdown",
   "metadata": {},
   "source": [
    "# Now All Companies"
   ]
  },
  {
   "cell_type": "code",
   "execution_count": 12,
   "metadata": {},
   "outputs": [
    {
     "name": "stderr",
     "output_type": "stream",
     "text": [
      "/Users/lucaskrenn/opt/anaconda3/lib/python3.7/site-packages/ipykernel_launcher.py:50: RuntimeWarning: invalid value encountered in true_divide\n",
      "/Users/lucaskrenn/opt/anaconda3/lib/python3.7/site-packages/ipykernel_launcher.py:50: RuntimeWarning: invalid value encountered in double_scalars\n"
     ]
    }
   ],
   "source": [
    "for company in parsed.keys():    \n",
    "    scores = []\n",
    "    for i in range(len(parsed[company]['Item7'].values)-1):\n",
    "        ##\n",
    "        sample1 = parsed[company]['Item1a'].values[i] + ' ' + parsed[company]['Item7'].values[i]\n",
    "        tokens = sample1.split()\n",
    "        # remove punctuation from each token\n",
    "        table = str.maketrans('', '', punctuation)\n",
    "        tokens = [w.translate(table) for w in tokens]\n",
    "        # remove remaining tokens that are not alphabetic\n",
    "        tokens = [word for word in tokens if word.isalpha()]\n",
    "        # filter out stop words\n",
    "        stop_words = set(stopwords.words('english'))\n",
    "        tokens = [w for w in tokens if not w in stop_words]\n",
    "        # filter out short tokens\n",
    "        tokens = [word for word in tokens if len(word) > 1]\n",
    "\n",
    "        freqs1 = Counter()\n",
    "        freqs1.update(tokens)\n",
    "\n",
    "        ##\n",
    "        sample2 = parsed[company]['Item1a'].values[i+1] + ' ' + parsed[company]['Item7'].values[i+1]\n",
    "        tokens = sample2.split()\n",
    "        # remove punctuation from each token\n",
    "        table = str.maketrans('', '', punctuation)\n",
    "        tokens = [w.translate(table) for w in tokens]\n",
    "        # remove remaining tokens that are not alphabetic\n",
    "        tokens = [word for word in tokens if word.isalpha()]\n",
    "        # filter out stop words\n",
    "        stop_words = set(stopwords.words('english'))\n",
    "        tokens = [w for w in tokens if not w in stop_words]\n",
    "        # filter out short tokens\n",
    "        tokens = [word for word in tokens if len(word) > 1]\n",
    "\n",
    "        freqs2 = Counter()\n",
    "        freqs2.update(tokens)\n",
    "\n",
    "        all_words = set(freqs1.keys()) | set(freqs2.keys())\n",
    "\n",
    "        keep_track = pd.DataFrame(all_words, columns=['words'])\n",
    "        keep_track['freqs1'] = [freqs1[x] for x in keep_track['words']]\n",
    "        keep_track['freqs2'] = [freqs2[x] for x in keep_track['words']]\n",
    "\n",
    "        numerator = np.dot(keep_track['freqs1'].values,keep_track['freqs2'].values)\n",
    "\n",
    "        e1 = euclidean(keep_track['freqs1'].values)\n",
    "\n",
    "        e2 = euclidean(keep_track['freqs2'].values)\n",
    "\n",
    "        cos_sim = numerator / (e1*e2)\n",
    "        scores.append(cos_sim)\n",
    "    scores.append(np.nan)\n",
    "    parsed[company]['Cos_Sim'] = scores"
   ]
  },
  {
   "cell_type": "code",
   "execution_count": 13,
   "metadata": {},
   "outputs": [],
   "source": [
    "with open('6-link_dict.pickle', 'wb') as handle:\n",
    "    pickle.dump(parsed, handle, protocol=pickle.HIGHEST_PROTOCOL)"
   ]
  },
  {
   "cell_type": "code",
   "execution_count": null,
   "metadata": {},
   "outputs": [],
   "source": []
  }
 ],
 "metadata": {
  "kernelspec": {
   "display_name": "Python 3",
   "language": "python",
   "name": "python3"
  },
  "language_info": {
   "codemirror_mode": {
    "name": "ipython",
    "version": 3
   },
   "file_extension": ".py",
   "mimetype": "text/x-python",
   "name": "python",
   "nbconvert_exporter": "python",
   "pygments_lexer": "ipython3",
   "version": "3.7.4"
  }
 },
 "nbformat": 4,
 "nbformat_minor": 2
}
